{
 "cells": [
  {
   "cell_type": "markdown",
   "metadata": {},
   "source": [
    "# Importing Dependencies"
   ]
  },
  {
   "cell_type": "code",
   "execution_count": 1,
   "metadata": {},
   "outputs": [],
   "source": [
    "import tqdm\n",
    "import torch\n",
    "import torchvision\n",
    "import torchvision.transforms as transforms\n",
    "import torch.nn.functional as F\n",
    "import torch.optim as optim"
   ]
  },
  {
   "cell_type": "markdown",
   "metadata": {},
   "source": [
    "# Collecting the dataset"
   ]
  },
  {
   "cell_type": "code",
   "execution_count": 2,
   "metadata": {},
   "outputs": [],
   "source": [
    "train_set = torchvision.datasets.FashionMNIST(\n",
    "root='', train=True,\n",
    "download=True, \n",
    "transform=transforms.Compose([\n",
    "    transforms.ToTensor()\n",
    "]))\n",
    "\n"
   ]
  },
  {
   "cell_type": "code",
   "execution_count": 3,
   "metadata": {},
   "outputs": [],
   "source": [
    "train_loader = torch.utils.data.DataLoader(train_set, batch_size=10)"
   ]
  },
  {
   "cell_type": "code",
   "execution_count": 4,
   "metadata": {},
   "outputs": [
    {
     "data": {
      "text/plain": [
       "torch.utils.data.dataloader.DataLoader"
      ]
     },
     "execution_count": 4,
     "metadata": {},
     "output_type": "execute_result"
    }
   ],
   "source": [
    "type(train_loader)"
   ]
  },
  {
   "cell_type": "code",
   "execution_count": 5,
   "metadata": {},
   "outputs": [
    {
     "name": "stdout",
     "output_type": "stream",
     "text": [
      "[tensor([[[[0.0000, 0.0000, 0.0000,  ..., 0.0000, 0.0000, 0.0000],\n",
      "          [0.0000, 0.0000, 0.0000,  ..., 0.0000, 0.0000, 0.0000],\n",
      "          [0.0000, 0.0000, 0.0000,  ..., 0.0000, 0.0000, 0.0000],\n",
      "          ...,\n",
      "          [0.0000, 0.0000, 0.0000,  ..., 0.0000, 0.0000, 0.0000],\n",
      "          [0.0000, 0.0000, 0.0000,  ..., 0.0000, 0.0000, 0.0000],\n",
      "          [0.0000, 0.0000, 0.0000,  ..., 0.0000, 0.0000, 0.0000]]],\n",
      "\n",
      "\n",
      "        [[[0.0000, 0.0000, 0.0000,  ..., 0.0000, 0.0000, 0.0000],\n",
      "          [0.0000, 0.0000, 0.0000,  ..., 0.0000, 0.0000, 0.0000],\n",
      "          [0.0000, 0.0000, 0.0000,  ..., 0.0000, 0.0000, 0.0000],\n",
      "          ...,\n",
      "          [0.0000, 0.0000, 0.0000,  ..., 0.0000, 0.0000, 0.0000],\n",
      "          [0.0000, 0.0000, 0.0000,  ..., 0.0000, 0.0000, 0.0000],\n",
      "          [0.0000, 0.0000, 0.0000,  ..., 0.0000, 0.0000, 0.0000]]],\n",
      "\n",
      "\n",
      "        [[[0.0000, 0.0000, 0.0000,  ..., 0.0000, 0.0000, 0.0000],\n",
      "          [0.0000, 0.0000, 0.0000,  ..., 0.0000, 0.0000, 0.0000],\n",
      "          [0.0000, 0.0000, 0.0000,  ..., 0.0000, 0.0000, 0.0000],\n",
      "          ...,\n",
      "          [0.0000, 0.0000, 0.0000,  ..., 0.0000, 0.0000, 0.0000],\n",
      "          [0.0000, 0.0000, 0.0000,  ..., 0.0000, 0.0000, 0.0000],\n",
      "          [0.0000, 0.0000, 0.0000,  ..., 0.0000, 0.0000, 0.0000]]],\n",
      "\n",
      "\n",
      "        ...,\n",
      "\n",
      "\n",
      "        [[[0.0000, 0.0000, 0.0000,  ..., 0.0000, 0.0000, 0.0000],\n",
      "          [0.0000, 0.0000, 0.0000,  ..., 0.0000, 0.0000, 0.0000],\n",
      "          [0.0000, 0.0000, 0.0000,  ..., 0.0000, 0.0000, 0.0000],\n",
      "          ...,\n",
      "          [0.0000, 0.0000, 0.0000,  ..., 0.7059, 0.0000, 0.0000],\n",
      "          [0.0000, 0.0000, 0.0000,  ..., 0.2824, 0.0000, 0.0000],\n",
      "          [0.0000, 0.0000, 0.0000,  ..., 0.2745, 0.0000, 0.0000]]],\n",
      "\n",
      "\n",
      "        [[[0.0000, 0.0000, 0.0000,  ..., 0.0000, 0.0000, 0.0000],\n",
      "          [0.0000, 0.0000, 0.0000,  ..., 0.0000, 0.0000, 0.0000],\n",
      "          [0.0000, 0.0000, 0.0000,  ..., 0.1529, 0.0039, 0.0000],\n",
      "          ...,\n",
      "          [0.0000, 0.0000, 0.0000,  ..., 0.9333, 0.0000, 0.0000],\n",
      "          [0.0000, 0.0000, 0.0000,  ..., 0.5137, 0.0000, 0.0000],\n",
      "          [0.0000, 0.0000, 0.0000,  ..., 0.0000, 0.0000, 0.0000]]],\n",
      "\n",
      "\n",
      "        [[[0.0000, 0.0000, 0.0000,  ..., 0.0000, 0.0000, 0.0000],\n",
      "          [0.0000, 0.0000, 0.0000,  ..., 0.0000, 0.0000, 0.0000],\n",
      "          [0.0000, 0.0000, 0.0000,  ..., 0.0275, 0.0000, 0.0000],\n",
      "          ...,\n",
      "          [0.0000, 0.0000, 0.0000,  ..., 0.0000, 0.0353, 0.0000],\n",
      "          [0.0000, 0.0000, 0.0000,  ..., 0.0000, 0.0118, 0.0000],\n",
      "          [0.0000, 0.0000, 0.0000,  ..., 0.0000, 0.0000, 0.0000]]]]), tensor([9, 0, 0, 3, 0, 2, 7, 2, 5, 5])]\n"
     ]
    }
   ],
   "source": [
    "for i in train_loader:\n",
    "    print(i)\n",
    "    break"
   ]
  },
  {
   "cell_type": "markdown",
   "metadata": {},
   "source": [
    "## Visualising"
   ]
  },
  {
   "cell_type": "code",
   "execution_count": 6,
   "metadata": {},
   "outputs": [],
   "source": [
    "import numpy as np\n",
    "import matplotlib.pyplot as plt\n",
    "\n",
    "torch.set_printoptions(linewidth=120)"
   ]
  },
  {
   "cell_type": "code",
   "execution_count": 7,
   "metadata": {},
   "outputs": [
    {
     "data": {
      "text/plain": [
       "60000"
      ]
     },
     "execution_count": 7,
     "metadata": {},
     "output_type": "execute_result"
    }
   ],
   "source": [
    "len(train_set)"
   ]
  },
  {
   "cell_type": "code",
   "execution_count": 8,
   "metadata": {},
   "outputs": [
    {
     "name": "stderr",
     "output_type": "stream",
     "text": [
      "/Library/Frameworks/Python.framework/Versions/3.7/lib/python3.7/site-packages/torchvision/datasets/mnist.py:43: UserWarning: train_labels has been renamed targets\n",
      "  warnings.warn(\"train_labels has been renamed targets\")\n"
     ]
    },
    {
     "data": {
      "text/plain": [
       "tensor([9, 0, 0,  ..., 3, 0, 5])"
      ]
     },
     "execution_count": 8,
     "metadata": {},
     "output_type": "execute_result"
    }
   ],
   "source": [
    "train_set.train_labels"
   ]
  },
  {
   "cell_type": "code",
   "execution_count": 9,
   "metadata": {},
   "outputs": [
    {
     "data": {
      "text/plain": [
       "tensor([6000, 6000, 6000, 6000, 6000, 6000, 6000, 6000, 6000, 6000])"
      ]
     },
     "execution_count": 9,
     "metadata": {},
     "output_type": "execute_result"
    }
   ],
   "source": [
    "train_set.train_labels.bincount() #balance data set"
   ]
  },
  {
   "cell_type": "markdown",
   "metadata": {},
   "source": [
    "Read more about Balance and Imbalance dataset in this paper <b><a href = 'https://arxiv.org/abs/1710.05381'> A systematic study of the class imbalance problem in convolutional neural networks </a></b>"
   ]
  },
  {
   "cell_type": "code",
   "execution_count": 10,
   "metadata": {},
   "outputs": [
    {
     "data": {
      "text/plain": [
       "2"
      ]
     },
     "execution_count": 10,
     "metadata": {},
     "output_type": "execute_result"
    }
   ],
   "source": [
    "sample = next(iter(train_set))\n",
    "len(sample)"
   ]
  },
  {
   "cell_type": "code",
   "execution_count": 11,
   "metadata": {},
   "outputs": [
    {
     "data": {
      "text/plain": [
       "tuple"
      ]
     },
     "execution_count": 11,
     "metadata": {},
     "output_type": "execute_result"
    }
   ],
   "source": [
    "type(sample)"
   ]
  },
  {
   "cell_type": "code",
   "execution_count": 12,
   "metadata": {},
   "outputs": [],
   "source": [
    "image, label = sample"
   ]
  },
  {
   "cell_type": "code",
   "execution_count": 13,
   "metadata": {},
   "outputs": [
    {
     "data": {
      "text/plain": [
       "torch.Size([1, 28, 28])"
      ]
     },
     "execution_count": 13,
     "metadata": {},
     "output_type": "execute_result"
    }
   ],
   "source": [
    "image.shape"
   ]
  },
  {
   "cell_type": "code",
   "execution_count": 14,
   "metadata": {},
   "outputs": [
    {
     "data": {
      "text/plain": [
       "9"
      ]
     },
     "execution_count": 14,
     "metadata": {},
     "output_type": "execute_result"
    }
   ],
   "source": [
    "label"
   ]
  },
  {
   "cell_type": "code",
   "execution_count": 15,
   "metadata": {},
   "outputs": [
    {
     "name": "stdout",
     "output_type": "stream",
     "text": [
      "label:  9\n"
     ]
    },
    {
     "data": {
      "image/png": "[encoded data removed]",
      "text/plain": [
       "<Figure size 432x288 with 1 Axes>"
      ]
     },
     "metadata": {
      "needs_background": "light"
     },
     "output_type": "display_data"
    }
   ],
   "source": [
    "plt.imshow(image.squeeze(), cmap='gray')\n",
    "print('label: ', label)"
   ]
  },
  {
   "cell_type": "code",
   "execution_count": 16,
   "metadata": {},
   "outputs": [
    {
     "data": {
      "text/plain": [
       "2"
      ]
     },
     "execution_count": 16,
     "metadata": {},
     "output_type": "execute_result"
    }
   ],
   "source": [
    "batch = next(iter(train_loader))\n",
    "len(batch)"
   ]
  },
  {
   "cell_type": "code",
   "execution_count": 17,
   "metadata": {},
   "outputs": [],
   "source": [
    "images, labels = batch"
   ]
  },
  {
   "cell_type": "code",
   "execution_count": 18,
   "metadata": {},
   "outputs": [
    {
     "data": {
      "text/plain": [
       "torch.Size([10, 1, 28, 28])"
      ]
     },
     "execution_count": 18,
     "metadata": {},
     "output_type": "execute_result"
    }
   ],
   "source": [
    "images.shape"
   ]
  },
  {
   "cell_type": "code",
   "execution_count": 19,
   "metadata": {},
   "outputs": [
    {
     "data": {
      "text/plain": [
       "torch.Size([10])"
      ]
     },
     "execution_count": 19,
     "metadata": {},
     "output_type": "execute_result"
    }
   ],
   "source": [
    "labels.shape"
   ]
  },
  {
   "cell_type": "code",
   "execution_count": 20,
   "metadata": {},
   "outputs": [
    {
     "data": {
      "text/plain": [
       "<matplotlib.image.AxesImage at 0x11584ccd0>"
      ]
     },
     "execution_count": 20,
     "metadata": {},
     "output_type": "execute_result"
    },
    {
     "data": {
      "image/png": "[encoded data removed]",
      "text/plain": [
       "<Figure size 1080x1080 with 1 Axes>"
      ]
     },
     "metadata": {
      "needs_background": "light"
     },
     "output_type": "display_data"
    }
   ],
   "source": [
    "grid = torchvision.utils.make_grid(images, nrow=10)\n",
    "plt.figure(figsize=(15,15))\n",
    "plt.imshow(np.transpose(grid, (1,2,0)))"
   ]
  },
  {
   "cell_type": "code",
   "execution_count": 21,
   "metadata": {},
   "outputs": [
    {
     "data": {
      "image/png": "[encoded data removed]",
      "text/plain": [
       "<Figure size 3600x3600 with 20 Axes>"
      ]
     },
     "metadata": {
      "needs_background": "light"
     },
     "output_type": "display_data"
    }
   ],
   "source": [
    "how_many_to_plot = 20\n",
    "\n",
    "train_loader = torch.utils.data.DataLoader(\n",
    "    train_set, batch_size=1, shuffle=True\n",
    ")\n",
    "\n",
    "mapping = {\n",
    "    0:'Top', 1:'Trousers', 2:'Pullover', 3:'Dress', 4:'Coat'\n",
    "    ,5:'Sandal', 6:'Shirt', 7:'Sneaker', 8:'Bag', 9:'Ankle Boot'\n",
    "}\n",
    "\n",
    "plt.figure(figsize=(50,50))\n",
    "for i, batch in enumerate(train_loader, start=1):\n",
    "    image, label = batch\n",
    "    plt.subplot(10,10,i)\n",
    "    fig = plt.imshow(image.reshape(28,28), cmap='gray')\n",
    "    fig.axes.get_xaxis().set_visible(False)\n",
    "    fig.axes.get_yaxis().set_visible(False)\n",
    "    plt.title(mapping[label.item()], fontsize=28)\n",
    "    if (i >= how_many_to_plot): break\n",
    "plt.show()"
   ]
  },
  {
   "cell_type": "markdown",
   "metadata": {},
   "source": [
    "# Building the ConvNets"
   ]
  },
  {
   "cell_type": "code",
   "execution_count": 22,
   "metadata": {},
   "outputs": [],
   "source": [
    "class ConvNets(torch.nn.Module):\n",
    "    def __init__(self):\n",
    "        super().__init__()\n",
    "        self.conv1 = torch.nn.Conv2d(in_channels=1, #depends upons the color channel\n",
    "                                     out_channels=6, kernel_size=5)\n",
    "        self.conv2 = torch.nn.Conv2d(in_channels=6, \n",
    "                                     out_channels=12, kernel_size=5)\n",
    "        \n",
    "        #make sure you flatten the image\n",
    "        \n",
    "        self.fc1 = torch.nn.Linear(in_features=12*4*4, out_features=120)\n",
    "        self.fc2 = torch.nn.Linear(in_features=120, out_features=60)\n",
    "        self.out = torch.nn.Linear(in_features=60, out_features=10)\n",
    "        \n",
    "    def forward(self, t):\n",
    "        #implement forward pass\n",
    "        return t"
   ]
  },
  {
   "cell_type": "code",
   "execution_count": 23,
   "metadata": {},
   "outputs": [
    {
     "data": {
      "text/plain": [
       "ConvNets(\n",
       "  (conv1): Conv2d(1, 6, kernel_size=(5, 5), stride=(1, 1))\n",
       "  (conv2): Conv2d(6, 12, kernel_size=(5, 5), stride=(1, 1))\n",
       "  (fc1): Linear(in_features=192, out_features=120, bias=True)\n",
       "  (fc2): Linear(in_features=120, out_features=60, bias=True)\n",
       "  (out): Linear(in_features=60, out_features=10, bias=True)\n",
       ")"
      ]
     },
     "execution_count": 23,
     "metadata": {},
     "output_type": "execute_result"
    }
   ],
   "source": [
    "net = ConvNets()\n",
    "net"
   ]
  },
  {
   "cell_type": "markdown",
   "metadata": {},
   "source": [
    "## Building the full architcture"
   ]
  },
  {
   "cell_type": "code",
   "execution_count": 24,
   "metadata": {},
   "outputs": [],
   "source": [
    "#lets try again\n",
    "\n",
    "class ConvNets(torch.nn.Module):\n",
    "    \n",
    "    def __init__(self):\n",
    "        super(ConvNets,self).__init__()\n",
    "        self.conv1 = torch.nn.Conv2d(in_channels=1, #depends upons the color channel\n",
    "                                     out_channels=6, kernel_size=5)\n",
    "        self.conv2 = torch.nn.Conv2d(in_channels=6, \n",
    "                                     out_channels=12, kernel_size=5)\n",
    "        \n",
    "        #make sure you flatten the image\n",
    "        \n",
    "        self.fc1 = torch.nn.Linear(in_features=12*4*4, out_features=120)\n",
    "        self.fc2 = torch.nn.Linear(in_features=120, out_features=60)\n",
    "        self.out = torch.nn.Linear(in_features=60, out_features=10)\n",
    "        \n",
    "        \n",
    "    def forward(self, t): #Forward propagation \n",
    "        t = t\n",
    "        \n",
    "        \n",
    "        #hidden layer 1\n",
    "        t = self.conv1(t)\n",
    "        t = F.relu(t)\n",
    "        t = F.max_pool2d(t, kernel_size=2, stride=2)\n",
    "        \n",
    "        #hidden layer 2\n",
    "        t = self.conv2(t)\n",
    "        t = F.relu(t)\n",
    "        t = F.max_pool2d(t, kernel_size=2, stride=2)\n",
    "        \n",
    "        #hidden layer 3 -- Linear Layer\n",
    "        t = t.reshape(-1, 12 * 4 * 4)\n",
    "        t = self.fc1(t)\n",
    "        t = F.relu(t)\n",
    "        \n",
    "\n",
    "        t = self.fc2(t)\n",
    "        t = F.relu(t)\n",
    "        \n",
    "        #hidden layer 4 -- Linear Layer\n",
    "        t = self.out(t)\n",
    "#         t = F.softmax(t, dim=1)\n",
    "        \n",
    "        return t \n",
    "        \n",
    "    def __repr__(self):\n",
    "        return f'ConvNet architure'\n",
    "    "
   ]
  },
  {
   "cell_type": "code",
   "execution_count": 25,
   "metadata": {},
   "outputs": [],
   "source": [
    "net = ConvNets()"
   ]
  },
  {
   "cell_type": "code",
   "execution_count": 26,
   "metadata": {},
   "outputs": [
    {
     "data": {
      "text/plain": [
       "ConvNet architure"
      ]
     },
     "execution_count": 26,
     "metadata": {},
     "output_type": "execute_result"
    }
   ],
   "source": [
    "net"
   ]
  },
  {
   "cell_type": "code",
   "execution_count": 27,
   "metadata": {},
   "outputs": [
    {
     "data": {
      "text/plain": [
       "Parameter containing:\n",
       "tensor([[[[ 0.0886,  0.1069,  0.1000, -0.1063,  0.0504],\n",
       "          [ 0.0665,  0.1549,  0.0946,  0.1066, -0.1305],\n",
       "          [-0.0262,  0.1030,  0.1360,  0.1180,  0.1342],\n",
       "          [-0.0084,  0.1474,  0.1136,  0.0197, -0.0378],\n",
       "          [-0.1266, -0.0852,  0.1066,  0.1412, -0.0122]]],\n",
       "\n",
       "\n",
       "        [[[-0.1718, -0.0740, -0.1738, -0.0104,  0.1757],\n",
       "          [-0.1134,  0.1943, -0.1822, -0.1858, -0.1065],\n",
       "          [-0.0992,  0.1044, -0.0247, -0.0349,  0.1892],\n",
       "          [ 0.1164,  0.1210, -0.0628, -0.0156, -0.0623],\n",
       "          [-0.0398,  0.1477,  0.1408,  0.0950,  0.1769]]],\n",
       "\n",
       "\n",
       "        [[[-0.0943, -0.0168,  0.0288, -0.1047,  0.0206],\n",
       "          [-0.1309, -0.1657, -0.1867, -0.1242,  0.1837],\n",
       "          [-0.0979,  0.1425,  0.0607,  0.0868,  0.1582],\n",
       "          [-0.0281, -0.1386,  0.0450,  0.1656, -0.1436],\n",
       "          [ 0.0944, -0.0308,  0.1286, -0.1025, -0.1980]]],\n",
       "\n",
       "\n",
       "        [[[-0.0983, -0.1990, -0.0877, -0.0947,  0.1474],\n",
       "          [-0.0948, -0.1330, -0.1401,  0.0451,  0.0927],\n",
       "          [-0.1677,  0.1540, -0.0629,  0.0500,  0.1387],\n",
       "          [-0.1264, -0.0461,  0.1562,  0.1721, -0.0495],\n",
       "          [-0.1603,  0.1153, -0.1012, -0.0600, -0.1960]]],\n",
       "\n",
       "\n",
       "        [[[ 0.0344, -0.1613,  0.0222,  0.0243,  0.1337],\n",
       "          [-0.0575,  0.0941,  0.1965,  0.0550,  0.0040],\n",
       "          [ 0.0292,  0.1915, -0.1653, -0.0719,  0.1887],\n",
       "          [-0.1892, -0.1701, -0.1435, -0.0358, -0.0765],\n",
       "          [ 0.1304, -0.0900, -0.0885,  0.0461, -0.1133]]],\n",
       "\n",
       "\n",
       "        [[[-0.1238, -0.1361, -0.0779, -0.1187,  0.0335],\n",
       "          [-0.0798, -0.0432, -0.0812,  0.0422, -0.1825],\n",
       "          [ 0.1339, -0.0191,  0.1255,  0.1566,  0.1817],\n",
       "          [ 0.1904,  0.1025,  0.1518,  0.0885,  0.0963],\n",
       "          [ 0.0564, -0.1653,  0.1126,  0.1507,  0.0370]]]], requires_grad=True)"
      ]
     },
     "execution_count": 27,
     "metadata": {},
     "output_type": "execute_result"
    }
   ],
   "source": [
    "net.conv1.weight"
   ]
  },
  {
   "cell_type": "code",
   "execution_count": 28,
   "metadata": {},
   "outputs": [
    {
     "data": {
      "text/plain": [
       "torch.Size([6, 1, 5, 5])"
      ]
     },
     "execution_count": 28,
     "metadata": {},
     "output_type": "execute_result"
    }
   ],
   "source": [
    "net.conv1.weight.shape"
   ]
  },
  {
   "cell_type": "code",
   "execution_count": 29,
   "metadata": {},
   "outputs": [
    {
     "name": "stdout",
     "output_type": "stream",
     "text": [
      "('conv1.weight', Parameter containing:\n",
      "tensor([[[[ 0.0886,  0.1069,  0.1000, -0.1063,  0.0504],\n",
      "          [ 0.0665,  0.1549,  0.0946,  0.1066, -0.1305],\n",
      "          [-0.0262,  0.1030,  0.1360,  0.1180,  0.1342],\n",
      "          [-0.0084,  0.1474,  0.1136,  0.0197, -0.0378],\n",
      "          [-0.1266, -0.0852,  0.1066,  0.1412, -0.0122]]],\n",
      "\n",
      "\n",
      "        [[[-0.1718, -0.0740, -0.1738, -0.0104,  0.1757],\n",
      "          [-0.1134,  0.1943, -0.1822, -0.1858, -0.1065],\n",
      "          [-0.0992,  0.1044, -0.0247, -0.0349,  0.1892],\n",
      "          [ 0.1164,  0.1210, -0.0628, -0.0156, -0.0623],\n",
      "          [-0.0398,  0.1477,  0.1408,  0.0950,  0.1769]]],\n",
      "\n",
      "\n",
      "        [[[-0.0943, -0.0168,  0.0288, -0.1047,  0.0206],\n",
      "          [-0.1309, -0.1657, -0.1867, -0.1242,  0.1837],\n",
      "          [-0.0979,  0.1425,  0.0607,  0.0868,  0.1582],\n",
      "          [-0.0281, -0.1386,  0.0450,  0.1656, -0.1436],\n",
      "          [ 0.0944, -0.0308,  0.1286, -0.1025, -0.1980]]],\n",
      "\n",
      "\n",
      "        [[[-0.0983, -0.1990, -0.0877, -0.0947,  0.1474],\n",
      "          [-0.0948, -0.1330, -0.1401,  0.0451,  0.0927],\n",
      "          [-0.1677,  0.1540, -0.0629,  0.0500,  0.1387],\n",
      "          [-0.1264, -0.0461,  0.1562,  0.1721, -0.0495],\n",
      "          [-0.1603,  0.1153, -0.1012, -0.0600, -0.1960]]],\n",
      "\n",
      "\n",
      "        [[[ 0.0344, -0.1613,  0.0222,  0.0243,  0.1337],\n",
      "          [-0.0575,  0.0941,  0.1965,  0.0550,  0.0040],\n",
      "          [ 0.0292,  0.1915, -0.1653, -0.0719,  0.1887],\n",
      "          [-0.1892, -0.1701, -0.1435, -0.0358, -0.0765],\n",
      "          [ 0.1304, -0.0900, -0.0885,  0.0461, -0.1133]]],\n",
      "\n",
      "\n",
      "        [[[-0.1238, -0.1361, -0.0779, -0.1187,  0.0335],\n",
      "          [-0.0798, -0.0432, -0.0812,  0.0422, -0.1825],\n",
      "          [ 0.1339, -0.0191,  0.1255,  0.1566,  0.1817],\n",
      "          [ 0.1904,  0.1025,  0.1518,  0.0885,  0.0963],\n",
      "          [ 0.0564, -0.1653,  0.1126,  0.1507,  0.0370]]]], requires_grad=True))\n",
      "('conv1.bias', Parameter containing:\n",
      "tensor([-0.0324,  0.0122,  0.0927, -0.1200, -0.0065, -0.1311], requires_grad=True))\n",
      "('conv2.weight', Parameter containing:\n",
      "tensor([[[[ 2.3096e-03,  7.7616e-02, -6.8748e-02,  3.4206e-02, -4.9109e-02],\n",
      "          [-6.0407e-02,  3.0903e-02, -7.8030e-02,  4.6451e-02,  1.5173e-02],\n",
      "          [-3.0798e-02, -3.0864e-02, -3.8909e-02,  4.2430e-02,  5.3378e-02],\n",
      "          [-4.7931e-02,  5.7175e-02,  1.5726e-03, -5.0532e-03,  5.3152e-02],\n",
      "          [-2.2644e-03, -3.4243e-02, -3.7040e-03, -6.1869e-02,  2.1294e-02]],\n",
      "\n",
      "         [[ 7.2753e-03,  3.0846e-02, -3.2022e-02, -6.1819e-02, -1.8911e-02],\n",
      "          [ 6.3995e-02,  2.3920e-02, -1.9865e-02, -5.2886e-02,  6.8366e-03],\n",
      "          [ 3.9217e-02, -7.0892e-02, -3.0735e-02, -6.3290e-03,  1.2521e-02],\n",
      "          [ 4.1192e-02, -3.0293e-02,  2.7672e-02, -4.6671e-03,  3.6596e-03],\n",
      "          [ 5.9405e-02, -5.5265e-02, -7.3604e-02, -7.7244e-02,  3.5370e-02]],\n",
      "\n",
      "         [[-5.6156e-02,  5.0839e-02, -5.1492e-02,  5.4349e-02, -6.4466e-02],\n",
      "          [ 7.7093e-02,  5.2745e-02, -6.3193e-02,  5.0587e-02,  5.4350e-02],\n",
      "          [ 3.0867e-02,  5.6641e-02,  5.8662e-02, -5.9379e-02,  3.4306e-02],\n",
      "          [ 7.5079e-02,  3.7135e-02, -6.8274e-02, -2.3815e-02, -4.4307e-02],\n",
      "          [ 3.6853e-02, -7.7688e-02,  3.2801e-02,  2.9822e-02, -6.7898e-04]],\n",
      "\n",
      "         [[-3.1342e-02,  4.8552e-02,  5.3850e-02,  2.6110e-02, -4.1043e-02],\n",
      "          [-3.8962e-03, -1.8409e-02, -1.3919e-02,  4.0621e-02, -4.3811e-02],\n",
      "          [ 4.3121e-02, -5.9690e-02,  2.8609e-02, -4.3018e-02, -3.8226e-02],\n",
      "          [ 4.1280e-02,  4.8317e-02, -2.3035e-02, -6.8620e-02,  6.6624e-02],\n",
      "          [ 1.1286e-02, -1.4936e-02,  2.9596e-02, -8.0907e-03, -6.5409e-02]],\n",
      "\n",
      "         [[-7.5706e-02,  2.6034e-02, -1.8581e-02,  6.3248e-03,  7.4982e-03],\n",
      "          [ 8.1207e-02,  4.5877e-02,  3.4400e-02,  7.6015e-03,  4.7220e-02],\n",
      "          [-1.3151e-02,  6.0038e-02,  2.9401e-02, -9.2836e-03,  2.2536e-03],\n",
      "          [ 6.8524e-02,  9.1414e-03, -8.1473e-02,  1.6351e-02,  3.1264e-02],\n",
      "          [ 3.5199e-02, -5.0779e-02, -1.9726e-02, -3.1991e-02, -6.8658e-02]],\n",
      "\n",
      "         [[-2.1815e-02,  9.9092e-03,  6.2563e-02,  2.0713e-02,  9.2188e-04],\n",
      "          [-6.3501e-03, -8.0389e-02,  7.0140e-03,  7.6308e-02,  2.5604e-02],\n",
      "          [-7.4477e-02, -5.0109e-02, -7.7917e-02, -2.6925e-03, -2.1837e-02],\n",
      "          [-2.4770e-02,  5.3936e-02,  8.1301e-02, -4.9539e-02,  7.3939e-02],\n",
      "          [ 4.3490e-02, -5.4780e-02,  1.8663e-02,  7.6230e-02, -6.3715e-02]]],\n",
      "\n",
      "\n",
      "        [[[ 5.8473e-02, -3.6196e-02, -5.2157e-02, -6.5798e-02,  6.4672e-02],\n",
      "          [-6.0246e-02,  5.0856e-02, -3.9762e-02,  2.4712e-02, -7.9313e-02],\n",
      "          [ 5.7372e-02, -5.8725e-02,  7.8627e-02,  4.5433e-02, -6.3302e-02],\n",
      "          [ 6.5213e-03,  2.5011e-02,  9.8860e-04, -8.0406e-03,  2.4619e-02],\n",
      "          [ 5.7657e-02, -5.2289e-02,  8.0147e-03, -1.7781e-02, -6.7225e-02]],\n",
      "\n",
      "         [[ 5.2324e-02, -5.6884e-02,  7.8917e-02,  8.0853e-02, -8.0618e-02],\n",
      "          [ 7.6144e-02, -4.4013e-02,  5.8968e-02, -6.9513e-02, -3.8350e-02],\n",
      "          [-3.0591e-02, -6.9209e-02, -6.8921e-02,  5.8924e-02,  6.6250e-02],\n",
      "          [ 5.1930e-02, -1.6334e-02, -3.7747e-02,  9.9580e-03, -3.2452e-02],\n",
      "          [-7.3109e-02, -6.8139e-02, -2.1697e-03,  3.7637e-02,  6.3803e-02]],\n",
      "\n",
      "         [[ 6.3326e-02,  3.9365e-02, -6.7541e-02,  2.3911e-02,  1.3153e-02],\n",
      "          [-2.2952e-02, -7.2293e-02,  4.3245e-02,  4.8873e-02,  4.1849e-02],\n",
      "          [-6.1863e-02,  4.4652e-02, -8.2502e-03,  4.2019e-02, -6.6254e-02],\n",
      "          [ 8.0847e-02, -4.7099e-02, -8.0119e-02,  7.7016e-02,  8.0353e-02],\n",
      "          [ 7.2631e-02,  7.9364e-02,  6.8710e-02,  3.9225e-02,  1.8382e-02]],\n",
      "\n",
      "         [[ 2.2411e-02, -5.7114e-02, -2.7787e-02, -1.6294e-02, -2.8021e-02],\n",
      "          [ 1.1398e-02, -4.1684e-02, -2.7829e-02, -6.1947e-02,  7.2389e-02],\n",
      "          [ 4.9177e-02,  2.9771e-02, -5.9188e-02, -7.3669e-02,  4.8842e-02],\n",
      "          [-6.1945e-02, -9.6771e-03, -2.1578e-02, -1.5513e-02,  5.1926e-02],\n",
      "          [ 4.0684e-02, -3.0699e-02, -3.3533e-02, -1.9012e-02, -3.7386e-02]],\n",
      "\n",
      "         [[-9.8261e-03, -1.1630e-02,  5.1100e-02, -7.3720e-02, -3.3431e-02],\n",
      "          [-4.5537e-02,  2.5918e-02,  6.8015e-02,  1.7626e-02, -7.0083e-02],\n",
      "          [ 2.0046e-02,  8.8837e-03, -5.8732e-02, -3.8078e-02,  7.5950e-02],\n",
      "          [ 7.6330e-02, -6.1337e-02,  2.3527e-02, -7.7138e-02, -3.3519e-02],\n",
      "          [ 5.9133e-02,  8.2035e-03, -5.3410e-02,  6.9035e-02, -6.7141e-03]],\n",
      "\n",
      "         [[-4.5704e-02,  7.6166e-02,  4.4457e-02, -8.0414e-03, -1.8546e-02],\n",
      "          [ 5.4509e-02,  6.8893e-03, -2.5010e-02,  2.4085e-02, -2.5409e-02],\n",
      "          [-5.9999e-02,  8.3111e-03, -2.4105e-02, -7.6119e-02,  3.3427e-02],\n",
      "          [ 5.4292e-02, -7.7854e-03, -7.3137e-02, -7.4992e-02,  6.2138e-02],\n",
      "          [-2.4376e-02,  4.1322e-02,  5.7981e-02,  7.6654e-02,  3.4244e-02]]],\n",
      "\n",
      "\n",
      "        [[[-3.4855e-02, -3.5058e-02,  5.8833e-02,  2.3126e-02,  4.4642e-02],\n",
      "          [-6.9349e-02,  6.0689e-02,  4.8740e-02,  6.3096e-02, -7.5834e-02],\n",
      "          [-7.0745e-02, -6.8494e-02, -4.0043e-02, -3.7808e-02,  7.7459e-02],\n",
      "          [-4.9079e-02,  3.2439e-02, -5.9771e-02,  8.9616e-03, -2.2559e-02],\n",
      "          [ 7.4189e-02,  1.2690e-02,  1.1691e-02, -1.6542e-02,  8.7649e-04]],\n",
      "\n",
      "         [[-5.3682e-02, -6.4751e-03, -4.8562e-02,  3.2713e-02, -5.9416e-02],\n",
      "          [-7.7187e-02,  3.1780e-02, -1.3886e-02, -6.2324e-02, -3.4438e-02],\n",
      "          [ 1.2257e-02,  4.8526e-02, -6.9072e-03, -7.0756e-02,  6.5146e-02],\n",
      "          [-2.4666e-02,  7.7689e-02, -6.3566e-02,  4.8383e-02,  3.5312e-02],\n",
      "          [-2.7684e-02, -3.5273e-04, -3.7369e-02, -1.3063e-02,  6.3063e-02]],\n",
      "\n",
      "         [[ 1.8620e-02,  5.7120e-02, -4.2063e-02,  6.9545e-04, -6.7958e-02],\n",
      "          [ 4.6654e-03, -4.3783e-02,  9.1166e-03,  6.5009e-02,  9.3231e-03],\n",
      "          [ 4.4132e-02, -6.7200e-02,  2.4049e-02,  5.9765e-02, -8.0221e-02],\n",
      "          [-5.2472e-02, -3.9284e-02,  5.5812e-03, -2.4036e-02,  7.4650e-02],\n",
      "          [-3.8367e-03, -7.4509e-02,  2.9189e-02,  5.8216e-02, -5.1214e-02]],\n",
      "\n",
      "         [[-4.2892e-02,  2.9751e-02,  2.3982e-02,  7.4328e-02,  5.8317e-02],\n",
      "          [ 4.2753e-02, -1.5328e-02, -7.7537e-02, -3.4248e-02,  5.9293e-02],\n",
      "          [-4.0746e-02, -2.8787e-03, -5.6714e-04,  5.6998e-02, -5.5631e-02],\n",
      "          [ 6.8903e-02, -2.8640e-03, -4.2210e-03, -1.5497e-02,  5.6254e-03],\n",
      "          [ 4.6555e-02, -7.3959e-02,  1.8136e-02,  7.6036e-02, -2.2498e-02]],\n",
      "\n",
      "         [[ 6.4515e-02, -2.3002e-02, -5.6747e-03, -1.9509e-02,  3.2634e-05],\n",
      "          [ 6.5807e-02,  4.7044e-03, -3.0182e-03, -1.5242e-02, -7.4674e-02],\n",
      "          [ 4.9776e-02,  3.0205e-02, -7.4408e-02, -8.0517e-02,  5.9768e-02],\n",
      "          [ 5.5745e-03,  5.9976e-02, -3.8413e-02,  7.4266e-02,  3.7902e-02],\n",
      "          [-2.0791e-02,  1.9606e-02, -1.4360e-03,  4.2410e-03,  7.5112e-02]],\n",
      "\n",
      "         [[-5.1415e-02,  6.3799e-03, -2.0862e-02, -3.7867e-02,  3.7133e-02],\n",
      "          [ 1.3423e-02, -6.3819e-02,  4.8047e-02,  1.4571e-02, -6.3594e-02],\n",
      "          [ 3.3954e-02, -2.0280e-02,  2.4106e-02, -1.6012e-02,  1.9619e-02],\n",
      "          [ 5.0764e-02,  3.9441e-02, -4.6195e-02, -3.0896e-02, -7.3283e-02],\n",
      "          [-3.4055e-02,  2.3541e-02,  4.3296e-02,  6.2692e-02, -2.5689e-02]]],\n",
      "\n",
      "\n",
      "        ...,\n",
      "\n",
      "\n",
      "        [[[ 5.6622e-02, -7.9994e-02, -6.4115e-03, -8.0436e-03,  5.0485e-02],\n",
      "          [ 2.4269e-02, -4.3390e-02,  5.1251e-02,  7.7188e-02, -7.1217e-02],\n",
      "          [-2.4055e-02, -3.8950e-02, -3.1864e-02,  1.7958e-02, -5.7536e-02],\n",
      "          [-3.7400e-02, -3.4859e-02, -9.9600e-03,  4.3657e-02,  2.6686e-02],\n",
      "          [-2.6056e-02,  1.4195e-02, -3.1865e-02, -2.6222e-03,  5.6758e-02]],\n",
      "\n",
      "         [[-5.2417e-02,  5.4306e-02, -4.9829e-02,  1.5134e-02, -8.1918e-03],\n",
      "          [-2.6641e-02,  3.6069e-02, -2.1014e-02, -2.2198e-02,  6.1454e-03],\n",
      "          [-7.4385e-03, -4.4215e-02, -3.0436e-02,  5.6088e-02, -1.5677e-02],\n",
      "          [-8.1359e-02,  3.0367e-02,  7.6257e-02, -2.5062e-02, -3.7413e-02],\n",
      "          [ 6.9854e-02,  4.2844e-02,  8.0199e-02, -5.1716e-02, -1.7553e-02]],\n",
      "\n",
      "         [[ 4.7266e-02, -5.4370e-02, -6.9281e-02,  7.6292e-02, -2.0202e-02],\n",
      "          [ 5.0521e-02,  8.5970e-03, -1.4647e-02,  2.5904e-02, -4.0182e-02],\n",
      "          [-2.0146e-02,  3.3088e-02,  2.9394e-02,  5.0948e-02, -5.5855e-03],\n",
      "          [-8.0920e-02,  2.8554e-02, -5.8527e-02, -2.5952e-02, -1.1162e-02],\n",
      "          [-7.2508e-02, -8.0582e-02, -3.1341e-02,  5.2139e-02, -5.2453e-02]],\n",
      "\n",
      "         [[ 7.1682e-02, -1.5225e-02,  3.0034e-02, -3.7613e-02,  5.0856e-02],\n",
      "          [-1.8270e-02, -3.1587e-02, -4.1163e-02, -4.1999e-02, -3.2716e-02],\n",
      "          [ 7.4917e-02, -7.5095e-02,  2.0308e-03,  3.7627e-02,  2.9291e-02],\n",
      "          [ 6.6094e-02,  7.7787e-02, -3.2367e-02, -4.7075e-02,  4.4425e-02],\n",
      "          [-1.7031e-02, -3.1993e-02, -7.2807e-02,  3.2085e-02,  5.5679e-02]],\n",
      "\n",
      "         [[ 2.0389e-02, -6.7806e-02, -1.9277e-02,  4.1970e-03,  3.7638e-02],\n",
      "          [ 7.9844e-02, -4.5866e-02,  3.6127e-02, -4.0320e-02,  1.9782e-02],\n",
      "          [ 2.1239e-02,  2.0142e-02,  3.8860e-02, -5.9162e-02,  8.0872e-02],\n",
      "          [ 2.8032e-02, -7.7082e-02, -2.3814e-02,  7.7944e-02, -5.1242e-02],\n",
      "          [ 7.4201e-02, -6.9692e-02, -7.4045e-02, -3.6335e-02,  3.3852e-02]],\n",
      "\n",
      "         [[ 7.1824e-02, -2.4276e-02,  5.4826e-03,  6.2001e-02,  1.6790e-02],\n",
      "          [ 4.7616e-02, -3.4229e-02, -1.6184e-02, -3.5576e-03, -8.0399e-02],\n",
      "          [ 6.9382e-02,  1.6188e-02, -2.3402e-02,  4.7313e-02, -5.0095e-02],\n",
      "          [ 5.4376e-02, -1.8542e-02, -3.5357e-02, -2.9850e-03,  2.7563e-02],\n",
      "          [ 5.9712e-02, -2.6126e-02,  2.5011e-02,  4.3639e-02, -1.9663e-02]]],\n",
      "\n",
      "\n",
      "        [[[-3.0267e-02, -4.4781e-02, -4.1690e-02,  2.2316e-03, -5.7720e-03],\n",
      "          [ 5.8269e-03,  2.0194e-02,  5.0107e-02,  3.0410e-02, -1.5450e-02],\n",
      "          [-5.8475e-02,  8.1276e-02, -2.9548e-02, -2.9328e-02,  7.8557e-02],\n",
      "          [ 2.5457e-02,  2.2849e-02,  7.2900e-02, -3.9877e-02, -1.1229e-03],\n",
      "          [-4.6782e-02, -3.0255e-02, -7.3487e-02, -6.9079e-02,  3.6505e-02]],\n",
      "\n",
      "         [[-9.6193e-03,  5.9995e-03, -1.8400e-02, -6.6362e-02, -7.5811e-02],\n",
      "          [-4.9933e-02, -4.4657e-03, -5.2695e-02,  3.8715e-02, -3.5536e-02],\n",
      "          [ 1.2325e-02,  8.3054e-03,  2.2478e-02, -7.0606e-02, -7.8289e-02],\n",
      "          [ 7.4303e-02, -5.7934e-02, -5.7114e-02, -4.7575e-02, -7.3894e-02],\n",
      "          [-5.7717e-02, -5.7758e-02, -7.0132e-02, -3.2013e-02, -7.1389e-02]],\n",
      "\n",
      "         [[-4.1808e-03, -6.3194e-02,  7.2276e-02,  8.1584e-02, -1.1085e-02],\n",
      "          [-7.3185e-02, -3.0886e-02, -5.5014e-02, -2.8233e-02, -2.0547e-02],\n",
      "          [ 2.2139e-02, -2.9282e-03, -9.1799e-03, -5.9901e-02,  7.9271e-02],\n",
      "          [-6.6273e-02,  1.6648e-02, -4.5491e-02,  1.5734e-02, -4.1716e-02],\n",
      "          [-2.6465e-02, -6.0601e-02, -2.1083e-02,  2.3191e-02, -1.0178e-04]],\n",
      "\n",
      "         [[-4.6262e-02, -1.2256e-02,  2.2442e-02, -5.5463e-02, -5.7911e-03],\n",
      "          [ 1.9796e-02,  6.2223e-02,  4.0217e-02, -1.3062e-02, -1.6667e-02],\n",
      "          [ 3.5242e-02,  4.5074e-02, -6.4797e-02, -5.6617e-02, -8.2790e-03],\n",
      "          [ 1.7123e-02, -5.2417e-03,  7.6078e-02,  5.2853e-03,  6.3503e-02],\n",
      "          [ 5.4821e-02,  4.9829e-02, -3.1295e-02, -6.0668e-02, -5.8208e-02]],\n",
      "\n",
      "         [[ 7.9047e-02,  3.6811e-03,  4.6861e-02,  1.8346e-03,  7.9468e-02],\n",
      "          [-2.4437e-02,  5.5948e-02,  6.3397e-05, -1.7532e-02,  7.5447e-02],\n",
      "          [-7.0831e-02, -2.5346e-02, -6.1615e-02,  3.2871e-03,  1.9793e-02],\n",
      "          [-5.9282e-02,  6.1791e-02,  5.8231e-03,  3.7640e-02,  3.5085e-02],\n",
      "          [ 2.5505e-02, -3.6004e-02,  2.3147e-02, -7.9200e-02,  1.6231e-02]],\n",
      "\n",
      "         [[-5.6023e-02, -8.0155e-02,  3.3756e-02, -3.8902e-02, -8.1105e-02],\n",
      "          [-3.0940e-02,  4.0245e-02,  5.2411e-02,  8.7184e-03,  6.0632e-02],\n",
      "          [-1.6911e-02,  5.5327e-02, -2.4144e-02, -3.9961e-02, -2.3483e-02],\n",
      "          [-3.2290e-02,  4.6382e-02,  5.9049e-02,  7.2258e-03,  8.6784e-03],\n",
      "          [ 2.5385e-02,  7.8294e-02,  7.1992e-02, -2.6291e-02, -6.3982e-02]]],\n",
      "\n",
      "\n",
      "        [[[ 1.6832e-02,  1.0561e-02, -4.8367e-02, -5.2401e-02, -6.5524e-02],\n",
      "          [-3.5199e-02, -1.3624e-02,  5.2633e-02,  3.7006e-02, -1.2575e-02],\n",
      "          [-9.1299e-04, -3.7572e-02,  6.7377e-02,  2.2770e-02, -1.1215e-03],\n",
      "          [ 7.9707e-02, -7.8290e-02,  6.5003e-02, -3.5786e-02, -5.4461e-02],\n",
      "          [-6.1324e-03,  6.0796e-03,  4.9580e-02,  6.8757e-02, -9.7012e-04]],\n",
      "\n",
      "         [[ 3.4918e-02, -6.5848e-02,  8.7262e-03, -7.3915e-02,  3.1295e-04],\n",
      "          [ 6.7919e-02, -3.1591e-02, -3.1776e-02,  4.3083e-02, -3.6425e-02],\n",
      "          [ 7.9132e-02,  9.4630e-03, -1.0195e-02,  3.2743e-02,  6.9961e-02],\n",
      "          [-2.7366e-03,  5.4334e-02,  2.3511e-02, -6.5878e-02,  4.6359e-02],\n",
      "          [ 4.2070e-02, -2.1672e-02,  5.0749e-02, -5.4411e-02, -8.1000e-02]],\n",
      "\n",
      "         [[ 1.4562e-02,  8.1051e-03,  7.7482e-02,  1.5059e-02,  1.4505e-02],\n",
      "          [ 4.1045e-02,  4.4298e-02, -2.3166e-02, -2.4393e-02, -4.7493e-02],\n",
      "          [-6.1418e-03,  5.2185e-02, -2.9194e-02, -1.6648e-02,  7.3486e-02],\n",
      "          [ 3.5254e-02, -3.7197e-02, -1.5260e-03, -5.5169e-02,  3.5944e-02],\n",
      "          [-4.5397e-02, -4.2290e-02, -2.4591e-02,  3.9671e-02, -2.4412e-02]],\n",
      "\n",
      "         [[-4.3390e-02, -4.8488e-02,  5.5367e-02,  3.9562e-02, -5.9264e-02],\n",
      "          [ 4.8541e-02, -4.9608e-02,  4.8725e-02, -4.6119e-02, -2.3390e-02],\n",
      "          [-5.2251e-02,  3.6106e-02, -2.8868e-02,  3.6246e-02,  3.0449e-02],\n",
      "          [-7.0457e-02,  7.5268e-03,  5.8522e-02,  6.4263e-02,  8.0542e-02],\n",
      "          [-3.2429e-02,  2.2897e-02, -5.7375e-02,  2.4566e-02,  8.0040e-02]],\n",
      "\n",
      "         [[-1.6273e-02,  6.8471e-02,  3.5918e-02,  7.0264e-02, -2.4008e-02],\n",
      "          [-3.8984e-02, -3.7004e-02,  5.6247e-02, -5.6522e-02,  1.9292e-02],\n",
      "          [-6.0612e-02,  2.6176e-02,  2.5285e-02, -1.0099e-02,  1.8544e-02],\n",
      "          [ 6.4162e-02, -1.0658e-02, -6.1186e-02,  2.8642e-02, -7.4449e-02],\n",
      "          [-7.9878e-03,  6.1095e-02, -7.1656e-02,  6.4206e-03, -7.1250e-02]],\n",
      "\n",
      "         [[ 3.6983e-02,  5.4366e-02, -6.7128e-02, -3.9950e-02,  6.1369e-02],\n",
      "          [ 7.0067e-02,  4.6709e-02, -2.7219e-02,  1.7775e-02,  5.9124e-02],\n",
      "          [-7.3042e-02, -1.3858e-02,  5.4616e-02,  5.6404e-03, -7.0960e-02],\n",
      "          [ 7.0547e-02,  1.3387e-02,  3.4155e-02,  6.7404e-02,  2.8755e-02],\n",
      "          [ 2.9699e-02,  5.7706e-02,  1.8384e-02,  3.7075e-02, -3.2558e-02]]]], requires_grad=True))\n",
      "('conv2.bias', Parameter containing:\n",
      "tensor([-0.0101, -0.0411, -0.0251, -0.0080,  0.0059,  0.0380, -0.0165, -0.0347, -0.0097, -0.0508,  0.0110, -0.0619],\n",
      "       requires_grad=True))\n",
      "('fc1.weight', Parameter containing:\n",
      "tensor([[ 2.3358e-02,  3.0735e-02, -3.7563e-02,  ..., -9.3171e-03, -8.4221e-03, -3.3401e-02],\n",
      "        [-2.1565e-02,  2.5910e-02,  6.1873e-02,  ..., -3.6294e-02, -5.4597e-02, -3.2334e-02],\n",
      "        [-3.1650e-02, -1.5326e-02, -9.2081e-03,  ..., -3.9813e-02, -2.8897e-02,  3.6358e-03],\n",
      "        ...,\n",
      "        [ 2.4147e-03, -1.0923e-05, -4.7672e-02,  ..., -5.5922e-02,  3.8017e-03,  2.7304e-02],\n",
      "        [-1.5108e-02, -5.6299e-02,  6.1891e-02,  ..., -6.5349e-02,  6.6816e-02, -1.3133e-02],\n",
      "        [ 3.0352e-02,  1.0468e-02,  1.1931e-02,  ...,  5.5675e-02, -3.2600e-02,  5.7697e-02]], requires_grad=True))\n",
      "('fc1.bias', Parameter containing:\n",
      "tensor([ 6.8221e-02, -7.1248e-02,  2.5514e-02,  2.1312e-02,  5.5589e-02,  4.9176e-03,  4.5938e-02, -4.6159e-02,\n",
      "        -6.5565e-02,  4.3748e-02,  2.6012e-02,  4.3280e-02,  4.9556e-02,  1.8226e-02, -5.4762e-02,  7.1175e-05,\n",
      "        -2.7807e-02,  4.3911e-02, -3.5835e-02,  2.6672e-02, -3.5211e-02,  2.9137e-02, -2.1924e-02, -5.7582e-02,\n",
      "         5.1236e-02, -7.4528e-03, -4.4456e-02, -5.4083e-02,  3.4010e-02, -1.4434e-02, -4.6105e-02, -5.0309e-02,\n",
      "        -6.0010e-02, -4.2266e-03,  1.0116e-02, -1.6979e-02, -3.7994e-02,  2.6039e-02,  4.4755e-02, -6.5853e-02,\n",
      "         4.1260e-02,  5.1367e-02, -6.1940e-02,  3.9525e-02, -5.7995e-02,  2.9860e-02,  6.8343e-02, -3.7827e-02,\n",
      "        -6.0253e-02, -1.3769e-02, -4.6586e-02,  3.4504e-02,  6.3049e-02,  3.0793e-02,  4.7789e-02,  5.9640e-02,\n",
      "        -2.4801e-02,  2.4998e-02, -1.8145e-02, -5.9822e-02,  3.1839e-02,  4.3244e-02, -5.7276e-02,  2.8331e-02,\n",
      "        -9.5469e-03,  3.0659e-03, -2.0464e-02, -3.8069e-02, -6.0462e-02, -4.7810e-03,  4.6281e-02,  1.9744e-02,\n",
      "         5.0360e-02,  6.9117e-02, -1.3863e-02,  6.7723e-02, -2.3050e-02, -1.3408e-02, -4.7754e-02,  3.9468e-02,\n",
      "         1.9233e-02,  2.1032e-02,  2.1284e-02,  2.2627e-02, -1.9059e-02, -2.5165e-02,  2.8844e-02, -1.7174e-02,\n",
      "        -1.1167e-02,  6.0842e-02,  4.6365e-02, -1.0451e-02,  6.0443e-02,  5.9902e-02,  1.7591e-02, -1.7478e-02,\n",
      "         4.0387e-02,  5.8187e-02, -7.1559e-02, -2.7214e-02, -6.2578e-02,  6.9067e-03,  5.7160e-02,  7.9269e-03,\n",
      "         3.9525e-02,  2.4757e-03, -5.2786e-02,  1.0341e-03, -6.0220e-02, -2.9464e-02, -4.4777e-02, -5.3462e-02,\n",
      "        -6.5216e-02,  3.8252e-02,  2.2482e-02,  2.1689e-02,  1.1108e-02, -1.2443e-02,  5.5789e-02,  2.6075e-02],\n",
      "       requires_grad=True))\n",
      "('fc2.weight', Parameter containing:\n",
      "tensor([[ 0.0568,  0.0364, -0.0676,  ...,  0.0313, -0.0679, -0.0256],\n",
      "        [-0.0265,  0.0878,  0.0668,  ..., -0.0184, -0.0088, -0.0295],\n",
      "        [ 0.0408,  0.0157,  0.0189,  ...,  0.0583,  0.0028,  0.0372],\n",
      "        ...,\n",
      "        [ 0.0615, -0.0696, -0.0839,  ..., -0.0239, -0.0778,  0.0521],\n",
      "        [-0.0216,  0.0671, -0.0486,  ..., -0.0881,  0.0591,  0.0551],\n",
      "        [ 0.0155,  0.0593,  0.0231,  ..., -0.0465, -0.0231, -0.0062]], requires_grad=True))\n",
      "('fc2.bias', Parameter containing:\n",
      "tensor([ 0.0767,  0.0790,  0.0317,  0.0124, -0.0770, -0.0848, -0.0386, -0.0190, -0.0721, -0.0796,  0.0003, -0.0766,\n",
      "         0.0810,  0.0255, -0.0318, -0.0438, -0.0830, -0.0708, -0.0596,  0.0161,  0.0459,  0.0293, -0.0549, -0.0460,\n",
      "         0.0889, -0.0178,  0.0543,  0.0099, -0.0342, -0.0315,  0.0912,  0.0638,  0.0408,  0.0781, -0.0488,  0.0839,\n",
      "        -0.0268, -0.0629, -0.0414, -0.0311,  0.0358,  0.0013, -0.0154, -0.0220, -0.0243,  0.0086, -0.0146,  0.0334,\n",
      "         0.0452,  0.0035,  0.0129,  0.0132, -0.0130,  0.0720, -0.0642, -0.0606,  0.0145, -0.0549,  0.0331, -0.0652],\n",
      "       requires_grad=True))\n",
      "('out.weight', Parameter containing:\n",
      "tensor([[-0.0421,  0.0122,  0.1272, -0.1221,  0.0301,  0.0632,  0.0211,  0.0345,  0.0298, -0.1240,  0.0637,  0.0409,\n",
      "          0.0399, -0.0530, -0.0590, -0.0989, -0.1034,  0.1077,  0.0648, -0.0267,  0.0980,  0.0979,  0.0699,  0.0192,\n",
      "          0.0243, -0.0258, -0.1030,  0.0352,  0.1037,  0.0464,  0.0041,  0.0057,  0.1218, -0.1164,  0.1048, -0.0179,\n",
      "          0.0975, -0.0686,  0.0985,  0.1020,  0.0074,  0.0668, -0.1044, -0.0646, -0.0016, -0.0152, -0.0018,  0.0416,\n",
      "          0.0479, -0.0456,  0.0504, -0.0454, -0.1251,  0.0825,  0.1047,  0.1185, -0.0652, -0.0717, -0.1013,  0.0439],\n",
      "        [ 0.0067,  0.0559,  0.0021, -0.1109,  0.0364,  0.0385, -0.0288, -0.0712, -0.0865, -0.0289,  0.0223, -0.1146,\n",
      "         -0.1080, -0.1079, -0.0324,  0.1014, -0.0767, -0.0296, -0.0516,  0.1093, -0.0433, -0.0450, -0.0649,  0.0564,\n",
      "          0.0971, -0.0584, -0.0776, -0.0329,  0.1280,  0.0833,  0.0878,  0.0492,  0.0696,  0.1048, -0.1249, -0.0178,\n",
      "          0.1135,  0.0609,  0.1184, -0.0430, -0.1084, -0.1115,  0.0184, -0.0399, -0.1111,  0.0667,  0.0161, -0.0460,\n",
      "         -0.0315,  0.0109,  0.0061, -0.0421,  0.0495,  0.0752,  0.0827,  0.0846,  0.0536, -0.1032, -0.0446,  0.1031],\n",
      "        [-0.0611,  0.1044, -0.1026, -0.0626,  0.0244,  0.1067, -0.0844,  0.1095,  0.0364, -0.0297, -0.0710, -0.1046,\n",
      "         -0.0689, -0.1015,  0.0712,  0.0325, -0.1035,  0.0137,  0.1184, -0.0167,  0.0279,  0.1231,  0.0050, -0.1175,\n",
      "         -0.1189, -0.0325,  0.0585,  0.1242,  0.0667,  0.0310,  0.0642,  0.0463,  0.1102,  0.0675,  0.1278,  0.0444,\n",
      "          0.0765, -0.0802,  0.0459,  0.0486,  0.0837, -0.1019, -0.0781, -0.0027,  0.0929, -0.1023,  0.1205, -0.0189,\n",
      "         -0.0947, -0.0280,  0.0530, -0.1275,  0.1126, -0.0315,  0.0233,  0.0455,  0.0406, -0.0948, -0.0659,  0.0216],\n",
      "        [ 0.0777,  0.1059,  0.0465,  0.0325, -0.0466,  0.0574,  0.1191,  0.0943, -0.0402, -0.1210, -0.0038,  0.0764,\n",
      "          0.0644, -0.0759, -0.0805,  0.0926,  0.0813,  0.0507, -0.1002,  0.1020,  0.0518, -0.0748,  0.0449,  0.0700,\n",
      "         -0.0652,  0.1146, -0.0580, -0.0355, -0.0123,  0.0416,  0.0540,  0.0181, -0.0434,  0.0474, -0.0651,  0.0686,\n",
      "          0.1242, -0.0389,  0.0693, -0.0151, -0.0563,  0.0808,  0.0293, -0.0889,  0.1164,  0.0624,  0.0219,  0.0783,\n",
      "          0.0024,  0.0449, -0.0899, -0.1179,  0.0518,  0.0468, -0.0119,  0.0949,  0.0897,  0.0814,  0.0803,  0.0983],\n",
      "        [ 0.0595, -0.1171, -0.1062, -0.0175, -0.1182,  0.0720,  0.0482,  0.0826,  0.0948, -0.1088, -0.0280,  0.0387,\n",
      "          0.1169,  0.0701, -0.0899,  0.0247, -0.0130, -0.0497,  0.0181, -0.0873,  0.0513, -0.0913,  0.1262, -0.0425,\n",
      "          0.1246, -0.0061,  0.0609,  0.0166,  0.0265, -0.0013, -0.1013,  0.1091,  0.1033,  0.0028,  0.1291, -0.0350,\n",
      "         -0.1092,  0.0172, -0.1094, -0.0116,  0.1036, -0.1177,  0.0699,  0.1074, -0.1103, -0.0710, -0.0121,  0.1174,\n",
      "         -0.0286, -0.0805, -0.0791, -0.0579,  0.0811,  0.0909,  0.0715, -0.0282,  0.0384, -0.0235,  0.0484, -0.0806],\n",
      "        [ 0.1088,  0.0496, -0.1074, -0.0826,  0.0221, -0.0374, -0.0963,  0.0259,  0.0714, -0.0801, -0.0163, -0.1117,\n",
      "          0.1050,  0.0910, -0.0101, -0.1184,  0.0868,  0.0575,  0.0416, -0.0282,  0.0667, -0.0728,  0.0893, -0.1182,\n",
      "         -0.0236, -0.1094, -0.0004, -0.0659, -0.1060, -0.1004, -0.0583, -0.1008,  0.0978, -0.0289, -0.0320,  0.1090,\n",
      "         -0.0855,  0.0006,  0.0321, -0.1147, -0.0424, -0.0698, -0.0608,  0.0896, -0.0461,  0.0750,  0.0650, -0.0377,\n",
      "         -0.0597,  0.0950, -0.0124,  0.0896, -0.0032,  0.0506,  0.1092,  0.0039, -0.0337,  0.0754,  0.0840,  0.0236],\n",
      "        [-0.0954,  0.0719, -0.0224, -0.0215, -0.0972,  0.0057, -0.0544, -0.0139,  0.0771,  0.0751,  0.0586, -0.0686,\n",
      "         -0.0660,  0.1026,  0.0219,  0.0606, -0.1168,  0.0206,  0.0505,  0.0007, -0.0639,  0.0192,  0.1146, -0.0105,\n",
      "          0.0272,  0.0712, -0.1246, -0.0069, -0.0580,  0.0435,  0.0353, -0.0607,  0.0220,  0.1047, -0.1252,  0.0791,\n",
      "          0.0743,  0.0163,  0.0848,  0.1235, -0.0278,  0.0725, -0.1087, -0.1027, -0.0265, -0.1283, -0.0105,  0.0262,\n",
      "         -0.1218,  0.1253, -0.1212, -0.1109, -0.0198, -0.0896, -0.0303,  0.0709, -0.0742, -0.1101,  0.1072, -0.0750],\n",
      "        [ 0.1231,  0.0719,  0.0592,  0.0756, -0.1120, -0.0035, -0.0531, -0.0721, -0.0317, -0.1172, -0.0999, -0.1175,\n",
      "         -0.1236,  0.0392, -0.0857,  0.0658, -0.1132, -0.0785, -0.0086, -0.0674,  0.1238, -0.0131,  0.1253,  0.1177,\n",
      "          0.0514, -0.0970,  0.0708,  0.0651,  0.0711,  0.0262,  0.0648, -0.0642,  0.0776,  0.0050,  0.0508, -0.0629,\n",
      "         -0.1109,  0.0230, -0.0927, -0.0583,  0.1139,  0.0365, -0.0658,  0.0222,  0.0817,  0.1213,  0.0380,  0.1035,\n",
      "         -0.0859,  0.0530, -0.0586, -0.1031,  0.0951,  0.0461,  0.0301, -0.0417,  0.0180, -0.0314,  0.0394,  0.0089],\n",
      "        [ 0.0227, -0.0116,  0.1143, -0.0373,  0.0764, -0.0132, -0.0313, -0.1090,  0.0027,  0.0655,  0.0116,  0.0620,\n",
      "          0.0601, -0.0371, -0.0807,  0.1258,  0.0809, -0.0180, -0.1118, -0.0507,  0.0147, -0.0161,  0.0807,  0.0121,\n",
      "          0.0340, -0.1120,  0.0926, -0.1129,  0.0700,  0.0393, -0.0452, -0.0715,  0.0544,  0.0224,  0.0646, -0.0229,\n",
      "         -0.0148,  0.0130, -0.1044,  0.0268, -0.1012, -0.0864,  0.0633, -0.1012,  0.0032, -0.0336,  0.1134, -0.1282,\n",
      "         -0.1252, -0.0409, -0.0086, -0.1011, -0.0776, -0.0618, -0.1041, -0.0606, -0.0912, -0.0977,  0.0240, -0.0667],\n",
      "        [-0.1104, -0.0998, -0.1115,  0.0221, -0.0860,  0.0267, -0.1046,  0.0989, -0.0559, -0.0021, -0.0198, -0.0645,\n",
      "          0.0247,  0.0006, -0.0341, -0.0618, -0.0680,  0.0458,  0.0181, -0.0095,  0.1259,  0.1084, -0.0647,  0.1138,\n",
      "         -0.0596, -0.1182, -0.0350, -0.1079,  0.0352, -0.0557, -0.1179,  0.0641, -0.0166, -0.1283,  0.0013, -0.1113,\n",
      "         -0.0823,  0.0404, -0.0402,  0.0269,  0.0141, -0.1233,  0.1254,  0.0311, -0.0720, -0.1140, -0.1158, -0.0404,\n",
      "         -0.1036, -0.0249,  0.0607, -0.1107,  0.0456, -0.0486,  0.0900,  0.0587, -0.0988, -0.0776,  0.0916, -0.0237]],\n",
      "       requires_grad=True))\n",
      "('out.bias', Parameter containing:\n",
      "tensor([-0.0640, -0.0703,  0.1229,  0.0115, -0.0272, -0.1094,  0.0812,  0.0130,  0.1136, -0.0975], requires_grad=True))\n"
     ]
    }
   ],
   "source": [
    "for name in net.named_parameters():\n",
    "    print(name)"
   ]
  },
  {
   "cell_type": "code",
   "execution_count": 30,
   "metadata": {},
   "outputs": [
    {
     "name": "stdout",
     "output_type": "stream",
     "text": [
      "conv1.weight \t\t torch.Size([6, 1, 5, 5])\n",
      "conv1.bias \t\t torch.Size([6])\n",
      "conv2.weight \t\t torch.Size([12, 6, 5, 5])\n",
      "conv2.bias \t\t torch.Size([12])\n",
      "fc1.weight \t\t torch.Size([120, 192])\n",
      "fc1.bias \t\t torch.Size([120])\n",
      "fc2.weight \t\t torch.Size([60, 120])\n",
      "fc2.bias \t\t torch.Size([60])\n",
      "out.weight \t\t torch.Size([10, 60])\n",
      "out.bias \t\t torch.Size([10])\n"
     ]
    }
   ],
   "source": [
    "for name, param in net.named_parameters():\n",
    "    print(name, '\\t\\t', param.shape)"
   ]
  },
  {
   "cell_type": "markdown",
   "metadata": {},
   "source": [
    "<code> > network.conv1\n",
    "Conv2d(1, 6, kernel_size=(5, 5), stride=(1, 1)) </code>\n",
    "\n",
    "<p> The two main take always about these convolutional layers is that our filters are represented using a single tensor and that each filter inside the tensor also has a depth that accounts for the input channels that are being convolved.\n",
    "    \n",
    "    - All filters [kernels] are represented using a single tensor.\n",
    "    - Filters have depth that accounts for the input channels.\n",
    "Our tensors are rank-4 tensors. The first axis represents the number of filters. The second axis represents the depth of each filter which corresponds to the number of input channels being convolved.\n",
    "\n",
    "The last two axes represent the height and width of each filter. We can pull out any single filter by indexing into the weight tensor’s first axis.\n",
    "\n",
    "\n",
    " "
   ]
  },
  {
   "cell_type": "code",
   "execution_count": 31,
   "metadata": {},
   "outputs": [
    {
     "data": {
      "text/plain": [
       "tensor([[-0.0291, -0.0539,  0.1406,  0.0693, -0.0143, -0.1262,  0.0953,  0.0315,  0.1056, -0.1318]],\n",
       "       grad_fn=<AddmmBackward>)"
      ]
     },
     "execution_count": 31,
     "metadata": {},
     "output_type": "execute_result"
    }
   ],
   "source": [
    "net(image)"
   ]
  },
  {
   "cell_type": "code",
   "execution_count": 32,
   "metadata": {},
   "outputs": [
    {
     "data": {
      "text/plain": [
       "tensor([[-0.0291, -0.0539,  0.1406,  0.0693, -0.0143, -0.1262,  0.0953,  0.0315,  0.1056, -0.1318]],\n",
       "       grad_fn=<AddmmBackward>)"
      ]
     },
     "execution_count": 32,
     "metadata": {},
     "output_type": "execute_result"
    }
   ],
   "source": [
    "output = net(image); output"
   ]
  },
  {
   "cell_type": "code",
   "execution_count": 33,
   "metadata": {},
   "outputs": [],
   "source": [
    "def get_num_correct(pred, labels): \n",
    "    return preds.argmax(dim=1).eq(labels).sum().item()"
   ]
  },
  {
   "cell_type": "code",
   "execution_count": 34,
   "metadata": {},
   "outputs": [
    {
     "data": {
      "text/plain": [
       "torch.Size([1, 10, 1, 28, 28])"
      ]
     },
     "execution_count": 34,
     "metadata": {},
     "output_type": "execute_result"
    }
   ],
   "source": [
    "images.unsqueeze(0).shape"
   ]
  },
  {
   "cell_type": "code",
   "execution_count": 35,
   "metadata": {},
   "outputs": [
    {
     "data": {
      "text/plain": [
       "2.321357488632202"
      ]
     },
     "execution_count": 35,
     "metadata": {},
     "output_type": "execute_result"
    }
   ],
   "source": [
    "preds = net(images)\n",
    "loss = F.cross_entropy(preds, labels) #calculate the gradient\n",
    "loss.item()"
   ]
  },
  {
   "cell_type": "code",
   "execution_count": 36,
   "metadata": {},
   "outputs": [],
   "source": [
    "net.conv1.weight.grad"
   ]
  },
  {
   "cell_type": "code",
   "execution_count": 37,
   "metadata": {},
   "outputs": [],
   "source": [
    "loss.backward()"
   ]
  },
  {
   "cell_type": "code",
   "execution_count": 38,
   "metadata": {},
   "outputs": [
    {
     "data": {
      "text/plain": [
       "tensor([[[[-4.7500e-03, -4.4885e-03, -3.6707e-03, -5.1799e-03, -3.6612e-03],\n",
       "          [-2.9597e-03, -3.1644e-03, -2.7867e-03, -5.3999e-03, -6.2313e-03],\n",
       "          [-2.5785e-03, -2.1669e-03, -3.1753e-03, -5.1967e-03, -4.0573e-03],\n",
       "          [-2.2860e-03, -1.4609e-03, -2.4905e-03, -5.6641e-03, -3.4508e-03],\n",
       "          [-2.0538e-03, -1.9480e-03, -3.8869e-03, -4.5944e-03, -2.8700e-03]]],\n",
       "\n",
       "\n",
       "        [[[-2.2853e-03, -6.3947e-03, -7.0136e-03, -7.8969e-03, -8.2994e-03],\n",
       "          [-8.1061e-04, -1.6864e-03, -4.0961e-03, -6.7869e-03, -6.3989e-03],\n",
       "          [-8.3790e-05, -1.9670e-03, -5.0666e-03, -9.3678e-03, -6.8440e-03],\n",
       "          [-1.9294e-03, -4.6288e-03, -4.5023e-03, -5.6898e-03, -6.6484e-03],\n",
       "          [-1.0918e-03, -3.8481e-03, -2.9940e-03, -5.4493e-03, -6.8668e-03]]],\n",
       "\n",
       "\n",
       "        [[[-2.1264e-04,  6.1422e-04,  1.9814e-03,  2.2052e-03,  3.2704e-03],\n",
       "          [ 7.5623e-04,  1.1812e-03,  1.7708e-03,  2.4799e-03,  4.3785e-03],\n",
       "          [ 8.8846e-04,  2.2051e-03,  3.9398e-03,  4.2604e-03,  5.0729e-03],\n",
       "          [ 2.9622e-03,  3.3212e-03,  6.1348e-03,  6.1546e-03,  4.9574e-03],\n",
       "          [ 4.5021e-03,  4.7437e-03,  6.0068e-03,  5.8043e-03,  4.6836e-03]]],\n",
       "\n",
       "\n",
       "        [[[-9.0794e-06, -1.3695e-04,  5.8904e-04,  6.2728e-04,  1.0684e-03],\n",
       "          [ 1.2934e-04,  2.2134e-04,  1.0239e-03,  2.2094e-03,  2.0037e-03],\n",
       "          [ 6.0072e-04,  5.2048e-04,  1.8646e-03,  2.7494e-03,  1.8505e-03],\n",
       "          [ 7.5915e-04,  1.4036e-03,  3.2562e-03,  2.6938e-03,  1.0253e-03],\n",
       "          [ 7.4767e-04,  9.7268e-04,  1.9153e-03,  8.5026e-04, -3.4126e-05]]],\n",
       "\n",
       "\n",
       "        [[[-3.0375e-04, -1.0241e-03, -6.4239e-04, -7.1557e-04, -2.9219e-03],\n",
       "          [-1.7959e-04,  3.4799e-05, -4.2022e-04, -1.2523e-03, -3.4379e-03],\n",
       "          [-6.6659e-04, -3.7638e-04, -8.6715e-04, -2.8192e-03, -3.6182e-03],\n",
       "          [-3.4644e-04,  1.1021e-04, -1.2227e-03, -2.2640e-03, -3.5055e-03],\n",
       "          [-7.8184e-04, -5.4392e-04, -1.1683e-03, -3.1050e-03, -3.7866e-03]]],\n",
       "\n",
       "\n",
       "        [[[-6.7868e-03, -6.0082e-03, -4.6746e-03, -5.2756e-03, -4.2421e-03],\n",
       "          [-6.4141e-03, -6.1456e-03, -5.1777e-03, -6.1638e-03, -5.2295e-03],\n",
       "          [-9.6554e-03, -8.3009e-03, -6.0783e-03, -6.1172e-03, -4.1420e-03],\n",
       "          [-9.2172e-03, -8.4541e-03, -6.1668e-03, -5.9002e-03, -3.9903e-03],\n",
       "          [-8.0149e-03, -8.8492e-03, -5.8167e-03, -5.2895e-03, -4.7352e-03]]]])"
      ]
     },
     "execution_count": 38,
     "metadata": {},
     "output_type": "execute_result"
    }
   ],
   "source": [
    "net.conv1.weight.grad"
   ]
  },
  {
   "cell_type": "code",
   "execution_count": 39,
   "metadata": {},
   "outputs": [],
   "source": [
    "optimizer = optim.Adam(net.parameters(), lr=0.01)"
   ]
  },
  {
   "cell_type": "code",
   "execution_count": 40,
   "metadata": {},
   "outputs": [
    {
     "data": {
      "text/plain": [
       "2.321357488632202"
      ]
     },
     "execution_count": 40,
     "metadata": {},
     "output_type": "execute_result"
    }
   ],
   "source": [
    "loss.item()"
   ]
  },
  {
   "cell_type": "code",
   "execution_count": 41,
   "metadata": {},
   "outputs": [
    {
     "data": {
      "text/plain": [
       "2"
      ]
     },
     "execution_count": 41,
     "metadata": {},
     "output_type": "execute_result"
    }
   ],
   "source": [
    "get_num_correct(preds, labels)"
   ]
  },
  {
   "cell_type": "code",
   "execution_count": 42,
   "metadata": {},
   "outputs": [],
   "source": [
    "optimizer.step()"
   ]
  },
  {
   "cell_type": "code",
   "execution_count": 43,
   "metadata": {},
   "outputs": [
    {
     "data": {
      "text/plain": [
       "2.121960401535034"
      ]
     },
     "execution_count": 43,
     "metadata": {},
     "output_type": "execute_result"
    }
   ],
   "source": [
    "preds = net(images)\n",
    "loss = F.cross_entropy(preds, labels)\n",
    "loss.item()"
   ]
  },
  {
   "cell_type": "code",
   "execution_count": 44,
   "metadata": {},
   "outputs": [
    {
     "data": {
      "text/plain": [
       "4"
      ]
     },
     "execution_count": 44,
     "metadata": {},
     "output_type": "execute_result"
    }
   ],
   "source": [
    "get_num_correct(preds, labels)"
   ]
  },
  {
   "cell_type": "code",
   "execution_count": 45,
   "metadata": {},
   "outputs": [
    {
     "name": "stdout",
     "output_type": "stream",
     "text": [
      "loss1: 2.304940938949585\n"
     ]
    }
   ],
   "source": [
    "network = ConvNets()\n",
    "\n",
    "preds = network(images)\n",
    "loss = F.cross_entropy(preds, labels)\n",
    "\n",
    "optimizer = optim.Adam(net.parameters(), lr=0.07)\n",
    "\n",
    "loss.backward() #gradient \n",
    "optimizer.step() #update \n",
    "\n",
    "#---------------------\n",
    "\n",
    "print('loss1:', loss.item())"
   ]
  },
  {
   "cell_type": "code",
   "execution_count": 46,
   "metadata": {},
   "outputs": [
    {
     "name": "stdout",
     "output_type": "stream",
     "text": [
      "loss2: 2.304940938949585\n"
     ]
    }
   ],
   "source": [
    "preds = network(images)\n",
    "loss = F.cross_entropy(preds, labels)\n",
    "print('loss2:', loss.item())"
   ]
  },
  {
   "cell_type": "markdown",
   "metadata": {},
   "source": [
    "# Training in a loop"
   ]
  },
  {
   "cell_type": "code",
   "execution_count": null,
   "metadata": {},
   "outputs": [
    {
     "name": "stderr",
     "output_type": "stream",
     "text": [
      "  3%|▎         | 1709/60000 [00:08<04:34, 212.32it/s]"
     ]
    }
   ],
   "source": [
    "network = ConvNets()\n",
    "\n",
    "for epoch in (range(5)):\n",
    "    \n",
    "    total_loss = 0\n",
    "    total_correct = 0\n",
    "    \n",
    "    for batch in tqdm.tqdm(train_loader):\n",
    "        images, labels = batch\n",
    "\n",
    "        preds = network(images)\n",
    "        loss = F.cross_entropy(preds, labels)\n",
    "\n",
    "        optimizer.zero_grad()\n",
    "        loss.backward()\n",
    "        optimizer.step()\n",
    "\n",
    "        total_loss += loss.item()\n",
    "        total_correct += get_num_correct(preds, labels)\n",
    "\n",
    "    print('epoch', epoch, 'total_correct:', total_correct, \n",
    "         'loss:', total_loss)\n",
    "    break\n"
   ]
  },
  {
   "cell_type": "code",
   "execution_count": null,
   "metadata": {},
   "outputs": [],
   "source": [
    "total_correct / len(train_set)"
   ]
  },
  {
   "cell_type": "code",
   "execution_count": null,
   "metadata": {},
   "outputs": [],
   "source": []
  }
 ],
 "metadata": {
  "kernelspec": {
   "display_name": "Python 3",
   "language": "python",
   "name": "python3"
  },
  "language_info": {
   "codemirror_mode": {
    "name": "ipython",
    "version": 3
   },
   "file_extension": ".py",
   "mimetype": "text/x-python",
   "name": "python",
   "nbconvert_exporter": "python",
   "pygments_lexer": "ipython3",
   "version": "3.7.4"
  }
 },
 "nbformat": 4,
 "nbformat_minor": 2
}
