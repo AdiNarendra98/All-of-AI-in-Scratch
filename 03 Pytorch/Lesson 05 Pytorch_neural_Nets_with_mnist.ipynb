{
  "nbformat": 4,
  "nbformat_minor": 0,
  "metadata": {
    "colab": {
      "name": "Pytorch neural Nets with mnist.ipynb",
      "provenance": [],
      "collapsed_sections": []
    },
    "kernelspec": {
      "name": "python3",
      "display_name": "Python 3"
    },
    "accelerator": "GPU"
  },
  "cells": [
    {
      "cell_type": "code",
      "metadata": {
        "id": "Ei91oeswEi_3",
        "colab_type": "code",
        "colab": {}
      },
      "source": [
        "import torch\n",
        "import torchvision\n",
        "import torch.optim as optim\n",
        "import torch.nn.functional as F"
      ],
      "execution_count": 0,
      "outputs": []
    },
    {
      "cell_type": "code",
      "metadata": {
        "id": "zPDhwvNfFb4q",
        "colab_type": "code",
        "colab": {}
      },
      "source": [
        "# Define a transform to normalize the data\n",
        "transform = torchvision.transforms.Compose([torchvision.transforms.ToTensor(),\n",
        "                                torchvision.transforms.Normalize((0.5,), (0.5,))])\n",
        "# Download and load the training data\n",
        "trainset = torchvision.datasets.FashionMNIST('~/.pytorch/F_MNIST_data/', download=True, train=True, transform=transform)\n",
        "trainloader = torch.utils.data.DataLoader(trainset, batch_size=64, shuffle=True)\n",
        "\n",
        "# Download and load the test data\n",
        "testset = torchvision.datasets.FashionMNIST('~/.pytorch/F_MNIST_data/', download=True, train=False, transform=transform)\n",
        "testloader = torch.utils.data.DataLoader(testset, batch_size=64, shuffle=True)"
      ],
      "execution_count": 0,
      "outputs": []
    },
    {
      "cell_type": "code",
      "metadata": {
        "id": "TOCaLtKfaejE",
        "colab_type": "code",
        "colab": {
          "base_uri": "https://localhost:8080/",
          "height": 34
        },
        "outputId": "f31a89f4-306d-49ce-99d8-5d32a0db4d5d"
      },
      "source": [
        "device = torch.device(\"cuda\" if torch.cuda.is_available() else \"cpu\")\n",
        "device"
      ],
      "execution_count": 3,
      "outputs": [
        {
          "output_type": "execute_result",
          "data": {
            "text/plain": [
              "device(type='cuda')"
            ]
          },
          "metadata": {
            "tags": []
          },
          "execution_count": 3
        }
      ]
    },
    {
      "cell_type": "code",
      "metadata": {
        "id": "TwgpmEcZHryY",
        "colab_type": "code",
        "colab": {}
      },
      "source": [
        "class LinearModel(torch.nn.Module):\n",
        "  def __init__(self):\n",
        "    super().__init__()\n",
        "\n",
        "    #define linear models\n",
        "    self.fc1 = torch.nn.Linear(784, 256)\n",
        "    self.fc2 = torch.nn.Linear(256,200)\n",
        "    self.fc3 = torch.nn.Linear(200,128)\n",
        "    self.fc4 = torch.nn.Linear(128, 64)\n",
        "    self.fc5 = torch.nn.Linear(64, 32)\n",
        "    self.fc6 = torch.nn.Linear(32, 10)\n",
        "\n",
        "    self.dropout = torch.nn.Dropout(p=0.5)\n",
        "\n",
        "  def forward(self, x):\n",
        "    #flattening\n",
        "    x = x.reshape(x.shape[0], -1)\n",
        "\n",
        "    x = self.dropout(F.relu(self.fc1(x)))\n",
        "    x = self.dropout(F.relu(self.fc2(x)))\n",
        "    x = self.dropout(F.relu(self.fc3(x)))\n",
        "    x = self.dropout(F.relu(self.fc4(x)))\n",
        "    x = self.dropout(F.relu(self.fc5(x)))\n",
        "    \n",
        "    x =F.log_softmax(self.fc6(x), dim=1)\n",
        "\n",
        "    return x \n",
        "\n"
      ],
      "execution_count": 0,
      "outputs": []
    },
    {
      "cell_type": "code",
      "metadata": {
        "id": "U40FM-onJiXi",
        "colab_type": "code",
        "colab": {}
      },
      "source": [
        "model = LinearModel()\n",
        "model = model.to(device)\n",
        "\n",
        "criterion = torch.nn.NLLLoss()\n",
        "optimiser = optim.Adam(model.parameters(), lr=0.001)"
      ],
      "execution_count": 0,
      "outputs": []
    },
    {
      "cell_type": "code",
      "metadata": {
        "id": "VZF4hJ0eKLse",
        "colab_type": "code",
        "colab": {
          "base_uri": "https://localhost:8080/",
          "height": 1000
        },
        "outputId": "b6c8d72a-3e84-43f7-ea72-3b0ca3b57901"
      },
      "source": [
        "from tqdm import tqdm\n",
        "epochs = 100\n",
        "\n",
        "train_losses, test_losses = [], []\n",
        "train_accuracy, test_accuracy = [], []\n",
        "for e in tqdm(range(epochs)):\n",
        "    running_loss = 0\n",
        "    for images, labels in trainloader:\n",
        "        images, labels = images.to(device), labels.to(device)\n",
        "        optimiser.zero_grad()\n",
        "        \n",
        "        log_ps = model.forward(images)\n",
        "        loss = criterion(log_ps, labels)\n",
        "        loss.backward()\n",
        "        optimiser.step()\n",
        "        \n",
        "        running_loss += loss.item()\n",
        "        \n",
        "    else:\n",
        "        test_loss = 0\n",
        "        accuracy = 0\n",
        "        \n",
        "        # Turn off gradients for validation, saves memory and computations\n",
        "        with torch.no_grad():\n",
        "            model.eval()\n",
        "            for images, labels in testloader:\n",
        "                images, labels = images.to(device), labels.to(device)\n",
        "\n",
        "                log_ps = model.forward(images)\n",
        "                test_loss += criterion(log_ps, labels)\n",
        "                \n",
        "                ps = torch.exp(log_ps)\n",
        "                top_p, top_class = ps.topk(1, dim=1)\n",
        "                equals = top_class == labels.view(*top_class.shape)\n",
        "                accuracy += torch.mean(equals.type(torch.FloatTensor))\n",
        "        \n",
        "        model.train()\n",
        "        \n",
        "        train_losses.append(running_loss/len(trainloader))\n",
        "        test_losses.append(test_loss/len(testloader))\n",
        "\n",
        "        train_accuracy.append(1 - train_losses[-1])\n",
        "        test_accuracy.append(accuracy/len(testloader))\n",
        "\n",
        "        print(\"Epoch: {}/{}.. \".format(e+1, epochs),\n",
        "              \"Training Loss: {:.3f}.. \".format(train_losses[-1]),\n",
        "              \"Test Loss: {:.3f}.. \".format(test_losses[-1]),\n",
        "              \"Train Accuracy: {:.3f}\".format(train_accuracy[-1]),\n",
        "              \"Test Accuracy: {:.3f}\".format(test_accuracy[-1]))"
      ],
      "execution_count": 7,
      "outputs": [
        {
          "output_type": "stream",
          "text": [
            "  1%|          | 1/100 [00:17<28:44, 17.42s/it]"
          ],
          "name": "stderr"
        },
        {
          "output_type": "stream",
          "text": [
            "Epoch: 1/100..  Training Loss: 1.001..  Test Loss: 0.721..  Train Accuracy: -0.001 Test Accuracy: 0.700\n"
          ],
          "name": "stdout"
        },
        {
          "output_type": "stream",
          "text": [
            "\r  2%|▏         | 2/100 [00:34<28:12, 17.27s/it]"
          ],
          "name": "stderr"
        },
        {
          "output_type": "stream",
          "text": [
            "Epoch: 2/100..  Training Loss: 0.843..  Test Loss: 0.673..  Train Accuracy: 0.157 Test Accuracy: 0.741\n"
          ],
          "name": "stdout"
        },
        {
          "output_type": "stream",
          "text": [
            "\r  3%|▎         | 3/100 [00:51<27:41, 17.13s/it]"
          ],
          "name": "stderr"
        },
        {
          "output_type": "stream",
          "text": [
            "Epoch: 3/100..  Training Loss: 0.792..  Test Loss: 0.633..  Train Accuracy: 0.208 Test Accuracy: 0.739\n"
          ],
          "name": "stdout"
        },
        {
          "output_type": "stream",
          "text": [
            "\r  4%|▍         | 4/100 [01:08<27:20, 17.09s/it]"
          ],
          "name": "stderr"
        },
        {
          "output_type": "stream",
          "text": [
            "Epoch: 4/100..  Training Loss: 0.759..  Test Loss: 0.621..  Train Accuracy: 0.241 Test Accuracy: 0.769\n"
          ],
          "name": "stdout"
        },
        {
          "output_type": "stream",
          "text": [
            "\r  5%|▌         | 5/100 [01:24<26:54, 16.99s/it]"
          ],
          "name": "stderr"
        },
        {
          "output_type": "stream",
          "text": [
            "Epoch: 5/100..  Training Loss: 0.733..  Test Loss: 0.602..  Train Accuracy: 0.267 Test Accuracy: 0.768\n"
          ],
          "name": "stdout"
        },
        {
          "output_type": "stream",
          "text": [
            "\r  6%|▌         | 6/100 [01:41<26:34, 16.96s/it]"
          ],
          "name": "stderr"
        },
        {
          "output_type": "stream",
          "text": [
            "Epoch: 6/100..  Training Loss: 0.715..  Test Loss: 0.576..  Train Accuracy: 0.285 Test Accuracy: 0.784\n"
          ],
          "name": "stdout"
        },
        {
          "output_type": "stream",
          "text": [
            "\r  7%|▋         | 7/100 [01:58<26:17, 16.96s/it]"
          ],
          "name": "stderr"
        },
        {
          "output_type": "stream",
          "text": [
            "Epoch: 7/100..  Training Loss: 0.709..  Test Loss: 0.568..  Train Accuracy: 0.291 Test Accuracy: 0.786\n"
          ],
          "name": "stdout"
        },
        {
          "output_type": "stream",
          "text": [
            "\r  8%|▊         | 8/100 [02:15<26:03, 16.99s/it]"
          ],
          "name": "stderr"
        },
        {
          "output_type": "stream",
          "text": [
            "Epoch: 8/100..  Training Loss: 0.687..  Test Loss: 0.562..  Train Accuracy: 0.313 Test Accuracy: 0.790\n"
          ],
          "name": "stdout"
        },
        {
          "output_type": "stream",
          "text": [
            "\r  9%|▉         | 9/100 [02:32<25:48, 17.02s/it]"
          ],
          "name": "stderr"
        },
        {
          "output_type": "stream",
          "text": [
            "Epoch: 9/100..  Training Loss: 0.675..  Test Loss: 0.546..  Train Accuracy: 0.325 Test Accuracy: 0.790\n"
          ],
          "name": "stdout"
        },
        {
          "output_type": "stream",
          "text": [
            "\r 10%|█         | 10/100 [02:49<25:31, 17.01s/it]"
          ],
          "name": "stderr"
        },
        {
          "output_type": "stream",
          "text": [
            "Epoch: 10/100..  Training Loss: 0.666..  Test Loss: 0.525..  Train Accuracy: 0.334 Test Accuracy: 0.805\n"
          ],
          "name": "stdout"
        },
        {
          "output_type": "stream",
          "text": [
            "\r 11%|█         | 11/100 [03:06<25:15, 17.03s/it]"
          ],
          "name": "stderr"
        },
        {
          "output_type": "stream",
          "text": [
            "Epoch: 11/100..  Training Loss: 0.652..  Test Loss: 0.518..  Train Accuracy: 0.348 Test Accuracy: 0.813\n"
          ],
          "name": "stdout"
        },
        {
          "output_type": "stream",
          "text": [
            "\r 12%|█▏        | 12/100 [03:23<24:58, 17.02s/it]"
          ],
          "name": "stderr"
        },
        {
          "output_type": "stream",
          "text": [
            "Epoch: 12/100..  Training Loss: 0.657..  Test Loss: 0.507..  Train Accuracy: 0.343 Test Accuracy: 0.820\n"
          ],
          "name": "stdout"
        },
        {
          "output_type": "stream",
          "text": [
            "\r 13%|█▎        | 13/100 [03:41<24:42, 17.04s/it]"
          ],
          "name": "stderr"
        },
        {
          "output_type": "stream",
          "text": [
            "Epoch: 13/100..  Training Loss: 0.634..  Test Loss: 0.493..  Train Accuracy: 0.366 Test Accuracy: 0.828\n"
          ],
          "name": "stdout"
        },
        {
          "output_type": "stream",
          "text": [
            "\r 14%|█▍        | 14/100 [03:58<24:32, 17.13s/it]"
          ],
          "name": "stderr"
        },
        {
          "output_type": "stream",
          "text": [
            "Epoch: 14/100..  Training Loss: 0.623..  Test Loss: 0.478..  Train Accuracy: 0.377 Test Accuracy: 0.838\n"
          ],
          "name": "stdout"
        },
        {
          "output_type": "stream",
          "text": [
            "\r 15%|█▌        | 15/100 [04:15<24:11, 17.08s/it]"
          ],
          "name": "stderr"
        },
        {
          "output_type": "stream",
          "text": [
            "Epoch: 15/100..  Training Loss: 0.622..  Test Loss: 0.484..  Train Accuracy: 0.378 Test Accuracy: 0.840\n"
          ],
          "name": "stdout"
        },
        {
          "output_type": "stream",
          "text": [
            "\r 16%|█▌        | 16/100 [04:32<23:51, 17.04s/it]"
          ],
          "name": "stderr"
        },
        {
          "output_type": "stream",
          "text": [
            "Epoch: 16/100..  Training Loss: 0.611..  Test Loss: 0.493..  Train Accuracy: 0.389 Test Accuracy: 0.829\n"
          ],
          "name": "stdout"
        },
        {
          "output_type": "stream",
          "text": [
            "\r 17%|█▋        | 17/100 [04:49<23:33, 17.03s/it]"
          ],
          "name": "stderr"
        },
        {
          "output_type": "stream",
          "text": [
            "Epoch: 17/100..  Training Loss: 0.619..  Test Loss: 0.470..  Train Accuracy: 0.381 Test Accuracy: 0.830\n"
          ],
          "name": "stdout"
        },
        {
          "output_type": "stream",
          "text": [
            "\r 18%|█▊        | 18/100 [05:06<23:16, 17.04s/it]"
          ],
          "name": "stderr"
        },
        {
          "output_type": "stream",
          "text": [
            "Epoch: 18/100..  Training Loss: 0.615..  Test Loss: 0.474..  Train Accuracy: 0.385 Test Accuracy: 0.835\n"
          ],
          "name": "stdout"
        },
        {
          "output_type": "stream",
          "text": [
            "\r 19%|█▉        | 19/100 [05:23<22:58, 17.02s/it]"
          ],
          "name": "stderr"
        },
        {
          "output_type": "stream",
          "text": [
            "Epoch: 19/100..  Training Loss: 0.605..  Test Loss: 0.464..  Train Accuracy: 0.395 Test Accuracy: 0.836\n"
          ],
          "name": "stdout"
        },
        {
          "output_type": "stream",
          "text": [
            "\r 20%|██        | 20/100 [05:40<22:40, 17.00s/it]"
          ],
          "name": "stderr"
        },
        {
          "output_type": "stream",
          "text": [
            "Epoch: 20/100..  Training Loss: 0.593..  Test Loss: 0.471..  Train Accuracy: 0.407 Test Accuracy: 0.841\n"
          ],
          "name": "stdout"
        },
        {
          "output_type": "stream",
          "text": [
            "\r 21%|██        | 21/100 [05:57<22:23, 17.00s/it]"
          ],
          "name": "stderr"
        },
        {
          "output_type": "stream",
          "text": [
            "Epoch: 21/100..  Training Loss: 0.593..  Test Loss: 0.488..  Train Accuracy: 0.407 Test Accuracy: 0.834\n"
          ],
          "name": "stdout"
        },
        {
          "output_type": "stream",
          "text": [
            "\r 22%|██▏       | 22/100 [06:14<22:04, 16.98s/it]"
          ],
          "name": "stderr"
        },
        {
          "output_type": "stream",
          "text": [
            "Epoch: 22/100..  Training Loss: 0.584..  Test Loss: 0.471..  Train Accuracy: 0.416 Test Accuracy: 0.842\n"
          ],
          "name": "stdout"
        },
        {
          "output_type": "stream",
          "text": [
            "\r 23%|██▎       | 23/100 [06:31<21:48, 16.99s/it]"
          ],
          "name": "stderr"
        },
        {
          "output_type": "stream",
          "text": [
            "Epoch: 23/100..  Training Loss: 0.595..  Test Loss: 0.456..  Train Accuracy: 0.405 Test Accuracy: 0.839\n"
          ],
          "name": "stdout"
        },
        {
          "output_type": "stream",
          "text": [
            "\r 24%|██▍       | 24/100 [06:48<21:29, 16.97s/it]"
          ],
          "name": "stderr"
        },
        {
          "output_type": "stream",
          "text": [
            "Epoch: 24/100..  Training Loss: 0.583..  Test Loss: 0.464..  Train Accuracy: 0.417 Test Accuracy: 0.837\n"
          ],
          "name": "stdout"
        },
        {
          "output_type": "stream",
          "text": [
            "\r 25%|██▌       | 25/100 [07:05<21:15, 17.00s/it]"
          ],
          "name": "stderr"
        },
        {
          "output_type": "stream",
          "text": [
            "Epoch: 25/100..  Training Loss: 0.572..  Test Loss: 0.499..  Train Accuracy: 0.428 Test Accuracy: 0.831\n"
          ],
          "name": "stdout"
        },
        {
          "output_type": "stream",
          "text": [
            "\r 26%|██▌       | 26/100 [07:22<21:00, 17.03s/it]"
          ],
          "name": "stderr"
        },
        {
          "output_type": "stream",
          "text": [
            "Epoch: 26/100..  Training Loss: 0.570..  Test Loss: 0.453..  Train Accuracy: 0.430 Test Accuracy: 0.844\n"
          ],
          "name": "stdout"
        },
        {
          "output_type": "stream",
          "text": [
            "\r 27%|██▋       | 27/100 [07:39<20:43, 17.03s/it]"
          ],
          "name": "stderr"
        },
        {
          "output_type": "stream",
          "text": [
            "Epoch: 27/100..  Training Loss: 0.567..  Test Loss: 0.467..  Train Accuracy: 0.433 Test Accuracy: 0.842\n"
          ],
          "name": "stdout"
        },
        {
          "output_type": "stream",
          "text": [
            "\r 28%|██▊       | 28/100 [07:56<20:27, 17.05s/it]"
          ],
          "name": "stderr"
        },
        {
          "output_type": "stream",
          "text": [
            "Epoch: 28/100..  Training Loss: 0.575..  Test Loss: 0.463..  Train Accuracy: 0.425 Test Accuracy: 0.846\n"
          ],
          "name": "stdout"
        },
        {
          "output_type": "stream",
          "text": [
            "\r 29%|██▉       | 29/100 [08:13<20:10, 17.05s/it]"
          ],
          "name": "stderr"
        },
        {
          "output_type": "stream",
          "text": [
            "Epoch: 29/100..  Training Loss: 0.574..  Test Loss: 0.469..  Train Accuracy: 0.426 Test Accuracy: 0.838\n"
          ],
          "name": "stdout"
        },
        {
          "output_type": "stream",
          "text": [
            "\r 30%|███       | 30/100 [08:30<19:50, 17.01s/it]"
          ],
          "name": "stderr"
        },
        {
          "output_type": "stream",
          "text": [
            "Epoch: 30/100..  Training Loss: 0.570..  Test Loss: 0.459..  Train Accuracy: 0.430 Test Accuracy: 0.839\n"
          ],
          "name": "stdout"
        },
        {
          "output_type": "stream",
          "text": [
            "\r 31%|███       | 31/100 [08:47<19:33, 17.00s/it]"
          ],
          "name": "stderr"
        },
        {
          "output_type": "stream",
          "text": [
            "Epoch: 31/100..  Training Loss: 0.560..  Test Loss: 0.453..  Train Accuracy: 0.440 Test Accuracy: 0.847\n"
          ],
          "name": "stdout"
        },
        {
          "output_type": "stream",
          "text": [
            "\r 32%|███▏      | 32/100 [09:04<19:16, 17.01s/it]"
          ],
          "name": "stderr"
        },
        {
          "output_type": "stream",
          "text": [
            "Epoch: 32/100..  Training Loss: 0.561..  Test Loss: 0.436..  Train Accuracy: 0.439 Test Accuracy: 0.852\n"
          ],
          "name": "stdout"
        },
        {
          "output_type": "stream",
          "text": [
            "\r 33%|███▎      | 33/100 [09:21<18:57, 16.98s/it]"
          ],
          "name": "stderr"
        },
        {
          "output_type": "stream",
          "text": [
            "Epoch: 33/100..  Training Loss: 0.558..  Test Loss: 0.462..  Train Accuracy: 0.442 Test Accuracy: 0.841\n"
          ],
          "name": "stdout"
        },
        {
          "output_type": "stream",
          "text": [
            "\r 34%|███▍      | 34/100 [09:38<18:40, 16.98s/it]"
          ],
          "name": "stderr"
        },
        {
          "output_type": "stream",
          "text": [
            "Epoch: 34/100..  Training Loss: 0.555..  Test Loss: 0.452..  Train Accuracy: 0.445 Test Accuracy: 0.849\n"
          ],
          "name": "stdout"
        },
        {
          "output_type": "stream",
          "text": [
            "\r 35%|███▌      | 35/100 [09:55<18:20, 16.93s/it]"
          ],
          "name": "stderr"
        },
        {
          "output_type": "stream",
          "text": [
            "Epoch: 35/100..  Training Loss: 0.558..  Test Loss: 0.450..  Train Accuracy: 0.442 Test Accuracy: 0.851\n"
          ],
          "name": "stdout"
        },
        {
          "output_type": "stream",
          "text": [
            "\r 36%|███▌      | 36/100 [10:12<18:03, 16.93s/it]"
          ],
          "name": "stderr"
        },
        {
          "output_type": "stream",
          "text": [
            "Epoch: 36/100..  Training Loss: 0.556..  Test Loss: 0.442..  Train Accuracy: 0.444 Test Accuracy: 0.851\n"
          ],
          "name": "stdout"
        },
        {
          "output_type": "stream",
          "text": [
            "\r 37%|███▋      | 37/100 [10:28<17:43, 16.88s/it]"
          ],
          "name": "stderr"
        },
        {
          "output_type": "stream",
          "text": [
            "Epoch: 37/100..  Training Loss: 0.560..  Test Loss: 0.457..  Train Accuracy: 0.440 Test Accuracy: 0.845\n"
          ],
          "name": "stdout"
        },
        {
          "output_type": "stream",
          "text": [
            "\r 38%|███▊      | 38/100 [10:45<17:25, 16.86s/it]"
          ],
          "name": "stderr"
        },
        {
          "output_type": "stream",
          "text": [
            "Epoch: 38/100..  Training Loss: 0.549..  Test Loss: 0.448..  Train Accuracy: 0.451 Test Accuracy: 0.848\n"
          ],
          "name": "stdout"
        },
        {
          "output_type": "stream",
          "text": [
            "\r 39%|███▉      | 39/100 [11:02<17:09, 16.87s/it]"
          ],
          "name": "stderr"
        },
        {
          "output_type": "stream",
          "text": [
            "Epoch: 39/100..  Training Loss: 0.549..  Test Loss: 0.428..  Train Accuracy: 0.451 Test Accuracy: 0.857\n"
          ],
          "name": "stdout"
        },
        {
          "output_type": "stream",
          "text": [
            "\r 40%|████      | 40/100 [11:19<16:49, 16.83s/it]"
          ],
          "name": "stderr"
        },
        {
          "output_type": "stream",
          "text": [
            "Epoch: 40/100..  Training Loss: 0.550..  Test Loss: 0.472..  Train Accuracy: 0.450 Test Accuracy: 0.831\n"
          ],
          "name": "stdout"
        },
        {
          "output_type": "stream",
          "text": [
            "\r 41%|████      | 41/100 [11:36<16:30, 16.79s/it]"
          ],
          "name": "stderr"
        },
        {
          "output_type": "stream",
          "text": [
            "Epoch: 41/100..  Training Loss: 0.549..  Test Loss: 0.440..  Train Accuracy: 0.451 Test Accuracy: 0.849\n"
          ],
          "name": "stdout"
        },
        {
          "output_type": "stream",
          "text": [
            "\r 42%|████▏     | 42/100 [11:52<16:13, 16.79s/it]"
          ],
          "name": "stderr"
        },
        {
          "output_type": "stream",
          "text": [
            "Epoch: 42/100..  Training Loss: 0.548..  Test Loss: 0.437..  Train Accuracy: 0.452 Test Accuracy: 0.852\n"
          ],
          "name": "stdout"
        },
        {
          "output_type": "stream",
          "text": [
            "\r 43%|████▎     | 43/100 [12:09<15:56, 16.77s/it]"
          ],
          "name": "stderr"
        },
        {
          "output_type": "stream",
          "text": [
            "Epoch: 43/100..  Training Loss: 0.541..  Test Loss: 0.426..  Train Accuracy: 0.459 Test Accuracy: 0.856\n"
          ],
          "name": "stdout"
        },
        {
          "output_type": "stream",
          "text": [
            "\r 44%|████▍     | 44/100 [12:26<15:39, 16.77s/it]"
          ],
          "name": "stderr"
        },
        {
          "output_type": "stream",
          "text": [
            "Epoch: 44/100..  Training Loss: 0.540..  Test Loss: 0.426..  Train Accuracy: 0.460 Test Accuracy: 0.855\n"
          ],
          "name": "stdout"
        },
        {
          "output_type": "stream",
          "text": [
            "\r 45%|████▌     | 45/100 [12:42<15:20, 16.74s/it]"
          ],
          "name": "stderr"
        },
        {
          "output_type": "stream",
          "text": [
            "Epoch: 45/100..  Training Loss: 0.547..  Test Loss: 0.427..  Train Accuracy: 0.453 Test Accuracy: 0.855\n"
          ],
          "name": "stdout"
        },
        {
          "output_type": "stream",
          "text": [
            "\r 46%|████▌     | 46/100 [12:59<15:07, 16.80s/it]"
          ],
          "name": "stderr"
        },
        {
          "output_type": "stream",
          "text": [
            "Epoch: 46/100..  Training Loss: 0.540..  Test Loss: 0.432..  Train Accuracy: 0.460 Test Accuracy: 0.856\n"
          ],
          "name": "stdout"
        },
        {
          "output_type": "stream",
          "text": [
            "\r 47%|████▋     | 47/100 [13:16<14:50, 16.81s/it]"
          ],
          "name": "stderr"
        },
        {
          "output_type": "stream",
          "text": [
            "Epoch: 47/100..  Training Loss: 0.549..  Test Loss: 0.440..  Train Accuracy: 0.451 Test Accuracy: 0.856\n"
          ],
          "name": "stdout"
        },
        {
          "output_type": "stream",
          "text": [
            "\r 48%|████▊     | 48/100 [13:33<14:34, 16.81s/it]"
          ],
          "name": "stderr"
        },
        {
          "output_type": "stream",
          "text": [
            "Epoch: 48/100..  Training Loss: 0.532..  Test Loss: 0.429..  Train Accuracy: 0.468 Test Accuracy: 0.854\n"
          ],
          "name": "stdout"
        },
        {
          "output_type": "stream",
          "text": [
            "\r 49%|████▉     | 49/100 [13:50<14:19, 16.86s/it]"
          ],
          "name": "stderr"
        },
        {
          "output_type": "stream",
          "text": [
            "Epoch: 49/100..  Training Loss: 0.535..  Test Loss: 0.446..  Train Accuracy: 0.465 Test Accuracy: 0.853\n"
          ],
          "name": "stdout"
        },
        {
          "output_type": "stream",
          "text": [
            "\r 50%|█████     | 50/100 [14:07<14:03, 16.87s/it]"
          ],
          "name": "stderr"
        },
        {
          "output_type": "stream",
          "text": [
            "Epoch: 50/100..  Training Loss: 0.537..  Test Loss: 0.431..  Train Accuracy: 0.463 Test Accuracy: 0.856\n"
          ],
          "name": "stdout"
        },
        {
          "output_type": "stream",
          "text": [
            "\r 51%|█████     | 51/100 [14:24<13:48, 16.91s/it]"
          ],
          "name": "stderr"
        },
        {
          "output_type": "stream",
          "text": [
            "Epoch: 51/100..  Training Loss: 0.537..  Test Loss: 0.433..  Train Accuracy: 0.463 Test Accuracy: 0.853\n"
          ],
          "name": "stdout"
        },
        {
          "output_type": "stream",
          "text": [
            "\r 52%|█████▏    | 52/100 [14:41<13:32, 16.92s/it]"
          ],
          "name": "stderr"
        },
        {
          "output_type": "stream",
          "text": [
            "Epoch: 52/100..  Training Loss: 0.538..  Test Loss: 0.425..  Train Accuracy: 0.462 Test Accuracy: 0.852\n"
          ],
          "name": "stdout"
        },
        {
          "output_type": "stream",
          "text": [
            "\r 53%|█████▎    | 53/100 [14:58<13:14, 16.91s/it]"
          ],
          "name": "stderr"
        },
        {
          "output_type": "stream",
          "text": [
            "Epoch: 53/100..  Training Loss: 0.540..  Test Loss: 0.429..  Train Accuracy: 0.460 Test Accuracy: 0.851\n"
          ],
          "name": "stdout"
        },
        {
          "output_type": "stream",
          "text": [
            "\r 54%|█████▍    | 54/100 [15:15<12:58, 16.92s/it]"
          ],
          "name": "stderr"
        },
        {
          "output_type": "stream",
          "text": [
            "Epoch: 54/100..  Training Loss: 0.533..  Test Loss: 0.424..  Train Accuracy: 0.467 Test Accuracy: 0.854\n"
          ],
          "name": "stdout"
        },
        {
          "output_type": "stream",
          "text": [
            "\r 55%|█████▌    | 55/100 [15:32<12:41, 16.93s/it]"
          ],
          "name": "stderr"
        },
        {
          "output_type": "stream",
          "text": [
            "Epoch: 55/100..  Training Loss: 0.543..  Test Loss: 0.426..  Train Accuracy: 0.457 Test Accuracy: 0.857\n"
          ],
          "name": "stdout"
        },
        {
          "output_type": "stream",
          "text": [
            "\r 56%|█████▌    | 56/100 [15:48<12:23, 16.91s/it]"
          ],
          "name": "stderr"
        },
        {
          "output_type": "stream",
          "text": [
            "Epoch: 56/100..  Training Loss: 0.531..  Test Loss: 0.423..  Train Accuracy: 0.469 Test Accuracy: 0.860\n"
          ],
          "name": "stdout"
        },
        {
          "output_type": "stream",
          "text": [
            "\r 57%|█████▋    | 57/100 [16:05<12:07, 16.92s/it]"
          ],
          "name": "stderr"
        },
        {
          "output_type": "stream",
          "text": [
            "Epoch: 57/100..  Training Loss: 0.526..  Test Loss: 0.433..  Train Accuracy: 0.474 Test Accuracy: 0.853\n"
          ],
          "name": "stdout"
        },
        {
          "output_type": "stream",
          "text": [
            "\r 58%|█████▊    | 58/100 [16:22<11:51, 16.93s/it]"
          ],
          "name": "stderr"
        },
        {
          "output_type": "stream",
          "text": [
            "Epoch: 58/100..  Training Loss: 0.527..  Test Loss: 0.434..  Train Accuracy: 0.473 Test Accuracy: 0.854\n"
          ],
          "name": "stdout"
        },
        {
          "output_type": "stream",
          "text": [
            "\r 59%|█████▉    | 59/100 [16:39<11:34, 16.94s/it]"
          ],
          "name": "stderr"
        },
        {
          "output_type": "stream",
          "text": [
            "Epoch: 59/100..  Training Loss: 0.522..  Test Loss: 0.424..  Train Accuracy: 0.478 Test Accuracy: 0.855\n"
          ],
          "name": "stdout"
        },
        {
          "output_type": "stream",
          "text": [
            "\r 60%|██████    | 60/100 [16:56<11:17, 16.94s/it]"
          ],
          "name": "stderr"
        },
        {
          "output_type": "stream",
          "text": [
            "Epoch: 60/100..  Training Loss: 0.531..  Test Loss: 0.463..  Train Accuracy: 0.469 Test Accuracy: 0.856\n"
          ],
          "name": "stdout"
        },
        {
          "output_type": "stream",
          "text": [
            "\r 61%|██████    | 61/100 [17:13<11:02, 16.98s/it]"
          ],
          "name": "stderr"
        },
        {
          "output_type": "stream",
          "text": [
            "Epoch: 61/100..  Training Loss: 0.536..  Test Loss: 0.426..  Train Accuracy: 0.464 Test Accuracy: 0.853\n"
          ],
          "name": "stdout"
        },
        {
          "output_type": "stream",
          "text": [
            "\r 62%|██████▏   | 62/100 [17:30<10:45, 16.98s/it]"
          ],
          "name": "stderr"
        },
        {
          "output_type": "stream",
          "text": [
            "Epoch: 62/100..  Training Loss: 0.524..  Test Loss: 0.429..  Train Accuracy: 0.476 Test Accuracy: 0.855\n"
          ],
          "name": "stdout"
        },
        {
          "output_type": "stream",
          "text": [
            "\r 63%|██████▎   | 63/100 [17:47<10:28, 16.98s/it]"
          ],
          "name": "stderr"
        },
        {
          "output_type": "stream",
          "text": [
            "Epoch: 63/100..  Training Loss: 0.523..  Test Loss: 0.423..  Train Accuracy: 0.477 Test Accuracy: 0.859\n"
          ],
          "name": "stdout"
        },
        {
          "output_type": "stream",
          "text": [
            "\r 64%|██████▍   | 64/100 [18:04<10:11, 17.00s/it]"
          ],
          "name": "stderr"
        },
        {
          "output_type": "stream",
          "text": [
            "Epoch: 64/100..  Training Loss: 0.525..  Test Loss: 0.443..  Train Accuracy: 0.475 Test Accuracy: 0.850\n"
          ],
          "name": "stdout"
        },
        {
          "output_type": "stream",
          "text": [
            "\r 65%|██████▌   | 65/100 [18:21<09:54, 16.98s/it]"
          ],
          "name": "stderr"
        },
        {
          "output_type": "stream",
          "text": [
            "Epoch: 65/100..  Training Loss: 0.520..  Test Loss: 0.423..  Train Accuracy: 0.480 Test Accuracy: 0.858\n"
          ],
          "name": "stdout"
        },
        {
          "output_type": "stream",
          "text": [
            "\r 66%|██████▌   | 66/100 [18:38<09:38, 17.01s/it]"
          ],
          "name": "stderr"
        },
        {
          "output_type": "stream",
          "text": [
            "Epoch: 66/100..  Training Loss: 0.532..  Test Loss: 0.437..  Train Accuracy: 0.468 Test Accuracy: 0.856\n"
          ],
          "name": "stdout"
        },
        {
          "output_type": "stream",
          "text": [
            "\r 67%|██████▋   | 67/100 [18:55<09:21, 17.01s/it]"
          ],
          "name": "stderr"
        },
        {
          "output_type": "stream",
          "text": [
            "Epoch: 67/100..  Training Loss: 0.525..  Test Loss: 0.438..  Train Accuracy: 0.475 Test Accuracy: 0.854\n"
          ],
          "name": "stdout"
        },
        {
          "output_type": "stream",
          "text": [
            "\r 68%|██████▊   | 68/100 [19:13<09:05, 17.05s/it]"
          ],
          "name": "stderr"
        },
        {
          "output_type": "stream",
          "text": [
            "Epoch: 68/100..  Training Loss: 0.531..  Test Loss: 0.432..  Train Accuracy: 0.469 Test Accuracy: 0.852\n"
          ],
          "name": "stdout"
        },
        {
          "output_type": "stream",
          "text": [
            "\r 69%|██████▉   | 69/100 [19:29<08:47, 17.02s/it]"
          ],
          "name": "stderr"
        },
        {
          "output_type": "stream",
          "text": [
            "Epoch: 69/100..  Training Loss: 0.513..  Test Loss: 0.433..  Train Accuracy: 0.487 Test Accuracy: 0.856\n"
          ],
          "name": "stdout"
        },
        {
          "output_type": "stream",
          "text": [
            "\r 70%|███████   | 70/100 [19:46<08:29, 17.00s/it]"
          ],
          "name": "stderr"
        },
        {
          "output_type": "stream",
          "text": [
            "Epoch: 70/100..  Training Loss: 0.526..  Test Loss: 0.443..  Train Accuracy: 0.474 Test Accuracy: 0.846\n"
          ],
          "name": "stdout"
        },
        {
          "output_type": "stream",
          "text": [
            "\r 71%|███████   | 71/100 [20:03<08:12, 16.99s/it]"
          ],
          "name": "stderr"
        },
        {
          "output_type": "stream",
          "text": [
            "Epoch: 71/100..  Training Loss: 0.516..  Test Loss: 0.421..  Train Accuracy: 0.484 Test Accuracy: 0.856\n"
          ],
          "name": "stdout"
        },
        {
          "output_type": "stream",
          "text": [
            "\r 72%|███████▏  | 72/100 [20:20<07:55, 16.96s/it]"
          ],
          "name": "stderr"
        },
        {
          "output_type": "stream",
          "text": [
            "Epoch: 72/100..  Training Loss: 0.525..  Test Loss: 0.441..  Train Accuracy: 0.475 Test Accuracy: 0.853\n"
          ],
          "name": "stdout"
        },
        {
          "output_type": "stream",
          "text": [
            "\r 73%|███████▎  | 73/100 [20:37<07:37, 16.94s/it]"
          ],
          "name": "stderr"
        },
        {
          "output_type": "stream",
          "text": [
            "Epoch: 73/100..  Training Loss: 0.515..  Test Loss: 0.420..  Train Accuracy: 0.485 Test Accuracy: 0.862\n"
          ],
          "name": "stdout"
        },
        {
          "output_type": "stream",
          "text": [
            "\r 74%|███████▍  | 74/100 [20:54<07:19, 16.91s/it]"
          ],
          "name": "stderr"
        },
        {
          "output_type": "stream",
          "text": [
            "Epoch: 74/100..  Training Loss: 0.526..  Test Loss: 0.437..  Train Accuracy: 0.474 Test Accuracy: 0.855\n"
          ],
          "name": "stdout"
        },
        {
          "output_type": "stream",
          "text": [
            "\r 75%|███████▌  | 75/100 [21:11<07:03, 16.95s/it]"
          ],
          "name": "stderr"
        },
        {
          "output_type": "stream",
          "text": [
            "Epoch: 75/100..  Training Loss: 0.506..  Test Loss: 0.429..  Train Accuracy: 0.494 Test Accuracy: 0.857\n"
          ],
          "name": "stdout"
        },
        {
          "output_type": "stream",
          "text": [
            "\r 76%|███████▌  | 76/100 [21:28<06:46, 16.92s/it]"
          ],
          "name": "stderr"
        },
        {
          "output_type": "stream",
          "text": [
            "Epoch: 76/100..  Training Loss: 0.524..  Test Loss: 0.437..  Train Accuracy: 0.476 Test Accuracy: 0.856\n"
          ],
          "name": "stdout"
        },
        {
          "output_type": "stream",
          "text": [
            "\r 77%|███████▋  | 77/100 [21:45<06:28, 16.89s/it]"
          ],
          "name": "stderr"
        },
        {
          "output_type": "stream",
          "text": [
            "Epoch: 77/100..  Training Loss: 0.521..  Test Loss: 0.421..  Train Accuracy: 0.479 Test Accuracy: 0.859\n"
          ],
          "name": "stdout"
        },
        {
          "output_type": "stream",
          "text": [
            "\r 78%|███████▊  | 78/100 [22:02<06:11, 16.87s/it]"
          ],
          "name": "stderr"
        },
        {
          "output_type": "stream",
          "text": [
            "Epoch: 78/100..  Training Loss: 0.518..  Test Loss: 0.425..  Train Accuracy: 0.482 Test Accuracy: 0.860\n"
          ],
          "name": "stdout"
        },
        {
          "output_type": "stream",
          "text": [
            "\r 79%|███████▉  | 79/100 [22:18<05:54, 16.88s/it]"
          ],
          "name": "stderr"
        },
        {
          "output_type": "stream",
          "text": [
            "Epoch: 79/100..  Training Loss: 0.512..  Test Loss: 0.418..  Train Accuracy: 0.488 Test Accuracy: 0.860\n"
          ],
          "name": "stdout"
        },
        {
          "output_type": "stream",
          "text": [
            "\r 80%|████████  | 80/100 [22:35<05:37, 16.90s/it]"
          ],
          "name": "stderr"
        },
        {
          "output_type": "stream",
          "text": [
            "Epoch: 80/100..  Training Loss: 0.515..  Test Loss: 0.428..  Train Accuracy: 0.485 Test Accuracy: 0.855\n"
          ],
          "name": "stdout"
        },
        {
          "output_type": "stream",
          "text": [
            "\r 81%|████████  | 81/100 [22:52<05:20, 16.89s/it]"
          ],
          "name": "stderr"
        },
        {
          "output_type": "stream",
          "text": [
            "Epoch: 81/100..  Training Loss: 0.518..  Test Loss: 0.426..  Train Accuracy: 0.482 Test Accuracy: 0.861\n"
          ],
          "name": "stdout"
        },
        {
          "output_type": "stream",
          "text": [
            "\r 82%|████████▏ | 82/100 [23:09<05:03, 16.88s/it]"
          ],
          "name": "stderr"
        },
        {
          "output_type": "stream",
          "text": [
            "Epoch: 82/100..  Training Loss: 0.504..  Test Loss: 0.418..  Train Accuracy: 0.496 Test Accuracy: 0.862\n"
          ],
          "name": "stdout"
        },
        {
          "output_type": "stream",
          "text": [
            "\r 83%|████████▎ | 83/100 [23:26<04:46, 16.87s/it]"
          ],
          "name": "stderr"
        },
        {
          "output_type": "stream",
          "text": [
            "Epoch: 83/100..  Training Loss: 0.522..  Test Loss: 0.438..  Train Accuracy: 0.478 Test Accuracy: 0.855\n"
          ],
          "name": "stdout"
        },
        {
          "output_type": "stream",
          "text": [
            "\r 84%|████████▍ | 84/100 [23:43<04:29, 16.86s/it]"
          ],
          "name": "stderr"
        },
        {
          "output_type": "stream",
          "text": [
            "Epoch: 84/100..  Training Loss: 0.525..  Test Loss: 0.498..  Train Accuracy: 0.475 Test Accuracy: 0.836\n"
          ],
          "name": "stdout"
        },
        {
          "output_type": "stream",
          "text": [
            "\r 85%|████████▌ | 85/100 [24:00<04:12, 16.84s/it]"
          ],
          "name": "stderr"
        },
        {
          "output_type": "stream",
          "text": [
            "Epoch: 85/100..  Training Loss: 0.521..  Test Loss: 0.425..  Train Accuracy: 0.479 Test Accuracy: 0.858\n"
          ],
          "name": "stdout"
        },
        {
          "output_type": "stream",
          "text": [
            "\r 86%|████████▌ | 86/100 [24:16<03:55, 16.86s/it]"
          ],
          "name": "stderr"
        },
        {
          "output_type": "stream",
          "text": [
            "Epoch: 86/100..  Training Loss: 0.512..  Test Loss: 0.418..  Train Accuracy: 0.488 Test Accuracy: 0.861\n"
          ],
          "name": "stdout"
        },
        {
          "output_type": "stream",
          "text": [
            "\r 87%|████████▋ | 87/100 [24:33<03:39, 16.85s/it]"
          ],
          "name": "stderr"
        },
        {
          "output_type": "stream",
          "text": [
            "Epoch: 87/100..  Training Loss: 0.506..  Test Loss: 0.432..  Train Accuracy: 0.494 Test Accuracy: 0.853\n"
          ],
          "name": "stdout"
        },
        {
          "output_type": "stream",
          "text": [
            "\r 88%|████████▊ | 88/100 [24:50<03:22, 16.83s/it]"
          ],
          "name": "stderr"
        },
        {
          "output_type": "stream",
          "text": [
            "Epoch: 88/100..  Training Loss: 0.506..  Test Loss: 0.432..  Train Accuracy: 0.494 Test Accuracy: 0.856\n"
          ],
          "name": "stdout"
        },
        {
          "output_type": "stream",
          "text": [
            "\r 89%|████████▉ | 89/100 [25:07<03:05, 16.84s/it]"
          ],
          "name": "stderr"
        },
        {
          "output_type": "stream",
          "text": [
            "Epoch: 89/100..  Training Loss: 0.508..  Test Loss: 0.431..  Train Accuracy: 0.492 Test Accuracy: 0.860\n"
          ],
          "name": "stdout"
        },
        {
          "output_type": "stream",
          "text": [
            "\r 90%|█████████ | 90/100 [25:24<02:48, 16.80s/it]"
          ],
          "name": "stderr"
        },
        {
          "output_type": "stream",
          "text": [
            "Epoch: 90/100..  Training Loss: 0.523..  Test Loss: 0.430..  Train Accuracy: 0.477 Test Accuracy: 0.858\n"
          ],
          "name": "stdout"
        },
        {
          "output_type": "stream",
          "text": [
            "\r 91%|█████████ | 91/100 [25:40<02:30, 16.76s/it]"
          ],
          "name": "stderr"
        },
        {
          "output_type": "stream",
          "text": [
            "Epoch: 91/100..  Training Loss: 0.509..  Test Loss: 0.430..  Train Accuracy: 0.491 Test Accuracy: 0.857\n"
          ],
          "name": "stdout"
        },
        {
          "output_type": "stream",
          "text": [
            "\r 92%|█████████▏| 92/100 [25:57<02:14, 16.78s/it]"
          ],
          "name": "stderr"
        },
        {
          "output_type": "stream",
          "text": [
            "Epoch: 92/100..  Training Loss: 0.515..  Test Loss: 0.435..  Train Accuracy: 0.485 Test Accuracy: 0.859\n"
          ],
          "name": "stdout"
        },
        {
          "output_type": "stream",
          "text": [
            "\r 93%|█████████▎| 93/100 [26:14<01:57, 16.80s/it]"
          ],
          "name": "stderr"
        },
        {
          "output_type": "stream",
          "text": [
            "Epoch: 93/100..  Training Loss: 0.499..  Test Loss: 0.436..  Train Accuracy: 0.501 Test Accuracy: 0.862\n"
          ],
          "name": "stdout"
        },
        {
          "output_type": "stream",
          "text": [
            "\r 94%|█████████▍| 94/100 [26:31<01:40, 16.79s/it]"
          ],
          "name": "stderr"
        },
        {
          "output_type": "stream",
          "text": [
            "Epoch: 94/100..  Training Loss: 0.527..  Test Loss: 0.437..  Train Accuracy: 0.473 Test Accuracy: 0.852\n"
          ],
          "name": "stdout"
        },
        {
          "output_type": "stream",
          "text": [
            "\r 95%|█████████▌| 95/100 [26:47<01:23, 16.76s/it]"
          ],
          "name": "stderr"
        },
        {
          "output_type": "stream",
          "text": [
            "Epoch: 95/100..  Training Loss: 0.521..  Test Loss: 0.422..  Train Accuracy: 0.479 Test Accuracy: 0.860\n"
          ],
          "name": "stdout"
        },
        {
          "output_type": "stream",
          "text": [
            "\r 96%|█████████▌| 96/100 [27:04<01:07, 16.76s/it]"
          ],
          "name": "stderr"
        },
        {
          "output_type": "stream",
          "text": [
            "Epoch: 96/100..  Training Loss: 0.516..  Test Loss: 0.421..  Train Accuracy: 0.484 Test Accuracy: 0.857\n"
          ],
          "name": "stdout"
        },
        {
          "output_type": "stream",
          "text": [
            "\r 97%|█████████▋| 97/100 [27:21<00:50, 16.76s/it]"
          ],
          "name": "stderr"
        },
        {
          "output_type": "stream",
          "text": [
            "Epoch: 97/100..  Training Loss: 0.503..  Test Loss: 0.428..  Train Accuracy: 0.497 Test Accuracy: 0.861\n"
          ],
          "name": "stdout"
        },
        {
          "output_type": "stream",
          "text": [
            "\r 98%|█████████▊| 98/100 [27:38<00:33, 16.79s/it]"
          ],
          "name": "stderr"
        },
        {
          "output_type": "stream",
          "text": [
            "Epoch: 98/100..  Training Loss: 0.502..  Test Loss: 0.438..  Train Accuracy: 0.498 Test Accuracy: 0.861\n"
          ],
          "name": "stdout"
        },
        {
          "output_type": "stream",
          "text": [
            "\r 99%|█████████▉| 99/100 [27:55<00:16, 16.80s/it]"
          ],
          "name": "stderr"
        },
        {
          "output_type": "stream",
          "text": [
            "Epoch: 99/100..  Training Loss: 0.509..  Test Loss: 0.422..  Train Accuracy: 0.491 Test Accuracy: 0.862\n"
          ],
          "name": "stdout"
        },
        {
          "output_type": "stream",
          "text": [
            "\r100%|██████████| 100/100 [28:11<00:00, 16.76s/it]"
          ],
          "name": "stderr"
        },
        {
          "output_type": "stream",
          "text": [
            "Epoch: 100/100..  Training Loss: 0.506..  Test Loss: 0.459..  Train Accuracy: 0.494 Test Accuracy: 0.852\n"
          ],
          "name": "stdout"
        },
        {
          "output_type": "stream",
          "text": [
            "\n"
          ],
          "name": "stderr"
        }
      ]
    },
    {
      "cell_type": "code",
      "metadata": {
        "id": "VFq6ivOBNMyk",
        "colab_type": "code",
        "colab": {}
      },
      "source": [
        "%matplotlib inline\n",
        "%config InlineBackend.figure_format = 'retina'\n",
        "\n",
        "import matplotlib.pyplot as plt"
      ],
      "execution_count": 0,
      "outputs": []
    },
    {
      "cell_type": "code",
      "metadata": {
        "id": "CJdfrGZROwUW",
        "colab_type": "code",
        "colab": {
          "base_uri": "https://localhost:8080/",
          "height": 608
        },
        "outputId": "eccc8f1a-e347-4807-f7da-d1d9be08901b"
      },
      "source": [
        "plt.figure(figsize=(10,10))\n",
        "plt.plot(train_losses, label='Training loss')\n",
        "plt.plot(test_losses, label='Validation loss')\n",
        "plt.legend(frameon=False)"
      ],
      "execution_count": 9,
      "outputs": [
        {
          "output_type": "execute_result",
          "data": {
            "text/plain": [
              "<matplotlib.legend.Legend at 0x7f7b32513a58>"
            ]
          },
          "metadata": {
            "tags": []
          },
          "execution_count": 9
        },
        {
          "output_type": "display_data",
          "data": {
            "image/png": "[encoded data removed]",
            "text/plain": [
              "<Figure size 720x720 with 1 Axes>"
            ]
          },
          "metadata": {
            "tags": [],
            "image/png": {
              "width": 595,
              "height": 574
            }
          }
        }
      ]
    },
    {
      "cell_type": "code",
      "metadata": {
        "id": "P3Yi8PN5Ox5-",
        "colab_type": "code",
        "colab": {
          "base_uri": "https://localhost:8080/",
          "height": 608
        },
        "outputId": "0228a102-be1d-428f-c8b1-5e460e390a2d"
      },
      "source": [
        "plt.figure(figsize=(10,10))\n",
        "plt.plot(train_accuracy, label='Training accuracy')\n",
        "plt.plot(test_accuracy, label='Validation accuracy')\n",
        "plt.legend(frameon=False)"
      ],
      "execution_count": 10,
      "outputs": [
        {
          "output_type": "execute_result",
          "data": {
            "text/plain": [
              "<matplotlib.legend.Legend at 0x7f7b3244d4e0>"
            ]
          },
          "metadata": {
            "tags": []
          },
          "execution_count": 10
        },
        {
          "output_type": "display_data",
          "data": {
            "image/png": "[encoded data removed]",
            "text/plain": [
              "<Figure size 720x720 with 1 Axes>"
            ]
          },
          "metadata": {
            "tags": [],
            "image/png": {
              "width": 595,
              "height": 574
            }
          }
        }
      ]
    },
    {
      "cell_type": "code",
      "metadata": {
        "id": "kMkV3MdFi5Tx",
        "colab_type": "code",
        "colab": {}
      },
      "source": [
        "def view_classify(img, ps, version=\"MNIST\"):\n",
        "    ''' Function for viewing an image and it's predicted classes.\n",
        "    '''\n",
        "    import numpy as np\n",
        "    ps = ps.data.numpy().squeeze()\n",
        "\n",
        "    fig, (ax1, ax2) = plt.subplots(figsize=(10,10), ncols=2)\n",
        "    ax1.imshow(img.resize_(1, 28, 28).numpy().squeeze())\n",
        "    ax1.axis('off')\n",
        "    ax2.barh(np.arange(10), ps)\n",
        "    ax2.set_aspect(0.1)\n",
        "    ax2.set_yticks(np.arange(10))\n",
        "    if version == \"MNIST\":\n",
        "        ax2.set_yticklabels(np.arange(10))\n",
        "    elif version == \"Fashion\":\n",
        "        ax2.set_yticklabels(['T-shirt/top',\n",
        "                            'Trouser',\n",
        "                            'Pullover',\n",
        "                            'Dress',\n",
        "                            'Coat',\n",
        "                            'Sandal',\n",
        "                            'Shirt',\n",
        "                            'Sneaker',\n",
        "                            'Bag',\n",
        "                            'Ankle Boot'], size='small');\n",
        "    ax2.set_title('Class Probability')\n",
        "    ax2.set_xlim(0, 1.1)\n",
        "\n",
        "    plt.tight_layout()"
      ],
      "execution_count": 0,
      "outputs": []
    },
    {
      "cell_type": "code",
      "metadata": {
        "id": "dBt7idCfptOB",
        "colab_type": "code",
        "colab": {
          "base_uri": "https://localhost:8080/",
          "height": 391
        },
        "outputId": "f023ede8-0fbb-437a-eb31-9ee753aa694d"
      },
      "source": [
        "dataiter = iter(testloader)\n",
        "images, labels = dataiter.next()\n",
        "img = images[1]\n",
        "\n",
        "model = model.cpu( )\n",
        "# TODO: Calculate the class probabilities (softmax) for img\n",
        "ps = torch.exp(model(img))\n",
        "\n",
        "# Plot the image and probabilities\n",
        "view_classify(img, ps, version='Fashion')\n",
        "cat = ['T-shirt/top','Trouser',\n",
        "                            'Pullover',\n",
        "                            'Dress',\n",
        "                            'Coat',\n",
        "                            'Sandal',\n",
        "                            'Shirt',\n",
        "                            'Sneaker',\n",
        "                            'Bag',\n",
        "                            'Ankle Boot']\n",
        "print(cat[labels[1]])"
      ],
      "execution_count": 29,
      "outputs": [
        {
          "output_type": "stream",
          "text": [
            "Shirt\n"
          ],
          "name": "stdout"
        },
        {
          "output_type": "display_data",
          "data": {
            "image/png": "[encoded data removed]",
            "text/plain": [
              "<Figure size 720x720 with 2 Axes>"
            ]
          },
          "metadata": {
            "tags": [],
            "image/png": {
              "width": 712,
              "height": 357
            }
          }
        }
      ]
    },
    {
      "cell_type": "code",
      "metadata": {
        "id": "9VW4iCiJp6_x",
        "colab_type": "code",
        "colab": {}
      },
      "source": [
        ""
      ],
      "execution_count": 0,
      "outputs": []
    }
  ]
}
