{
 "cells": [
  {
   "cell_type": "markdown",
   "metadata": {},
   "source": [
    "# Neural networks with PyTorch\n",
    "\n",
    "Deep learning networks tend to be massive with dozens or hundreds of layers, that's where the term \"deep\" comes from. You can build one of these deep networks using only weight matrices as we did in the previous notebook, but in general it's very cumbersome and difficult to implement. PyTorch has a nice module `nn` that provides a nice way to efficiently build large neural networks."
   ]
  },
  {
   "cell_type": "code",
   "execution_count": 1,
   "metadata": {},
   "outputs": [],
   "source": [
    "# Import necessary packages\n",
    "\n",
    "%matplotlib inline\n",
    "%config InlineBackend.figure_format = 'retina'\n",
    "\n",
    "import numpy as np\n",
    "import torch\n",
    "\n",
    "import helper\n",
    "\n",
    "import matplotlib.pyplot as plt"
   ]
  },
  {
   "cell_type": "markdown",
   "metadata": {},
   "source": [
    "\n",
    "Now we're going to build a larger network that can solve a (formerly) difficult problem, identifying text in an image. Here we'll use the MNIST dataset which consists of greyscale handwritten digits. Each image is 28x28 pixels, you can see a sample below\n",
    "\n",
    "<img src='assets/mnist.png'>\n",
    "\n",
    "Our goal is to build a neural network that can take one of these images and predict the digit in the image.\n",
    "\n",
    "First up, we need to get our dataset. This is provided through the `torchvision` package. The code below will download the MNIST dataset, then create training and test datasets for us. Don't worry too much about the details here, you'll learn more about this later."
   ]
  },
  {
   "cell_type": "code",
   "execution_count": 2,
   "metadata": {},
   "outputs": [
    {
     "name": "stderr",
     "output_type": "stream",
     "text": [
      "\r",
      "0it [00:00, ?it/s]"
     ]
    },
    {
     "name": "stdout",
     "output_type": "stream",
     "text": [
      "Downloading http://yann.lecun.com/exdb/mnist/train-images-idx3-ubyte.gz to /Users/nielspace/.pytorch/MNIST_data/MNIST/raw/train-images-idx3-ubyte.gz\n"
     ]
    },
    {
     "name": "stderr",
     "output_type": "stream",
     "text": [
      "9920512it [00:06, 1481248.01it/s]                             \n"
     ]
    },
    {
     "name": "stdout",
     "output_type": "stream",
     "text": [
      "Extracting /Users/nielspace/.pytorch/MNIST_data/MNIST/raw/train-images-idx3-ubyte.gz to /Users/nielspace/.pytorch/MNIST_data/MNIST/raw\n"
     ]
    },
    {
     "name": "stderr",
     "output_type": "stream",
     "text": [
      "\r",
      "0it [00:00, ?it/s]"
     ]
    },
    {
     "name": "stdout",
     "output_type": "stream",
     "text": [
      "Downloading http://yann.lecun.com/exdb/mnist/train-labels-idx1-ubyte.gz to /Users/nielspace/.pytorch/MNIST_data/MNIST/raw/train-labels-idx1-ubyte.gz\n"
     ]
    },
    {
     "name": "stderr",
     "output_type": "stream",
     "text": [
      "32768it [00:01, 31582.18it/s]                           \n",
      "0it [00:00, ?it/s]"
     ]
    },
    {
     "name": "stdout",
     "output_type": "stream",
     "text": [
      "Extracting /Users/nielspace/.pytorch/MNIST_data/MNIST/raw/train-labels-idx1-ubyte.gz to /Users/nielspace/.pytorch/MNIST_data/MNIST/raw\n",
      "Downloading http://yann.lecun.com/exdb/mnist/t10k-images-idx3-ubyte.gz to /Users/nielspace/.pytorch/MNIST_data/MNIST/raw/t10k-images-idx3-ubyte.gz\n"
     ]
    },
    {
     "name": "stderr",
     "output_type": "stream",
     "text": [
      "1654784it [00:06, 258881.61it/s]                             \n",
      "0it [00:00, ?it/s]"
     ]
    },
    {
     "name": "stdout",
     "output_type": "stream",
     "text": [
      "Extracting /Users/nielspace/.pytorch/MNIST_data/MNIST/raw/t10k-images-idx3-ubyte.gz to /Users/nielspace/.pytorch/MNIST_data/MNIST/raw\n",
      "Downloading http://yann.lecun.com/exdb/mnist/t10k-labels-idx1-ubyte.gz to /Users/nielspace/.pytorch/MNIST_data/MNIST/raw/t10k-labels-idx1-ubyte.gz\n"
     ]
    },
    {
     "name": "stderr",
     "output_type": "stream",
     "text": [
      "8192it [00:00, 14695.03it/s]            "
     ]
    },
    {
     "name": "stdout",
     "output_type": "stream",
     "text": [
      "Extracting /Users/nielspace/.pytorch/MNIST_data/MNIST/raw/t10k-labels-idx1-ubyte.gz to /Users/nielspace/.pytorch/MNIST_data/MNIST/raw\n",
      "Processing...\n",
      "Done!\n"
     ]
    },
    {
     "name": "stderr",
     "output_type": "stream",
     "text": [
      "\n"
     ]
    }
   ],
   "source": [
    "### Run this cell\n",
    "\n",
    "from torchvision import datasets, transforms\n",
    "\n",
    "# Define a transform to normalize the data\n",
    "transform = transforms.Compose([transforms.ToTensor(),\n",
    "                              transforms.Normalize((0.5,), (0.5,)),\n",
    "                              ])\n",
    "\n",
    "# Download and load the training data\n",
    "trainset = datasets.MNIST('~/.pytorch/MNIST_data/', download=True, train=True, transform=transform)\n",
    "trainloader = torch.utils.data.DataLoader(trainset, batch_size=64, shuffle=True)"
   ]
  },
  {
   "cell_type": "markdown",
   "metadata": {},
   "source": [
    "We have the training data loaded into `trainloader` and we make that an iterator with `iter(trainloader)`. Later, we'll use this to loop through the dataset for training, like\n",
    "\n",
    "```python\n",
    "for image, label in trainloader:\n",
    "    ## do things with images and labels\n",
    "```\n",
    "\n",
    "You'll notice I created the `trainloader` with a batch size of 64, and `shuffle=True`. The batch size is the number of images we get in one iteration from the data loader and pass through our network, often called a *batch*. And `shuffle=True` tells it to shuffle the dataset every time we start going through the data loader again. But here I'm just grabbing the first batch so we can check out the data. We can see below that `images` is just a tensor with size `(64, 1, 28, 28)`. So, 64 images per batch, 1 color channel, and 28x28 images."
   ]
  },
  {
   "cell_type": "code",
   "execution_count": 3,
   "metadata": {},
   "outputs": [
    {
     "name": "stdout",
     "output_type": "stream",
     "text": [
      "<class 'torch.Tensor'>\n",
      "torch.Size([64, 1, 28, 28])\n",
      "torch.Size([64])\n"
     ]
    }
   ],
   "source": [
    "dataiter = iter(trainloader)\n",
    "images, labels = dataiter.next()\n",
    "print(type(images))\n",
    "print(images.shape)\n",
    "print(labels.shape)"
   ]
  },
  {
   "cell_type": "markdown",
   "metadata": {},
   "source": [
    "This is what one of the images looks like. "
   ]
  },
  {
   "cell_type": "code",
   "execution_count": 4,
   "metadata": {},
   "outputs": [
    {
     "data": {
      "image/png": "[encoded data removed]",
      "text/plain": [
       "<Figure size 432x288 with 1 Axes>"
      ]
     },
     "metadata": {
      "image/png": {
       "height": 248,
       "width": 251
      },
      "needs_background": "light"
     },
     "output_type": "display_data"
    }
   ],
   "source": [
    "plt.imshow(images[1].numpy().squeeze(), cmap='Greys_r');"
   ]
  },
  {
   "cell_type": "markdown",
   "metadata": {},
   "source": [
    "First, let's try to build a simple network for this dataset using weight matrices and matrix multiplications. Then, we'll see how to do it using PyTorch's `nn` module which provides a much more convenient and powerful method for defining network architectures.\n",
    "\n",
    "The networks you've seen so far are called *fully-connected* or *dense* networks. Each unit in one layer is connected to each unit in the next layer. In fully-connected networks, the input to each layer must be a one-dimensional vector (which can be stacked into a 2D tensor as a batch of multiple examples). However, our images are 28x28 2D tensors, so we need to convert them into 1D vectors. Thinking about sizes, we need to convert the batch of images with shape `(64, 1, 28, 28)` to a have a shape of `(64, 784)`, 784 is 28 times 28. This is typically called *flattening*, we flattened the 2D images into 1D vectors.\n",
    "\n",
    "Previously you built a network with one output unit. Here we need 10 output units, one for each digit. We want our network to predict the digit shown in an image, so what we'll do is calculate probabilities that the image is of any one digit or class. This ends up being a discrete probability distribution over the classes (digits) that tells us the most likely class for the image. That means we need 10 output units for the 10 classes (digits). We'll see how to convert the network output into a probability distribution next.\n",
    "\n",
    "> **Exercise:** Flatten the batch of images `images`. Then build a multi-layer network with 784 input units, 256 hidden units, and 10 output units using random tensors for the weights and biases. For now, use a sigmoid activation for the hidden layer. Leave the output layer without an activation, we'll add one that gives us a probability distribution next."
   ]
  },
  {
   "cell_type": "code",
   "execution_count": 5,
   "metadata": {},
   "outputs": [
    {
     "data": {
      "text/plain": [
       "torch.Size([64, 1, 28, 28])"
      ]
     },
     "execution_count": 5,
     "metadata": {},
     "output_type": "execute_result"
    }
   ],
   "source": [
    "images.shape"
   ]
  },
  {
   "cell_type": "code",
   "execution_count": 8,
   "metadata": {},
   "outputs": [
    {
     "data": {
      "text/plain": [
       "tensor([[2.0062, 2.3717, 2.4048, 1.4939, 2.4911, 1.3530, 2.0555, 1.2785, 1.8019,\n",
       "         1.3663],\n",
       "        [2.0062, 2.3717, 2.4048, 1.4939, 2.4911, 1.3530, 2.0555, 1.2785, 1.8019,\n",
       "         1.3663],\n",
       "        [2.0062, 2.3717, 2.4048, 1.4939, 2.4911, 1.3530, 2.0555, 1.2785, 1.8019,\n",
       "         1.3663],\n",
       "        [2.0062, 2.3717, 2.4048, 1.4939, 2.4911, 1.3530, 2.0555, 1.2785, 1.8019,\n",
       "         1.3663],\n",
       "        [2.0062, 2.3717, 2.4048, 1.4939, 2.4911, 1.3530, 2.0555, 1.2785, 1.8019,\n",
       "         1.3663],\n",
       "        [2.0062, 2.3717, 2.4048, 1.4939, 2.4911, 1.3530, 2.0555, 1.2785, 1.8019,\n",
       "         1.3663],\n",
       "        [2.0062, 2.3717, 2.4048, 1.4939, 2.4911, 1.3530, 2.0555, 1.2785, 1.8019,\n",
       "         1.3663],\n",
       "        [2.0062, 2.3717, 2.4048, 1.4939, 2.4911, 1.3530, 2.0555, 1.2785, 1.8019,\n",
       "         1.3663],\n",
       "        [2.0062, 2.3717, 2.4048, 1.4939, 2.4911, 1.3530, 2.0555, 1.2785, 1.8019,\n",
       "         1.3663],\n",
       "        [2.0062, 2.3717, 2.4048, 1.4939, 2.4911, 1.3530, 2.0555, 1.2785, 1.8019,\n",
       "         1.3663],\n",
       "        [2.0062, 2.3717, 2.4048, 1.4939, 2.4911, 1.3530, 2.0555, 1.2785, 1.8019,\n",
       "         1.3663],\n",
       "        [2.0062, 2.3717, 2.4048, 1.4939, 2.4911, 1.3530, 2.0555, 1.2785, 1.8019,\n",
       "         1.3663],\n",
       "        [2.0062, 2.3717, 2.4048, 1.4939, 2.4911, 1.3530, 2.0555, 1.2785, 1.8019,\n",
       "         1.3663],\n",
       "        [2.0062, 2.3717, 2.4048, 1.4939, 2.4911, 1.3530, 2.0555, 1.2785, 1.8019,\n",
       "         1.3663],\n",
       "        [2.0062, 2.3717, 2.4048, 1.4939, 2.4911, 1.3530, 2.0555, 1.2785, 1.8019,\n",
       "         1.3663],\n",
       "        [2.0062, 2.3717, 2.4048, 1.4939, 2.4911, 1.3530, 2.0555, 1.2785, 1.8019,\n",
       "         1.3663],\n",
       "        [2.0062, 2.3717, 2.4048, 1.4939, 2.4911, 1.3530, 2.0555, 1.2785, 1.8019,\n",
       "         1.3663],\n",
       "        [2.0062, 2.3717, 2.4048, 1.4939, 2.4911, 1.3530, 2.0555, 1.2785, 1.8019,\n",
       "         1.3663],\n",
       "        [2.0062, 2.3717, 2.4048, 1.4939, 2.4911, 1.3530, 2.0555, 1.2785, 1.8019,\n",
       "         1.3663],\n",
       "        [2.0062, 2.3717, 2.4048, 1.4939, 2.4911, 1.3530, 2.0555, 1.2785, 1.8019,\n",
       "         1.3663],\n",
       "        [2.0062, 2.3717, 2.4048, 1.4939, 2.4911, 1.3530, 2.0555, 1.2785, 1.8019,\n",
       "         1.3663],\n",
       "        [2.0062, 2.3717, 2.4048, 1.4939, 2.4911, 1.3530, 2.0555, 1.2785, 1.8019,\n",
       "         1.3663],\n",
       "        [2.0062, 2.3717, 2.4048, 1.4939, 2.4911, 1.3530, 2.0555, 1.2785, 1.8019,\n",
       "         1.3663],\n",
       "        [2.0062, 2.3717, 2.4048, 1.4939, 2.4911, 1.3530, 2.0555, 1.2785, 1.8019,\n",
       "         1.3663],\n",
       "        [2.0062, 2.3717, 2.4048, 1.4939, 2.4911, 1.3530, 2.0555, 1.2785, 1.8019,\n",
       "         1.3663],\n",
       "        [2.0062, 2.3717, 2.4048, 1.4939, 2.4911, 1.3530, 2.0555, 1.2785, 1.8019,\n",
       "         1.3663],\n",
       "        [2.0062, 2.3717, 2.4048, 1.4939, 2.4911, 1.3530, 2.0555, 1.2785, 1.8019,\n",
       "         1.3663],\n",
       "        [2.0062, 2.3717, 2.4048, 1.4939, 2.4911, 1.3530, 2.0555, 1.2785, 1.8019,\n",
       "         1.3663],\n",
       "        [2.0062, 2.3717, 2.4048, 1.4939, 2.4911, 1.3530, 2.0555, 1.2785, 1.8019,\n",
       "         1.3663],\n",
       "        [2.0062, 2.3717, 2.4048, 1.4939, 2.4911, 1.3530, 2.0555, 1.2785, 1.8019,\n",
       "         1.3663],\n",
       "        [2.0062, 2.3717, 2.4048, 1.4939, 2.4911, 1.3530, 2.0555, 1.2785, 1.8019,\n",
       "         1.3663],\n",
       "        [2.0062, 2.3717, 2.4048, 1.4939, 2.4911, 1.3530, 2.0555, 1.2785, 1.8019,\n",
       "         1.3663],\n",
       "        [2.0062, 2.3717, 2.4048, 1.4939, 2.4911, 1.3530, 2.0555, 1.2785, 1.8019,\n",
       "         1.3663],\n",
       "        [2.0062, 2.3717, 2.4048, 1.4939, 2.4911, 1.3530, 2.0555, 1.2785, 1.8019,\n",
       "         1.3663],\n",
       "        [2.0062, 2.3717, 2.4048, 1.4939, 2.4911, 1.3530, 2.0555, 1.2785, 1.8019,\n",
       "         1.3663],\n",
       "        [2.0062, 2.3717, 2.4048, 1.4939, 2.4911, 1.3530, 2.0555, 1.2785, 1.8019,\n",
       "         1.3663],\n",
       "        [2.0062, 2.3717, 2.4048, 1.4939, 2.4911, 1.3530, 2.0555, 1.2785, 1.8019,\n",
       "         1.3663],\n",
       "        [2.0062, 2.3717, 2.4048, 1.4939, 2.4911, 1.3530, 2.0555, 1.2785, 1.8019,\n",
       "         1.3663],\n",
       "        [2.0062, 2.3717, 2.4048, 1.4939, 2.4911, 1.3530, 2.0555, 1.2785, 1.8019,\n",
       "         1.3663],\n",
       "        [2.0062, 2.3717, 2.4048, 1.4939, 2.4911, 1.3530, 2.0555, 1.2785, 1.8019,\n",
       "         1.3663],\n",
       "        [2.0062, 2.3717, 2.4048, 1.4939, 2.4911, 1.3530, 2.0555, 1.2785, 1.8019,\n",
       "         1.3663],\n",
       "        [2.0062, 2.3717, 2.4048, 1.4939, 2.4911, 1.3530, 2.0555, 1.2785, 1.8019,\n",
       "         1.3663],\n",
       "        [2.0062, 2.3717, 2.4048, 1.4939, 2.4911, 1.3530, 2.0555, 1.2785, 1.8019,\n",
       "         1.3663],\n",
       "        [2.0062, 2.3717, 2.4048, 1.4939, 2.4911, 1.3530, 2.0555, 1.2785, 1.8019,\n",
       "         1.3663],\n",
       "        [2.0062, 2.3717, 2.4048, 1.4939, 2.4911, 1.3530, 2.0555, 1.2785, 1.8019,\n",
       "         1.3663],\n",
       "        [2.0062, 2.3717, 2.4048, 1.4939, 2.4911, 1.3530, 2.0555, 1.2785, 1.8019,\n",
       "         1.3663],\n",
       "        [2.0062, 2.3717, 2.4048, 1.4939, 2.4911, 1.3530, 2.0555, 1.2785, 1.8019,\n",
       "         1.3663],\n",
       "        [2.0062, 2.3717, 2.4048, 1.4939, 2.4911, 1.3530, 2.0555, 1.2785, 1.8019,\n",
       "         1.3663],\n",
       "        [2.0062, 2.3717, 2.4048, 1.4939, 2.4911, 1.3530, 2.0555, 1.2785, 1.8019,\n",
       "         1.3663],\n",
       "        [2.0062, 2.3717, 2.4048, 1.4939, 2.4911, 1.3530, 2.0555, 1.2785, 1.8019,\n",
       "         1.3663],\n",
       "        [2.0062, 2.3717, 2.4048, 1.4939, 2.4911, 1.3530, 2.0555, 1.2785, 1.8019,\n",
       "         1.3663],\n",
       "        [2.0062, 2.3717, 2.4048, 1.4939, 2.4911, 1.3530, 2.0555, 1.2785, 1.8019,\n",
       "         1.3663],\n",
       "        [2.0062, 2.3717, 2.4048, 1.4939, 2.4911, 1.3530, 2.0555, 1.2785, 1.8019,\n",
       "         1.3663],\n",
       "        [2.0062, 2.3717, 2.4048, 1.4939, 2.4911, 1.3530, 2.0555, 1.2785, 1.8019,\n",
       "         1.3663],\n",
       "        [2.0062, 2.3717, 2.4048, 1.4939, 2.4911, 1.3530, 2.0555, 1.2785, 1.8019,\n",
       "         1.3663],\n",
       "        [2.0062, 2.3717, 2.4048, 1.4939, 2.4911, 1.3530, 2.0555, 1.2785, 1.8019,\n",
       "         1.3663],\n",
       "        [2.0062, 2.3717, 2.4048, 1.4939, 2.4911, 1.3530, 2.0555, 1.2785, 1.8019,\n",
       "         1.3663],\n",
       "        [2.0062, 2.3717, 2.4048, 1.4939, 2.4911, 1.3530, 2.0555, 1.2785, 1.8019,\n",
       "         1.3663],\n",
       "        [2.0062, 2.3717, 2.4048, 1.4939, 2.4911, 1.3530, 2.0555, 1.2785, 1.8019,\n",
       "         1.3663],\n",
       "        [2.0062, 2.3717, 2.4048, 1.4939, 2.4911, 1.3530, 2.0555, 1.2785, 1.8019,\n",
       "         1.3663],\n",
       "        [2.0062, 2.3717, 2.4048, 1.4939, 2.4911, 1.3530, 2.0555, 1.2785, 1.8019,\n",
       "         1.3663],\n",
       "        [2.0062, 2.3717, 2.4048, 1.4939, 2.4911, 1.3530, 2.0555, 1.2785, 1.8019,\n",
       "         1.3663],\n",
       "        [2.0062, 2.3717, 2.4048, 1.4939, 2.4911, 1.3530, 2.0555, 1.2785, 1.8019,\n",
       "         1.3663],\n",
       "        [2.0062, 2.3717, 2.4048, 1.4939, 2.4911, 1.3530, 2.0555, 1.2785, 1.8019,\n",
       "         1.3663]])"
      ]
     },
     "execution_count": 8,
     "metadata": {},
     "output_type": "execute_result"
    }
   ],
   "source": [
    "## Your solution\n",
    "\n",
    "output = # output of your network, should have shape (64,10)\n"
   ]
  },
  {
   "cell_type": "markdown",
   "metadata": {},
   "source": [
    "Now we have 10 outputs for our network. We want to pass in an image to our network and get out a probability distribution over the classes that tells us the likely class(es) the image belongs to. Something that looks like this:\n",
    "<img src='assets/image_distribution.png' width=500px>\n",
    "\n",
    "Here we see that the probability for each class is roughly the same. This is representing an untrained network, it hasn't seen any data yet so it just returns a uniform distribution with equal probabilities for each class.\n",
    "\n",
    "To calculate this probability distribution, we often use the [**softmax** function](https://en.wikipedia.org/wiki/Softmax_function). Mathematically this looks like\n",
    "\n",
    "$$\n",
    "\\Large \\sigma(x_i) = \\cfrac{e^{x_i}}{\\sum_k^K{e^{x_k}}}\n",
    "$$\n",
    "\n",
    "What this does is squish each input $x_i$ between 0 and 1 and normalizes the values to give you a proper probability distribution where the probabilites sum up to one.\n",
    "\n",
    "> **Exercise:** Implement a function `softmax` that performs the softmax calculation and returns probability distributions for each example in the batch. Note that you'll need to pay attention to the shapes when doing this. If you have a tensor `a` with shape `(64, 10)` and a tensor `b` with shape `(64,)`, doing `a/b` will give you an error because PyTorch will try to do the division across the columns (called broadcasting) but you'll get a size mismatch. The way to think about this is for each of the 64 examples, you only want to divide by one value, the sum in the denominator. So you need `b` to have a shape of `(64, 1)`. This way PyTorch will divide the 10 values in each row of `a` by the one value in each row of `b`. Pay attention to how you take the sum as well. You'll need to define the `dim` keyword in `torch.sum`. Setting `dim=0` takes the sum across the rows while `dim=1` takes the sum across the columns."
   ]
  },
  {
   "cell_type": "code",
   "execution_count": 11,
   "metadata": {},
   "outputs": [
    {
     "name": "stdout",
     "output_type": "stream",
     "text": [
      "torch.Size([64, 10])\n",
      "tensor([0.0156, 0.0156, 0.0156, 0.0156, 0.0156, 0.0156, 0.0156, 0.0156, 0.0156,\n",
      "        0.0156, 0.0156, 0.0156, 0.0156, 0.0156, 0.0156, 0.0156, 0.0156, 0.0156,\n",
      "        0.0156, 0.0156, 0.0156, 0.0156, 0.0156, 0.0156, 0.0156, 0.0156, 0.0156,\n",
      "        0.0156, 0.0156, 0.0156, 0.0156, 0.0156, 0.0156, 0.0156, 0.0156, 0.0156,\n",
      "        0.0156, 0.0156, 0.0156, 0.0156, 0.0156, 0.0156, 0.0156, 0.0156, 0.0156,\n",
      "        0.0156, 0.0156, 0.0156, 0.0156, 0.0156, 0.0156, 0.0156, 0.0156, 0.0156,\n",
      "        0.0156, 0.0156, 0.0156, 0.0156, 0.0156, 0.0156, 0.0156, 0.0156, 0.0156,\n",
      "        0.0156])\n"
     ]
    }
   ],
   "source": [
    "def softmax(x):\n",
    "    ## TODO: Implement the softmax function here\n",
    "    \n",
    "    \n",
    "# Here, out should be the output of the network in the previous excercise with shape (64,10)\n",
    "probabilities = softmax(out)\n",
    "\n",
    "# Does it have the right shape? Should be (64, 10)\n",
    "print(probabilities.shape)\n",
    "# Does it sum to 1?\n",
    "print(probabilities.sum(dim=1))"
   ]
  },
  {
   "cell_type": "markdown",
   "metadata": {},
   "source": [
    "## Building networks with PyTorch\n",
    "\n",
    "PyTorch provides a module `nn` that makes building networks much simpler. Here I'll show you how to build the same one as above with 784 inputs, 256 hidden units, 10 output units and a softmax output."
   ]
  },
  {
   "cell_type": "code",
   "execution_count": 12,
   "metadata": {},
   "outputs": [],
   "source": [
    "from torch import nn"
   ]
  },
  {
   "cell_type": "code",
   "execution_count": 13,
   "metadata": {},
   "outputs": [],
   "source": [
    "class Network(nn.Module):\n",
    "    def __init__(self):\n",
    "        super().__init__()\n",
    "        \n",
    "        # Inputs to hidden layer linear transformation\n",
    "        self.hidden = nn.Linear(784, 256)\n",
    "        # Output layer, 10 units - one for each digit\n",
    "        self.output = nn.Linear(256, 10)\n",
    "        \n",
    "        # Define sigmoid activation and softmax output \n",
    "        self.sigmoid = nn.Sigmoid()\n",
    "        self.softmax = nn.Softmax(dim=1)\n",
    "        \n",
    "    def forward(self, x):\n",
    "        # Pass the input tensor through each of our operations\n",
    "        x = self.hidden(x)\n",
    "        x = self.sigmoid(x)\n",
    "        x = self.output(x)\n",
    "        x = self.softmax(x)\n",
    "        \n",
    "        return x"
   ]
  },
  {
   "cell_type": "markdown",
   "metadata": {},
   "source": [
    "Let's go through this bit by bit.\n",
    "\n",
    "```python\n",
    "class Network(nn.Module):\n",
    "```\n",
    "\n",
    "Here we're inheriting from `nn.Module`. Combined with `super().__init__()` this creates a class that tracks the architecture and provides a lot of useful methods and attributes. It is mandatory to inherit from `nn.Module` when you're creating a class for your network. The name of the class itself can be anything.\n",
    "\n",
    "```python\n",
    "self.hidden = nn.Linear(784, 256)\n",
    "```\n",
    "\n",
    "This line creates a module for a linear transformation, $x\\mathbf{W} + b$, with 784 inputs and 256 outputs and assigns it to `self.hidden`. The module automatically creates the weight and bias tensors which we'll use in the `forward` method. You can access the weight and bias tensors once the network (`net`) is created with `net.hidden.weight` and `net.hidden.bias`.\n",
    "\n",
    "```python\n",
    "self.output = nn.Linear(256, 10)\n",
    "```\n",
    "\n",
    "Similarly, this creates another linear transformation with 256 inputs and 10 outputs.\n",
    "\n",
    "```python\n",
    "self.sigmoid = nn.Sigmoid()\n",
    "self.softmax = nn.Softmax(dim=1)\n",
    "```\n",
    "\n",
    "Here I defined operations for the sigmoid activation and softmax output. Setting `dim=1` in `nn.Softmax(dim=1)` calculates softmax across the columns.\n",
    "\n",
    "```python\n",
    "def forward(self, x):\n",
    "```\n",
    "\n",
    "PyTorch networks created with `nn.Module` must have a `forward` method defined. It takes in a tensor `x` and passes it through the operations you defined in the `__init__` method.\n",
    "\n",
    "```python\n",
    "x = self.hidden(x)\n",
    "x = self.sigmoid(x)\n",
    "x = self.output(x)\n",
    "x = self.softmax(x)\n",
    "```\n",
    "\n",
    "Here the input tensor `x` is passed through each operation and reassigned to `x`. We can see that the input tensor goes through the hidden layer, then a sigmoid function, then the output layer, and finally the softmax function. It doesn't matter what you name the variables here, as long as the inputs and outputs of the operations match the network architecture you want to build. The order in which you define things in the `__init__` method doesn't matter, but you'll need to sequence the operations correctly in the `forward` method.\n",
    "\n",
    "Now we can create a `Network` object."
   ]
  },
  {
   "cell_type": "code",
   "execution_count": 14,
   "metadata": {},
   "outputs": [
    {
     "data": {
      "text/plain": [
       "Network(\n",
       "  (hidden): Linear(in_features=784, out_features=256, bias=True)\n",
       "  (output): Linear(in_features=256, out_features=10, bias=True)\n",
       "  (sigmoid): Sigmoid()\n",
       "  (softmax): Softmax(dim=1)\n",
       ")"
      ]
     },
     "execution_count": 14,
     "metadata": {},
     "output_type": "execute_result"
    }
   ],
   "source": [
    "# Create the network and look at it's text representation\n",
    "model = Network()\n",
    "model"
   ]
  },
  {
   "cell_type": "markdown",
   "metadata": {},
   "source": [
    "You can define the network somewhat more concisely and clearly using the `torch.nn.functional` module. This is the most common way you'll see networks defined as many operations are simple element-wise functions. We normally import this module as `F`, `import torch.nn.functional as F`."
   ]
  },
  {
   "cell_type": "code",
   "execution_count": 15,
   "metadata": {},
   "outputs": [],
   "source": [
    "import torch.nn.functional as F\n",
    "\n",
    "class Network(nn.Module):\n",
    "    def __init__(self):\n",
    "        super().__init__()\n",
    "        # Inputs to hidden layer linear transformation\n",
    "        self.hidden = nn.Linear(784, 256)\n",
    "        # Output layer, 10 units - one for each digit\n",
    "        self.output = nn.Linear(256, 10)\n",
    "        \n",
    "    def forward(self, x):\n",
    "        # Hidden layer with sigmoid activation\n",
    "        x = F.sigmoid(self.hidden(x))\n",
    "        # Output layer with softmax activation\n",
    "        x = F.softmax(self.output(x), dim=1)\n",
    "        \n",
    "        return x"
   ]
  },
  {
   "cell_type": "markdown",
   "metadata": {},
   "source": [
    "### Activation functions\n",
    "\n",
    "So far we've only been looking at the sigmoid activation function, but in general any function can be used as an activation function. The only requirement is that for a network to approximate a non-linear function, the activation functions must be non-linear. Here are a few more examples of common activation functions: Tanh (hyperbolic tangent), and ReLU (rectified linear unit).\n",
    "\n",
    "<img src=\"assets/activation.png\" width=700px>\n",
    "\n",
    "In practice, the ReLU function is used almost exclusively as the activation function for hidden layers."
   ]
  },
  {
   "cell_type": "markdown",
   "metadata": {},
   "source": [
    "### Your Turn to Build a Network\n",
    "\n",
    "<img src=\"assets/mlp_mnist.png\" width=600px>\n",
    "\n",
    "> **Exercise:** Create a network with 784 input units, a hidden layer with 128 units and a ReLU activation, then a hidden layer with 64 units and a ReLU activation, and finally an output layer with a softmax activation as shown above. You can use a ReLU activation with the `nn.ReLU` module or `F.relu` function.\n",
    "\n",
    "It's good practice to name your layers by their type of network, for instance 'fc' to represent a fully-connected layer. As you code your solution, use `fc1`, `fc2`, and `fc3` as your layer names."
   ]
  },
  {
   "cell_type": "code",
   "execution_count": 31,
   "metadata": {
    "scrolled": true
   },
   "outputs": [],
   "source": [
    "## Your solution here"
   ]
  },
  {
   "cell_type": "markdown",
   "metadata": {},
   "source": [
    "### Initializing weights and biases\n",
    "\n",
    "The weights and such are automatically initialized for you, but it's possible to customize how they are initialized. The weights and biases are tensors attached to the layer you defined, you can get them with `model.fc1.weight` for instance."
   ]
  },
  {
   "cell_type": "code",
   "execution_count": 32,
   "metadata": {},
   "outputs": [
    {
     "name": "stdout",
     "output_type": "stream",
     "text": [
      "Parameter containing:\n",
      "tensor([[-0.0219, -0.0205, -0.0351,  ...,  0.0095, -0.0296, -0.0296],\n",
      "        [-0.0274, -0.0009, -0.0114,  ..., -0.0093,  0.0247, -0.0308],\n",
      "        [-0.0013,  0.0218,  0.0353,  ...,  0.0200,  0.0316,  0.0316],\n",
      "        ...,\n",
      "        [ 0.0042,  0.0271, -0.0315,  ...,  0.0354,  0.0193, -0.0130],\n",
      "        [-0.0042, -0.0031,  0.0056,  ..., -0.0038, -0.0200,  0.0259],\n",
      "        [ 0.0129,  0.0093, -0.0003,  ...,  0.0006,  0.0109,  0.0166]],\n",
      "       requires_grad=True)\n",
      "Parameter containing:\n",
      "tensor([ 2.3395e-02,  3.3934e-02,  1.4724e-02, -6.4993e-03,  2.3767e-02,\n",
      "         1.0478e-02,  3.3464e-02,  8.5962e-03,  2.4538e-02,  1.7894e-02,\n",
      "        -2.9328e-02, -3.2825e-02,  2.4816e-02, -1.5589e-02, -1.7853e-02,\n",
      "        -2.2615e-02, -1.8381e-02, -2.4981e-02,  2.6086e-02,  1.7559e-02,\n",
      "         1.6639e-02,  3.2224e-02,  1.0715e-02, -1.9928e-02,  3.3397e-02,\n",
      "        -3.2291e-03, -2.4626e-02, -1.8312e-02, -1.3149e-02,  1.6544e-02,\n",
      "        -3.0304e-02, -1.1306e-02, -2.9776e-02, -1.2431e-02, -2.4324e-03,\n",
      "         2.1470e-02,  1.7296e-02,  1.9277e-02,  2.8149e-02,  1.4259e-02,\n",
      "        -7.9441e-03,  1.5476e-02,  1.4977e-03, -2.3625e-03, -6.3248e-03,\n",
      "         1.7135e-02,  1.1736e-03, -2.4907e-02,  2.4121e-02, -2.7498e-02,\n",
      "         9.1302e-03, -2.6845e-02,  2.0611e-02,  9.5348e-03,  2.4773e-02,\n",
      "        -3.1466e-03, -2.6642e-02,  1.3911e-02,  2.5668e-02, -6.5520e-03,\n",
      "        -9.5977e-03,  2.2519e-02, -3.3895e-02, -8.7201e-04, -1.9520e-02,\n",
      "        -1.4227e-02, -7.8177e-03, -1.5519e-02,  1.6284e-02, -2.6712e-02,\n",
      "        -6.0538e-03, -2.8585e-02,  2.0811e-03,  2.3254e-02, -6.3871e-03,\n",
      "        -2.0788e-02, -3.4289e-02, -2.0684e-02,  1.8133e-02,  2.1487e-02,\n",
      "        -1.4775e-02, -1.4270e-02,  3.5336e-02,  1.9690e-02, -2.9908e-02,\n",
      "        -8.5938e-03, -1.7193e-02, -1.0312e-02,  1.3722e-02,  2.9603e-02,\n",
      "         2.9021e-02,  2.1067e-02,  2.6765e-02, -1.0931e-02, -5.2014e-03,\n",
      "        -4.6676e-03, -6.1736e-03,  2.7106e-02, -1.7957e-02,  6.0023e-03,\n",
      "         2.7111e-03, -2.8916e-03, -2.0615e-02,  2.8840e-02,  5.0242e-03,\n",
      "        -8.3331e-03, -4.9631e-03, -2.5272e-02, -1.2324e-02,  3.8602e-03,\n",
      "        -1.2992e-02,  1.1466e-02,  3.0855e-03,  2.7993e-02,  1.7944e-02,\n",
      "        -8.2092e-03, -3.1676e-02,  2.0231e-02,  7.4229e-03, -2.5438e-02,\n",
      "        -1.1988e-03,  3.2194e-02, -3.2845e-03,  1.3763e-02, -3.6867e-03,\n",
      "         3.4831e-02,  5.2399e-03,  2.0227e-04, -2.7510e-02, -6.2888e-03,\n",
      "        -3.0020e-02, -7.8078e-05, -1.6211e-02,  2.9673e-02,  2.8045e-02,\n",
      "         2.1475e-02,  2.8599e-02, -1.8212e-02,  2.8930e-02, -1.3464e-03,\n",
      "         1.2464e-02,  3.0429e-02, -2.4734e-02,  2.9152e-02, -1.1240e-02,\n",
      "         2.9424e-02, -2.3058e-02,  2.3301e-02,  2.7796e-03, -2.3705e-02,\n",
      "         3.3549e-02, -2.6734e-02,  7.2422e-03, -1.1837e-02, -4.4506e-04,\n",
      "        -1.0538e-02, -2.8958e-02, -3.0436e-02,  2.8741e-02,  3.1045e-02,\n",
      "        -3.4926e-02,  2.5952e-02, -2.5826e-02,  7.7130e-03,  1.5412e-02,\n",
      "         2.9298e-02,  1.6398e-02,  2.7165e-02, -3.4044e-03, -2.5366e-03,\n",
      "        -8.9428e-03,  3.5045e-02,  2.2905e-02, -1.8728e-02, -2.4843e-02,\n",
      "         1.0626e-02,  1.4815e-02, -1.3750e-02, -1.8381e-02, -3.3109e-02,\n",
      "        -3.5204e-02,  6.7684e-03, -1.6334e-02,  3.4416e-02,  1.6122e-02,\n",
      "        -1.8265e-02,  3.5245e-02, -3.5438e-02,  2.5953e-02, -2.4186e-02,\n",
      "        -6.3250e-03,  2.2436e-02,  2.3521e-02,  1.2047e-03, -2.2533e-02,\n",
      "        -3.5630e-02, -1.5591e-02,  2.1472e-02, -5.2281e-03, -6.1091e-03,\n",
      "        -3.3704e-02, -2.1852e-04,  2.0606e-02,  1.9502e-02, -2.3966e-02,\n",
      "         2.1715e-02,  1.7902e-02, -1.5144e-02, -7.2161e-03, -1.6336e-02,\n",
      "        -2.0629e-02,  2.2052e-02, -2.7839e-02,  1.4804e-02,  8.0086e-03,\n",
      "        -1.2629e-03,  1.4738e-02, -2.7149e-02,  7.7241e-03, -3.0490e-02,\n",
      "         6.0029e-03, -1.0948e-02,  2.6388e-02,  2.7225e-03,  1.0606e-02,\n",
      "        -1.9198e-02,  2.8738e-02,  3.4181e-02, -2.8456e-02,  3.3863e-02,\n",
      "         2.4082e-02,  1.0640e-02, -1.9528e-03, -2.4476e-02,  2.6151e-02,\n",
      "        -1.5981e-02, -1.6366e-02,  1.3747e-02, -1.7655e-02, -4.0295e-03,\n",
      "         1.2551e-02, -2.9688e-02, -2.1994e-02,  1.0854e-02, -2.7862e-02,\n",
      "        -8.9577e-03,  2.3588e-02,  1.1780e-02,  5.3768e-03,  3.3990e-02,\n",
      "         2.8301e-02,  1.3585e-02,  2.2529e-03, -3.2153e-02, -6.9521e-03,\n",
      "        -2.4036e-02], requires_grad=True)\n"
     ]
    }
   ],
   "source": [
    "print(model.fc1.weight)\n",
    "print(model.fc1.bias)"
   ]
  },
  {
   "cell_type": "markdown",
   "metadata": {},
   "source": [
    "For custom initialization, we want to modify these tensors in place. These are actually autograd *Variables*, so we need to get back the actual tensors with `model.fc1.weight.data`. Once we have the tensors, we can fill them with zeros (for biases) or random normal values."
   ]
  },
  {
   "cell_type": "code",
   "execution_count": 33,
   "metadata": {},
   "outputs": [
    {
     "data": {
      "text/plain": [
       "tensor([0., 0., 0., 0., 0., 0., 0., 0., 0., 0., 0., 0., 0., 0., 0., 0., 0., 0., 0., 0., 0., 0., 0., 0.,\n",
       "        0., 0., 0., 0., 0., 0., 0., 0., 0., 0., 0., 0., 0., 0., 0., 0., 0., 0., 0., 0., 0., 0., 0., 0.,\n",
       "        0., 0., 0., 0., 0., 0., 0., 0., 0., 0., 0., 0., 0., 0., 0., 0., 0., 0., 0., 0., 0., 0., 0., 0.,\n",
       "        0., 0., 0., 0., 0., 0., 0., 0., 0., 0., 0., 0., 0., 0., 0., 0., 0., 0., 0., 0., 0., 0., 0., 0.,\n",
       "        0., 0., 0., 0., 0., 0., 0., 0., 0., 0., 0., 0., 0., 0., 0., 0., 0., 0., 0., 0., 0., 0., 0., 0.,\n",
       "        0., 0., 0., 0., 0., 0., 0., 0., 0., 0., 0., 0., 0., 0., 0., 0., 0., 0., 0., 0., 0., 0., 0., 0.,\n",
       "        0., 0., 0., 0., 0., 0., 0., 0., 0., 0., 0., 0., 0., 0., 0., 0., 0., 0., 0., 0., 0., 0., 0., 0.,\n",
       "        0., 0., 0., 0., 0., 0., 0., 0., 0., 0., 0., 0., 0., 0., 0., 0., 0., 0., 0., 0., 0., 0., 0., 0.,\n",
       "        0., 0., 0., 0., 0., 0., 0., 0., 0., 0., 0., 0., 0., 0., 0., 0., 0., 0., 0., 0., 0., 0., 0., 0.,\n",
       "        0., 0., 0., 0., 0., 0., 0., 0., 0., 0., 0., 0., 0., 0., 0., 0., 0., 0., 0., 0., 0., 0., 0., 0.,\n",
       "        0., 0., 0., 0., 0., 0., 0., 0., 0., 0., 0., 0., 0., 0., 0., 0.])"
      ]
     },
     "execution_count": 33,
     "metadata": {},
     "output_type": "execute_result"
    }
   ],
   "source": [
    "# Set biases to all zeros\n",
    "model.fc1.bias.data.fill_(0)"
   ]
  },
  {
   "cell_type": "code",
   "execution_count": 34,
   "metadata": {},
   "outputs": [
    {
     "data": {
      "text/plain": [
       "tensor([[-0.0047, -0.0006,  0.0066,  ..., -0.0012,  0.0046,  0.0083],\n",
       "        [-0.0116,  0.0068, -0.0051,  ..., -0.0040,  0.0082, -0.0007],\n",
       "        [-0.0114,  0.0001, -0.0119,  ...,  0.0051,  0.0103, -0.0147],\n",
       "        ...,\n",
       "        [-0.0091,  0.0149, -0.0044,  ..., -0.0201, -0.0059,  0.0094],\n",
       "        [-0.0016, -0.0139,  0.0073,  ..., -0.0015,  0.0023, -0.0225],\n",
       "        [-0.0018,  0.0040,  0.0119,  ..., -0.0063, -0.0016, -0.0052]])"
      ]
     },
     "execution_count": 34,
     "metadata": {},
     "output_type": "execute_result"
    }
   ],
   "source": [
    "# sample from random normal with standard dev = 0.01\n",
    "model.fc1.weight.data.normal_(std=0.01)"
   ]
  },
  {
   "cell_type": "markdown",
   "metadata": {},
   "source": [
    "### Forward pass\n",
    "\n",
    "Now that we have a network, let's see what happens when we pass in an image."
   ]
  },
  {
   "cell_type": "code",
   "execution_count": 38,
   "metadata": {},
   "outputs": [
    {
     "name": "stderr",
     "output_type": "stream",
     "text": [
      "/Library/Frameworks/Python.framework/Versions/3.7/lib/python3.7/site-packages/ipykernel_launcher.py:13: UserWarning: Implicit dimension choice for softmax has been deprecated. Change the call to include dim=X as an argument.\n",
      "  del sys.path[0]\n"
     ]
    },
    {
     "data": {
      "image/png": "[encoded data removed]",
      "text/plain": [
       "<Figure size 432x648 with 2 Axes>"
      ]
     },
     "metadata": {
      "image/png": {
       "height": 235,
       "width": 424
      },
      "needs_background": "light"
     },
     "output_type": "display_data"
    }
   ],
   "source": [
    "# Grab some data \n",
    "dataiter = iter(trainloader)\n",
    "images, labels = dataiter.next()\n",
    "\n",
    "# Resize images into a 1D vector, new shape is (batch size, color channels, image pixels) \n",
    "# images.resize_(64, 1, 784)\n",
    "# or images.resize_(images.shape[0], 1, 784) to automatically get batch size\n",
    "\n",
    "# Forward pass through the network\n",
    "img_idx = 0\n",
    "ps = model.forward(images[7,:])\n",
    "\n",
    "img = images[img_idx]\n",
    "helper.view_classify(img.view(1, 28, 28), ps)"
   ]
  },
  {
   "cell_type": "markdown",
   "metadata": {},
   "source": [
    "As you can see above, our network has basically no idea what this digit is. It's because we haven't trained it yet, all the weights are random!\n",
    "\n",
    "### Using `nn.Sequential`\n",
    "\n",
    "PyTorch provides a convenient way to build networks like this where a tensor is passed sequentially through operations, `nn.Sequential` ([documentation](https://pytorch.org/docs/master/nn.html#torch.nn.Sequential)). Using this to build the equivalent network:"
   ]
  },
  {
   "cell_type": "code",
   "execution_count": 21,
   "metadata": {},
   "outputs": [
    {
     "name": "stdout",
     "output_type": "stream",
     "text": [
      "Sequential(\n",
      "  (0): Linear(in_features=784, out_features=128, bias=True)\n",
      "  (1): ReLU()\n",
      "  (2): Linear(in_features=128, out_features=64, bias=True)\n",
      "  (3): ReLU()\n",
      "  (4): Linear(in_features=64, out_features=10, bias=True)\n",
      "  (5): Softmax(dim=1)\n",
      ")\n"
     ]
    },
    {
     "data": {
      "image/png": "[encoded data removed]",
      "text/plain": [
       "<Figure size 432x648 with 2 Axes>"
      ]
     },
     "metadata": {
      "image/png": {
       "height": 235,
       "width": 424
      },
      "needs_background": "light"
     },
     "output_type": "display_data"
    }
   ],
   "source": [
    "# Hyperparameters for our network\n",
    "input_size = 784\n",
    "hidden_sizes = [128, 64]\n",
    "output_size = 10\n",
    "\n",
    "# Build a feed-forward network\n",
    "model = nn.Sequential(nn.Linear(input_size, hidden_sizes[0]),\n",
    "                      nn.ReLU(),\n",
    "                      nn.Linear(hidden_sizes[0], hidden_sizes[1]),\n",
    "                      nn.ReLU(),\n",
    "                      nn.Linear(hidden_sizes[1], output_size),\n",
    "                      nn.Softmax(dim=1))\n",
    "print(model)\n",
    "\n",
    "# Forward pass through the network and display output\n",
    "images, labels = next(iter(trainloader))\n",
    "images.resize_(images.shape[0], 1, 784)\n",
    "ps = model.forward(images[0,:])\n",
    "helper.view_classify(images[0].view(1, 28, 28), ps)"
   ]
  },
  {
   "cell_type": "markdown",
   "metadata": {},
   "source": [
    "Here our model is the same as before: 784 input units, a hidden layer with 128 units, ReLU activation, 64 unit hidden layer, another ReLU, then the output layer with 10 units, and the softmax output.\n",
    "\n",
    "The operations are available by passing in the appropriate index. For example, if you want to get first Linear operation and look at the weights, you'd use `model[0]`."
   ]
  },
  {
   "cell_type": "code",
   "execution_count": 22,
   "metadata": {},
   "outputs": [
    {
     "name": "stdout",
     "output_type": "stream",
     "text": [
      "Linear(in_features=784, out_features=128, bias=True)\n"
     ]
    },
    {
     "data": {
      "text/plain": [
       "Parameter containing:\n",
       "tensor([[ 0.0007, -0.0102,  0.0248,  ...,  0.0278, -0.0349,  0.0276],\n",
       "        [ 0.0258, -0.0025,  0.0248,  ...,  0.0029,  0.0346,  0.0311],\n",
       "        [ 0.0256,  0.0050,  0.0073,  ...,  0.0345,  0.0199,  0.0142],\n",
       "        ...,\n",
       "        [ 0.0194, -0.0076, -0.0212,  ..., -0.0292,  0.0236, -0.0102],\n",
       "        [-0.0329,  0.0185, -0.0314,  ...,  0.0342,  0.0081, -0.0259],\n",
       "        [-0.0318,  0.0307, -0.0231,  ...,  0.0352,  0.0240, -0.0056]],\n",
       "       requires_grad=True)"
      ]
     },
     "execution_count": 22,
     "metadata": {},
     "output_type": "execute_result"
    }
   ],
   "source": [
    "print(model[0])\n",
    "model[0].weight"
   ]
  },
  {
   "cell_type": "markdown",
   "metadata": {},
   "source": [
    "You can also pass in an `OrderedDict` to name the individual layers and operations, instead of using incremental integers. Note that dictionary keys must be unique, so _each operation must have a different name_."
   ]
  },
  {
   "cell_type": "code",
   "execution_count": 23,
   "metadata": {},
   "outputs": [
    {
     "data": {
      "text/plain": [
       "Sequential(\n",
       "  (fc1): Linear(in_features=784, out_features=128, bias=True)\n",
       "  (relu1): ReLU()\n",
       "  (fc2): Linear(in_features=128, out_features=64, bias=True)\n",
       "  (relu2): ReLU()\n",
       "  (output): Linear(in_features=64, out_features=10, bias=True)\n",
       "  (softmax): Softmax(dim=1)\n",
       ")"
      ]
     },
     "execution_count": 23,
     "metadata": {},
     "output_type": "execute_result"
    }
   ],
   "source": [
    "from collections import OrderedDict\n",
    "model = nn.Sequential(OrderedDict([\n",
    "                      ('fc1', nn.Linear(input_size, hidden_sizes[0])),\n",
    "                      ('relu1', nn.ReLU()),\n",
    "                      ('fc2', nn.Linear(hidden_sizes[0], hidden_sizes[1])),\n",
    "                      ('relu2', nn.ReLU()),\n",
    "                      ('output', nn.Linear(hidden_sizes[1], output_size)),\n",
    "                      ('softmax', nn.Softmax(dim=1))]))\n",
    "model"
   ]
  },
  {
   "cell_type": "code",
   "execution_count": 24,
   "metadata": {},
   "outputs": [
    {
     "data": {
      "text/plain": [
       "torch.nn.modules.container.Sequential"
      ]
     },
     "execution_count": 24,
     "metadata": {},
     "output_type": "execute_result"
    }
   ],
   "source": [
    "type(model)"
   ]
  },
  {
   "cell_type": "markdown",
   "metadata": {},
   "source": [
    "Now you can access layers either by integer or the name"
   ]
  },
  {
   "cell_type": "code",
   "execution_count": 27,
   "metadata": {},
   "outputs": [
    {
     "name": "stdout",
     "output_type": "stream",
     "text": [
      "Linear(in_features=784, out_features=128, bias=True)\n",
      "Linear(in_features=784, out_features=128, bias=True)\n"
     ]
    }
   ],
   "source": [
    "print(model[0])\n",
    "print(model.fc1)"
   ]
  },
  {
   "cell_type": "markdown",
   "metadata": {},
   "source": [
    "In the next notebook, we'll see how we can train a neural network to accuractly predict the numbers appearing in the MNIST images."
   ]
  }
 ],
 "metadata": {
  "kernelspec": {
   "display_name": "Python 3",
   "language": "python",
   "name": "python3"
  },
  "language_info": {
   "codemirror_mode": {
    "name": "ipython",
    "version": 3
   },
   "file_extension": ".py",
   "mimetype": "text/x-python",
   "name": "python",
   "nbconvert_exporter": "python",
   "pygments_lexer": "ipython3",
   "version": "3.7.4"
  }
 },
 "nbformat": 4,
 "nbformat_minor": 2
}
