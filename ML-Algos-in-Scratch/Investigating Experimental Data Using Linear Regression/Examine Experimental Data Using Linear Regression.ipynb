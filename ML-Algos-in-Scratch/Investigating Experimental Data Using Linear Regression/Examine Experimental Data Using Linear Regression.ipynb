{
 "cells": [
  {
   "cell_type": "markdown",
   "metadata": {
    "colab_type": "text",
    "id": "JJtbp9aCnJfM"
   },
   "source": [
    "# Investigating Experimental Data Using Linear Regression\n",
    "\n",
    "This notebook will be using linear regression models to investigate an real experimental data set. We will be examining the effects of class size reduction and teacher experience on student achievement. The notebook is organized as follows:\n",
    "\n",
    "1) Load and discuss the data set\n",
    "\n",
    "2) Examine effect of class size on test score \n",
    "\n",
    "3) Examine effect of teacher experience on test score\n",
    "\n",
    "4) Investigate whether the effect of class size depends on the teacher's experience\n",
    "\n",
    "5) Practice problems to work on (hints provided)\n",
    "\n",
    "Note that the analysis in this notebook is conducted for education purposes and should not be taken seriously in terms of formulation policies."
   ]
  },
  {
   "cell_type": "markdown",
   "metadata": {
    "colab_type": "text",
    "id": "lWxkV_Epalrr"
   },
   "source": [
    "## Load Data Set and Dependencies \n",
    "We will be working with a real experimental data set (publicly available), the code below loads the dataset and also some python libraries that are helpfull for data analysis."
   ]
  },
  {
   "cell_type": "code",
   "execution_count": 41,
   "metadata": {
    "colab": {
     "base_uri": "https://localhost:8080/",
     "height": 224
    },
    "colab_type": "code",
    "id": "hcFYGAySW_MG",
    "outputId": "89f56197-2b99-4eff-f2be-3414eb7310b4"
   },
   "outputs": [
    {
     "data": {
      "text/html": [
       "<div>\n",
       "<style scoped>\n",
       "    .dataframe tbody tr th:only-of-type {\n",
       "        vertical-align: middle;\n",
       "    }\n",
       "\n",
       "    .dataframe tbody tr th {\n",
       "        vertical-align: top;\n",
       "    }\n",
       "\n",
       "    .dataframe thead th {\n",
       "        text-align: right;\n",
       "    }\n",
       "</style>\n",
       "<table border=\"1\" class=\"dataframe\">\n",
       "  <thead>\n",
       "    <tr style=\"text-align: right;\">\n",
       "      <th></th>\n",
       "      <th>studentid</th>\n",
       "      <th>gkclasstype</th>\n",
       "      <th>gkfreelunch</th>\n",
       "      <th>gkmotivraw</th>\n",
       "      <th>gkselfconcraw</th>\n",
       "      <th>readperc_k</th>\n",
       "      <th>mathperc_k</th>\n",
       "      <th>SmallClassK</th>\n",
       "      <th>minority</th>\n",
       "      <th>StudentMale</th>\n",
       "      <th>MasterDegreeK</th>\n",
       "      <th>abovemedianexp_k</th>\n",
       "      <th>gktyears</th>\n",
       "      <th>UniformRand</th>\n",
       "    </tr>\n",
       "  </thead>\n",
       "  <tbody>\n",
       "    <tr>\n",
       "      <th>8</th>\n",
       "      <td>10286</td>\n",
       "      <td>2</td>\n",
       "      <td>0.0</td>\n",
       "      <td>27.0</td>\n",
       "      <td>61.0</td>\n",
       "      <td>68.954247</td>\n",
       "      <td>79.541733</td>\n",
       "      <td>0</td>\n",
       "      <td>0.0</td>\n",
       "      <td>1</td>\n",
       "      <td>1</td>\n",
       "      <td>0</td>\n",
       "      <td>6</td>\n",
       "      <td>1</td>\n",
       "    </tr>\n",
       "    <tr>\n",
       "      <th>12</th>\n",
       "      <td>10291</td>\n",
       "      <td>3</td>\n",
       "      <td>0.0</td>\n",
       "      <td>28.0</td>\n",
       "      <td>59.0</td>\n",
       "      <td>60.784313</td>\n",
       "      <td>63.666122</td>\n",
       "      <td>0</td>\n",
       "      <td>0.0</td>\n",
       "      <td>1</td>\n",
       "      <td>0</td>\n",
       "      <td>0</td>\n",
       "      <td>5</td>\n",
       "      <td>1</td>\n",
       "    </tr>\n",
       "    <tr>\n",
       "      <th>22</th>\n",
       "      <td>10313</td>\n",
       "      <td>1</td>\n",
       "      <td>1.0</td>\n",
       "      <td>24.0</td>\n",
       "      <td>57.0</td>\n",
       "      <td>77.614380</td>\n",
       "      <td>89.034370</td>\n",
       "      <td>1</td>\n",
       "      <td>0.0</td>\n",
       "      <td>1</td>\n",
       "      <td>1</td>\n",
       "      <td>1</td>\n",
       "      <td>14</td>\n",
       "      <td>1</td>\n",
       "    </tr>\n",
       "    <tr>\n",
       "      <th>24</th>\n",
       "      <td>10319</td>\n",
       "      <td>3</td>\n",
       "      <td>0.0</td>\n",
       "      <td>NaN</td>\n",
       "      <td>NaN</td>\n",
       "      <td>64.052284</td>\n",
       "      <td>81.342064</td>\n",
       "      <td>0</td>\n",
       "      <td>0.0</td>\n",
       "      <td>1</td>\n",
       "      <td>0</td>\n",
       "      <td>0</td>\n",
       "      <td>8</td>\n",
       "      <td>1</td>\n",
       "    </tr>\n",
       "    <tr>\n",
       "      <th>50</th>\n",
       "      <td>10481</td>\n",
       "      <td>1</td>\n",
       "      <td>0.0</td>\n",
       "      <td>26.0</td>\n",
       "      <td>62.0</td>\n",
       "      <td>65.849670</td>\n",
       "      <td>75.122749</td>\n",
       "      <td>1</td>\n",
       "      <td>0.0</td>\n",
       "      <td>1</td>\n",
       "      <td>0</td>\n",
       "      <td>0</td>\n",
       "      <td>6</td>\n",
       "      <td>1</td>\n",
       "    </tr>\n",
       "  </tbody>\n",
       "</table>\n",
       "</div>"
      ],
      "text/plain": [
       "    studentid  gkclasstype  gkfreelunch  gkmotivraw  gkselfconcraw  \\\n",
       "8       10286            2          0.0        27.0           61.0   \n",
       "12      10291            3          0.0        28.0           59.0   \n",
       "22      10313            1          1.0        24.0           57.0   \n",
       "24      10319            3          0.0         NaN            NaN   \n",
       "50      10481            1          0.0        26.0           62.0   \n",
       "\n",
       "    readperc_k  mathperc_k  SmallClassK  minority  StudentMale  MasterDegreeK  \\\n",
       "8    68.954247   79.541733            0       0.0            1              1   \n",
       "12   60.784313   63.666122            0       0.0            1              0   \n",
       "22   77.614380   89.034370            1       0.0            1              1   \n",
       "24   64.052284   81.342064            0       0.0            1              0   \n",
       "50   65.849670   75.122749            1       0.0            1              0   \n",
       "\n",
       "    abovemedianexp_k  gktyears  UniformRand  \n",
       "8                  0         6            1  \n",
       "12                 0         5            1  \n",
       "22                 1        14            1  \n",
       "24                 0         8            1  \n",
       "50                 0         6            1  "
      ]
     },
     "execution_count": 41,
     "metadata": {
      "tags": []
     },
     "output_type": "execute_result"
    }
   ],
   "source": [
    "# Import dependencies\n",
    "# numpy for matrix algbera\n",
    "import numpy as np\n",
    "# Pandas for data manipulation\n",
    "import pandas as pd\n",
    "# matplotlib for data visualization\n",
    "import matplotlib.pyplot as plt\n",
    "# Regression analysis\n",
    "import statsmodels.api as sm\n",
    "\n",
    "# Change size of figures\n",
    "fig_size = [11,7]\n",
    "plt.rcParams[\"figure.figsize\"] = fig_size\n",
    "plt.rc('text', usetex = False)\n",
    "\n",
    "# Load the STAR data\n",
    "educ_data = pd.read_csv(\"STARdata.csv\")\n",
    "\n",
    "# Use random subset of data (if required)\n",
    "# We only use part of the data so that the confidence bands are more visible for practicing\n",
    "educ_data[\"UniformRand\"] = np.random.randint(7, size = len(educ_data[\"studentid\"]))\n",
    "educ_data = educ_data[educ_data[\"UniformRand\"] == 1]\n",
    "\n",
    "# Show structure of data set\n",
    "educ_data.head()"
   ]
  },
  {
   "cell_type": "markdown",
   "metadata": {
    "colab_type": "text",
    "id": "l2lskG7OkFf9"
   },
   "source": [
    "## Data Description and Problem\n",
    "\n",
    "In 1985 the state of Tennessee began The Student/Teacher Achievement Ratio (STAR) Project which was a four-year longitudinal class-size study funded by the State Department of Education. About 6000 students in 79 schools were randomly assigned into small and large classes in kindergarten. The data set for this study is publicly available, we will use a small subset of it here. In particular, we will keep cognitive and noncognitive outcomes, student and teacher characteristics, and the class size. I have already processed the data for the purposes of this notebook. Note that we randomly picked a small subset of the data for educational purposes (bigger standard errors on results).\n"
   ]
  },
  {
   "cell_type": "code",
   "execution_count": 42,
   "metadata": {
    "colab": {
     "base_uri": "https://localhost:8080/",
     "height": 297
    },
    "colab_type": "code",
    "id": "G3gVgwrJkPqm",
    "outputId": "7ffa9b0c-7145-4aa9-950f-f468d799eeec"
   },
   "outputs": [
    {
     "data": {
      "text/html": [
       "<div>\n",
       "<style scoped>\n",
       "    .dataframe tbody tr th:only-of-type {\n",
       "        vertical-align: middle;\n",
       "    }\n",
       "\n",
       "    .dataframe tbody tr th {\n",
       "        vertical-align: top;\n",
       "    }\n",
       "\n",
       "    .dataframe thead th {\n",
       "        text-align: right;\n",
       "    }\n",
       "</style>\n",
       "<table border=\"1\" class=\"dataframe\">\n",
       "  <thead>\n",
       "    <tr style=\"text-align: right;\">\n",
       "      <th></th>\n",
       "      <th>mathperc_k</th>\n",
       "      <th>SmallClassK</th>\n",
       "      <th>abovemedianexp_k</th>\n",
       "      <th>StudentMale</th>\n",
       "      <th>minority</th>\n",
       "    </tr>\n",
       "  </thead>\n",
       "  <tbody>\n",
       "    <tr>\n",
       "      <th>count</th>\n",
       "      <td>854.000000</td>\n",
       "      <td>854.000000</td>\n",
       "      <td>854.000000</td>\n",
       "      <td>854.000000</td>\n",
       "      <td>854.000000</td>\n",
       "    </tr>\n",
       "    <tr>\n",
       "      <th>mean</th>\n",
       "      <td>73.191336</td>\n",
       "      <td>0.312646</td>\n",
       "      <td>0.523419</td>\n",
       "      <td>0.502342</td>\n",
       "      <td>0.324356</td>\n",
       "    </tr>\n",
       "    <tr>\n",
       "      <th>std</th>\n",
       "      <td>8.148654</td>\n",
       "      <td>0.463843</td>\n",
       "      <td>0.499744</td>\n",
       "      <td>0.500288</td>\n",
       "      <td>0.468408</td>\n",
       "    </tr>\n",
       "    <tr>\n",
       "      <th>min</th>\n",
       "      <td>49.754501</td>\n",
       "      <td>0.000000</td>\n",
       "      <td>0.000000</td>\n",
       "      <td>0.000000</td>\n",
       "      <td>0.000000</td>\n",
       "    </tr>\n",
       "    <tr>\n",
       "      <th>25%</th>\n",
       "      <td>66.939445</td>\n",
       "      <td>0.000000</td>\n",
       "      <td>0.000000</td>\n",
       "      <td>0.000000</td>\n",
       "      <td>0.000000</td>\n",
       "    </tr>\n",
       "    <tr>\n",
       "      <th>50%</th>\n",
       "      <td>72.504089</td>\n",
       "      <td>0.000000</td>\n",
       "      <td>1.000000</td>\n",
       "      <td>1.000000</td>\n",
       "      <td>0.000000</td>\n",
       "    </tr>\n",
       "    <tr>\n",
       "      <th>75%</th>\n",
       "      <td>78.232407</td>\n",
       "      <td>1.000000</td>\n",
       "      <td>1.000000</td>\n",
       "      <td>1.000000</td>\n",
       "      <td>1.000000</td>\n",
       "    </tr>\n",
       "    <tr>\n",
       "      <th>max</th>\n",
       "      <td>100.000000</td>\n",
       "      <td>1.000000</td>\n",
       "      <td>1.000000</td>\n",
       "      <td>1.000000</td>\n",
       "      <td>1.000000</td>\n",
       "    </tr>\n",
       "  </tbody>\n",
       "</table>\n",
       "</div>"
      ],
      "text/plain": [
       "       mathperc_k  SmallClassK  abovemedianexp_k  StudentMale    minority\n",
       "count  854.000000   854.000000        854.000000   854.000000  854.000000\n",
       "mean    73.191336     0.312646          0.523419     0.502342    0.324356\n",
       "std      8.148654     0.463843          0.499744     0.500288    0.468408\n",
       "min     49.754501     0.000000          0.000000     0.000000    0.000000\n",
       "25%     66.939445     0.000000          0.000000     0.000000    0.000000\n",
       "50%     72.504089     0.000000          1.000000     1.000000    0.000000\n",
       "75%     78.232407     1.000000          1.000000     1.000000    1.000000\n",
       "max    100.000000     1.000000          1.000000     1.000000    1.000000"
      ]
     },
     "execution_count": 42,
     "metadata": {
      "tags": []
     },
     "output_type": "execute_result"
    }
   ],
   "source": [
    "# Important subset\n",
    "educ_data_subset = educ_data[[\"mathperc_k\", \"SmallClassK\", \"abovemedianexp_k\", \"StudentMale\", \"minority\"]]\n",
    "\n",
    "# Summary statistics for data set (mean, stdev, min, max, etc)\n",
    "educ_data_subset.describe()"
   ]
  },
  {
   "cell_type": "markdown",
   "metadata": {
    "colab_type": "text",
    "id": "QKWKaZNVkY6c"
   },
   "source": [
    "The average math score is $73\\%,$ approximately 1/3 of the classes are small (13-17 students) and also 1/3 of the students are minorities.\n"
   ]
  },
  {
   "cell_type": "markdown",
   "metadata": {
    "colab_type": "text",
    "id": "S6I3YWQ7dv7G"
   },
   "source": [
    "## Main Effect: Impact of class size reduction on math scores\n",
    "\n",
    "In this section we will investigate the causal effects of students being in a smaller class on their math achievement. There two class types, small classes contain 13-17 students and the large classes have 22-25 students. We define the variable $SmallClass_{i} = I(\\text{student i in small class})$ is 1 if the student is in the small class and 0 otherwise.  \n",
    "\n",
    "Since class sizes (small or large) are randomly assigned across students, we can simply compare the mean test scores across the two groups using a linear regression:\n",
    "\n",
    "$$E(Score_{i}|SmallClass_{i})  = \\beta_{0} + \\beta_{1}SmallClass_{i}$$\n",
    "\n",
    "Note that the main coeffecient of interest is $$\\beta_{1} = E(Score_{i}|SmallClass_{i} = 1) - E(Score_{i}|SmallClass_{i} = 0).$$ "
   ]
  },
  {
   "cell_type": "code",
   "execution_count": 43,
   "metadata": {
    "colab": {
     "base_uri": "https://localhost:8080/",
     "height": 376
    },
    "colab_type": "code",
    "id": "C2CSl68fb3ZB",
    "outputId": "267c865c-79e5-4cc7-abe5-06646ba21e9d"
   },
   "outputs": [
    {
     "data": {
      "text/html": [
       "<table class=\"simpletable\">\n",
       "<caption>OLS Regression Results</caption>\n",
       "<tr>\n",
       "  <th>Dep. Variable:</th>       <td>mathperc_k</td>    <th>  R-squared:         </th> <td>   0.088</td>\n",
       "</tr>\n",
       "<tr>\n",
       "  <th>Model:</th>                   <td>OLS</td>       <th>  Adj. R-squared:    </th> <td>   0.087</td>\n",
       "</tr>\n",
       "<tr>\n",
       "  <th>Method:</th>             <td>Least Squares</td>  <th>  F-statistic:       </th> <td>   82.49</td>\n",
       "</tr>\n",
       "<tr>\n",
       "  <th>Date:</th>             <td>Mon, 08 Oct 2018</td> <th>  Prob (F-statistic):</th> <td>7.25e-19</td>\n",
       "</tr>\n",
       "<tr>\n",
       "  <th>Time:</th>                 <td>23:48:43</td>     <th>  Log-Likelihood:    </th> <td> -2963.4</td>\n",
       "</tr>\n",
       "<tr>\n",
       "  <th>No. Observations:</th>      <td>   854</td>      <th>  AIC:               </th> <td>   5931.</td>\n",
       "</tr>\n",
       "<tr>\n",
       "  <th>Df Residuals:</th>          <td>   852</td>      <th>  BIC:               </th> <td>   5940.</td>\n",
       "</tr>\n",
       "<tr>\n",
       "  <th>Df Model:</th>              <td>     1</td>      <th>                     </th>     <td> </td>   \n",
       "</tr>\n",
       "<tr>\n",
       "  <th>Covariance Type:</th>      <td>nonrobust</td>    <th>                     </th>     <td> </td>   \n",
       "</tr>\n",
       "</table>\n",
       "<table class=\"simpletable\">\n",
       "<tr>\n",
       "       <td></td>          <th>coef</th>     <th>std err</th>      <th>t</th>      <th>P>|t|</th>  <th>[0.025</th>    <th>0.975]</th>  \n",
       "</tr>\n",
       "<tr>\n",
       "  <th>const</th>       <td>   71.5595</td> <td>    0.321</td> <td>  222.697</td> <td> 0.000</td> <td>   70.929</td> <td>   72.190</td>\n",
       "</tr>\n",
       "<tr>\n",
       "  <th>SmallClassK</th> <td>    5.2196</td> <td>    0.575</td> <td>    9.083</td> <td> 0.000</td> <td>    4.092</td> <td>    6.348</td>\n",
       "</tr>\n",
       "</table>\n",
       "<table class=\"simpletable\">\n",
       "<tr>\n",
       "  <th>Omnibus:</th>       <td>27.410</td> <th>  Durbin-Watson:     </th> <td>   1.823</td>\n",
       "</tr>\n",
       "<tr>\n",
       "  <th>Prob(Omnibus):</th> <td> 0.000</td> <th>  Jarque-Bera (JB):  </th> <td>  29.235</td>\n",
       "</tr>\n",
       "<tr>\n",
       "  <th>Skew:</th>          <td> 0.447</td> <th>  Prob(JB):          </th> <td>4.48e-07</td>\n",
       "</tr>\n",
       "<tr>\n",
       "  <th>Kurtosis:</th>      <td> 3.144</td> <th>  Cond. No.          </th> <td>    2.42</td>\n",
       "</tr>\n",
       "</table>"
      ],
      "text/plain": [
       "<class 'statsmodels.iolib.summary.Summary'>\n",
       "\"\"\"\n",
       "                            OLS Regression Results                            \n",
       "==============================================================================\n",
       "Dep. Variable:             mathperc_k   R-squared:                       0.088\n",
       "Model:                            OLS   Adj. R-squared:                  0.087\n",
       "Method:                 Least Squares   F-statistic:                     82.49\n",
       "Date:                Mon, 08 Oct 2018   Prob (F-statistic):           7.25e-19\n",
       "Time:                        23:48:43   Log-Likelihood:                -2963.4\n",
       "No. Observations:                 854   AIC:                             5931.\n",
       "Df Residuals:                     852   BIC:                             5940.\n",
       "Df Model:                           1                                         \n",
       "Covariance Type:            nonrobust                                         \n",
       "===============================================================================\n",
       "                  coef    std err          t      P>|t|      [0.025      0.975]\n",
       "-------------------------------------------------------------------------------\n",
       "const          71.5595      0.321    222.697      0.000      70.929      72.190\n",
       "SmallClassK     5.2196      0.575      9.083      0.000       4.092       6.348\n",
       "==============================================================================\n",
       "Omnibus:                       27.410   Durbin-Watson:                   1.823\n",
       "Prob(Omnibus):                  0.000   Jarque-Bera (JB):               29.235\n",
       "Skew:                           0.447   Prob(JB):                     4.48e-07\n",
       "Kurtosis:                       3.144   Cond. No.                         2.42\n",
       "==============================================================================\n",
       "\n",
       "Warnings:\n",
       "[1] Standard Errors assume that the covariance matrix of the errors is correctly specified.\n",
       "\"\"\""
      ]
     },
     "execution_count": 43,
     "metadata": {
      "tags": []
     },
     "output_type": "execute_result"
    }
   ],
   "source": [
    "# Math score outcome\n",
    "MathScore = educ_data[\"mathperc_k\"]\n",
    "\n",
    "# Small class indicator\n",
    "SmallClass = educ_data[\"SmallClassK\"]\n",
    "SmallClass = sm.add_constant(SmallClass)\n",
    "\n",
    "# Linear regression as specefied in text\n",
    "model = sm.OLS(MathScore, SmallClass).fit()\n",
    "\n",
    "# Print out the statistics\n",
    "model.summary()"
   ]
  },
  {
   "cell_type": "markdown",
   "metadata": {
    "colab_type": "text",
    "id": "834cJkvIB4Bx"
   },
   "source": [
    "In sample we can estimate the primary parameter as $$\\widehat{\\beta_{1}} = \\frac{1}{n_{small}}\\sum_{i=1}^{n_{small}}MathScore_{i} - \\frac{1}{n_{large}}\\sum_{i=1}^{n_{large}}MathScore_{i}.$$ As can be observed in the regression output above, $\\widehat{\\beta_{1}} = 5.2.$ On average being in a small class size will lead math test scores to be 5.2 percentage points better.  "
   ]
  },
  {
   "cell_type": "markdown",
   "metadata": {
    "colab_type": "text",
    "id": "bC3RCWWeClir"
   },
   "source": [
    "### Illustrating Class Size Main Effect"
   ]
  },
  {
   "cell_type": "code",
   "execution_count": 44,
   "metadata": {
    "colab": {
     "base_uri": "https://localhost:8080/",
     "height": 509
    },
    "colab_type": "code",
    "id": "2BuDBAJfkJUq",
    "outputId": "27ea86e8-bc5b-4908-9eb0-1b94b73484eb"
   },
   "outputs": [
    {
     "data": {
      "image/png": "[encoded data removed]",
      "text/plain": [
       "<matplotlib.figure.Figure at 0x7f330d785f50>"
      ]
     },
     "metadata": {
      "tags": []
     },
     "output_type": "display_data"
    }
   ],
   "source": [
    "## Bar plot showing main effects of class size on math achievement\n",
    "# Calculate the math average by class size group\n",
    "meanscore_large = educ_data.groupby('SmallClassK', as_index=False).mathperc_k.mean()[\"mathperc_k\"][0]\n",
    "meanscore_small = educ_data.groupby('SmallClassK', as_index=False).mathperc_k.mean()[\"mathperc_k\"][1]\n",
    "\n",
    "#Calculate the math standard deviation by teacher experience group\n",
    "stdscore_large = educ_data.groupby('SmallClassK', as_index=False).mathperc_k.std()[\"mathperc_k\"][0]\n",
    "stdscore_small = educ_data.groupby('SmallClassK', as_index=False).mathperc_k.std()[\"mathperc_k\"][1]\n",
    "\n",
    "# Number of students in each group\n",
    "n_small = np.sum(educ_data[\"SmallClassK\"])\n",
    "n_large = np.size(educ_data[\"SmallClassK\"]) - n_small\n",
    "\n",
    "\n",
    "# Create Arrays for the plot\n",
    "class_size = ['Large Class', 'Small Class']\n",
    "meanscores = [meanscore_large, meanscore_small]\n",
    "stdscores = [stdscore_large, stdscore_small]\n",
    "# 95% confidence intervals for means\n",
    "sescores = [1.96*stdscores[0]/np.sqrt(n_large), 1.96*stdscores[1]/np.sqrt(n_small)]\n",
    "x_pos = np.arange(len(class_size))\n",
    "\n",
    "# Build the plot\n",
    "fig, ax = plt.subplots()\n",
    "ax.bar(x_pos, meanscores, yerr=sescores, align='center', alpha=0.5, ecolor='black', capsize=20)\n",
    "ax.set_ylabel('Math Percentage Score', fontsize = 16)\n",
    "ax.set_xticks(x_pos)\n",
    "ax.set_xticklabels(class_size, fontsize = 16)\n",
    "ax.text(0, 50, 'Mean = %s' % np.round(meanscores[0],1), ha='center', va='bottom', fontweight='bold', fontsize = 16)\n",
    "ax.text(1, 50, 'Mean = %s' % np.round(meanscores[1],1), ha='center', va='bottom', fontweight='bold', fontsize = 16)\n",
    "ax.text(0, 40, 'n = %s' %n_large, ha='center', va='bottom', fontweight='bold', fontsize = 16)\n",
    "ax.text(1, 40, 'n = %s' %n_small, ha='center', va='bottom', fontweight='bold', fontsize = 16)\n",
    "ax.set_title('Class Size and Math Achievement', fontsize = 18)\n",
    "ax.yaxis.grid(True)\n",
    "\n",
    "# Save the figure and show\n",
    "plt.tight_layout()\n",
    "plt.show()"
   ]
  },
  {
   "cell_type": "markdown",
   "metadata": {
    "colab_type": "text",
    "id": "-ZCrTLwUd_TL"
   },
   "source": [
    "## Main Effect: Impact of teacher experience on math scores\n",
    "Now we will examine the effects of having a experienced teacher on math test scores. Here we defined an experience teacher if they have more than 9 years of experience, and inexperience otherwise. That is the variable $ExpTeacher_{i} = I(\\text{Teacher Experience > 9 years})$ is a binary variable. \n",
    "\n",
    "Since teachers are randomly assigned to class rooms, we can compare the math test scores across the experienced and inexperience group using a linear regression:\n",
    "\n",
    "$$E(Score_{i}|ExpTeacher_{i})  = \\alpha_{0} + \\alpha_{1}ExpTeacher_{i}.$$\n",
    "\n",
    "The main parameter of interest is $\\alpha_{1}$\n",
    "\n",
    "$$\\alpha_{1} = E(Score_{i}|ExpTeacher_{i} = 1) - E(Score_{i}|ExpTeacher_{i} = 0).$$ "
   ]
  },
  {
   "cell_type": "code",
   "execution_count": 45,
   "metadata": {
    "colab": {
     "base_uri": "https://localhost:8080/",
     "height": 376
    },
    "colab_type": "code",
    "id": "9cd_iW1Sd6Gt",
    "outputId": "46970506-fb1e-46e3-9c45-839a3510ca19"
   },
   "outputs": [
    {
     "data": {
      "text/html": [
       "<table class=\"simpletable\">\n",
       "<caption>OLS Regression Results</caption>\n",
       "<tr>\n",
       "  <th>Dep. Variable:</th>       <td>mathperc_k</td>    <th>  R-squared:         </th> <td>   0.039</td>\n",
       "</tr>\n",
       "<tr>\n",
       "  <th>Model:</th>                   <td>OLS</td>       <th>  Adj. R-squared:    </th> <td>   0.037</td>\n",
       "</tr>\n",
       "<tr>\n",
       "  <th>Method:</th>             <td>Least Squares</td>  <th>  F-statistic:       </th> <td>   34.21</td>\n",
       "</tr>\n",
       "<tr>\n",
       "  <th>Date:</th>             <td>Mon, 08 Oct 2018</td> <th>  Prob (F-statistic):</th> <td>7.04e-09</td>\n",
       "</tr>\n",
       "<tr>\n",
       "  <th>Time:</th>                 <td>23:48:51</td>     <th>  Log-Likelihood:    </th> <td> -2986.0</td>\n",
       "</tr>\n",
       "<tr>\n",
       "  <th>No. Observations:</th>      <td>   854</td>      <th>  AIC:               </th> <td>   5976.</td>\n",
       "</tr>\n",
       "<tr>\n",
       "  <th>Df Residuals:</th>          <td>   852</td>      <th>  BIC:               </th> <td>   5986.</td>\n",
       "</tr>\n",
       "<tr>\n",
       "  <th>Df Model:</th>              <td>     1</td>      <th>                     </th>     <td> </td>   \n",
       "</tr>\n",
       "<tr>\n",
       "  <th>Covariance Type:</th>      <td>nonrobust</td>    <th>                     </th>     <td> </td>   \n",
       "</tr>\n",
       "</table>\n",
       "<table class=\"simpletable\">\n",
       "<tr>\n",
       "          <td></td>            <th>coef</th>     <th>std err</th>      <th>t</th>      <th>P>|t|</th>  <th>[0.025</th>    <th>0.975]</th>  \n",
       "</tr>\n",
       "<tr>\n",
       "  <th>const</th>            <td>   71.5145</td> <td>    0.396</td> <td>  180.468</td> <td> 0.000</td> <td>   70.737</td> <td>   72.292</td>\n",
       "</tr>\n",
       "<tr>\n",
       "  <th>abovemedianexp_k</th> <td>    3.2037</td> <td>    0.548</td> <td>    5.849</td> <td> 0.000</td> <td>    2.129</td> <td>    4.279</td>\n",
       "</tr>\n",
       "</table>\n",
       "<table class=\"simpletable\">\n",
       "<tr>\n",
       "  <th>Omnibus:</th>       <td>40.332</td> <th>  Durbin-Watson:     </th> <td>   1.858</td>\n",
       "</tr>\n",
       "<tr>\n",
       "  <th>Prob(Omnibus):</th> <td> 0.000</td> <th>  Jarque-Bera (JB):  </th> <td>  45.109</td>\n",
       "</tr>\n",
       "<tr>\n",
       "  <th>Skew:</th>          <td> 0.530</td> <th>  Prob(JB):          </th> <td>1.60e-10</td>\n",
       "</tr>\n",
       "<tr>\n",
       "  <th>Kurtosis:</th>      <td> 3.382</td> <th>  Cond. No.          </th> <td>    2.68</td>\n",
       "</tr>\n",
       "</table>"
      ],
      "text/plain": [
       "<class 'statsmodels.iolib.summary.Summary'>\n",
       "\"\"\"\n",
       "                            OLS Regression Results                            \n",
       "==============================================================================\n",
       "Dep. Variable:             mathperc_k   R-squared:                       0.039\n",
       "Model:                            OLS   Adj. R-squared:                  0.037\n",
       "Method:                 Least Squares   F-statistic:                     34.21\n",
       "Date:                Mon, 08 Oct 2018   Prob (F-statistic):           7.04e-09\n",
       "Time:                        23:48:51   Log-Likelihood:                -2986.0\n",
       "No. Observations:                 854   AIC:                             5976.\n",
       "Df Residuals:                     852   BIC:                             5986.\n",
       "Df Model:                           1                                         \n",
       "Covariance Type:            nonrobust                                         \n",
       "====================================================================================\n",
       "                       coef    std err          t      P>|t|      [0.025      0.975]\n",
       "------------------------------------------------------------------------------------\n",
       "const               71.5145      0.396    180.468      0.000      70.737      72.292\n",
       "abovemedianexp_k     3.2037      0.548      5.849      0.000       2.129       4.279\n",
       "==============================================================================\n",
       "Omnibus:                       40.332   Durbin-Watson:                   1.858\n",
       "Prob(Omnibus):                  0.000   Jarque-Bera (JB):               45.109\n",
       "Skew:                           0.530   Prob(JB):                     1.60e-10\n",
       "Kurtosis:                       3.382   Cond. No.                         2.68\n",
       "==============================================================================\n",
       "\n",
       "Warnings:\n",
       "[1] Standard Errors assume that the covariance matrix of the errors is correctly specified.\n",
       "\"\"\""
      ]
     },
     "execution_count": 45,
     "metadata": {
      "tags": []
     },
     "output_type": "execute_result"
    }
   ],
   "source": [
    "# Teacher experience indicator\n",
    "ExpTeacher = educ_data[\"abovemedianexp_k\"]\n",
    "ExpTeacher = sm.add_constant(ExpTeacher)\n",
    "\n",
    "# Linear regression as specefied in text\n",
    "model = sm.OLS(MathScore, ExpTeacher).fit()\n",
    "\n",
    "# Print out the statistics\n",
    "model.summary()"
   ]
  },
  {
   "cell_type": "markdown",
   "metadata": {
    "colab_type": "text",
    "id": "JsKtfxmxOFqK"
   },
   "source": []
  },
  {
   "cell_type": "markdown",
   "metadata": {
    "colab_type": "text",
    "id": "pz63lU7wG6hw"
   },
   "source": [
    "In sample we can estimate the primary parameter as $$\\widehat{\\alpha_{1}} = \\frac{1}{n_{experience}}\\sum_{i=1}^{n_{experience}}MathScore_{i} - \\frac{1}{n_{inexperience}}\\sum_{i=1}^{n_{inexperience}}MathScore_{i}.$$ As can be observed in the regression output above, $\\widehat{\\alpha_{1}} = 3.2.$ On average having an experienced teacher will lead math test scores to be 3.2 percentage points better.  "
   ]
  },
  {
   "cell_type": "markdown",
   "metadata": {
    "colab_type": "text",
    "id": "dfuN9plPDOIi"
   },
   "source": [
    "### Illustrating Teacher Experience Main Effect"
   ]
  },
  {
   "cell_type": "code",
   "execution_count": 46,
   "metadata": {
    "colab": {
     "base_uri": "https://localhost:8080/",
     "height": 509
    },
    "colab_type": "code",
    "id": "atUGD016WJQx",
    "outputId": "59e73c1e-7cc7-4d78-a1a9-cf1bc1b68f74"
   },
   "outputs": [
    {
     "data": {
      "image/png": "[encoded data removed]",
      "text/plain": [
       "<matplotlib.figure.Figure at 0x7f330fc9e1d0>"
      ]
     },
     "metadata": {
      "tags": []
     },
     "output_type": "display_data"
    }
   ],
   "source": [
    "## Bar plot showing main effects of teacher experience on math achievement\n",
    "# Calculate the math average by teacher experience group\n",
    "meanscore_inexp = educ_data.groupby('abovemedianexp_k', as_index=False).mathperc_k.mean()[\"mathperc_k\"][0]\n",
    "meanscore_exp = educ_data.groupby('abovemedianexp_k', as_index=False).mathperc_k.mean()[\"mathperc_k\"][1]\n",
    "\n",
    "#Calculate the math standard deviation by teacher experience group\n",
    "stdscore_inexp = educ_data.groupby('abovemedianexp_k', as_index=False).mathperc_k.std()[\"mathperc_k\"][0]\n",
    "stdscore_exp = educ_data.groupby('abovemedianexp_k', as_index=False).mathperc_k.std()[\"mathperc_k\"][1]\n",
    "\n",
    "# Number of students in each group\n",
    "n_exp = np.sum(educ_data[\"abovemedianexp_k\"])\n",
    "n_inexp = np.size(educ_data[\"abovemedianexp_k\"]) - n_exp\n",
    "\n",
    "\n",
    "# Create Arrays for the plot\n",
    "teacher_exp = ['Inexperienced', 'Experienced']\n",
    "meanscores = [meanscore_inexp, meanscore_exp]\n",
    "stdscores = [stdscore_inexp, stdscore_exp]\n",
    "# 95% confidence intervals for means\n",
    "sescores = [1.96*stdscores[0]/np.sqrt(n_inexp), 1.96*stdscores[1]/np.sqrt(n_exp)]\n",
    "x_pos = np.arange(len(teacher_exp))\n",
    "\n",
    "# Build the plot\n",
    "fig, ax = plt.subplots()\n",
    "ax.bar(x_pos, meanscores, yerr=sescores, align='center', alpha=0.5, ecolor='black', capsize=20)\n",
    "ax.set_ylabel('Math Percentage Score', fontsize = 16)\n",
    "ax.set_xticks(x_pos)\n",
    "ax.set_xticklabels(teacher_exp, fontsize = 16)\n",
    "ax.text(0, 50, 'Mean = %s' % np.round(meanscores[0],1), ha='center', va='bottom', fontweight='bold', fontsize = 16)\n",
    "ax.text(1, 50, 'Mean = %s' % np.round(meanscores[1],1), ha='center', va='bottom', fontweight='bold', fontsize = 16)\n",
    "ax.text(0, 40, 'n = %s' %n_exp, ha='center', va='bottom', fontweight='bold', fontsize = 16)\n",
    "ax.text(1, 40, 'n = %s' %n_inexp, ha='center', va='bottom', fontweight='bold', fontsize = 16)\n",
    "ax.set_title('Teacher Experience and Math Achievement', fontsize = 18)\n",
    "ax.yaxis.grid(True)\n",
    "\n",
    "# Save the figure and show\n",
    "plt.tight_layout()\n",
    "plt.show()"
   ]
  },
  {
   "cell_type": "markdown",
   "metadata": {
    "colab_type": "text",
    "id": "QnQbzEqCf0fi"
   },
   "source": [
    "## Interaction Effect: Class Size Effects Depends on Experience\n",
    "\n",
    "The two effects we studied above are both main effects, in this section we will consider an interaction effect. In particular we will explore whether the benefits to class size reduction depend on the teacher's experience. Consider the following linear regression:\n",
    "\n",
    "$$E(Score_{i}|SmallClass_{i}, ExpTeacher_{i})  = \\theta_{0} + \\theta_{1}SmallClass_{i} + \\theta_{2}ExpTeacher_{i} + \\theta_{3}SmallClass_{i} \\times ExpTeacher_{i},$$\n",
    "\n",
    "where $SmallClass_{i} \\times ExpTeacher_{i}$ is the interaction term in the regression.\n",
    "\n",
    "The primary parameter of interest is $\\theta_{3}:$\n",
    "\n",
    "$$\\theta_{3} = [E(Score_{i}|SmallClass_{i}=1, ExpTeacher_{i}=1) - E(Score_{i}|SmallClass_{i}=0, ExpTeacher_{i}=1) ] - [E(Score_{i}|SmallClass_{i}=1, ExpTeacher_{i}=0) - E(Score_{i}|SmallClass_{i}=0, ExpTeacher_{i}=0) ].$$\n",
    "Note that $\\theta_{3}$ is a difference-in-difference of means, the first difference is the benefits from class size reduction for experienced and inexperenced teacher, and then we difference these benefits. That is $$\\theta_{3} = \\text{Mean benefits to class size reduction for experienced teacher} - \\text{Mean benefits to class size reduction for inexperienced teacher}.$$\n"
   ]
  },
  {
   "cell_type": "code",
   "execution_count": 47,
   "metadata": {
    "colab": {
     "base_uri": "https://localhost:8080/",
     "height": 418
    },
    "colab_type": "code",
    "id": "Rn7BXDfdgAMA",
    "outputId": "9c92175f-065e-4adf-daac-9b088b06e207"
   },
   "outputs": [
    {
     "data": {
      "text/html": [
       "<table class=\"simpletable\">\n",
       "<caption>OLS Regression Results</caption>\n",
       "<tr>\n",
       "  <th>Dep. Variable:</th>       <td>mathperc_k</td>    <th>  R-squared:         </th> <td>   0.140</td>\n",
       "</tr>\n",
       "<tr>\n",
       "  <th>Model:</th>                   <td>OLS</td>       <th>  Adj. R-squared:    </th> <td>   0.137</td>\n",
       "</tr>\n",
       "<tr>\n",
       "  <th>Method:</th>             <td>Least Squares</td>  <th>  F-statistic:       </th> <td>   46.24</td>\n",
       "</tr>\n",
       "<tr>\n",
       "  <th>Date:</th>             <td>Mon, 08 Oct 2018</td> <th>  Prob (F-statistic):</th> <td>1.10e-27</td>\n",
       "</tr>\n",
       "<tr>\n",
       "  <th>Time:</th>                 <td>23:49:02</td>     <th>  Log-Likelihood:    </th> <td> -2938.3</td>\n",
       "</tr>\n",
       "<tr>\n",
       "  <th>No. Observations:</th>      <td>   854</td>      <th>  AIC:               </th> <td>   5885.</td>\n",
       "</tr>\n",
       "<tr>\n",
       "  <th>Df Residuals:</th>          <td>   850</td>      <th>  BIC:               </th> <td>   5904.</td>\n",
       "</tr>\n",
       "<tr>\n",
       "  <th>Df Model:</th>              <td>     3</td>      <th>                     </th>     <td> </td>   \n",
       "</tr>\n",
       "<tr>\n",
       "  <th>Covariance Type:</th>      <td>nonrobust</td>    <th>                     </th>     <td> </td>   \n",
       "</tr>\n",
       "</table>\n",
       "<table class=\"simpletable\">\n",
       "<tr>\n",
       "          <td></td>            <th>coef</th>     <th>std err</th>      <th>t</th>      <th>P>|t|</th>  <th>[0.025</th>    <th>0.975]</th>  \n",
       "</tr>\n",
       "<tr>\n",
       "  <th>const</th>            <td>   69.1870</td> <td>    0.458</td> <td>  151.035</td> <td> 0.000</td> <td>   68.288</td> <td>   70.086</td>\n",
       "</tr>\n",
       "<tr>\n",
       "  <th>SmallClassK</th>      <td>    7.0692</td> <td>    0.798</td> <td>    8.855</td> <td> 0.000</td> <td>    5.502</td> <td>    8.636</td>\n",
       "</tr>\n",
       "<tr>\n",
       "  <th>abovemedianexp_k</th> <td>    4.4351</td> <td>    0.626</td> <td>    7.081</td> <td> 0.000</td> <td>    3.206</td> <td>    5.664</td>\n",
       "</tr>\n",
       "<tr>\n",
       "  <th>Interaction</th>      <td>   -3.3855</td> <td>    1.118</td> <td>   -3.027</td> <td> 0.003</td> <td>   -5.580</td> <td>   -1.191</td>\n",
       "</tr>\n",
       "</table>\n",
       "<table class=\"simpletable\">\n",
       "<tr>\n",
       "  <th>Omnibus:</th>       <td>32.028</td> <th>  Durbin-Watson:     </th> <td>   1.811</td>\n",
       "</tr>\n",
       "<tr>\n",
       "  <th>Prob(Omnibus):</th> <td> 0.000</td> <th>  Jarque-Bera (JB):  </th> <td>  34.690</td>\n",
       "</tr>\n",
       "<tr>\n",
       "  <th>Skew:</th>          <td> 0.474</td> <th>  Prob(JB):          </th> <td>2.93e-08</td>\n",
       "</tr>\n",
       "<tr>\n",
       "  <th>Kurtosis:</th>      <td> 3.279</td> <th>  Cond. No.          </th> <td>    6.43</td>\n",
       "</tr>\n",
       "</table>"
      ],
      "text/plain": [
       "<class 'statsmodels.iolib.summary.Summary'>\n",
       "\"\"\"\n",
       "                            OLS Regression Results                            \n",
       "==============================================================================\n",
       "Dep. Variable:             mathperc_k   R-squared:                       0.140\n",
       "Model:                            OLS   Adj. R-squared:                  0.137\n",
       "Method:                 Least Squares   F-statistic:                     46.24\n",
       "Date:                Mon, 08 Oct 2018   Prob (F-statistic):           1.10e-27\n",
       "Time:                        23:49:02   Log-Likelihood:                -2938.3\n",
       "No. Observations:                 854   AIC:                             5885.\n",
       "Df Residuals:                     850   BIC:                             5904.\n",
       "Df Model:                           3                                         \n",
       "Covariance Type:            nonrobust                                         \n",
       "====================================================================================\n",
       "                       coef    std err          t      P>|t|      [0.025      0.975]\n",
       "------------------------------------------------------------------------------------\n",
       "const               69.1870      0.458    151.035      0.000      68.288      70.086\n",
       "SmallClassK          7.0692      0.798      8.855      0.000       5.502       8.636\n",
       "abovemedianexp_k     4.4351      0.626      7.081      0.000       3.206       5.664\n",
       "Interaction         -3.3855      1.118     -3.027      0.003      -5.580      -1.191\n",
       "==============================================================================\n",
       "Omnibus:                       32.028   Durbin-Watson:                   1.811\n",
       "Prob(Omnibus):                  0.000   Jarque-Bera (JB):               34.690\n",
       "Skew:                           0.474   Prob(JB):                     2.93e-08\n",
       "Kurtosis:                       3.279   Cond. No.                         6.43\n",
       "==============================================================================\n",
       "\n",
       "Warnings:\n",
       "[1] Standard Errors assume that the covariance matrix of the errors is correctly specified.\n",
       "\"\"\""
      ]
     },
     "execution_count": 47,
     "metadata": {
      "tags": []
     },
     "output_type": "execute_result"
    }
   ],
   "source": [
    "# Interaction term: I(small) x I(experienced)\n",
    "educ_data[\"Interaction\"] = educ_data[\"abovemedianexp_k\"]*educ_data[\"SmallClassK\"]\n",
    "\n",
    "#SmallExpTeacher = sm.add_constant(SmallExpTeacher)\n",
    "\n",
    "# Design matrix\n",
    "X = educ_data[[\"SmallClassK\", \"abovemedianexp_k\", \"Interaction\"]]\n",
    "X = sm.add_constant(X)\n",
    "\n",
    "# Note the difference in argument order\n",
    "model = sm.OLS(MathScore, X).fit()\n",
    "\n",
    "# Print out the statistics\n",
    "model.summary()"
   ]
  },
  {
   "cell_type": "markdown",
   "metadata": {
    "colab_type": "text",
    "id": "XsrKB1EkQR0w"
   },
   "source": [
    "In sample we can estimate the primary parameter as $$\\widehat{\\theta_{3}} = \\big[\\frac{1}{n_{small,exp}}\\sum_{i=1}^{n_{small,exp}}MathScore_{i} - \\frac{1}{n_{large,exp}}\\sum_{i=1}^{n_{large,exp}}MathScore_{i}\\big] -  \\big[\\frac{1}{n_{small,inexp}}\\sum_{i=1}^{n_{small,inexp}}MathScore_{i} - \\frac{1}{n_{large,inexp}}\\sum_{i=1}^{n_{large,inexp}}MathScore_{i}\\big].$$\n",
    "\n",
    "As can be observed in the regression output above, $\\widehat{\\theta_{3}} = -3.3.$ On average less experienced teachers will benefit 3.3 percentage points in math performance more from class size reducation than experienced teachers.  \n"
   ]
  },
  {
   "cell_type": "markdown",
   "metadata": {
    "colab_type": "text",
    "id": "gzkIlmppC4hG"
   },
   "source": [
    "### Illustrating Dependance of The Class Size Effect on Teacher Experience\n"
   ]
  },
  {
   "cell_type": "code",
   "execution_count": 48,
   "metadata": {
    "colab": {
     "base_uri": "https://localhost:8080/",
     "height": 509
    },
    "colab_type": "code",
    "id": "Cn4lEQTXpg3j",
    "outputId": "9c5b367e-3749-4698-9775-2f025ccb17ff"
   },
   "outputs": [
    {
     "data": {
      "image/png": "[encoded data removed]",
      "text/plain": [
       "<matplotlib.figure.Figure at 0x7f330d69df50>"
      ]
     },
     "metadata": {
      "tags": []
     },
     "output_type": "display_data"
    }
   ],
   "source": [
    "## Bar plot showing interaction effects of teacher experience and class size\n",
    "# Average test score by (exp, size) group\n",
    "mean_large_inexp = educ_data.groupby(['abovemedianexp_k', 'SmallClassK'], as_index=False).mathperc_k.mean()['mathperc_k'][0]\n",
    "mean_small_inexp = educ_data.groupby(['abovemedianexp_k', 'SmallClassK'], as_index=False).mathperc_k.mean()['mathperc_k'][1]\n",
    "mean_large_exp = educ_data.groupby(['abovemedianexp_k', 'SmallClassK'], as_index=False).mathperc_k.mean()['mathperc_k'][2]\n",
    "mean_small_exp = educ_data.groupby(['abovemedianexp_k', 'SmallClassK'], as_index=False).mathperc_k.mean()['mathperc_k'][3]\n",
    "\n",
    "# Stdev for test score by (exp, size) group\n",
    "std_large_inexp = educ_data.groupby(['abovemedianexp_k', 'SmallClassK'], as_index=False).mathperc_k.std()['mathperc_k'][0]\n",
    "std_small_inexp = educ_data.groupby(['abovemedianexp_k', 'SmallClassK'], as_index=False).mathperc_k.std()['mathperc_k'][1]\n",
    "std_large_exp = educ_data.groupby(['abovemedianexp_k', 'SmallClassK'], as_index=False).mathperc_k.std()['mathperc_k'][2]\n",
    "std_small_exp = educ_data.groupby(['abovemedianexp_k', 'SmallClassK'], as_index=False).mathperc_k.std()['mathperc_k'][3]\n",
    "\n",
    "# Number of students per group\n",
    "n_large_inexp = educ_data.groupby(['abovemedianexp_k', 'SmallClassK'], as_index=False).mathperc_k.size()[0][0]\n",
    "n_small_inexp = educ_data.groupby(['abovemedianexp_k', 'SmallClassK'], as_index=False).mathperc_k.size()[0][1]\n",
    "n_large_exp = educ_data.groupby(['abovemedianexp_k', 'SmallClassK'], as_index=False).mathperc_k.size()[2]\n",
    "n_small_exp = educ_data.groupby(['abovemedianexp_k', 'SmallClassK'], as_index=False).mathperc_k.size()[3]\n",
    "\n",
    "# Create Arrays for the plot\n",
    "groups = ['(Large, Exp)', '(Small, Exp)','(Large, Inexp)', '(Small, Inexp)']\n",
    "meanscores = [mean_large_exp, mean_small_exp, mean_large_inexp, mean_small_inexp]\n",
    "stdscores = [std_large_exp, std_small_exp, std_large_inexp, std_small_inexp]\n",
    "# 95% confidence intervals for means\n",
    "sescores = [1.96*stdscores[0]/np.sqrt(n_large_exp), 1.96*stdscores[1]/np.sqrt(n_small_exp), 1.96*stdscores[0]/np.sqrt(n_large_inexp), 1.96*stdscores[1]/np.sqrt(n_small_inexp)]\n",
    "x_pos = np.arange(len(groups))\n",
    "\n",
    "# Build the plot\n",
    "fig, ax = plt.subplots()\n",
    "ax.bar(x_pos, meanscores, yerr=sescores, align='center', alpha=0.5, ecolor='black', capsize=20, color=['deepskyblue', 'deepskyblue', 'red', 'red'])\n",
    "ax.set_ylabel('Math Percentage Score', fontsize = 16)\n",
    "ax.set_xticks(x_pos)\n",
    "ax.set_xticklabels(groups, fontsize = 16)\n",
    "ax.text(0, 50, 'Mean = %s' % np.round(meanscores[0],1), ha='center', va='bottom', fontweight='bold', fontsize = 16)\n",
    "ax.text(1, 50, 'Mean = %s' % np.round(meanscores[1],1), ha='center', va='bottom', fontweight='bold', fontsize = 16)\n",
    "ax.text(2, 50, 'Mean = %s' % np.round(meanscores[2],1), ha='center', va='bottom', fontweight='bold', fontsize = 16)\n",
    "ax.text(3, 50, 'Mean = %s' % np.round(meanscores[3],1), ha='center', va='bottom', fontweight='bold', fontsize = 16)\n",
    "ax.text(0, 40, 'n = %s' %n_large_exp, ha='center', va='bottom', fontweight='bold', fontsize = 16)\n",
    "ax.text(1, 40, 'n = %s' %n_small_exp, ha='center', va='bottom', fontweight='bold', fontsize = 16)\n",
    "ax.text(2, 40, 'n = %s' %n_large_inexp, ha='center', va='bottom', fontweight='bold', fontsize = 16)\n",
    "ax.text(3, 40, 'n = %s' %n_small_inexp, ha='center', va='bottom', fontweight='bold', fontsize = 16)\n",
    "ax.set_title('Class Size and Teacher Effects Interaction on Math Performance', fontsize = 18)\n",
    "ax.yaxis.grid(True)\n",
    "\n",
    "# Save the figure and show\n",
    "plt.tight_layout()\n",
    "plt.show()"
   ]
  },
  {
   "cell_type": "markdown",
   "metadata": {
    "colab_type": "text",
    "id": "EtjIeH7wd9bm"
   },
   "source": [
    "## Extensions To Consider\n",
    "\n",
    "For those interested in practicing, I have suggestion a few extensions below. I provide the regression for eact extension, hence you should be able to make adjustments to the code above to adress each of the new questions.\n",
    "\n",
    "$\\textbf{Hetregenous effects of class size reduction by gender:}$\n",
    "\n",
    "Are the benefits of class size reducation different for male students relative to female students? The following regression can help us explore this question:\n",
    "\n",
    "\n",
    "$$E(Score_{i}|SmallClass_{i}, Male_{i}) = \\tau_{0} + \\tau_{1}SmallClass_{i} +   \\tau_{2}Male_{i} + \\tau_{3}SmallClass_{i} \\times Male_{i}$$ \n",
    "\n",
    "$\\textbf{Treat experience as continous variable (rather than binary):}$\n",
    "\n",
    "In the above analysis we categorized an experience teacher if they had more than 9 years of experience, and inexperienced otherwise. Although this simplifies interpretation of the results, we observe the exact years of teacher experience in \"gktyears\". Consider the following regression:\n",
    "\n",
    "$$E(Score_{i}|SmallClass_{i}, Exp_{i}) = \\delta_{0} + \\delta_{1}SmallClass_{i} +   \\delta_{2}Exp_{i} + \\delta_{3}SmallClass_{i} \\times Exp_{i},$$  \n",
    "where $Exp_{i}$ is a continous variable representing teacher experience. Estimate the above model and think about the interpretation of $\\hat{\\delta_{3}}.$ Notice that $$\\frac{dE(Score_{i}|SmallClass_{i}, Exp_{i})}{dExp_{i}} = \\delta_{2} + \\delta_{3}SmallClass_{i}.$$\n",
    "\n",
    "\n",
    "\n",
    "$\\textbf{3x2 factorial design:}$\n",
    "\n",
    "The real data actually has 3 treatment groups (small class, large class, large class + teacher aide). In the above analysis I combined the large class treatment into one. The \"gkclasstype\" variable indicates which group the observation is randomly assigned into. For the 3x2 design, consider the following regression:\n",
    "\n",
    "$$E(Score_{i}|LargeClass_{i}, LargeClassAide_{i}, ExpTeacher_{i}) = \\gamma_{0} + \\gamma_{1}LargeClass_{i} + \\gamma_{2}LargeClassAide_{i} + \\gamma_{3}ExpTeacher_{i} + \\gamma_{4}LargeClass_{i}\\times ExpTeacher_{i} + \\gamma_{5}LargeClassAide_{i}\\times ExpTeacher_{i},$$ \n",
    "\n",
    "where $LargeClass_{i} = I($student in large class) and  $LargeClassAide_{i} = I($student in large class and teacher aide). Note that there is also $SmallClass_{i} = I($student in small class) but it has to omitted from the regression (think about why this is the case).\n",
    "\n",
    "$\\textbf{Effects of class size reduction on non-cognitive outcomes}:$\n",
    "\n",
    "The data contains non-cognitive outcomes such as motivation and self-concept. I imagine the psychologists will know more about this. You can replicate the above analysis using non-cognitive outcomes. The non-cogntive outcomes are the variables \"gkmotivraw\" and \t\"gkselfconcraw\" in the data.\n",
    "\n"
   ]
  },
  {
   "cell_type": "markdown",
   "metadata": {
    "colab_type": "text",
    "id": "r5VdGza0Pnfx"
   },
   "source": [
    "## Conclusion\n",
    "\n",
    "In this notebook we examined whether class size reduction can increase student achievement and if these test score gains depend on the teachers experience. We used linear regression model to explore main effects of class size reduction and teacher experience and their interaction on test scores. We found that on average having small classes or an experienced teachers increases test scores as would be expected. However the benefits to smaller classes is larger for experienced teachers relative to inexperienced teachers. "
   ]
  }
 ],
 "metadata": {
  "colab": {
   "collapsed_sections": [],
   "name": "Experimental Data and Linear Regression.ipynb",
   "provenance": [],
   "version": "0.3.2"
  },
  "kernelspec": {
   "display_name": "Python 2",
   "language": "python",
   "name": "python2"
  },
  "language_info": {
   "codemirror_mode": {
    "name": "ipython",
    "version": 2
   },
   "file_extension": ".py",
   "mimetype": "text/x-python",
   "name": "python",
   "nbconvert_exporter": "python",
   "pygments_lexer": "ipython2",
   "version": "2.7.12"
  }
 },
 "nbformat": 4,
 "nbformat_minor": 1
}
