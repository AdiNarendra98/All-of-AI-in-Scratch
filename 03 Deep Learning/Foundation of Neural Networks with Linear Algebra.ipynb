{
 "cells": [
  {
   "cell_type": "markdown",
   "metadata": {},
   "source": [
    "# Intro to Deep Learning"
   ]
  },
  {
   "cell_type": "markdown",
   "metadata": {},
   "source": [
    "## What is Deep Learning?\n",
    "\n",
    "To get a clear understanding of what deep learning is we need to have a understanding of AI and machine learning first. \n",
    "![](images/compare_AI_ML_DL.png)\n",
    "\n",
    "**Artificial Intelligence** is field of computer science that deals with operation performed by any system apart from human beings or put it more precise sentence *the effort to automate intellectual tasks normally performed by humans*. \n",
    "\n",
    "AI is a general field that encompasses machine learning and deep learning. \n",
    "\n",
    "**Machine Learning** on the other hand is ability of the machine to learn certain task. The aim here is to learn a particular set of rules. When the machine learns the set of rules, it then has the ability to perform a task.\n",
    "\n",
    "A machine learning system has to learn an **example**--a collection of **features** also known as the independent variables and a **target** also known as dependent variable-- that we want a machine learning to process. \n",
    "\n",
    "![](images/machinelearningparadigm.png)\n",
    "\n",
    "\n",
    "**Deep Learning** is a step further to machine learning. Since the so called examples can sometimes be very complex to understand and also difficult to extract vital information, we need some kind system that can break the pattern in a more step by step procedure and store the vital information for our understanding. \n",
    "\n",
    "Hence, a learning that is based upon finding hidden patterns in the data by making use of multilayer neural network or multilayer perceptron. \n"
   ]
  },
  {
   "cell_type": "markdown",
   "metadata": {},
   "source": [
    "## Content\n",
    "\n",
    "1. Perceptron\n",
    "- Temperature conversion\n",
    "- Activation Function\n",
    "- Dense Layer\n",
    "- Vanila Neural Network"
   ]
  },
  {
   "cell_type": "markdown",
   "metadata": {},
   "source": [
    "## 1. Perceptron : Forward Propagation\n",
    "\n",
    "### What is a perceptron?\n",
    ">A perceptron is fundamental block of a neural network. It consist of a single neuron and a single layer. \n",
    "\n",
    "![](images/perceptron.png)\n",
    "\n",
    "\n",
    "#### Math behind it\n",
    "##### Linear Algebra\n",
    "- Vector, Matrix and Tensors\n",
    "    - Vectors are list of numbers arranged in an orderly fashion\n",
    "    - $x$ = $\\begin{bmatrix}\n",
    "4 \\\\\n",
    "2 \\\\\n",
    "\\end{bmatrix}\n",
    "$\n",
    "    - A matrix is a 2 dimension array of numbers or Matrix is a regtangular arrangement of numbers in tabular format of rows and columns. \n",
    "    - $A$ = $\\begin{bmatrix}\n",
    "1 & 2  \\\\\n",
    "2 & 4 \\\\\n",
    "\\end{bmatrix}\n",
    "$ \n",
    "    - Tensors are matrices that more than 2 dimension. \n",
    " \n",
    " \n",
    "  \n",
    "- Matrix Multiplication\n",
    "    - $Ax = b$\n",
    "    - Columns of the first matrix should be equal to row of the second matrix\n",
    "    - $\\begin{bmatrix}\n",
    "1 & 2  \\\\\n",
    "2 & 4 \\\\\n",
    "\\end{bmatrix}\n",
    "$ x $\\begin{bmatrix}\n",
    "4 \\\\\n",
    "2 \\\\\n",
    "\\end{bmatrix}\n",
    "$ = 4 $\\begin{bmatrix}\n",
    "1 \\\\\n",
    "2 \\\\\n",
    "\\end{bmatrix}$ + 2 $\\begin{bmatrix}\n",
    "2 \\\\\n",
    "4 \\\\\n",
    "\\end{bmatrix}$\n",
    "    - $\\begin{bmatrix}\n",
    "1 & 2  \\\\\n",
    "2 & 4 \\\\\n",
    "\\end{bmatrix}\n",
    "$ x $\\begin{bmatrix}\n",
    "4 \\\\\n",
    "2 \\\\\n",
    "\\end{bmatrix}\n",
    "$ = $\\begin{bmatrix}\n",
    "8 \\\\\n",
    "16 \\\\\n",
    "\\end{bmatrix}\n",
    "$\n",
    "- Weights and Biases\n",
    "    - Weights makes connection with the neurons whereas bias reduces the variance or the distribution of the data.\n",
    "    - Both are scalar vectors.\n",
    "- Linear regression and Logistic regression \n",
    "- Loss or error"
   ]
  },
  {
   "cell_type": "markdown",
   "metadata": {},
   "source": [
    "## Constructing a perceptron -- Linear Regression"
   ]
  },
  {
   "cell_type": "code",
   "execution_count": 1,
   "metadata": {},
   "outputs": [],
   "source": [
    "import numpy as np\n",
    "import matplotlib.pyplot as plt"
   ]
  },
  {
   "cell_type": "code",
   "execution_count": 2,
   "metadata": {},
   "outputs": [],
   "source": [
    "w = np.random.rand(1)\n",
    "b = np.zeros(1)"
   ]
  },
  {
   "cell_type": "code",
   "execution_count": 3,
   "metadata": {},
   "outputs": [],
   "source": [
    "X = np.random.rand(40,1) #column matrix"
   ]
  },
  {
   "cell_type": "code",
   "execution_count": 4,
   "metadata": {},
   "outputs": [],
   "source": [
    "\"\"\"\n",
    "y = mX + b\n",
    "y = wX + b\n",
    "\"\"\"\n",
    "y = X*2 + 0 + 0.1*np.random.randn(40,1)"
   ]
  },
  {
   "cell_type": "code",
   "execution_count": 5,
   "metadata": {},
   "outputs": [
    {
     "data": {
      "image/png": "[encoded data removed]",
      "text/plain": [
       "<Figure size 432x288 with 1 Axes>"
      ]
     },
     "metadata": {
      "needs_background": "light"
     },
     "output_type": "display_data"
    }
   ],
   "source": [
    "plt.plot(X,y, '.')\n",
    "plt.show()"
   ]
  },
  {
   "cell_type": "code",
   "execution_count": 6,
   "metadata": {},
   "outputs": [
    {
     "data": {
      "text/plain": [
       "-0.6899498336053833"
      ]
     },
     "execution_count": 6,
     "metadata": {},
     "output_type": "execute_result"
    }
   ],
   "source": [
    "((w*X + b) - y ).mean() #mean absolute error => l1 norm"
   ]
  },
  {
   "cell_type": "code",
   "execution_count": 7,
   "metadata": {},
   "outputs": [
    {
     "data": {
      "text/plain": [
       "0.6095684152513359"
      ]
     },
     "execution_count": 7,
     "metadata": {},
     "output_type": "execute_result"
    }
   ],
   "source": [
    "(((w*X + b) - y )**2).mean() #mean squared error =>l2"
   ]
  },
  {
   "cell_type": "code",
   "execution_count": 8,
   "metadata": {},
   "outputs": [
    {
     "data": {
      "image/png": "[encoded data removed]",
      "text/plain": [
       "<Figure size 864x576 with 1 Axes>"
      ]
     },
     "metadata": {
      "needs_background": "light"
     },
     "output_type": "display_data"
    }
   ],
   "source": [
    "plt.figure(figsize=(12,8))\n",
    "plt.plot(X,y, '.', label='Original Answers')\n",
    "plt.plot(X,(w*X + b), label = 'Predicted Answers')\n",
    "plt.title('Drawback of perceptron')\n",
    "plt.legend()\n",
    "plt.show()"
   ]
  },
  {
   "cell_type": "markdown",
   "metadata": {},
   "source": [
    "## Drawback of perceptron\n",
    "\n",
    "It does not correct itself. "
   ]
  },
  {
   "cell_type": "code",
   "execution_count": 9,
   "metadata": {},
   "outputs": [],
   "source": [
    "import pandas as pd"
   ]
  },
  {
   "cell_type": "code",
   "execution_count": 10,
   "metadata": {},
   "outputs": [],
   "source": [
    "data = pd.DataFrame({'Feature1':X[:,0], 'Target':y[:,0]})"
   ]
  },
  {
   "cell_type": "code",
   "execution_count": 11,
   "metadata": {},
   "outputs": [
    {
     "data": {
      "text/html": [
       "<div>\n",
       "<style scoped>\n",
       "    .dataframe tbody tr th:only-of-type {\n",
       "        vertical-align: middle;\n",
       "    }\n",
       "\n",
       "    .dataframe tbody tr th {\n",
       "        vertical-align: top;\n",
       "    }\n",
       "\n",
       "    .dataframe thead th {\n",
       "        text-align: right;\n",
       "    }\n",
       "</style>\n",
       "<table border=\"1\" class=\"dataframe\">\n",
       "  <thead>\n",
       "    <tr style=\"text-align: right;\">\n",
       "      <th></th>\n",
       "      <th>Feature1</th>\n",
       "      <th>Target</th>\n",
       "    </tr>\n",
       "  </thead>\n",
       "  <tbody>\n",
       "    <tr>\n",
       "      <th>0</th>\n",
       "      <td>0.562318</td>\n",
       "      <td>1.091487</td>\n",
       "    </tr>\n",
       "    <tr>\n",
       "      <th>1</th>\n",
       "      <td>0.067715</td>\n",
       "      <td>0.294675</td>\n",
       "    </tr>\n",
       "    <tr>\n",
       "      <th>2</th>\n",
       "      <td>0.600361</td>\n",
       "      <td>1.232699</td>\n",
       "    </tr>\n",
       "    <tr>\n",
       "      <th>3</th>\n",
       "      <td>0.719433</td>\n",
       "      <td>1.636140</td>\n",
       "    </tr>\n",
       "    <tr>\n",
       "      <th>4</th>\n",
       "      <td>0.941476</td>\n",
       "      <td>1.954788</td>\n",
       "    </tr>\n",
       "  </tbody>\n",
       "</table>\n",
       "</div>"
      ],
      "text/plain": [
       "   Feature1    Target\n",
       "0  0.562318  1.091487\n",
       "1  0.067715  0.294675\n",
       "2  0.600361  1.232699\n",
       "3  0.719433  1.636140\n",
       "4  0.941476  1.954788"
      ]
     },
     "execution_count": 11,
     "metadata": {},
     "output_type": "execute_result"
    }
   ],
   "source": [
    "data.head()"
   ]
  },
  {
   "cell_type": "code",
   "execution_count": 12,
   "metadata": {},
   "outputs": [
    {
     "name": "stdout",
     "output_type": "stream",
     "text": [
      "[0. 1.]\n"
     ]
    }
   ],
   "source": [
    "A = np.array([[2,1],\n",
    "             [1,2]])\n",
    "\n",
    "b = np.array([1,2])\n",
    "\n",
    "\n",
    "m = np.linalg.solve(A,b)\n",
    "\n",
    "print(m)"
   ]
  },
  {
   "cell_type": "markdown",
   "metadata": {},
   "source": [
    "# 2. Temperature Conversion "
   ]
  },
  {
   "cell_type": "code",
   "execution_count": 13,
   "metadata": {},
   "outputs": [],
   "source": [
    "import numpy as np"
   ]
  },
  {
   "cell_type": "code",
   "execution_count": 14,
   "metadata": {},
   "outputs": [
    {
     "name": "stderr",
     "output_type": "stream",
     "text": [
      "Using TensorFlow backend.\n"
     ]
    }
   ],
   "source": [
    "import warnings\n",
    "import keras\n",
    "warnings.filterwarnings('ignore')"
   ]
  },
  {
   "cell_type": "code",
   "execution_count": 15,
   "metadata": {},
   "outputs": [
    {
     "name": "stdout",
     "output_type": "stream",
     "text": [
      "-40.0 degrees Celsius = -40.0 degrees Fahrenheit\n",
      "-10.0 degrees Celsius = 14.0 degrees Fahrenheit\n",
      "0.0 degrees Celsius = 32.0 degrees Fahrenheit\n",
      "8.0 degrees Celsius = 46.0 degrees Fahrenheit\n",
      "15.0 degrees Celsius = 59.0 degrees Fahrenheit\n",
      "22.0 degrees Celsius = 72.0 degrees Fahrenheit\n",
      "38.0 degrees Celsius = 100.0 degrees Fahrenheit\n"
     ]
    }
   ],
   "source": [
    "celsius_q    = np.array([-40, -10,  0,  8, 15, 22,  38],  dtype=float)\n",
    "fahrenheit_a = np.array([-40,  14, 32, 46, 59, 72, 100],  dtype=float)\n",
    "\n",
    "for i,c in enumerate(celsius_q):\n",
    "    print(\"{} degrees Celsius = {} degrees Fahrenheit\".format(c, fahrenheit_a[i]))"
   ]
  },
  {
   "cell_type": "code",
   "execution_count": 16,
   "metadata": {},
   "outputs": [],
   "source": [
    "model = keras.Sequential([\n",
    "    keras.layers.Dense(units=1, input_shape=[1])\n",
    "])"
   ]
  },
  {
   "cell_type": "code",
   "execution_count": 17,
   "metadata": {},
   "outputs": [
    {
     "name": "stdout",
     "output_type": "stream",
     "text": [
      "Finished training the model\n"
     ]
    }
   ],
   "source": [
    "model.compile(loss='mean_squared_error',\n",
    "              optimizer=keras.optimizers.Adam(0.1))\n",
    "\n",
    "history = model.fit(celsius_q, fahrenheit_a, epochs=1000, verbose=False)\n",
    "print(\"Finished training the model\")"
   ]
  },
  {
   "cell_type": "code",
   "execution_count": 18,
   "metadata": {},
   "outputs": [
    {
     "data": {
      "text/plain": [
       "array([[31.926275]], dtype=float32)"
      ]
     },
     "execution_count": 18,
     "metadata": {},
     "output_type": "execute_result"
    }
   ],
   "source": [
    "model.predict(np.array([0]))"
   ]
  },
  {
   "cell_type": "code",
   "execution_count": 19,
   "metadata": {},
   "outputs": [
    {
     "data": {
      "text/plain": [
       "[<matplotlib.lines.Line2D at 0x138fcca50>]"
      ]
     },
     "execution_count": 19,
     "metadata": {},
     "output_type": "execute_result"
    },
    {
     "data": {
      "image/png": "[encoded data removed]",
      "text/plain": [
       "<Figure size 720x720 with 1 Axes>"
      ]
     },
     "metadata": {
      "needs_background": "light"
     },
     "output_type": "display_data"
    }
   ],
   "source": [
    "import matplotlib.pyplot as plt\n",
    "\n",
    "plt.figure(figsize=(10,10))\n",
    "plt.xlabel('Epoch Number')\n",
    "plt.ylabel(\"Loss Magnitude\")\n",
    "plt.plot(history.history['loss'])"
   ]
  },
  {
   "cell_type": "markdown",
   "metadata": {},
   "source": [
    "## Explaination -- How machine learning works?\n",
    "\n",
    "### Backpropagation \n",
    "\n",
    "Back propagation is nothing but differentiation. \n"
   ]
  },
  {
   "cell_type": "code",
   "execution_count": 20,
   "metadata": {},
   "outputs": [],
   "source": [
    "X = np.random.rand(100,1)"
   ]
  },
  {
   "cell_type": "code",
   "execution_count": 21,
   "metadata": {},
   "outputs": [
    {
     "data": {
      "text/plain": [
       "[<matplotlib.lines.Line2D at 0x139026110>]"
      ]
     },
     "execution_count": 21,
     "metadata": {},
     "output_type": "execute_result"
    },
    {
     "data": {
      "image/png": "[encoded data removed]",
      "text/plain": [
       "<Figure size 432x288 with 1 Axes>"
      ]
     },
     "metadata": {
      "needs_background": "light"
     },
     "output_type": "display_data"
    }
   ],
   "source": [
    "'''y = b + w.X + noise'''\n",
    "y = 1 + 2 * X + .1 * np.random.randn(100, 1)\n",
    "plt.plot(X,y, '.')"
   ]
  },
  {
   "cell_type": "code",
   "execution_count": 22,
   "metadata": {},
   "outputs": [
    {
     "data": {
      "text/plain": [
       "(array([0.93262093]), array([0.74111238]))"
      ]
     },
     "execution_count": 22,
     "metadata": {},
     "output_type": "execute_result"
    }
   ],
   "source": [
    "w = np.random.rand(1)\n",
    "b = np.random.rand(1)\n",
    "\n",
    "w,b"
   ]
  },
  {
   "cell_type": "code",
   "execution_count": 23,
   "metadata": {},
   "outputs": [
    {
     "data": {
      "text/plain": [
       "[<matplotlib.lines.Line2D at 0x139215a50>]"
      ]
     },
     "execution_count": 23,
     "metadata": {},
     "output_type": "execute_result"
    },
    {
     "data": {
      "image/png": "[encoded data removed]",
      "text/plain": [
       "<Figure size 432x288 with 1 Axes>"
      ]
     },
     "metadata": {
      "needs_background": "light"
     },
     "output_type": "display_data"
    }
   ],
   "source": [
    "#forward propagation\n",
    "\n",
    "y_new = w*X + b\n",
    "plt.plot(X,y, '.')\n",
    "plt.plot(X,y_new)"
   ]
  },
  {
   "cell_type": "code",
   "execution_count": 27,
   "metadata": {},
   "outputs": [],
   "source": [
    "# back propagation\n",
    "\n",
    "lr = 1e-3\n",
    "\n",
    "def update(w,b,epochs):\n",
    "    for i in range(epochs):\n",
    "        yhat = b + w * X\n",
    "        \n",
    "\n",
    "        error = (y - yhat)\n",
    "\n",
    "        b_grad = -2 * error.mean()\n",
    "        w_grad = -2 * (X * error).mean()\n",
    "\n",
    "        w = w - lr * w_grad\n",
    "        b = b - lr * b_grad\n",
    "\n",
    "    return (w,b)"
   ]
  },
  {
   "cell_type": "code",
   "execution_count": 28,
   "metadata": {},
   "outputs": [],
   "source": [
    "w, b = update(w,b, 10000)"
   ]
  },
  {
   "cell_type": "code",
   "execution_count": 29,
   "metadata": {},
   "outputs": [
    {
     "data": {
      "text/plain": [
       "[<matplotlib.lines.Line2D at 0x113bf5410>]"
      ]
     },
     "execution_count": 29,
     "metadata": {},
     "output_type": "execute_result"
    },
    {
     "data": {
      "image/png": "[encoded data removed]",
      "text/plain": [
       "<Figure size 432x288 with 1 Axes>"
      ]
     },
     "metadata": {
      "needs_background": "light"
     },
     "output_type": "display_data"
    }
   ],
   "source": [
    "y_new = w*X + b\n",
    "\n",
    "plt.plot(X,y, '.')\n",
    "plt.plot(X,y_new)"
   ]
  },
  {
   "cell_type": "markdown",
   "metadata": {},
   "source": [
    "## 3 Gradient Descent\n",
    "\n",
    "Gradient descent (or steepest descent) is a first-order iterative optimization algorithm for finding the minimum of a function. To find a local minimum of a function using gradient descent, one takes steps proportional to the negative of the gradient (or approximate gradient) of the function at the current point. If instead one takes steps proportional to the positive of the gradient, one approaches a local maximum of that function; the procedure is then known as gradient ascent.\n",
    "\n",
    "The approach is based on the observation that if a multivariable function is defined and differentiable in a neighborhood of a point, then the function decreases fastest in the direction of the negative gradient. It follows that if: \n",
    "\n",
    "$\\mathbf{x_{n+1} = w_n} - \\gamma \\nabla \\mathbf{F(w_n)}$\n",
    "\n",
    "For $\\gamma$ small enough, then $F(x_n) \\geq F(x_{n+1})$\n",
    "\n",
    "The value of $\\gamma$ is called the stepsize and is allowed to change at every iteration. Some more advanced implementations find the optimal value of $gamma$ at each step by using line search methods...\n",
    "\n",
    "**Comments**\n",
    "- The gradient is everywhere perpendicular to the contour lines.\n",
    "- After each line minimization the new gradient is always orthogonal to the previous step direction (true of any line minimization.)\n",
    "- Consequently, the iterates tend to zig-zag down the valley in a very\n",
    "inefficient manner"
   ]
  },
  {
   "cell_type": "markdown",
   "metadata": {},
   "source": [
    "## Calculus\n",
    "\n",
    "### Function \n",
    "\n",
    "A function is defined as the relation between the input and the output, which can be denoted as:\n",
    "\n",
    "$f(x) = y$\n",
    "\n",
    "which basically means that the change of $y$ will entirely depends on the subtle changes in the $x$. Hence, their ought to be some kind of variable that scales the value of $x$ such that $y$ changes. \n",
    "\n",
    "### What is a derivative?\n",
    "\n",
    "The derivative of a function of a real number measures the change of output value w.r.t input value. \n",
    "\n",
    "\n",
    "Consider an example where,\n",
    "\n",
    "$y = x^2$\n",
    "\n",
    "$y(x) = x^2$\n",
    "\n",
    "$y'(x) = 2x $ \n",
    "\n",
    "\n",
    "$\\frac{dy}{dx}= \\lim_{x \\rightarrow 0} \\frac{y(x+dx)-y(x)}{dx}$\n",
    "\n",
    "$\\frac{dy}{dx}= \\lim_{x \\rightarrow 0} \\frac{(x+dx)^2-x^2}{dx}$\n",
    "\n",
    "$\\frac{dy}{dx} = \\lim_{x \\rightarrow 0} \\frac{x^2+dx^2+2xdx-x^2}{dx}$\n",
    "\n",
    "$\\frac{dy}{dx} = \\lim_{x \\rightarrow 0} \\frac{dx (dx+2x)}{dx}$\n",
    "\n",
    "$\\frac{dy}{dx} = \\lim_{x \\rightarrow 0} dx+2x$ \n",
    "\n",
    "$\\frac{dy}{dx} = 2x$\n",
    "\n",
    "Since $dx$ will be an $\\infty$ small number we can neglect it\n",
    "\n",
    "\n",
    "Derivatives are also known as the slope of the line at given point. \n",
    "\n",
    "**Formula of finding a slope of a curve**:\n",
    "\n",
    "$f(x) = x^n$\n",
    "\n",
    "$f'(x) = nx^{n-1}$\n",
    "\n",
    "Finding the **roots** of:\n",
    "\n",
    "$f(x) = x^3 - 2x^2 - 11x + 12$ =>Non-Linear system with one unknown \n",
    "\n",
    "$f'(x) = 3x^2 - 4x - 11$ => First order differentiation\n",
    "\n",
    "$f''(x) = 6x - 4$ => Second order differentiation\n",
    "\n",
    "$f'''(x) = 6$ => Third order differentiation"
   ]
  },
  {
   "cell_type": "code",
   "execution_count": 52,
   "metadata": {},
   "outputs": [],
   "source": [
    "\"\"\"y = ax2 + bx + c => formula of the parabola\"\"\"\n",
    "\n",
    "X = np.linspace(-100, 100, 1000, dtype='float64')\n",
    "y = 3*X**2 + 1*X + 1"
   ]
  },
  {
   "cell_type": "code",
   "execution_count": 53,
   "metadata": {},
   "outputs": [
    {
     "data": {
      "image/png": "[encoded data removed]",
      "text/plain": [
       "<Figure size 1080x720 with 1 Axes>"
      ]
     },
     "metadata": {
      "needs_background": "light"
     },
     "output_type": "display_data"
    }
   ],
   "source": [
    "plt.figure(figsize=(15,10))\n",
    "plt.plot(X,y,'-',label='Original Graph - Parabola')\n",
    "plt.plot(X, 6*X+1, '-', label='First Order Derivative')\n",
    "plt.xlim(-100, 100)\n",
    "plt.legend()\n",
    "plt.show()"
   ]
  },
  {
   "cell_type": "code",
   "execution_count": 33,
   "metadata": {},
   "outputs": [],
   "source": [
    "X = np.random.rand(100, 1)\n",
    "y = 3*X + 1 + 1 * np.random.randn(100,1)"
   ]
  },
  {
   "cell_type": "code",
   "execution_count": 34,
   "metadata": {},
   "outputs": [
    {
     "data": {
      "image/png": "[encoded data removed]",
      "text/plain": [
       "<Figure size 1080x576 with 1 Axes>"
      ]
     },
     "metadata": {
      "needs_background": "light"
     },
     "output_type": "display_data"
    }
   ],
   "source": [
    "plt.figure(figsize=(15,8))\n",
    "plt.plot(X,y, 'r.')\n",
    "plt.xlabel('X-axis')\n",
    "plt.ylabel('Y-axis')\n",
    "plt.show()"
   ]
  },
  {
   "cell_type": "code",
   "execution_count": 35,
   "metadata": {},
   "outputs": [],
   "source": [
    "#Randomly initialise the parameters\n",
    "\n",
    "w = np.array([10])\n",
    "b = np.zeros(1)"
   ]
  },
  {
   "cell_type": "code",
   "execution_count": 36,
   "metadata": {},
   "outputs": [
    {
     "data": {
      "image/png": "[encoded data removed]",
      "text/plain": [
       "<Figure size 1080x576 with 1 Axes>"
      ]
     },
     "metadata": {
      "needs_background": "light"
     },
     "output_type": "display_data"
    }
   ],
   "source": [
    "plt.figure(figsize=(15,8))\n",
    "plt.plot(X,y, 'r.', label='Distribution of data')\n",
    "plt.plot(X, X*3 + 1, 'gx',label='Original Function')\n",
    "plt.plot(X,X*w+b, label = 'Predicted Function')\n",
    "plt.xlabel('X-axis')\n",
    "plt.ylabel('Y-axis')\n",
    "plt.title('Original Function Vs the Predicted function')\n",
    "\n",
    "plt.legend()\n",
    "plt.show()"
   ]
  },
  {
   "cell_type": "markdown",
   "metadata": {},
   "source": [
    "### Gradient Descent Formula for Linear Regression\n",
    "\n",
    "$y({\\theta}) = X{\\theta} $\n",
    "\n",
    "${\\hat y} = wX + b $\n",
    "\n",
    "$Loss = {\\hat y} - y$\n",
    "\n",
    "$L({\\theta}) = \\frac{1}{m}{\\sum}Loss^2$\n",
    "\n",
    "$L'({\\theta}) = L({\\theta})-({\\alpha}(-2 \\frac{1}{m}{\\sum}({\\hat y} - y)))$\n",
    "\n",
    "\n",
    "\n",
    "\n",
    "\n"
   ]
  },
  {
   "cell_type": "code",
   "execution_count": 37,
   "metadata": {},
   "outputs": [],
   "source": [
    "def gradient_descent(x,y):\n",
    "    \n",
    "    epochs = 2000\n",
    "    learningRate = 5e-2\n",
    "    w = np.array([10])\n",
    "    b = np.zeros(1)\n",
    "    \n",
    "    wList = []\n",
    "    bList = []\n",
    "    \n",
    "    for i in range(epochs) :\n",
    "        yhat = w*x + b\n",
    "        \n",
    "        error =  y - yhat\n",
    "        \n",
    "        wd = -2 * (x*error).mean()\n",
    "        bd = -2 * error.mean()\n",
    "        \n",
    "        \n",
    "        w = w - learningRate*wd\n",
    "        b = b - learningRate*bd\n",
    "        \n",
    "        wList.extend(w)\n",
    "        bList.extend(b)\n",
    "        \n",
    "    print('Output', wd, bd)\n",
    "        \n",
    "        \n",
    "    return wList, bList, w, b"
   ]
  },
  {
   "cell_type": "code",
   "execution_count": 38,
   "metadata": {},
   "outputs": [
    {
     "name": "stdout",
     "output_type": "stream",
     "text": [
      "Output 1.9558772269756553e-06 -9.944040372111828e-07\n"
     ]
    }
   ],
   "source": [
    "wList, bList, w, b = gradient_descent(X,y)"
   ]
  },
  {
   "cell_type": "code",
   "execution_count": 39,
   "metadata": {},
   "outputs": [
    {
     "name": "stdout",
     "output_type": "stream",
     "text": [
      "After gradient descent the revised parameters are:  [3.04730394] [1.02944062]\n"
     ]
    }
   ],
   "source": [
    "print('After gradient descent the revised parameters are: ', w, b)"
   ]
  },
  {
   "cell_type": "code",
   "execution_count": 40,
   "metadata": {},
   "outputs": [
    {
     "data": {
      "image/png": "[encoded data removed]",
      "text/plain": [
       "<Figure size 1080x576 with 1 Axes>"
      ]
     },
     "metadata": {
      "needs_background": "light"
     },
     "output_type": "display_data"
    }
   ],
   "source": [
    "plt.figure(figsize=(15,8))\n",
    "plt.plot(X,y, 'r.', label='Distribution of data')\n",
    "plt.plot(X, X*3 + 1, 'gx',label='Original Function')\n",
    "plt.plot(X,X*w+b, label = 'Predicted Function')\n",
    "plt.xlabel('X-axis')\n",
    "plt.ylabel('Y-axis')\n",
    "\n",
    "plt.title('Original Function Vs Revised The Predicted Function')\n",
    "plt.legend()\n",
    "plt.show()"
   ]
  },
  {
   "cell_type": "markdown",
   "metadata": {},
   "source": [
    "## Into the details of Gradient Descent\n",
    "\n",
    "### Local Minina"
   ]
  },
  {
   "cell_type": "code",
   "execution_count": 41,
   "metadata": {},
   "outputs": [],
   "source": [
    "m = 20\n",
    "theta1_true = 0.5\n",
    "x = np.linspace(-1,1,m)\n",
    "y = theta1_true * x"
   ]
  },
  {
   "cell_type": "code",
   "execution_count": 42,
   "metadata": {},
   "outputs": [
    {
     "data": {
      "image/png": "[encoded data removed]",
      "text/plain": [
       "<Figure size 720x442.8 with 2 Axes>"
      ]
     },
     "metadata": {
      "needs_background": "light"
     },
     "output_type": "display_data"
    }
   ],
   "source": [
    "fig, ax = plt.subplots(nrows=1, ncols=2, figsize=(10,6.15))\n",
    "ax[0].scatter(x, y, marker='x', s=40, color='k')\n",
    "\n",
    "def cost_func(theta1):\n",
    "    \"\"\"The cost function, J(theta1) describing the goodness of fit.\"\"\"\n",
    "    theta1 = np.atleast_2d(np.asarray(theta1))\n",
    "    return np.average((y-hypothesis(x, theta1))**2, axis=1)/2\n",
    "\n",
    "def hypothesis(x, theta1):\n",
    "    \"\"\"Our \"hypothesis function\", a straight line through the origin.\"\"\"\n",
    "    return theta1*x\n",
    "\n",
    "theta1_grid = np.linspace(-0.2,1,50)\n",
    "J_grid = cost_func(theta1_grid[:,np.newaxis])\n",
    "\n",
    "# The cost function as a function of its single parameter, theta1.\n",
    "ax[1].plot(theta1_grid, J_grid, 'k')\n",
    "\n",
    "# Take N steps with learning rate alpha down the steepest gradient,\n",
    "# starting at theta1 = 0.\n",
    "N = 5\n",
    "alpha = 1\n",
    "theta1 = [0]\n",
    "J = [cost_func(theta1[0])[0]]\n",
    "for j in range(N-1):\n",
    "    last_theta1 = theta1[-1]\n",
    "    this_theta1 = last_theta1 - alpha / m * np.sum(\n",
    "                                    (hypothesis(x, last_theta1) - y) * x)\n",
    "    theta1.append(this_theta1)\n",
    "    J.append(cost_func(this_theta1))\n",
    "\n",
    "colors = ['b', 'g', 'm', 'c', 'orange']\n",
    "ax[0].plot(x, hypothesis(x, theta1[0]), color=colors[0], lw=2,\n",
    "           label=r'$\\theta_1 = {:.3f}$'.format(theta1[0]))\n",
    "for j in range(1,N):\n",
    "    ax[1].annotate('', xy=(theta1[j], J[j]), xytext=(theta1[j-1], J[j-1]),\n",
    "                   arrowprops={'arrowstyle': '->', 'color': 'r', 'lw': 1},\n",
    "                   va='center', ha='center')\n",
    "    ax[0].plot(x, hypothesis(x, theta1[j]), color=colors[j], lw=2,\n",
    "               label=r'$\\theta_1 = {:.3f}$'.format(theta1[j]))\n",
    "\n",
    "# Labels, titles and a legend.\n",
    "ax[1].scatter(theta1, J, c=colors, s=40, lw=0)\n",
    "ax[1].set_xlim(-0.2,1)\n",
    "ax[1].set_xlabel(r'$\\theta_1$')\n",
    "ax[1].set_ylabel(r'$J(\\theta_1)$')\n",
    "ax[1].set_title('Cost function')\n",
    "ax[0].set_xlabel(r'$x$')\n",
    "ax[0].set_ylabel(r'$y$')\n",
    "ax[0].set_title('Data and fit')\n",
    "ax[0].legend(loc='upper left', fontsize='small')\n",
    "\n",
    "# plt.tight_layout()\n",
    "plt.show()"
   ]
  },
  {
   "cell_type": "markdown",
   "metadata": {},
   "source": [
    "### Chain Rule\n",
    "\n",
    "One more important point to remember is that there can be a system more than one component. \n",
    "\n",
    "For example:\n",
    "\n",
    "$x^2 + 3y = z$\n",
    "\n",
    "How to solve the above equation?\n",
    "\n",
    "We can use **chain rule** to solve the above equation.\n",
    "\n",
    "The chain rule is used to solve partial derivatives. Basically we solve the first component followed by the second. Note that while solving a particular component the other component becomes a constant. \n",
    "\n",
    "### Partial Derivatives \n",
    "\n",
    "Partial derivatives are similar like derivatives i.e. slope of the line except it is finds the slope of the line with multiple components. \n",
    "\n",
    "Lets try to solve the above linear system with three unknown. \n",
    "\n",
    "We know that $x$ and $y$ gives $z$, so we can write\n",
    "\n",
    "$\\frac{\\partial z}{\\partial x} = x^2 + 3y $\n",
    "\n",
    "The above line says what is the change in $z$ if we only change $x$. Note, it has nothing to do with $y$.\n",
    "\n",
    "$\\frac{\\partial' z}{\\partial x} = 2x $\n",
    "\n",
    "Similary, \n",
    "\n",
    "$\\frac{\\partial z}{\\partial y} = x^2 + 3y $\n",
    "\n",
    "$\\frac{\\partial' z}{\\partial y} = 3 $\n",
    "\n",
    "Therefore, we get\n",
    "\n",
    "$\\frac{\\partial' z}{\\partial (x,y)} =  2x + 3$\n",
    "\n",
    "But what if we get a two component with has a multiplication operation also each component depends on another component. \n",
    "\n",
    "For example, \n",
    "\n",
    "$z = x^2y + xy^2$\n",
    "\n",
    "$x = 2 + t^4$\n",
    "\n",
    "$y = 1-t^3$\n",
    "\n",
    "\n",
    "$\\frac{\\partial z}{\\partial t} = \\frac{\\partial z}{\\partial x} \\frac{\\partial x}{\\partial t} + \n",
    "\\frac{\\partial z}{\\partial y} \\frac{\\partial y}{\\partial t}$\n",
    "\n",
    "$\\frac{\\partial' z}{\\partial t} = (2xy+y^2)(4t^3) + (x^2+2xy)(-3t^2)$\n",
    "\n"
   ]
  },
  {
   "cell_type": "markdown",
   "metadata": {},
   "source": [
    "## 4. Activation Function\n",
    "\n",
    "Function which breaks the linearity. \n",
    "\n",
    "- Sigmoid \n",
    "- Rectified Linear Unit -- ReLU"
   ]
  },
  {
   "cell_type": "markdown",
   "metadata": {},
   "source": [
    "## Sigmoid"
   ]
  },
  {
   "cell_type": "code",
   "execution_count": 27,
   "metadata": {},
   "outputs": [],
   "source": [
    "def sigmoid(z): return 1/(1+np.exp(-z))"
   ]
  },
  {
   "cell_type": "code",
   "execution_count": 28,
   "metadata": {},
   "outputs": [
    {
     "data": {
      "text/plain": [
       "[<matplotlib.lines.Line2D at 0x1139bfe50>]"
      ]
     },
     "execution_count": 28,
     "metadata": {},
     "output_type": "execute_result"
    },
    {
     "data": {
      "image/png": "[encoded data removed]",
      "text/plain": [
       "<Figure size 432x288 with 1 Axes>"
      ]
     },
     "metadata": {
      "needs_background": "light"
     },
     "output_type": "display_data"
    }
   ],
   "source": [
    "plt.plot(np.linspace(-10, 10, 50))"
   ]
  },
  {
   "cell_type": "code",
   "execution_count": 29,
   "metadata": {},
   "outputs": [
    {
     "data": {
      "text/plain": [
       "<matplotlib.collections.LineCollection at 0x113fa7710>"
      ]
     },
     "execution_count": 29,
     "metadata": {},
     "output_type": "execute_result"
    },
    {
     "data": {
      "image/png": "[encoded data removed]",
      "text/plain": [
       "<Figure size 432x288 with 1 Axes>"
      ]
     },
     "metadata": {
      "needs_background": "light"
     },
     "output_type": "display_data"
    }
   ],
   "source": [
    "plt.plot(sigmoid(np.linspace(-10, 10, 100)))\n",
    "plt.vlines(50,0,1, linestyles='--',colors='r')\n",
    "plt.hlines(0.5,0,100, linestyles='--',colors='r')"
   ]
  },
  {
   "cell_type": "markdown",
   "metadata": {},
   "source": [
    "## ReLU"
   ]
  },
  {
   "cell_type": "code",
   "execution_count": 77,
   "metadata": {},
   "outputs": [],
   "source": [
    "def relu(x): return np.maximum(0,x)"
   ]
  },
  {
   "cell_type": "code",
   "execution_count": 31,
   "metadata": {},
   "outputs": [
    {
     "data": {
      "text/plain": [
       "[<matplotlib.lines.Line2D at 0x114137a90>]"
      ]
     },
     "execution_count": 31,
     "metadata": {},
     "output_type": "execute_result"
    },
    {
     "data": {
      "image/png": "[encoded data removed]",
      "text/plain": [
       "<Figure size 432x288 with 1 Axes>"
      ]
     },
     "metadata": {
      "needs_background": "light"
     },
     "output_type": "display_data"
    }
   ],
   "source": [
    "plt.plot(np.linspace(-10, 10, 50))"
   ]
  },
  {
   "cell_type": "code",
   "execution_count": 32,
   "metadata": {},
   "outputs": [
    {
     "data": {
      "text/plain": [
       "<matplotlib.collections.LineCollection at 0x1140637d0>"
      ]
     },
     "execution_count": 32,
     "metadata": {},
     "output_type": "execute_result"
    },
    {
     "data": {
      "image/png": "[encoded data removed]",
      "text/plain": [
       "<Figure size 432x288 with 1 Axes>"
      ]
     },
     "metadata": {
      "needs_background": "light"
     },
     "output_type": "display_data"
    }
   ],
   "source": [
    "plt.plot(relu(np.linspace(-10, 10, 50)))\n",
    "plt.vlines(24.5, 0, 10, linestyles='--',colors='r')"
   ]
  },
  {
   "cell_type": "markdown",
   "metadata": {},
   "source": [
    "## 5. Dense Layer\n",
    "\n",
    "Dense layer is multi-layer perceptron. All the inputs are densely connected to all perceptron in the network."
   ]
  },
  {
   "cell_type": "code",
   "execution_count": 33,
   "metadata": {},
   "outputs": [],
   "source": [
    "model = keras.Sequential([\n",
    "    keras.layers.Dense(units=3, input_shape=[1]),\n",
    "    keras.layers.Dense(units=1)\n",
    "])\n"
   ]
  },
  {
   "cell_type": "markdown",
   "metadata": {},
   "source": [
    "## 6. MNIST \n"
   ]
  },
  {
   "cell_type": "code",
   "execution_count": 34,
   "metadata": {},
   "outputs": [],
   "source": [
    "from keras.datasets import mnist"
   ]
  },
  {
   "cell_type": "code",
   "execution_count": 35,
   "metadata": {},
   "outputs": [],
   "source": [
    "(X_train, y_train), (X_test, y_test) = mnist.load_data()"
   ]
  },
  {
   "cell_type": "code",
   "execution_count": 36,
   "metadata": {},
   "outputs": [],
   "source": [
    "X_train = X_train/255.0\n",
    "X_test = X_test/255.0"
   ]
  },
  {
   "cell_type": "code",
   "execution_count": 37,
   "metadata": {},
   "outputs": [],
   "source": [
    "model = keras.models.Sequential()\n",
    "model.add(keras.layers.Flatten(input_shape=X_train.shape[1:]))\n",
    "model.add(keras.layers.Dense(50))\n",
    "model.add(keras.layers.Activation('relu'))\n",
    "model.add(keras.layers.Dense(10))\n",
    "model.add(keras.layers.Activation('softmax'))"
   ]
  },
  {
   "cell_type": "code",
   "execution_count": 38,
   "metadata": {},
   "outputs": [],
   "source": [
    "model.compile(loss='sparse_categorical_crossentropy',\n",
    "               optimizer=\"sgd\", \n",
    "               metrics=['accuracy'])"
   ]
  },
  {
   "cell_type": "code",
   "execution_count": 39,
   "metadata": {},
   "outputs": [
    {
     "name": "stdout",
     "output_type": "stream",
     "text": [
      "Model: \"sequential_3\"\n",
      "_________________________________________________________________\n",
      "Layer (type)                 Output Shape              Param #   \n",
      "=================================================================\n",
      "flatten_1 (Flatten)          (None, 784)               0         \n",
      "_________________________________________________________________\n",
      "dense_4 (Dense)              (None, 50)                39250     \n",
      "_________________________________________________________________\n",
      "activation_1 (Activation)    (None, 50)                0         \n",
      "_________________________________________________________________\n",
      "dense_5 (Dense)              (None, 10)                510       \n",
      "_________________________________________________________________\n",
      "activation_2 (Activation)    (None, 10)                0         \n",
      "=================================================================\n",
      "Total params: 39,760\n",
      "Trainable params: 39,760\n",
      "Non-trainable params: 0\n",
      "_________________________________________________________________\n"
     ]
    }
   ],
   "source": [
    "model.summary()"
   ]
  },
  {
   "cell_type": "code",
   "execution_count": 40,
   "metadata": {},
   "outputs": [
    {
     "data": {
      "text/plain": [
       "[<keras.layers.core.Flatten at 0x1139b5a50>,\n",
       " <keras.layers.core.Dense at 0x1141e4910>,\n",
       " <keras.layers.core.Activation at 0x139125350>,\n",
       " <keras.layers.core.Dense at 0x1141f85d0>,\n",
       " <keras.layers.core.Activation at 0x1141f4c90>]"
      ]
     },
     "execution_count": 40,
     "metadata": {},
     "output_type": "execute_result"
    }
   ],
   "source": [
    "model.layers"
   ]
  },
  {
   "cell_type": "code",
   "execution_count": 41,
   "metadata": {},
   "outputs": [
    {
     "data": {
      "text/plain": [
       "<tf.Variable 'dense_5/bias:0' shape=(10,) dtype=float32, numpy=array([0., 0., 0., 0., 0., 0., 0., 0., 0., 0.], dtype=float32)>"
      ]
     },
     "execution_count": 41,
     "metadata": {},
     "output_type": "execute_result"
    }
   ],
   "source": [
    "model.weights[3]"
   ]
  },
  {
   "cell_type": "code",
   "execution_count": 42,
   "metadata": {},
   "outputs": [
    {
     "name": "stdout",
     "output_type": "stream",
     "text": [
      "Train on 42000 samples, validate on 18000 samples\n",
      "Epoch 1/100\n",
      "42000/42000 [==============================] - 3s 79us/step - loss: 0.7824 - accuracy: 0.8019 - val_loss: 0.4198 - val_accuracy: 0.8879\n",
      "Epoch 2/100\n",
      "42000/42000 [==============================] - 3s 74us/step - loss: 0.3836 - accuracy: 0.8945 - val_loss: 0.3427 - val_accuracy: 0.9032\n",
      "Epoch 3/100\n",
      "42000/42000 [==============================] - 3s 81us/step - loss: 0.3304 - accuracy: 0.9067 - val_loss: 0.3114 - val_accuracy: 0.9113\n",
      "Epoch 4/100\n",
      "42000/42000 [==============================] - 3s 73us/step - loss: 0.3009 - accuracy: 0.9151 - val_loss: 0.2912 - val_accuracy: 0.9169\n",
      "Epoch 5/100\n",
      "42000/42000 [==============================] - 5s 118us/step - loss: 0.2790 - accuracy: 0.9213 - val_loss: 0.2718 - val_accuracy: 0.9227\n",
      "Epoch 6/100\n",
      "42000/42000 [==============================] - 4s 87us/step - loss: 0.2607 - accuracy: 0.9266 - val_loss: 0.2587 - val_accuracy: 0.9259\n",
      "Epoch 7/100\n",
      "42000/42000 [==============================] - 4s 98us/step - loss: 0.2453 - accuracy: 0.9309 - val_loss: 0.2467 - val_accuracy: 0.9290\n",
      "Epoch 8/100\n",
      "42000/42000 [==============================] - 6s 134us/step - loss: 0.2318 - accuracy: 0.9347 - val_loss: 0.2369 - val_accuracy: 0.9314\n",
      "Epoch 9/100\n",
      "42000/42000 [==============================] - 5s 114us/step - loss: 0.2202 - accuracy: 0.9377 - val_loss: 0.2261 - val_accuracy: 0.9369\n",
      "Epoch 10/100\n",
      "42000/42000 [==============================] - 5s 118us/step - loss: 0.2097 - accuracy: 0.9407 - val_loss: 0.2194 - val_accuracy: 0.9381\n",
      "Epoch 11/100\n",
      "42000/42000 [==============================] - 4s 101us/step - loss: 0.2005 - accuracy: 0.9429 - val_loss: 0.2101 - val_accuracy: 0.9421\n",
      "Epoch 12/100\n",
      "42000/42000 [==============================] - 4s 94us/step - loss: 0.1920 - accuracy: 0.9455 - val_loss: 0.2055 - val_accuracy: 0.9438\n",
      "Epoch 13/100\n",
      "42000/42000 [==============================] - 4s 90us/step - loss: 0.1846 - accuracy: 0.9476 - val_loss: 0.1985 - val_accuracy: 0.9455\n",
      "Epoch 14/100\n",
      "42000/42000 [==============================] - 5s 114us/step - loss: 0.1775 - accuracy: 0.9495 - val_loss: 0.1944 - val_accuracy: 0.9449\n",
      "Epoch 15/100\n",
      "42000/42000 [==============================] - 3s 67us/step - loss: 0.1708 - accuracy: 0.9516 - val_loss: 0.1880 - val_accuracy: 0.9479\n",
      "Epoch 16/100\n",
      "42000/42000 [==============================] - 3s 62us/step - loss: 0.1650 - accuracy: 0.9539 - val_loss: 0.1847 - val_accuracy: 0.9481\n",
      "Epoch 17/100\n",
      "42000/42000 [==============================] - 5s 118us/step - loss: 0.1593 - accuracy: 0.9555 - val_loss: 0.1799 - val_accuracy: 0.9492\n",
      "Epoch 18/100\n",
      "42000/42000 [==============================] - 2s 56us/step - loss: 0.1541 - accuracy: 0.9572 - val_loss: 0.1750 - val_accuracy: 0.9514\n",
      "Epoch 19/100\n",
      "42000/42000 [==============================] - 2s 56us/step - loss: 0.1491 - accuracy: 0.9588 - val_loss: 0.1724 - val_accuracy: 0.9506\n",
      "Epoch 20/100\n",
      "42000/42000 [==============================] - 2s 56us/step - loss: 0.1444 - accuracy: 0.9595 - val_loss: 0.1690 - val_accuracy: 0.9525\n",
      "Epoch 21/100\n",
      "42000/42000 [==============================] - 2s 56us/step - loss: 0.1400 - accuracy: 0.9608 - val_loss: 0.1645 - val_accuracy: 0.9538\n",
      "Epoch 22/100\n",
      "42000/42000 [==============================] - 2s 56us/step - loss: 0.1358 - accuracy: 0.9621 - val_loss: 0.1616 - val_accuracy: 0.9544\n",
      "Epoch 23/100\n",
      "42000/42000 [==============================] - 3s 83us/step - loss: 0.1320 - accuracy: 0.9639 - val_loss: 0.1591 - val_accuracy: 0.9544\n",
      "Epoch 24/100\n",
      "42000/42000 [==============================] - 4s 92us/step - loss: 0.1282 - accuracy: 0.9644 - val_loss: 0.1556 - val_accuracy: 0.9551\n",
      "Epoch 25/100\n",
      "42000/42000 [==============================] - 2s 56us/step - loss: 0.1248 - accuracy: 0.9654 - val_loss: 0.1550 - val_accuracy: 0.9556\n",
      "Epoch 26/100\n",
      "42000/42000 [==============================] - 2s 56us/step - loss: 0.1214 - accuracy: 0.9668 - val_loss: 0.1513 - val_accuracy: 0.9563\n",
      "Epoch 27/100\n",
      "42000/42000 [==============================] - 2s 56us/step - loss: 0.1183 - accuracy: 0.9674 - val_loss: 0.1488 - val_accuracy: 0.9575\n",
      "Epoch 28/100\n",
      "42000/42000 [==============================] - 2s 56us/step - loss: 0.1151 - accuracy: 0.9686 - val_loss: 0.1484 - val_accuracy: 0.9571\n",
      "Epoch 29/100\n",
      "42000/42000 [==============================] - 2s 56us/step - loss: 0.1123 - accuracy: 0.9687 - val_loss: 0.1462 - val_accuracy: 0.9587\n",
      "Epoch 30/100\n",
      "42000/42000 [==============================] - 2s 56us/step - loss: 0.1098 - accuracy: 0.9698 - val_loss: 0.1432 - val_accuracy: 0.9577\n",
      "Epoch 31/100\n",
      "42000/42000 [==============================] - 2s 56us/step - loss: 0.1070 - accuracy: 0.9705 - val_loss: 0.1411 - val_accuracy: 0.9593\n",
      "Epoch 32/100\n",
      "42000/42000 [==============================] - 2s 56us/step - loss: 0.1045 - accuracy: 0.9715 - val_loss: 0.1399 - val_accuracy: 0.9588\n",
      "Epoch 33/100\n",
      "42000/42000 [==============================] - 2s 56us/step - loss: 0.1021 - accuracy: 0.9720 - val_loss: 0.1394 - val_accuracy: 0.9596\n",
      "Epoch 34/100\n",
      "42000/42000 [==============================] - 2s 56us/step - loss: 0.0997 - accuracy: 0.9730 - val_loss: 0.1378 - val_accuracy: 0.9589\n",
      "Epoch 35/100\n",
      "42000/42000 [==============================] - 2s 56us/step - loss: 0.0975 - accuracy: 0.9739 - val_loss: 0.1360 - val_accuracy: 0.9598\n",
      "Epoch 36/100\n",
      "42000/42000 [==============================] - 2s 56us/step - loss: 0.0956 - accuracy: 0.9741 - val_loss: 0.1354 - val_accuracy: 0.9602\n",
      "Epoch 37/100\n",
      "42000/42000 [==============================] - 3s 63us/step - loss: 0.0934 - accuracy: 0.9748 - val_loss: 0.1334 - val_accuracy: 0.9603\n",
      "Epoch 38/100\n",
      "42000/42000 [==============================] - 2s 56us/step - loss: 0.0916 - accuracy: 0.9751 - val_loss: 0.1324 - val_accuracy: 0.9614\n",
      "Epoch 39/100\n",
      "42000/42000 [==============================] - 2s 56us/step - loss: 0.0896 - accuracy: 0.9762 - val_loss: 0.1315 - val_accuracy: 0.9608\n",
      "Epoch 40/100\n",
      "42000/42000 [==============================] - 2s 56us/step - loss: 0.0880 - accuracy: 0.9764 - val_loss: 0.1310 - val_accuracy: 0.9614\n",
      "Epoch 41/100\n",
      "42000/42000 [==============================] - 2s 56us/step - loss: 0.0861 - accuracy: 0.9769 - val_loss: 0.1290 - val_accuracy: 0.9623\n",
      "Epoch 42/100\n",
      "42000/42000 [==============================] - 2s 56us/step - loss: 0.0844 - accuracy: 0.9775 - val_loss: 0.1288 - val_accuracy: 0.9622\n",
      "Epoch 43/100\n",
      "42000/42000 [==============================] - 2s 56us/step - loss: 0.0827 - accuracy: 0.9779 - val_loss: 0.1272 - val_accuracy: 0.9621\n",
      "Epoch 44/100\n",
      "42000/42000 [==============================] - 2s 56us/step - loss: 0.0812 - accuracy: 0.9783 - val_loss: 0.1272 - val_accuracy: 0.9627\n",
      "Epoch 45/100\n",
      "42000/42000 [==============================] - 2s 56us/step - loss: 0.0796 - accuracy: 0.9792 - val_loss: 0.1273 - val_accuracy: 0.9623\n",
      "Epoch 46/100\n",
      "42000/42000 [==============================] - 2s 56us/step - loss: 0.0783 - accuracy: 0.9792 - val_loss: 0.1262 - val_accuracy: 0.9633\n",
      "Epoch 47/100\n",
      "42000/42000 [==============================] - 2s 56us/step - loss: 0.0767 - accuracy: 0.9797 - val_loss: 0.1244 - val_accuracy: 0.9627\n",
      "Epoch 48/100\n",
      "42000/42000 [==============================] - 2s 56us/step - loss: 0.0755 - accuracy: 0.9799 - val_loss: 0.1257 - val_accuracy: 0.9622\n",
      "Epoch 49/100\n",
      "42000/42000 [==============================] - 2s 56us/step - loss: 0.0740 - accuracy: 0.9804 - val_loss: 0.1239 - val_accuracy: 0.9631\n",
      "Epoch 50/100\n",
      "42000/42000 [==============================] - 2s 57us/step - loss: 0.0727 - accuracy: 0.9807 - val_loss: 0.1237 - val_accuracy: 0.9633\n",
      "Epoch 51/100\n",
      "42000/42000 [==============================] - 2s 56us/step - loss: 0.0715 - accuracy: 0.9810 - val_loss: 0.1214 - val_accuracy: 0.9639\n",
      "Epoch 52/100\n",
      "42000/42000 [==============================] - 2s 56us/step - loss: 0.0703 - accuracy: 0.9814 - val_loss: 0.1215 - val_accuracy: 0.9638\n",
      "Epoch 53/100\n",
      "42000/42000 [==============================] - 2s 56us/step - loss: 0.0690 - accuracy: 0.9817 - val_loss: 0.1206 - val_accuracy: 0.9642\n",
      "Epoch 54/100\n",
      "42000/42000 [==============================] - 2s 56us/step - loss: 0.0680 - accuracy: 0.9821 - val_loss: 0.1215 - val_accuracy: 0.9642\n",
      "Epoch 55/100\n",
      "42000/42000 [==============================] - 2s 55us/step - loss: 0.0668 - accuracy: 0.9824 - val_loss: 0.1210 - val_accuracy: 0.9642\n",
      "Epoch 56/100\n",
      "42000/42000 [==============================] - 2s 56us/step - loss: 0.0658 - accuracy: 0.9826 - val_loss: 0.1211 - val_accuracy: 0.9649\n",
      "Epoch 57/100\n",
      "42000/42000 [==============================] - 2s 56us/step - loss: 0.0647 - accuracy: 0.9830 - val_loss: 0.1191 - val_accuracy: 0.9653\n",
      "Epoch 58/100\n",
      "42000/42000 [==============================] - 2s 56us/step - loss: 0.0635 - accuracy: 0.9832 - val_loss: 0.1202 - val_accuracy: 0.9645\n",
      "Epoch 59/100\n",
      "42000/42000 [==============================] - 2s 56us/step - loss: 0.0626 - accuracy: 0.9833 - val_loss: 0.1206 - val_accuracy: 0.9648\n",
      "Epoch 60/100\n",
      "42000/42000 [==============================] - 2s 56us/step - loss: 0.0617 - accuracy: 0.9837 - val_loss: 0.1183 - val_accuracy: 0.9652\n",
      "Epoch 61/100\n",
      "42000/42000 [==============================] - 2s 56us/step - loss: 0.0607 - accuracy: 0.9839 - val_loss: 0.1189 - val_accuracy: 0.9644\n",
      "Epoch 62/100\n",
      "42000/42000 [==============================] - 2s 56us/step - loss: 0.0597 - accuracy: 0.9845 - val_loss: 0.1192 - val_accuracy: 0.9646\n",
      "Epoch 63/100\n",
      "42000/42000 [==============================] - 2s 59us/step - loss: 0.0588 - accuracy: 0.9849 - val_loss: 0.1180 - val_accuracy: 0.9651\n",
      "Epoch 64/100\n",
      "42000/42000 [==============================] - 2s 56us/step - loss: 0.0579 - accuracy: 0.9850 - val_loss: 0.1171 - val_accuracy: 0.9658\n",
      "Epoch 65/100\n",
      "42000/42000 [==============================] - 2s 56us/step - loss: 0.0570 - accuracy: 0.9855 - val_loss: 0.1173 - val_accuracy: 0.9648\n",
      "Epoch 66/100\n",
      "42000/42000 [==============================] - 2s 56us/step - loss: 0.0561 - accuracy: 0.9854 - val_loss: 0.1175 - val_accuracy: 0.9652\n",
      "Epoch 67/100\n",
      "42000/42000 [==============================] - 2s 56us/step - loss: 0.0554 - accuracy: 0.9857 - val_loss: 0.1172 - val_accuracy: 0.9650\n",
      "Epoch 68/100\n",
      "42000/42000 [==============================] - 2s 56us/step - loss: 0.0545 - accuracy: 0.9858 - val_loss: 0.1160 - val_accuracy: 0.9650\n",
      "Epoch 69/100\n",
      "42000/42000 [==============================] - 2s 56us/step - loss: 0.0537 - accuracy: 0.9861 - val_loss: 0.1164 - val_accuracy: 0.9656\n",
      "Epoch 70/100\n",
      "42000/42000 [==============================] - 2s 55us/step - loss: 0.0528 - accuracy: 0.9864 - val_loss: 0.1156 - val_accuracy: 0.9659\n",
      "Epoch 71/100\n",
      "42000/42000 [==============================] - 2s 56us/step - loss: 0.0521 - accuracy: 0.9866 - val_loss: 0.1159 - val_accuracy: 0.9659\n",
      "Epoch 72/100\n",
      "42000/42000 [==============================] - 2s 56us/step - loss: 0.0514 - accuracy: 0.9869 - val_loss: 0.1157 - val_accuracy: 0.9664\n",
      "Epoch 73/100\n",
      "42000/42000 [==============================] - 2s 56us/step - loss: 0.0507 - accuracy: 0.9874 - val_loss: 0.1152 - val_accuracy: 0.9652\n",
      "Epoch 74/100\n",
      "42000/42000 [==============================] - 2s 56us/step - loss: 0.0499 - accuracy: 0.9875 - val_loss: 0.1158 - val_accuracy: 0.9661\n",
      "Epoch 75/100\n",
      "42000/42000 [==============================] - 2s 56us/step - loss: 0.0493 - accuracy: 0.9877 - val_loss: 0.1152 - val_accuracy: 0.9656\n",
      "Epoch 76/100\n",
      "42000/42000 [==============================] - 2s 56us/step - loss: 0.0485 - accuracy: 0.9879 - val_loss: 0.1141 - val_accuracy: 0.9661\n",
      "Epoch 77/100\n",
      "42000/42000 [==============================] - 2s 56us/step - loss: 0.0479 - accuracy: 0.9880 - val_loss: 0.1148 - val_accuracy: 0.9663\n",
      "Epoch 78/100\n",
      "42000/42000 [==============================] - 2s 56us/step - loss: 0.0473 - accuracy: 0.9883 - val_loss: 0.1154 - val_accuracy: 0.9656\n",
      "Epoch 79/100\n",
      "42000/42000 [==============================] - 2s 55us/step - loss: 0.0466 - accuracy: 0.9884 - val_loss: 0.1149 - val_accuracy: 0.9656\n",
      "Epoch 80/100\n",
      "42000/42000 [==============================] - 2s 57us/step - loss: 0.0458 - accuracy: 0.9887 - val_loss: 0.1153 - val_accuracy: 0.9663\n",
      "Epoch 81/100\n",
      "42000/42000 [==============================] - 2s 56us/step - loss: 0.0452 - accuracy: 0.9892 - val_loss: 0.1137 - val_accuracy: 0.9669\n",
      "Epoch 82/100\n",
      "42000/42000 [==============================] - 2s 56us/step - loss: 0.0446 - accuracy: 0.9890 - val_loss: 0.1131 - val_accuracy: 0.9668\n",
      "Epoch 83/100\n",
      "42000/42000 [==============================] - 2s 56us/step - loss: 0.0440 - accuracy: 0.9895 - val_loss: 0.1159 - val_accuracy: 0.9661\n",
      "Epoch 84/100\n",
      "42000/42000 [==============================] - 2s 56us/step - loss: 0.0435 - accuracy: 0.9895 - val_loss: 0.1143 - val_accuracy: 0.9668\n",
      "Epoch 85/100\n",
      "42000/42000 [==============================] - 2s 56us/step - loss: 0.0428 - accuracy: 0.9897 - val_loss: 0.1132 - val_accuracy: 0.9668\n",
      "Epoch 86/100\n",
      "42000/42000 [==============================] - 2s 56us/step - loss: 0.0422 - accuracy: 0.9897 - val_loss: 0.1140 - val_accuracy: 0.9662\n",
      "Epoch 87/100\n",
      "42000/42000 [==============================] - 2s 56us/step - loss: 0.0416 - accuracy: 0.9900 - val_loss: 0.1147 - val_accuracy: 0.9667\n",
      "Epoch 88/100\n",
      "42000/42000 [==============================] - 2s 58us/step - loss: 0.0412 - accuracy: 0.9903 - val_loss: 0.1139 - val_accuracy: 0.9666\n",
      "Epoch 89/100\n",
      "42000/42000 [==============================] - 3s 60us/step - loss: 0.0406 - accuracy: 0.9905 - val_loss: 0.1151 - val_accuracy: 0.9661\n",
      "Epoch 90/100\n",
      "42000/42000 [==============================] - 2s 56us/step - loss: 0.0401 - accuracy: 0.9908 - val_loss: 0.1142 - val_accuracy: 0.9664\n",
      "Epoch 91/100\n",
      "42000/42000 [==============================] - 2s 56us/step - loss: 0.0394 - accuracy: 0.9908 - val_loss: 0.1148 - val_accuracy: 0.9663\n",
      "Epoch 92/100\n",
      "42000/42000 [==============================] - 2s 56us/step - loss: 0.0390 - accuracy: 0.9913 - val_loss: 0.1132 - val_accuracy: 0.9667\n",
      "Epoch 93/100\n",
      "42000/42000 [==============================] - 2s 56us/step - loss: 0.0385 - accuracy: 0.9912 - val_loss: 0.1145 - val_accuracy: 0.9668\n",
      "Epoch 94/100\n",
      "42000/42000 [==============================] - 2s 56us/step - loss: 0.0380 - accuracy: 0.9913 - val_loss: 0.1158 - val_accuracy: 0.9661\n",
      "Epoch 95/100\n",
      "42000/42000 [==============================] - 2s 56us/step - loss: 0.0376 - accuracy: 0.9918 - val_loss: 0.1133 - val_accuracy: 0.9671\n",
      "Epoch 96/100\n",
      "42000/42000 [==============================] - 2s 56us/step - loss: 0.0371 - accuracy: 0.9912 - val_loss: 0.1136 - val_accuracy: 0.9669\n",
      "Epoch 97/100\n",
      "42000/42000 [==============================] - 2s 56us/step - loss: 0.0367 - accuracy: 0.9917 - val_loss: 0.1148 - val_accuracy: 0.9666\n",
      "Epoch 98/100\n",
      "42000/42000 [==============================] - 2s 56us/step - loss: 0.0362 - accuracy: 0.9921 - val_loss: 0.1136 - val_accuracy: 0.9672\n",
      "Epoch 99/100\n",
      "42000/42000 [==============================] - 2s 56us/step - loss: 0.0357 - accuracy: 0.9921 - val_loss: 0.1130 - val_accuracy: 0.9672\n",
      "Epoch 100/100\n",
      "42000/42000 [==============================] - 2s 55us/step - loss: 0.0354 - accuracy: 0.9922 - val_loss: 0.1149 - val_accuracy: 0.9668\n"
     ]
    }
   ],
   "source": [
    "history = model.fit(X_train, y_train, epochs=100, validation_split=0.3)"
   ]
  },
  {
   "cell_type": "code",
   "execution_count": 43,
   "metadata": {},
   "outputs": [
    {
     "data": {
      "image/png": "[encoded data removed]",
      "text/plain": [
       "<Figure size 1080x720 with 1 Axes>"
      ]
     },
     "metadata": {
      "needs_background": "light"
     },
     "output_type": "display_data"
    }
   ],
   "source": [
    "plt.figure(figsize=(15,10))\n",
    "plt.plot(history.history['accuracy'], label='Accuracy')\n",
    "plt.plot(history.history['val_accuracy'], label='Val Accuracy')\n",
    "plt.plot(history.history['loss'], label='Loss')\n",
    "plt.plot(history.history['val_loss'], label='Val Loss')\n",
    "\n",
    "plt.legend()\n",
    "plt.show()"
   ]
  },
  {
   "cell_type": "markdown",
   "metadata": {},
   "source": [
    "## Overfitting and Underfitting\n",
    "\n",
    "**Overfitting** When the model is too complex to learn underlying data structure. An overfitting model can beobserved when training accuracy is more than validation accuracy. Eg. training accuracy: 0.98 whereas validation accuracy : 0.91\n",
    "\n",
    "**Underfitting** When the model is too simple to learn underlying data structure. An underfitting model can be observered when the accuracy score isn't increasing. \n",
    "\n",
    "\n",
    "### Prevention\n",
    "\n",
    "1. If the model is overfitting then try to make the model. \n",
    "    - Reduce the dense layers\n",
    "2. Shuffle the dataset. \n",
    "    - Stratified shuffling instead random sampling\n",
    "3. Regularise the model. \n",
    "    - Add L1 or L2 norms or even both\n",
    "    - Use Dropout\n",
    "    \n",
    "4. Batch normalisation \n",
    "5. Normalisation"
   ]
  },
  {
   "cell_type": "code",
   "execution_count": 151,
   "metadata": {},
   "outputs": [],
   "source": [
    "import numpy as np\n",
    "import matplotlib.pyplot as plt\n",
    "from sklearn.pipeline import Pipeline\n",
    "from sklearn.preprocessing import PolynomialFeatures\n",
    "from sklearn.linear_model import LinearRegression\n",
    "from sklearn.model_selection import cross_val_score\n",
    "\n",
    "\n",
    "\n",
    "\n",
    "np.random.seed(0)\n",
    "\n",
    "n_samples = 30\n",
    "degrees = [1, 4, 15]"
   ]
  },
  {
   "cell_type": "code",
   "execution_count": 152,
   "metadata": {},
   "outputs": [],
   "source": [
    "def true_fun(X):\n",
    "    return np.cos(1.5 * np.pi * X)"
   ]
  },
  {
   "cell_type": "code",
   "execution_count": 153,
   "metadata": {},
   "outputs": [],
   "source": [
    "np.random.seed(0)\n",
    "\n",
    "n_samples = 30\n",
    "degrees = [1, 4, 15]\n",
    "\n",
    "X = np.sort(np.random.rand(n_samples))\n",
    "y = true_fun(X) + np.random.randn(n_samples) * 0.1"
   ]
  },
  {
   "cell_type": "code",
   "execution_count": 154,
   "metadata": {},
   "outputs": [
    {
     "data": {
      "text/plain": [
       "[<matplotlib.lines.Line2D at 0x13e1d6990>]"
      ]
     },
     "execution_count": 154,
     "metadata": {},
     "output_type": "execute_result"
    },
    {
     "data": {
      "image/png": "[encoded data removed]",
      "text/plain": [
       "<Figure size 720x720 with 1 Axes>"
      ]
     },
     "metadata": {
      "needs_background": "light"
     },
     "output_type": "display_data"
    }
   ],
   "source": [
    "plt.figure(figsize=(10,10))\n",
    "plt.plot(X, y, '.')"
   ]
  },
  {
   "cell_type": "code",
   "execution_count": 155,
   "metadata": {},
   "outputs": [
    {
     "data": {
      "image/png": "[encoded data removed]",
      "text/plain": [
       "<Figure size 1008x360 with 3 Axes>"
      ]
     },
     "metadata": {},
     "output_type": "display_data"
    }
   ],
   "source": [
    "X = np.sort(np.random.rand(n_samples))\n",
    "y = true_fun(X) + np.random.randn(n_samples) * 0.1\n",
    "\n",
    "plt.figure(figsize=(14, 5))\n",
    "for i in range(len(degrees)):\n",
    "    ax = plt.subplot(1, len(degrees), i + 1)\n",
    "    plt.setp(ax, xticks=(), yticks=())\n",
    "\n",
    "    polynomial_features = PolynomialFeatures(degree=degrees[i],\n",
    "                                             include_bias=False)\n",
    "    linear_regression = LinearRegression()\n",
    "    pipeline = Pipeline([(\"polynomial_features\", polynomial_features),\n",
    "                         (\"linear_regression\", linear_regression)])\n",
    "    pipeline.fit(X[:, np.newaxis], y)\n",
    "\n",
    "    # Evaluate the models using crossvalidation\n",
    "    scores = cross_val_score(pipeline, X[:, np.newaxis], y,\n",
    "                             scoring=\"neg_mean_squared_error\", cv=10)\n",
    "\n",
    "    X_test = np.linspace(0, 1, 100)\n",
    "    plt.plot(X_test, pipeline.predict(X_test[:, np.newaxis]), label=\"Model\")\n",
    "    plt.plot(X_test, true_fun(X_test), label=\"True function\")\n",
    "    plt.scatter(X, y, edgecolor='b', s=20, label=\"Samples\")\n",
    "    plt.xlabel(\"x\")\n",
    "    plt.ylabel(\"y\")\n",
    "    plt.xlim((0, 1))\n",
    "    plt.ylim((-2, 2))\n",
    "    plt.legend(loc=\"best\")\n",
    "    plt.title(\"Degree {}\\nMSE = {:.2e}(+/- {:.2e})\".format(\n",
    "        degrees[i], -scores.mean(), scores.std()))\n",
    "plt.show()"
   ]
  },
  {
   "cell_type": "markdown",
   "metadata": {},
   "source": [
    "## Regularisation"
   ]
  },
  {
   "cell_type": "code",
   "execution_count": 44,
   "metadata": {},
   "outputs": [
    {
     "name": "stdout",
     "output_type": "stream",
     "text": [
      "Train on 42000 samples, validate on 18000 samples\n",
      "Epoch 1/500\n",
      "42000/42000 [==============================] - 1s 26us/step - loss: 11.4280 - accuracy: 0.6653 - val_loss: 5.7388 - val_accuracy: 0.8222\n",
      "Epoch 2/500\n",
      "42000/42000 [==============================] - 1s 24us/step - loss: 3.1901 - accuracy: 0.8207 - val_loss: 1.8369 - val_accuracy: 0.8309\n",
      "Epoch 3/500\n",
      "42000/42000 [==============================] - 1s 24us/step - loss: 1.6919 - accuracy: 0.8168 - val_loss: 1.5611 - val_accuracy: 0.8313\n",
      "Epoch 4/500\n",
      "42000/42000 [==============================] - 1s 24us/step - loss: 1.5106 - accuracy: 0.8201 - val_loss: 1.4306 - val_accuracy: 0.8362\n",
      "Epoch 5/500\n",
      "42000/42000 [==============================] - 1s 24us/step - loss: 1.4041 - accuracy: 0.8234 - val_loss: 1.3413 - val_accuracy: 0.8388\n",
      "Epoch 6/500\n",
      "42000/42000 [==============================] - 1s 24us/step - loss: 1.3289 - accuracy: 0.8272 - val_loss: 1.2773 - val_accuracy: 0.8415\n",
      "Epoch 7/500\n",
      "42000/42000 [==============================] - 1s 24us/step - loss: 1.2722 - accuracy: 0.8310 - val_loss: 1.2276 - val_accuracy: 0.8431\n",
      "Epoch 8/500\n",
      "42000/42000 [==============================] - 1s 24us/step - loss: 1.2265 - accuracy: 0.8340 - val_loss: 1.1856 - val_accuracy: 0.8447\n",
      "Epoch 9/500\n",
      "42000/42000 [==============================] - 1s 24us/step - loss: 1.1883 - accuracy: 0.8360 - val_loss: 1.1512 - val_accuracy: 0.8463\n",
      "Epoch 10/500\n",
      "42000/42000 [==============================] - 1s 24us/step - loss: 1.1558 - accuracy: 0.8385 - val_loss: 1.1207 - val_accuracy: 0.8492\n",
      "Epoch 11/500\n",
      "42000/42000 [==============================] - 1s 24us/step - loss: 1.1279 - accuracy: 0.8407 - val_loss: 1.0980 - val_accuracy: 0.8492\n",
      "Epoch 12/500\n",
      "42000/42000 [==============================] - 1s 24us/step - loss: 1.1036 - accuracy: 0.8424 - val_loss: 1.0733 - val_accuracy: 0.8496\n",
      "Epoch 13/500\n",
      "42000/42000 [==============================] - 1s 24us/step - loss: 1.0824 - accuracy: 0.8442 - val_loss: 1.0560 - val_accuracy: 0.8511\n",
      "Epoch 14/500\n",
      "42000/42000 [==============================] - 1s 24us/step - loss: 1.0634 - accuracy: 0.8453 - val_loss: 1.0371 - val_accuracy: 0.8529\n",
      "Epoch 15/500\n",
      "42000/42000 [==============================] - 1s 24us/step - loss: 1.0469 - accuracy: 0.8477 - val_loss: 1.0237 - val_accuracy: 0.8512\n",
      "Epoch 16/500\n",
      "42000/42000 [==============================] - 1s 24us/step - loss: 1.0316 - accuracy: 0.8488 - val_loss: 1.0067 - val_accuracy: 0.8541\n",
      "Epoch 17/500\n",
      "42000/42000 [==============================] - 1s 25us/step - loss: 1.0178 - accuracy: 0.8499 - val_loss: 0.9972 - val_accuracy: 0.8549\n",
      "Epoch 18/500\n",
      "42000/42000 [==============================] - 1s 24us/step - loss: 1.0050 - accuracy: 0.8507 - val_loss: 0.9836 - val_accuracy: 0.8547\n",
      "Epoch 19/500\n",
      "42000/42000 [==============================] - 1s 24us/step - loss: 0.9931 - accuracy: 0.8528 - val_loss: 0.9704 - val_accuracy: 0.8566\n",
      "Epoch 20/500\n",
      "42000/42000 [==============================] - 1s 24us/step - loss: 0.9816 - accuracy: 0.8529 - val_loss: 0.9605 - val_accuracy: 0.8578\n",
      "Epoch 21/500\n",
      "42000/42000 [==============================] - 1s 24us/step - loss: 0.9709 - accuracy: 0.8554 - val_loss: 0.9507 - val_accuracy: 0.8581\n",
      "Epoch 22/500\n",
      "42000/42000 [==============================] - 1s 24us/step - loss: 0.9614 - accuracy: 0.8553 - val_loss: 0.9423 - val_accuracy: 0.8583\n",
      "Epoch 23/500\n",
      "42000/42000 [==============================] - 1s 24us/step - loss: 0.9524 - accuracy: 0.8565 - val_loss: 0.9325 - val_accuracy: 0.8589\n",
      "Epoch 24/500\n",
      "42000/42000 [==============================] - 1s 24us/step - loss: 0.9435 - accuracy: 0.8568 - val_loss: 0.9259 - val_accuracy: 0.8608\n",
      "Epoch 25/500\n",
      "42000/42000 [==============================] - 1s 23us/step - loss: 0.9358 - accuracy: 0.8575 - val_loss: 0.9177 - val_accuracy: 0.8617\n",
      "Epoch 26/500\n",
      "42000/42000 [==============================] - 1s 24us/step - loss: 0.9281 - accuracy: 0.8582 - val_loss: 0.9091 - val_accuracy: 0.8614\n",
      "Epoch 27/500\n",
      "42000/42000 [==============================] - 1s 24us/step - loss: 0.9204 - accuracy: 0.8592 - val_loss: 0.9064 - val_accuracy: 0.8599\n",
      "Epoch 28/500\n",
      "42000/42000 [==============================] - 1s 24us/step - loss: 0.9133 - accuracy: 0.8595 - val_loss: 0.8996 - val_accuracy: 0.8612\n",
      "Epoch 29/500\n",
      "42000/42000 [==============================] - 1s 24us/step - loss: 0.9073 - accuracy: 0.8596 - val_loss: 0.8897 - val_accuracy: 0.8633\n",
      "Epoch 30/500\n",
      "42000/42000 [==============================] - 1s 24us/step - loss: 0.9005 - accuracy: 0.8608 - val_loss: 0.8861 - val_accuracy: 0.8623\n",
      "Epoch 31/500\n",
      "42000/42000 [==============================] - 1s 24us/step - loss: 0.8950 - accuracy: 0.8610 - val_loss: 0.8813 - val_accuracy: 0.8620\n",
      "Epoch 32/500\n",
      "42000/42000 [==============================] - 1s 24us/step - loss: 0.8891 - accuracy: 0.8621 - val_loss: 0.8791 - val_accuracy: 0.8641\n",
      "Epoch 33/500\n",
      "42000/42000 [==============================] - 1s 26us/step - loss: 0.8836 - accuracy: 0.8624 - val_loss: 0.8696 - val_accuracy: 0.8645\n",
      "Epoch 34/500\n",
      "42000/42000 [==============================] - 1s 25us/step - loss: 0.8782 - accuracy: 0.8622 - val_loss: 0.8607 - val_accuracy: 0.8658\n",
      "Epoch 35/500\n",
      "42000/42000 [==============================] - 1s 24us/step - loss: 0.8736 - accuracy: 0.8628 - val_loss: 0.8618 - val_accuracy: 0.8637\n",
      "Epoch 36/500\n",
      "42000/42000 [==============================] - 1s 24us/step - loss: 0.8684 - accuracy: 0.8636 - val_loss: 0.8560 - val_accuracy: 0.8649\n",
      "Epoch 37/500\n",
      "42000/42000 [==============================] - 1s 24us/step - loss: 0.8636 - accuracy: 0.8647 - val_loss: 0.8551 - val_accuracy: 0.8656\n",
      "Epoch 38/500\n",
      "42000/42000 [==============================] - 1s 24us/step - loss: 0.8593 - accuracy: 0.8645 - val_loss: 0.8450 - val_accuracy: 0.8666\n",
      "Epoch 39/500\n",
      "42000/42000 [==============================] - 1s 24us/step - loss: 0.8551 - accuracy: 0.8650 - val_loss: 0.8461 - val_accuracy: 0.8661\n",
      "Epoch 40/500\n",
      "42000/42000 [==============================] - 1s 24us/step - loss: 0.8512 - accuracy: 0.8647 - val_loss: 0.8342 - val_accuracy: 0.8684\n",
      "Epoch 41/500\n",
      "42000/42000 [==============================] - 1s 24us/step - loss: 0.8471 - accuracy: 0.8656 - val_loss: 0.8337 - val_accuracy: 0.8689\n",
      "Epoch 42/500\n",
      "42000/42000 [==============================] - 1s 24us/step - loss: 0.8434 - accuracy: 0.8665 - val_loss: 0.8325 - val_accuracy: 0.8658\n",
      "Epoch 43/500\n",
      "42000/42000 [==============================] - 1s 24us/step - loss: 0.8402 - accuracy: 0.8661 - val_loss: 0.8278 - val_accuracy: 0.8674\n",
      "Epoch 44/500\n",
      "42000/42000 [==============================] - 1s 24us/step - loss: 0.8366 - accuracy: 0.8665 - val_loss: 0.8221 - val_accuracy: 0.8694\n",
      "Epoch 45/500\n",
      "42000/42000 [==============================] - 1s 24us/step - loss: 0.8330 - accuracy: 0.8668 - val_loss: 0.8163 - val_accuracy: 0.8703\n",
      "Epoch 46/500\n",
      "42000/42000 [==============================] - 1s 23us/step - loss: 0.8301 - accuracy: 0.8676 - val_loss: 0.8179 - val_accuracy: 0.8686\n",
      "Epoch 47/500\n",
      "42000/42000 [==============================] - 1s 24us/step - loss: 0.8272 - accuracy: 0.8671 - val_loss: 0.8122 - val_accuracy: 0.8710\n",
      "Epoch 48/500\n",
      "42000/42000 [==============================] - 1s 23us/step - loss: 0.8240 - accuracy: 0.8678 - val_loss: 0.8108 - val_accuracy: 0.8706\n",
      "Epoch 49/500\n",
      "42000/42000 [==============================] - 1s 24us/step - loss: 0.8207 - accuracy: 0.8680 - val_loss: 0.8101 - val_accuracy: 0.8676\n",
      "Epoch 50/500\n",
      "42000/42000 [==============================] - 1s 24us/step - loss: 0.8180 - accuracy: 0.8692 - val_loss: 0.8054 - val_accuracy: 0.8707\n",
      "Epoch 51/500\n",
      "42000/42000 [==============================] - 1s 24us/step - loss: 0.8157 - accuracy: 0.8686 - val_loss: 0.8058 - val_accuracy: 0.8697\n",
      "Epoch 52/500\n",
      "42000/42000 [==============================] - 1s 24us/step - loss: 0.8128 - accuracy: 0.8690 - val_loss: 0.7988 - val_accuracy: 0.8697\n",
      "Epoch 53/500\n",
      "42000/42000 [==============================] - 1s 23us/step - loss: 0.8104 - accuracy: 0.8689 - val_loss: 0.8008 - val_accuracy: 0.8712\n",
      "Epoch 54/500\n",
      "42000/42000 [==============================] - 1s 24us/step - loss: 0.8080 - accuracy: 0.8688 - val_loss: 0.7936 - val_accuracy: 0.8720\n",
      "Epoch 55/500\n",
      "42000/42000 [==============================] - 1s 24us/step - loss: 0.8049 - accuracy: 0.8705 - val_loss: 0.7920 - val_accuracy: 0.8718\n"
     ]
    },
    {
     "name": "stdout",
     "output_type": "stream",
     "text": [
      "Epoch 56/500\n",
      "42000/42000 [==============================] - 1s 24us/step - loss: 0.8029 - accuracy: 0.8704 - val_loss: 0.7924 - val_accuracy: 0.8711\n",
      "Epoch 57/500\n",
      "42000/42000 [==============================] - 1s 24us/step - loss: 0.8010 - accuracy: 0.8702 - val_loss: 0.7868 - val_accuracy: 0.8723\n",
      "Epoch 58/500\n",
      "42000/42000 [==============================] - 1s 24us/step - loss: 0.7985 - accuracy: 0.8709 - val_loss: 0.7833 - val_accuracy: 0.8737\n",
      "Epoch 59/500\n",
      "42000/42000 [==============================] - 1s 23us/step - loss: 0.7961 - accuracy: 0.8711 - val_loss: 0.7862 - val_accuracy: 0.8718\n",
      "Epoch 60/500\n",
      "42000/42000 [==============================] - 1s 24us/step - loss: 0.7942 - accuracy: 0.8710 - val_loss: 0.7846 - val_accuracy: 0.8711\n",
      "Epoch 61/500\n",
      "42000/42000 [==============================] - 1s 24us/step - loss: 0.7924 - accuracy: 0.8713 - val_loss: 0.7782 - val_accuracy: 0.8731\n",
      "Epoch 62/500\n",
      "42000/42000 [==============================] - 1s 24us/step - loss: 0.7904 - accuracy: 0.8720 - val_loss: 0.7811 - val_accuracy: 0.8732\n",
      "Epoch 63/500\n",
      "42000/42000 [==============================] - 1s 24us/step - loss: 0.7874 - accuracy: 0.8727 - val_loss: 0.7756 - val_accuracy: 0.8735\n",
      "Epoch 64/500\n",
      "42000/42000 [==============================] - 1s 24us/step - loss: 0.7855 - accuracy: 0.8723 - val_loss: 0.7760 - val_accuracy: 0.8717\n",
      "Epoch 65/500\n",
      "42000/42000 [==============================] - 1s 24us/step - loss: 0.7851 - accuracy: 0.8708 - val_loss: 0.7710 - val_accuracy: 0.8739\n",
      "Epoch 66/500\n",
      "42000/42000 [==============================] - 1s 24us/step - loss: 0.7824 - accuracy: 0.8725 - val_loss: 0.7726 - val_accuracy: 0.8741\n",
      "Epoch 67/500\n",
      "42000/42000 [==============================] - 1s 24us/step - loss: 0.7805 - accuracy: 0.8721 - val_loss: 0.7681 - val_accuracy: 0.8735\n",
      "Epoch 68/500\n",
      "42000/42000 [==============================] - 1s 24us/step - loss: 0.7792 - accuracy: 0.8723 - val_loss: 0.7718 - val_accuracy: 0.8727\n",
      "Epoch 69/500\n",
      "42000/42000 [==============================] - 1s 24us/step - loss: 0.7771 - accuracy: 0.8725 - val_loss: 0.7646 - val_accuracy: 0.8752\n",
      "Epoch 70/500\n",
      "42000/42000 [==============================] - 1s 24us/step - loss: 0.7757 - accuracy: 0.8736 - val_loss: 0.7595 - val_accuracy: 0.8747\n",
      "Epoch 71/500\n",
      "42000/42000 [==============================] - 1s 24us/step - loss: 0.7743 - accuracy: 0.8729 - val_loss: 0.7673 - val_accuracy: 0.8706\n",
      "Epoch 72/500\n",
      "42000/42000 [==============================] - 1s 24us/step - loss: 0.7729 - accuracy: 0.8746 - val_loss: 0.7617 - val_accuracy: 0.8750\n",
      "Epoch 73/500\n",
      "42000/42000 [==============================] - 1s 24us/step - loss: 0.7713 - accuracy: 0.8733 - val_loss: 0.7586 - val_accuracy: 0.8736\n",
      "Epoch 74/500\n",
      "42000/42000 [==============================] - 1s 24us/step - loss: 0.7689 - accuracy: 0.8754 - val_loss: 0.7538 - val_accuracy: 0.8759\n",
      "Epoch 75/500\n",
      "42000/42000 [==============================] - 1s 24us/step - loss: 0.7677 - accuracy: 0.8733 - val_loss: 0.7559 - val_accuracy: 0.8744\n",
      "Epoch 76/500\n",
      "42000/42000 [==============================] - 1s 24us/step - loss: 0.7661 - accuracy: 0.8750 - val_loss: 0.7556 - val_accuracy: 0.8743\n",
      "Epoch 77/500\n",
      "42000/42000 [==============================] - 1s 23us/step - loss: 0.7645 - accuracy: 0.8750 - val_loss: 0.7526 - val_accuracy: 0.8772\n",
      "Epoch 78/500\n",
      "42000/42000 [==============================] - 1s 24us/step - loss: 0.7632 - accuracy: 0.8744 - val_loss: 0.7516 - val_accuracy: 0.8761\n",
      "Epoch 79/500\n",
      "42000/42000 [==============================] - 1s 24us/step - loss: 0.7612 - accuracy: 0.8746 - val_loss: 0.7502 - val_accuracy: 0.8738\n",
      "Epoch 80/500\n",
      "42000/42000 [==============================] - 1s 24us/step - loss: 0.7610 - accuracy: 0.8744 - val_loss: 0.7560 - val_accuracy: 0.8739\n",
      "Epoch 81/500\n",
      "42000/42000 [==============================] - 1s 24us/step - loss: 0.7597 - accuracy: 0.8754 - val_loss: 0.7500 - val_accuracy: 0.8752\n",
      "Epoch 82/500\n",
      "42000/42000 [==============================] - 1s 25us/step - loss: 0.7582 - accuracy: 0.8740 - val_loss: 0.7476 - val_accuracy: 0.8767\n",
      "Epoch 83/500\n",
      "42000/42000 [==============================] - 1s 24us/step - loss: 0.7564 - accuracy: 0.8756 - val_loss: 0.7480 - val_accuracy: 0.8731\n",
      "Epoch 84/500\n",
      "42000/42000 [==============================] - 1s 24us/step - loss: 0.7551 - accuracy: 0.8756 - val_loss: 0.7426 - val_accuracy: 0.8775\n",
      "Epoch 85/500\n",
      "42000/42000 [==============================] - 1s 24us/step - loss: 0.7543 - accuracy: 0.8755 - val_loss: 0.7411 - val_accuracy: 0.8778\n",
      "Epoch 86/500\n",
      "42000/42000 [==============================] - 1s 24us/step - loss: 0.7528 - accuracy: 0.8759 - val_loss: 0.7416 - val_accuracy: 0.8758\n",
      "Epoch 87/500\n",
      "42000/42000 [==============================] - 1s 24us/step - loss: 0.7519 - accuracy: 0.8756 - val_loss: 0.7397 - val_accuracy: 0.8781\n",
      "Epoch 88/500\n",
      "42000/42000 [==============================] - 1s 24us/step - loss: 0.7514 - accuracy: 0.8765 - val_loss: 0.7397 - val_accuracy: 0.8789\n",
      "Epoch 89/500\n",
      "42000/42000 [==============================] - 1s 27us/step - loss: 0.7505 - accuracy: 0.8759 - val_loss: 0.7391 - val_accuracy: 0.8779\n",
      "Epoch 90/500\n",
      "42000/42000 [==============================] - 1s 25us/step - loss: 0.7485 - accuracy: 0.8758 - val_loss: 0.7389 - val_accuracy: 0.8764\n",
      "Epoch 91/500\n",
      "42000/42000 [==============================] - 1s 24us/step - loss: 0.7477 - accuracy: 0.8755 - val_loss: 0.7415 - val_accuracy: 0.8766\n",
      "Epoch 92/500\n",
      "42000/42000 [==============================] - 1s 24us/step - loss: 0.7465 - accuracy: 0.8761 - val_loss: 0.7409 - val_accuracy: 0.8750\n",
      "Epoch 93/500\n",
      "42000/42000 [==============================] - 1s 24us/step - loss: 0.7457 - accuracy: 0.8762 - val_loss: 0.7342 - val_accuracy: 0.8773\n",
      "Epoch 94/500\n",
      "42000/42000 [==============================] - 1s 26us/step - loss: 0.7433 - accuracy: 0.8775 - val_loss: 0.7315 - val_accuracy: 0.8777\n",
      "Epoch 95/500\n",
      "42000/42000 [==============================] - 1s 26us/step - loss: 0.7428 - accuracy: 0.8767 - val_loss: 0.7334 - val_accuracy: 0.8761\n",
      "Epoch 96/500\n",
      "42000/42000 [==============================] - 1s 25us/step - loss: 0.7419 - accuracy: 0.8762 - val_loss: 0.7284 - val_accuracy: 0.8789\n",
      "Epoch 97/500\n",
      "42000/42000 [==============================] - 1s 24us/step - loss: 0.7406 - accuracy: 0.8772 - val_loss: 0.7290 - val_accuracy: 0.8782\n",
      "Epoch 98/500\n",
      "42000/42000 [==============================] - 1s 25us/step - loss: 0.7391 - accuracy: 0.8771 - val_loss: 0.7305 - val_accuracy: 0.8773\n",
      "Epoch 99/500\n",
      "42000/42000 [==============================] - 1s 26us/step - loss: 0.7390 - accuracy: 0.8770 - val_loss: 0.7260 - val_accuracy: 0.8780\n",
      "Epoch 100/500\n",
      "42000/42000 [==============================] - 1s 26us/step - loss: 0.7383 - accuracy: 0.8777 - val_loss: 0.7266 - val_accuracy: 0.8811\n",
      "Epoch 101/500\n",
      "42000/42000 [==============================] - 1s 25us/step - loss: 0.7369 - accuracy: 0.8774 - val_loss: 0.7250 - val_accuracy: 0.8770\n",
      "Epoch 102/500\n",
      "42000/42000 [==============================] - 1s 25us/step - loss: 0.7358 - accuracy: 0.8771 - val_loss: 0.7283 - val_accuracy: 0.8783\n",
      "Epoch 103/500\n",
      "42000/42000 [==============================] - 1s 26us/step - loss: 0.7347 - accuracy: 0.8775 - val_loss: 0.7340 - val_accuracy: 0.8727\n",
      "Epoch 104/500\n",
      "42000/42000 [==============================] - 1s 25us/step - loss: 0.7339 - accuracy: 0.8780 - val_loss: 0.7210 - val_accuracy: 0.8802\n",
      "Epoch 105/500\n",
      "42000/42000 [==============================] - 1s 24us/step - loss: 0.7337 - accuracy: 0.8771 - val_loss: 0.7238 - val_accuracy: 0.8788\n",
      "Epoch 106/500\n",
      "42000/42000 [==============================] - 1s 24us/step - loss: 0.7322 - accuracy: 0.8778 - val_loss: 0.7254 - val_accuracy: 0.8773\n",
      "Epoch 107/500\n",
      "42000/42000 [==============================] - 1s 25us/step - loss: 0.7314 - accuracy: 0.8776 - val_loss: 0.7230 - val_accuracy: 0.8775\n",
      "Epoch 108/500\n",
      "42000/42000 [==============================] - 1s 26us/step - loss: 0.7301 - accuracy: 0.8777 - val_loss: 0.7168 - val_accuracy: 0.8795\n",
      "Epoch 109/500\n",
      "42000/42000 [==============================] - 1s 26us/step - loss: 0.7302 - accuracy: 0.8784 - val_loss: 0.7204 - val_accuracy: 0.8793\n",
      "Epoch 110/500\n",
      "42000/42000 [==============================] - 1s 25us/step - loss: 0.7287 - accuracy: 0.8772 - val_loss: 0.7145 - val_accuracy: 0.8781\n"
     ]
    },
    {
     "name": "stdout",
     "output_type": "stream",
     "text": [
      "Epoch 111/500\n",
      "42000/42000 [==============================] - 1s 24us/step - loss: 0.7273 - accuracy: 0.8783 - val_loss: 0.7173 - val_accuracy: 0.8792\n",
      "Epoch 112/500\n",
      "42000/42000 [==============================] - 1s 24us/step - loss: 0.7272 - accuracy: 0.8779 - val_loss: 0.7133 - val_accuracy: 0.8800\n",
      "Epoch 113/500\n",
      "42000/42000 [==============================] - 1s 24us/step - loss: 0.7258 - accuracy: 0.8790 - val_loss: 0.7163 - val_accuracy: 0.8808\n",
      "Epoch 114/500\n",
      "42000/42000 [==============================] - 1s 24us/step - loss: 0.7259 - accuracy: 0.8785 - val_loss: 0.7136 - val_accuracy: 0.8804\n",
      "Epoch 115/500\n",
      "42000/42000 [==============================] - 1s 24us/step - loss: 0.7245 - accuracy: 0.8786 - val_loss: 0.7142 - val_accuracy: 0.8792\n",
      "Epoch 116/500\n",
      "42000/42000 [==============================] - 1s 24us/step - loss: 0.7234 - accuracy: 0.8785 - val_loss: 0.7214 - val_accuracy: 0.8754\n",
      "Epoch 117/500\n",
      "42000/42000 [==============================] - 1s 24us/step - loss: 0.7228 - accuracy: 0.8791 - val_loss: 0.7102 - val_accuracy: 0.8814\n",
      "Epoch 118/500\n",
      "42000/42000 [==============================] - 1s 24us/step - loss: 0.7215 - accuracy: 0.8789 - val_loss: 0.7157 - val_accuracy: 0.8794\n",
      "Epoch 119/500\n",
      "42000/42000 [==============================] - 1s 24us/step - loss: 0.7223 - accuracy: 0.8788 - val_loss: 0.7102 - val_accuracy: 0.8798\n",
      "Epoch 120/500\n",
      "42000/42000 [==============================] - 1s 26us/step - loss: 0.7203 - accuracy: 0.8790 - val_loss: 0.7140 - val_accuracy: 0.8812\n",
      "Epoch 121/500\n",
      "42000/42000 [==============================] - 1s 24us/step - loss: 0.7199 - accuracy: 0.8784 - val_loss: 0.7079 - val_accuracy: 0.8813\n",
      "Epoch 122/500\n",
      "42000/42000 [==============================] - 1s 24us/step - loss: 0.7191 - accuracy: 0.8786 - val_loss: 0.7102 - val_accuracy: 0.8795\n",
      "Epoch 123/500\n",
      "42000/42000 [==============================] - 1s 24us/step - loss: 0.7187 - accuracy: 0.8789 - val_loss: 0.7093 - val_accuracy: 0.8814\n",
      "Epoch 124/500\n",
      "42000/42000 [==============================] - 1s 25us/step - loss: 0.7175 - accuracy: 0.8800 - val_loss: 0.7105 - val_accuracy: 0.8813\n",
      "Epoch 125/500\n",
      "42000/42000 [==============================] - 1s 25us/step - loss: 0.7165 - accuracy: 0.8795 - val_loss: 0.7062 - val_accuracy: 0.8792\n",
      "Epoch 126/500\n",
      "42000/42000 [==============================] - 1s 25us/step - loss: 0.7171 - accuracy: 0.8787 - val_loss: 0.7052 - val_accuracy: 0.8817\n",
      "Epoch 127/500\n",
      "42000/42000 [==============================] - 1s 24us/step - loss: 0.7152 - accuracy: 0.8788 - val_loss: 0.7121 - val_accuracy: 0.8796\n",
      "Epoch 128/500\n",
      "42000/42000 [==============================] - 1s 24us/step - loss: 0.7146 - accuracy: 0.8795 - val_loss: 0.7075 - val_accuracy: 0.8810\n",
      "Epoch 129/500\n",
      "42000/42000 [==============================] - 1s 24us/step - loss: 0.7141 - accuracy: 0.8800 - val_loss: 0.7060 - val_accuracy: 0.8806\n",
      "Epoch 130/500\n",
      "42000/42000 [==============================] - 1s 26us/step - loss: 0.7135 - accuracy: 0.8788 - val_loss: 0.7127 - val_accuracy: 0.8775\n",
      "Epoch 131/500\n",
      "42000/42000 [==============================] - 1s 24us/step - loss: 0.7131 - accuracy: 0.8793 - val_loss: 0.7077 - val_accuracy: 0.8812\n",
      "Epoch 132/500\n",
      "42000/42000 [==============================] - 1s 24us/step - loss: 0.7115 - accuracy: 0.8799 - val_loss: 0.7032 - val_accuracy: 0.8806\n",
      "Epoch 133/500\n",
      "42000/42000 [==============================] - 1s 24us/step - loss: 0.7115 - accuracy: 0.8803 - val_loss: 0.7013 - val_accuracy: 0.8811\n",
      "Epoch 134/500\n",
      "42000/42000 [==============================] - 1s 24us/step - loss: 0.7116 - accuracy: 0.8794 - val_loss: 0.7049 - val_accuracy: 0.8795\n",
      "Epoch 135/500\n",
      "42000/42000 [==============================] - 1s 24us/step - loss: 0.7103 - accuracy: 0.8798 - val_loss: 0.7006 - val_accuracy: 0.8841\n",
      "Epoch 136/500\n",
      "42000/42000 [==============================] - 1s 24us/step - loss: 0.7096 - accuracy: 0.8810 - val_loss: 0.6964 - val_accuracy: 0.8820\n",
      "Epoch 137/500\n",
      "42000/42000 [==============================] - 1s 24us/step - loss: 0.7084 - accuracy: 0.8806 - val_loss: 0.6961 - val_accuracy: 0.8829\n",
      "Epoch 138/500\n",
      "42000/42000 [==============================] - 1s 25us/step - loss: 0.7079 - accuracy: 0.8815 - val_loss: 0.6982 - val_accuracy: 0.8788\n",
      "Epoch 139/500\n",
      "42000/42000 [==============================] - 1s 24us/step - loss: 0.7079 - accuracy: 0.8794 - val_loss: 0.7005 - val_accuracy: 0.8837\n",
      "Epoch 140/500\n",
      "42000/42000 [==============================] - 1s 26us/step - loss: 0.7074 - accuracy: 0.8811 - val_loss: 0.6947 - val_accuracy: 0.8838\n",
      "Epoch 141/500\n",
      "42000/42000 [==============================] - 1s 25us/step - loss: 0.7057 - accuracy: 0.8810 - val_loss: 0.7041 - val_accuracy: 0.8804\n",
      "Epoch 142/500\n",
      "42000/42000 [==============================] - 1s 27us/step - loss: 0.7062 - accuracy: 0.8804 - val_loss: 0.6985 - val_accuracy: 0.8798\n",
      "Epoch 143/500\n",
      "42000/42000 [==============================] - 1s 26us/step - loss: 0.7054 - accuracy: 0.8797 - val_loss: 0.6938 - val_accuracy: 0.8825\n",
      "Epoch 144/500\n",
      "42000/42000 [==============================] - 1s 26us/step - loss: 0.7047 - accuracy: 0.8802 - val_loss: 0.6975 - val_accuracy: 0.8821\n",
      "Epoch 145/500\n",
      "42000/42000 [==============================] - 1s 25us/step - loss: 0.7032 - accuracy: 0.8812 - val_loss: 0.6900 - val_accuracy: 0.8819\n",
      "Epoch 146/500\n",
      "42000/42000 [==============================] - 1s 26us/step - loss: 0.7028 - accuracy: 0.8804 - val_loss: 0.6949 - val_accuracy: 0.8828\n",
      "Epoch 147/500\n",
      "42000/42000 [==============================] - 1s 27us/step - loss: 0.7019 - accuracy: 0.8814 - val_loss: 0.6945 - val_accuracy: 0.8809\n",
      "Epoch 148/500\n",
      "42000/42000 [==============================] - 1s 24us/step - loss: 0.7028 - accuracy: 0.8801 - val_loss: 0.6928 - val_accuracy: 0.8843\n",
      "Epoch 149/500\n",
      "42000/42000 [==============================] - 1s 31us/step - loss: 0.7016 - accuracy: 0.8816 - val_loss: 0.6892 - val_accuracy: 0.8826\n",
      "Epoch 150/500\n",
      "42000/42000 [==============================] - 3s 64us/step - loss: 0.7009 - accuracy: 0.8807 - val_loss: 0.6926 - val_accuracy: 0.8841\n",
      "Epoch 151/500\n",
      "42000/42000 [==============================] - 1s 34us/step - loss: 0.7003 - accuracy: 0.8810 - val_loss: 0.7122 - val_accuracy: 0.8753\n",
      "Epoch 152/500\n",
      "42000/42000 [==============================] - 2s 39us/step - loss: 0.7004 - accuracy: 0.8813 - val_loss: 0.6864 - val_accuracy: 0.8833\n",
      "Epoch 153/500\n",
      "42000/42000 [==============================] - 1s 29us/step - loss: 0.6998 - accuracy: 0.8800 - val_loss: 0.7110 - val_accuracy: 0.8782\n",
      "Epoch 154/500\n",
      "42000/42000 [==============================] - 2s 51us/step - loss: 0.6985 - accuracy: 0.8808 - val_loss: 0.6926 - val_accuracy: 0.8818\n",
      "Epoch 155/500\n",
      "42000/42000 [==============================] - 2s 54us/step - loss: 0.6991 - accuracy: 0.8817 - val_loss: 0.6917 - val_accuracy: 0.8787\n",
      "Epoch 156/500\n",
      "42000/42000 [==============================] - 3s 67us/step - loss: 0.6982 - accuracy: 0.8825 - val_loss: 0.6852 - val_accuracy: 0.8832\n",
      "Epoch 157/500\n",
      "42000/42000 [==============================] - 2s 42us/step - loss: 0.6976 - accuracy: 0.8822 - val_loss: 0.6822 - val_accuracy: 0.8859\n",
      "Epoch 158/500\n",
      "42000/42000 [==============================] - 4s 84us/step - loss: 0.6972 - accuracy: 0.8809 - val_loss: 0.6851 - val_accuracy: 0.8815\n",
      "Epoch 159/500\n",
      "42000/42000 [==============================] - 2s 37us/step - loss: 0.6955 - accuracy: 0.8823 - val_loss: 0.6906 - val_accuracy: 0.8836\n",
      "Epoch 160/500\n",
      "42000/42000 [==============================] - 3s 63us/step - loss: 0.6958 - accuracy: 0.8819 - val_loss: 0.6900 - val_accuracy: 0.8816\n",
      "Epoch 161/500\n",
      "42000/42000 [==============================] - 2s 36us/step - loss: 0.6956 - accuracy: 0.8803 - val_loss: 0.6920 - val_accuracy: 0.8835\n",
      "Epoch 162/500\n",
      "42000/42000 [==============================] - 2s 38us/step - loss: 0.6961 - accuracy: 0.8809 - val_loss: 0.6787 - val_accuracy: 0.8853\n",
      "Epoch 163/500\n",
      "42000/42000 [==============================] - 2s 59us/step - loss: 0.6945 - accuracy: 0.8817 - val_loss: 0.6799 - val_accuracy: 0.8857\n",
      "Epoch 164/500\n",
      "42000/42000 [==============================] - 1s 35us/step - loss: 0.6931 - accuracy: 0.8834 - val_loss: 0.6842 - val_accuracy: 0.8847\n",
      "Epoch 165/500\n",
      "42000/42000 [==============================] - 2s 43us/step - loss: 0.6929 - accuracy: 0.8826 - val_loss: 0.6915 - val_accuracy: 0.8787\n",
      "Epoch 166/500\n",
      "42000/42000 [==============================] - 2s 37us/step - loss: 0.6943 - accuracy: 0.8810 - val_loss: 0.7014 - val_accuracy: 0.8768\n",
      "Epoch 167/500\n",
      "42000/42000 [==============================] - 2s 46us/step - loss: 0.6924 - accuracy: 0.8815 - val_loss: 0.6934 - val_accuracy: 0.8817\n",
      "Epoch 168/500\n",
      "42000/42000 [==============================] - 2s 53us/step - loss: 0.6929 - accuracy: 0.8813 - val_loss: 0.6796 - val_accuracy: 0.8838\n",
      "Epoch 169/500\n",
      "42000/42000 [==============================] - 2s 54us/step - loss: 0.6914 - accuracy: 0.8825 - val_loss: 0.6793 - val_accuracy: 0.8861\n",
      "Epoch 170/500\n",
      "42000/42000 [==============================] - 3s 60us/step - loss: 0.6901 - accuracy: 0.8822 - val_loss: 0.6931 - val_accuracy: 0.8828\n",
      "Epoch 171/500\n",
      "42000/42000 [==============================] - 2s 51us/step - loss: 0.6911 - accuracy: 0.8832 - val_loss: 0.6774 - val_accuracy: 0.8853\n",
      "Epoch 172/500\n",
      "42000/42000 [==============================] - 3s 66us/step - loss: 0.6901 - accuracy: 0.8818 - val_loss: 0.6986 - val_accuracy: 0.8783\n",
      "Epoch 173/500\n",
      "42000/42000 [==============================] - 2s 51us/step - loss: 0.6915 - accuracy: 0.8824 - val_loss: 0.6791 - val_accuracy: 0.8839\n",
      "Epoch 174/500\n",
      "42000/42000 [==============================] - 1s 31us/step - loss: 0.6903 - accuracy: 0.8827 - val_loss: 0.6773 - val_accuracy: 0.8859\n",
      "Epoch 175/500\n",
      "42000/42000 [==============================] - 1s 33us/step - loss: 0.6894 - accuracy: 0.8820 - val_loss: 0.6758 - val_accuracy: 0.8849\n",
      "Epoch 176/500\n",
      "42000/42000 [==============================] - 1s 27us/step - loss: 0.6888 - accuracy: 0.8821 - val_loss: 0.6878 - val_accuracy: 0.8788\n",
      "Epoch 177/500\n",
      "42000/42000 [==============================] - 2s 41us/step - loss: 0.6892 - accuracy: 0.8827 - val_loss: 0.6723 - val_accuracy: 0.8869\n",
      "Epoch 178/500\n",
      "42000/42000 [==============================] - 3s 61us/step - loss: 0.6870 - accuracy: 0.8843 - val_loss: 0.6794 - val_accuracy: 0.8857\n",
      "Epoch 179/500\n",
      "42000/42000 [==============================] - 1s 35us/step - loss: 0.6864 - accuracy: 0.8828 - val_loss: 0.6793 - val_accuracy: 0.8812\n",
      "Epoch 180/500\n",
      "42000/42000 [==============================] - 2s 44us/step - loss: 0.6871 - accuracy: 0.8817 - val_loss: 0.6802 - val_accuracy: 0.8846\n",
      "Epoch 181/500\n",
      "42000/42000 [==============================] - 2s 49us/step - loss: 0.6859 - accuracy: 0.8827 - val_loss: 0.6835 - val_accuracy: 0.8824\n",
      "Epoch 182/500\n",
      "42000/42000 [==============================] - 1s 30us/step - loss: 0.6864 - accuracy: 0.8820 - val_loss: 0.6797 - val_accuracy: 0.8833\n",
      "Epoch 183/500\n",
      "42000/42000 [==============================] - 2s 39us/step - loss: 0.6853 - accuracy: 0.8819 - val_loss: 0.6805 - val_accuracy: 0.8850\n",
      "Epoch 184/500\n",
      "42000/42000 [==============================] - 2s 40us/step - loss: 0.6874 - accuracy: 0.8825 - val_loss: 0.6718 - val_accuracy: 0.8876\n",
      "Epoch 185/500\n",
      "42000/42000 [==============================] - 1s 31us/step - loss: 0.6847 - accuracy: 0.8824 - val_loss: 0.6802 - val_accuracy: 0.8829\n",
      "Epoch 186/500\n",
      "42000/42000 [==============================] - 1s 32us/step - loss: 0.6845 - accuracy: 0.8830 - val_loss: 0.6739 - val_accuracy: 0.8860\n",
      "Epoch 187/500\n",
      "42000/42000 [==============================] - 1s 28us/step - loss: 0.6840 - accuracy: 0.8838 - val_loss: 0.6805 - val_accuracy: 0.8823\n",
      "Epoch 188/500\n",
      "42000/42000 [==============================] - 1s 32us/step - loss: 0.6845 - accuracy: 0.8826 - val_loss: 0.6686 - val_accuracy: 0.8859\n",
      "Epoch 189/500\n",
      "42000/42000 [==============================] - 1s 30us/step - loss: 0.6842 - accuracy: 0.8832 - val_loss: 0.6739 - val_accuracy: 0.8863\n",
      "Epoch 190/500\n",
      "42000/42000 [==============================] - 1s 28us/step - loss: 0.6833 - accuracy: 0.8830 - val_loss: 0.6761 - val_accuracy: 0.8854\n",
      "Epoch 191/500\n",
      "42000/42000 [==============================] - 1s 30us/step - loss: 0.6840 - accuracy: 0.8828 - val_loss: 0.6696 - val_accuracy: 0.8863\n",
      "Epoch 192/500\n",
      "42000/42000 [==============================] - 1s 30us/step - loss: 0.6827 - accuracy: 0.8838 - val_loss: 0.6824 - val_accuracy: 0.8809\n",
      "Epoch 193/500\n",
      "42000/42000 [==============================] - 1s 32us/step - loss: 0.6834 - accuracy: 0.8820 - val_loss: 0.6741 - val_accuracy: 0.8865\n",
      "Epoch 194/500\n",
      "42000/42000 [==============================] - 1s 29us/step - loss: 0.6818 - accuracy: 0.8840 - val_loss: 0.6705 - val_accuracy: 0.8866\n",
      "Epoch 195/500\n",
      "42000/42000 [==============================] - 2s 36us/step - loss: 0.6813 - accuracy: 0.8839 - val_loss: 0.6753 - val_accuracy: 0.8838\n",
      "Epoch 196/500\n",
      "42000/42000 [==============================] - 1s 32us/step - loss: 0.6807 - accuracy: 0.8834 - val_loss: 0.7031 - val_accuracy: 0.8748\n",
      "Epoch 197/500\n",
      "42000/42000 [==============================] - 1s 30us/step - loss: 0.6802 - accuracy: 0.8843 - val_loss: 0.6767 - val_accuracy: 0.8801\n",
      "Epoch 198/500\n",
      "42000/42000 [==============================] - 1s 30us/step - loss: 0.6812 - accuracy: 0.8836 - val_loss: 0.6711 - val_accuracy: 0.8870\n",
      "Epoch 199/500\n",
      "42000/42000 [==============================] - 1s 30us/step - loss: 0.6803 - accuracy: 0.8837 - val_loss: 0.6806 - val_accuracy: 0.8793\n",
      "Epoch 200/500\n",
      "42000/42000 [==============================] - 1s 30us/step - loss: 0.6794 - accuracy: 0.8835 - val_loss: 0.6700 - val_accuracy: 0.8857\n",
      "Epoch 201/500\n",
      "42000/42000 [==============================] - 1s 32us/step - loss: 0.6788 - accuracy: 0.8842 - val_loss: 0.6685 - val_accuracy: 0.8844\n",
      "Epoch 202/500\n",
      "42000/42000 [==============================] - 1s 30us/step - loss: 0.6788 - accuracy: 0.8840 - val_loss: 0.6810 - val_accuracy: 0.8788\n",
      "Epoch 203/500\n",
      "42000/42000 [==============================] - 1s 28us/step - loss: 0.6790 - accuracy: 0.8828 - val_loss: 0.6834 - val_accuracy: 0.8786\n",
      "Epoch 204/500\n",
      "42000/42000 [==============================] - 1s 29us/step - loss: 0.6776 - accuracy: 0.8834 - val_loss: 0.6657 - val_accuracy: 0.8863\n",
      "Epoch 205/500\n",
      "42000/42000 [==============================] - 1s 29us/step - loss: 0.6773 - accuracy: 0.8840 - val_loss: 0.6636 - val_accuracy: 0.8862\n",
      "Epoch 206/500\n",
      "42000/42000 [==============================] - 1s 29us/step - loss: 0.6778 - accuracy: 0.8835 - val_loss: 0.6641 - val_accuracy: 0.8856\n",
      "Epoch 207/500\n",
      "42000/42000 [==============================] - 1s 29us/step - loss: 0.6772 - accuracy: 0.8832 - val_loss: 0.6745 - val_accuracy: 0.8858\n",
      "Epoch 208/500\n",
      "42000/42000 [==============================] - 1s 28us/step - loss: 0.6769 - accuracy: 0.8844 - val_loss: 0.6593 - val_accuracy: 0.8866\n",
      "Epoch 209/500\n",
      "42000/42000 [==============================] - 1s 28us/step - loss: 0.6767 - accuracy: 0.8843 - val_loss: 0.6639 - val_accuracy: 0.8867\n",
      "Epoch 210/500\n",
      "42000/42000 [==============================] - 1s 28us/step - loss: 0.6759 - accuracy: 0.8846 - val_loss: 0.6691 - val_accuracy: 0.8845\n",
      "Epoch 211/500\n",
      "42000/42000 [==============================] - 1s 28us/step - loss: 0.6753 - accuracy: 0.8845 - val_loss: 0.6664 - val_accuracy: 0.8846\n",
      "Epoch 212/500\n",
      "42000/42000 [==============================] - 2s 39us/step - loss: 0.6750 - accuracy: 0.8845 - val_loss: 0.6631 - val_accuracy: 0.8872\n",
      "Epoch 213/500\n",
      "42000/42000 [==============================] - 2s 44us/step - loss: 0.6758 - accuracy: 0.8836 - val_loss: 0.6702 - val_accuracy: 0.8829\n",
      "Epoch 214/500\n",
      "42000/42000 [==============================] - 2s 43us/step - loss: 0.6749 - accuracy: 0.8843 - val_loss: 0.6683 - val_accuracy: 0.8858\n",
      "Epoch 215/500\n",
      "42000/42000 [==============================] - 1s 34us/step - loss: 0.6741 - accuracy: 0.8838 - val_loss: 0.6661 - val_accuracy: 0.8873\n",
      "Epoch 216/500\n",
      "42000/42000 [==============================] - 2s 40us/step - loss: 0.6742 - accuracy: 0.8845 - val_loss: 0.6688 - val_accuracy: 0.8825\n",
      "Epoch 217/500\n",
      "42000/42000 [==============================] - 2s 39us/step - loss: 0.6748 - accuracy: 0.8838 - val_loss: 0.6731 - val_accuracy: 0.8810\n",
      "Epoch 218/500\n",
      "42000/42000 [==============================] - 2s 40us/step - loss: 0.6740 - accuracy: 0.8858 - val_loss: 0.6720 - val_accuracy: 0.8849\n",
      "Epoch 219/500\n",
      "42000/42000 [==============================] - 2s 36us/step - loss: 0.6736 - accuracy: 0.8837 - val_loss: 0.6594 - val_accuracy: 0.8869\n"
     ]
    },
    {
     "name": "stdout",
     "output_type": "stream",
     "text": [
      "Epoch 220/500\n",
      "42000/42000 [==============================] - 1s 28us/step - loss: 0.6727 - accuracy: 0.8843 - val_loss: 0.6684 - val_accuracy: 0.8833\n",
      "Epoch 221/500\n",
      "42000/42000 [==============================] - 1s 28us/step - loss: 0.6712 - accuracy: 0.8848 - val_loss: 0.6652 - val_accuracy: 0.8832\n",
      "Epoch 222/500\n",
      "42000/42000 [==============================] - 1s 29us/step - loss: 0.6726 - accuracy: 0.8839 - val_loss: 0.6629 - val_accuracy: 0.8869\n",
      "Epoch 223/500\n",
      "42000/42000 [==============================] - 1s 29us/step - loss: 0.6703 - accuracy: 0.8852 - val_loss: 0.6854 - val_accuracy: 0.8757\n",
      "Epoch 224/500\n",
      "42000/42000 [==============================] - 1s 28us/step - loss: 0.6702 - accuracy: 0.8858 - val_loss: 0.6629 - val_accuracy: 0.8884\n",
      "Epoch 225/500\n",
      "42000/42000 [==============================] - 1s 29us/step - loss: 0.6736 - accuracy: 0.8826 - val_loss: 0.6724 - val_accuracy: 0.8850\n",
      "Epoch 226/500\n",
      "42000/42000 [==============================] - 1s 29us/step - loss: 0.6712 - accuracy: 0.8847 - val_loss: 0.6694 - val_accuracy: 0.8862\n",
      "Epoch 227/500\n",
      "42000/42000 [==============================] - 1s 30us/step - loss: 0.6711 - accuracy: 0.8842 - val_loss: 0.6719 - val_accuracy: 0.8826\n",
      "Epoch 228/500\n",
      "42000/42000 [==============================] - 2s 41us/step - loss: 0.6726 - accuracy: 0.8838 - val_loss: 0.6782 - val_accuracy: 0.8799\n",
      "Epoch 229/500\n",
      "42000/42000 [==============================] - 1s 31us/step - loss: 0.6701 - accuracy: 0.8848 - val_loss: 0.6616 - val_accuracy: 0.8849\n",
      "Epoch 230/500\n",
      "42000/42000 [==============================] - 2s 51us/step - loss: 0.6693 - accuracy: 0.8845 - val_loss: 0.6590 - val_accuracy: 0.8852\n",
      "Epoch 231/500\n",
      "42000/42000 [==============================] - 1s 25us/step - loss: 0.6707 - accuracy: 0.8851 - val_loss: 0.6706 - val_accuracy: 0.8822\n",
      "Epoch 232/500\n",
      "42000/42000 [==============================] - 1s 33us/step - loss: 0.6708 - accuracy: 0.8849 - val_loss: 0.6601 - val_accuracy: 0.8849\n",
      "Epoch 233/500\n",
      "42000/42000 [==============================] - 1s 31us/step - loss: 0.6694 - accuracy: 0.8834 - val_loss: 0.6532 - val_accuracy: 0.8884\n",
      "Epoch 234/500\n",
      "42000/42000 [==============================] - 1s 27us/step - loss: 0.6706 - accuracy: 0.8833 - val_loss: 0.6596 - val_accuracy: 0.8880\n",
      "Epoch 235/500\n",
      "42000/42000 [==============================] - 1s 25us/step - loss: 0.6685 - accuracy: 0.8834 - val_loss: 0.6605 - val_accuracy: 0.8866\n",
      "Epoch 236/500\n",
      "42000/42000 [==============================] - 1s 26us/step - loss: 0.6693 - accuracy: 0.8839 - val_loss: 0.6549 - val_accuracy: 0.8881\n",
      "Epoch 237/500\n",
      "42000/42000 [==============================] - 1s 25us/step - loss: 0.6706 - accuracy: 0.8841 - val_loss: 0.6614 - val_accuracy: 0.8863\n",
      "Epoch 238/500\n",
      "42000/42000 [==============================] - 1s 26us/step - loss: 0.6702 - accuracy: 0.8849 - val_loss: 0.6624 - val_accuracy: 0.8842\n",
      "Epoch 239/500\n",
      "42000/42000 [==============================] - 1s 26us/step - loss: 0.6686 - accuracy: 0.8850 - val_loss: 0.6591 - val_accuracy: 0.8846\n",
      "Epoch 240/500\n",
      "42000/42000 [==============================] - 1s 27us/step - loss: 0.6687 - accuracy: 0.8832 - val_loss: 0.6594 - val_accuracy: 0.8826\n",
      "Epoch 241/500\n",
      "42000/42000 [==============================] - 1s 26us/step - loss: 0.6674 - accuracy: 0.8843 - val_loss: 0.6569 - val_accuracy: 0.8868\n",
      "Epoch 242/500\n",
      "42000/42000 [==============================] - 1s 26us/step - loss: 0.6678 - accuracy: 0.8839 - val_loss: 0.6697 - val_accuracy: 0.8819\n",
      "Epoch 243/500\n",
      "42000/42000 [==============================] - 1s 24us/step - loss: 0.6678 - accuracy: 0.8852 - val_loss: 0.6584 - val_accuracy: 0.8879\n",
      "Epoch 244/500\n",
      "42000/42000 [==============================] - 1s 24us/step - loss: 0.6671 - accuracy: 0.8843 - val_loss: 0.6723 - val_accuracy: 0.8817\n",
      "Epoch 245/500\n",
      "42000/42000 [==============================] - 1s 25us/step - loss: 0.6662 - accuracy: 0.8847 - val_loss: 0.6773 - val_accuracy: 0.8831\n",
      "Epoch 246/500\n",
      "42000/42000 [==============================] - 1s 25us/step - loss: 0.6676 - accuracy: 0.8832 - val_loss: 0.6564 - val_accuracy: 0.8853\n",
      "Epoch 247/500\n",
      "42000/42000 [==============================] - 1s 24us/step - loss: 0.6654 - accuracy: 0.8854 - val_loss: 0.6848 - val_accuracy: 0.8759\n",
      "Epoch 248/500\n",
      "42000/42000 [==============================] - 1s 25us/step - loss: 0.6652 - accuracy: 0.8840 - val_loss: 0.6516 - val_accuracy: 0.8872\n",
      "Epoch 249/500\n",
      "42000/42000 [==============================] - 1s 28us/step - loss: 0.6645 - accuracy: 0.8855 - val_loss: 0.6573 - val_accuracy: 0.8884\n",
      "Epoch 250/500\n",
      "42000/42000 [==============================] - 1s 27us/step - loss: 0.6671 - accuracy: 0.8852 - val_loss: 0.6577 - val_accuracy: 0.8883\n",
      "Epoch 251/500\n",
      "42000/42000 [==============================] - 1s 25us/step - loss: 0.6654 - accuracy: 0.8852 - val_loss: 0.6677 - val_accuracy: 0.8807\n",
      "Epoch 252/500\n",
      "42000/42000 [==============================] - 1s 25us/step - loss: 0.6650 - accuracy: 0.8859 - val_loss: 0.6692 - val_accuracy: 0.8851\n",
      "Epoch 253/500\n",
      "42000/42000 [==============================] - 1s 25us/step - loss: 0.6653 - accuracy: 0.8848 - val_loss: 0.6505 - val_accuracy: 0.8895\n",
      "Epoch 254/500\n",
      "42000/42000 [==============================] - 1s 25us/step - loss: 0.6652 - accuracy: 0.8849 - val_loss: 0.6872 - val_accuracy: 0.8799\n",
      "Epoch 255/500\n",
      "42000/42000 [==============================] - 1s 25us/step - loss: 0.6635 - accuracy: 0.8856 - val_loss: 0.6533 - val_accuracy: 0.8884\n",
      "Epoch 256/500\n",
      "42000/42000 [==============================] - 1s 25us/step - loss: 0.6658 - accuracy: 0.8839 - val_loss: 0.6452 - val_accuracy: 0.8869\n",
      "Epoch 257/500\n",
      "42000/42000 [==============================] - 1s 25us/step - loss: 0.6643 - accuracy: 0.8849 - val_loss: 0.6577 - val_accuracy: 0.8865\n",
      "Epoch 258/500\n",
      "42000/42000 [==============================] - 1s 33us/step - loss: 0.6627 - accuracy: 0.8849 - val_loss: 0.6646 - val_accuracy: 0.8806\n",
      "Epoch 259/500\n",
      "42000/42000 [==============================] - 1s 35us/step - loss: 0.6645 - accuracy: 0.8832 - val_loss: 0.6539 - val_accuracy: 0.8880\n",
      "Epoch 260/500\n",
      "42000/42000 [==============================] - 1s 24us/step - loss: 0.6633 - accuracy: 0.8854 - val_loss: 0.6485 - val_accuracy: 0.8885\n",
      "Epoch 261/500\n",
      "42000/42000 [==============================] - 1s 27us/step - loss: 0.6643 - accuracy: 0.8852 - val_loss: 0.6529 - val_accuracy: 0.8899\n",
      "Epoch 262/500\n",
      "42000/42000 [==============================] - 1s 25us/step - loss: 0.6636 - accuracy: 0.8855 - val_loss: 0.6618 - val_accuracy: 0.8851\n",
      "Epoch 263/500\n",
      "42000/42000 [==============================] - 1s 24us/step - loss: 0.6619 - accuracy: 0.8849 - val_loss: 0.6587 - val_accuracy: 0.8851\n",
      "Epoch 264/500\n",
      "42000/42000 [==============================] - 1s 26us/step - loss: 0.6632 - accuracy: 0.8852 - val_loss: 0.6631 - val_accuracy: 0.8821\n",
      "Epoch 265/500\n",
      "42000/42000 [==============================] - 1s 27us/step - loss: 0.6618 - accuracy: 0.8848 - val_loss: 0.6480 - val_accuracy: 0.8895\n",
      "Epoch 266/500\n",
      "42000/42000 [==============================] - 1s 31us/step - loss: 0.6632 - accuracy: 0.8857 - val_loss: 0.6508 - val_accuracy: 0.8875\n",
      "Epoch 267/500\n",
      "42000/42000 [==============================] - 1s 25us/step - loss: 0.6616 - accuracy: 0.8852 - val_loss: 0.6480 - val_accuracy: 0.8903\n",
      "Epoch 268/500\n",
      "42000/42000 [==============================] - 1s 28us/step - loss: 0.6618 - accuracy: 0.8855 - val_loss: 0.6531 - val_accuracy: 0.8844\n",
      "Epoch 269/500\n",
      "42000/42000 [==============================] - 1s 27us/step - loss: 0.6613 - accuracy: 0.8859 - val_loss: 0.6637 - val_accuracy: 0.8826\n",
      "Epoch 270/500\n",
      "42000/42000 [==============================] - 1s 25us/step - loss: 0.6610 - accuracy: 0.8843 - val_loss: 0.6558 - val_accuracy: 0.8886\n",
      "Epoch 271/500\n",
      "42000/42000 [==============================] - 2s 36us/step - loss: 0.6610 - accuracy: 0.8848 - val_loss: 0.6488 - val_accuracy: 0.8880\n",
      "Epoch 272/500\n",
      "42000/42000 [==============================] - 1s 33us/step - loss: 0.6612 - accuracy: 0.8852 - val_loss: 0.6573 - val_accuracy: 0.8851\n",
      "Epoch 273/500\n",
      "42000/42000 [==============================] - 1s 29us/step - loss: 0.6637 - accuracy: 0.8847 - val_loss: 0.6506 - val_accuracy: 0.8868\n",
      "Epoch 274/500\n",
      "42000/42000 [==============================] - 1s 26us/step - loss: 0.6618 - accuracy: 0.8844 - val_loss: 0.6532 - val_accuracy: 0.8873\n",
      "Epoch 275/500\n",
      "42000/42000 [==============================] - 1s 24us/step - loss: 0.6595 - accuracy: 0.8863 - val_loss: 0.6490 - val_accuracy: 0.8858\n",
      "Epoch 276/500\n",
      "42000/42000 [==============================] - 1s 25us/step - loss: 0.6592 - accuracy: 0.8855 - val_loss: 0.6433 - val_accuracy: 0.8896\n",
      "Epoch 277/500\n",
      "42000/42000 [==============================] - 1s 28us/step - loss: 0.6603 - accuracy: 0.8855 - val_loss: 0.6560 - val_accuracy: 0.8873\n",
      "Epoch 278/500\n",
      "42000/42000 [==============================] - 1s 26us/step - loss: 0.6614 - accuracy: 0.8860 - val_loss: 0.6439 - val_accuracy: 0.8882\n",
      "Epoch 279/500\n",
      "42000/42000 [==============================] - 1s 24us/step - loss: 0.6579 - accuracy: 0.8851 - val_loss: 0.6586 - val_accuracy: 0.8840\n",
      "Epoch 280/500\n",
      "42000/42000 [==============================] - 1s 24us/step - loss: 0.6590 - accuracy: 0.8853 - val_loss: 0.6420 - val_accuracy: 0.8902\n",
      "Epoch 281/500\n",
      "42000/42000 [==============================] - 1s 25us/step - loss: 0.6583 - accuracy: 0.8855 - val_loss: 0.6732 - val_accuracy: 0.8820\n",
      "Epoch 282/500\n",
      "42000/42000 [==============================] - 1s 26us/step - loss: 0.6591 - accuracy: 0.8847 - val_loss: 0.6456 - val_accuracy: 0.8907\n",
      "Epoch 283/500\n",
      "42000/42000 [==============================] - 1s 28us/step - loss: 0.6574 - accuracy: 0.8860 - val_loss: 0.6587 - val_accuracy: 0.8853\n",
      "Epoch 284/500\n",
      "42000/42000 [==============================] - 1s 30us/step - loss: 0.6581 - accuracy: 0.8856 - val_loss: 0.6517 - val_accuracy: 0.8875\n",
      "Epoch 285/500\n",
      "42000/42000 [==============================] - 1s 26us/step - loss: 0.6597 - accuracy: 0.8843 - val_loss: 0.6524 - val_accuracy: 0.8858\n",
      "Epoch 286/500\n",
      "42000/42000 [==============================] - 1s 29us/step - loss: 0.6592 - accuracy: 0.8853 - val_loss: 0.6535 - val_accuracy: 0.8882\n",
      "Epoch 287/500\n",
      "42000/42000 [==============================] - 1s 27us/step - loss: 0.6561 - accuracy: 0.8858 - val_loss: 0.6445 - val_accuracy: 0.8897\n",
      "Epoch 288/500\n",
      "42000/42000 [==============================] - 1s 27us/step - loss: 0.6599 - accuracy: 0.8852 - val_loss: 0.6389 - val_accuracy: 0.8918\n",
      "Epoch 289/500\n",
      "42000/42000 [==============================] - 1s 24us/step - loss: 0.6581 - accuracy: 0.8846 - val_loss: 0.6393 - val_accuracy: 0.8931\n",
      "Epoch 290/500\n",
      "42000/42000 [==============================] - 1s 29us/step - loss: 0.6585 - accuracy: 0.8852 - val_loss: 0.6390 - val_accuracy: 0.8904\n",
      "Epoch 291/500\n",
      "42000/42000 [==============================] - 1s 25us/step - loss: 0.6568 - accuracy: 0.8849 - val_loss: 0.7104 - val_accuracy: 0.8656\n",
      "Epoch 292/500\n",
      "42000/42000 [==============================] - 1s 26us/step - loss: 0.6576 - accuracy: 0.8856 - val_loss: 0.6640 - val_accuracy: 0.8802\n",
      "Epoch 293/500\n",
      "42000/42000 [==============================] - 1s 26us/step - loss: 0.6580 - accuracy: 0.8862 - val_loss: 0.6416 - val_accuracy: 0.8899\n",
      "Epoch 294/500\n",
      "42000/42000 [==============================] - 1s 24us/step - loss: 0.6565 - accuracy: 0.8856 - val_loss: 0.6539 - val_accuracy: 0.8847\n",
      "Epoch 295/500\n",
      "42000/42000 [==============================] - 1s 24us/step - loss: 0.6589 - accuracy: 0.8857 - val_loss: 0.6425 - val_accuracy: 0.8911\n",
      "Epoch 296/500\n",
      "42000/42000 [==============================] - 1s 26us/step - loss: 0.6580 - accuracy: 0.8853 - val_loss: 0.6521 - val_accuracy: 0.8864\n",
      "Epoch 297/500\n",
      "42000/42000 [==============================] - 1s 25us/step - loss: 0.6575 - accuracy: 0.8849 - val_loss: 0.6505 - val_accuracy: 0.8854\n",
      "Epoch 298/500\n",
      "42000/42000 [==============================] - 1s 32us/step - loss: 0.6547 - accuracy: 0.8868 - val_loss: 0.6320 - val_accuracy: 0.8913\n",
      "Epoch 299/500\n",
      "42000/42000 [==============================] - 1s 27us/step - loss: 0.6578 - accuracy: 0.8861 - val_loss: 0.6410 - val_accuracy: 0.8894\n",
      "Epoch 300/500\n",
      "42000/42000 [==============================] - 1s 24us/step - loss: 0.6557 - accuracy: 0.8857 - val_loss: 0.6693 - val_accuracy: 0.8773\n",
      "Epoch 301/500\n",
      "42000/42000 [==============================] - 1s 24us/step - loss: 0.6568 - accuracy: 0.8863 - val_loss: 0.6422 - val_accuracy: 0.8874\n",
      "Epoch 302/500\n",
      "42000/42000 [==============================] - 1s 24us/step - loss: 0.6562 - accuracy: 0.8850 - val_loss: 0.6475 - val_accuracy: 0.8884\n",
      "Epoch 303/500\n",
      "42000/42000 [==============================] - 1s 27us/step - loss: 0.6544 - accuracy: 0.8854 - val_loss: 0.6558 - val_accuracy: 0.8824\n",
      "Epoch 304/500\n",
      "42000/42000 [==============================] - 1s 31us/step - loss: 0.6564 - accuracy: 0.8848 - val_loss: 0.6586 - val_accuracy: 0.8803\n",
      "Epoch 305/500\n",
      "42000/42000 [==============================] - 1s 29us/step - loss: 0.6578 - accuracy: 0.8848 - val_loss: 0.6589 - val_accuracy: 0.8843\n",
      "Epoch 306/500\n",
      "42000/42000 [==============================] - 2s 38us/step - loss: 0.6587 - accuracy: 0.8845 - val_loss: 0.6506 - val_accuracy: 0.8851\n",
      "Epoch 307/500\n",
      "42000/42000 [==============================] - 1s 32us/step - loss: 0.6559 - accuracy: 0.8853 - val_loss: 0.6540 - val_accuracy: 0.8858\n",
      "Epoch 308/500\n",
      "42000/42000 [==============================] - 1s 24us/step - loss: 0.6555 - accuracy: 0.8853 - val_loss: 0.6528 - val_accuracy: 0.8824\n",
      "Epoch 309/500\n",
      "42000/42000 [==============================] - 1s 24us/step - loss: 0.6557 - accuracy: 0.8861 - val_loss: 0.6599 - val_accuracy: 0.8845\n",
      "Epoch 310/500\n",
      "42000/42000 [==============================] - 1s 24us/step - loss: 0.6541 - accuracy: 0.8861 - val_loss: 0.6345 - val_accuracy: 0.8918\n",
      "Epoch 311/500\n",
      "42000/42000 [==============================] - 1s 24us/step - loss: 0.6541 - accuracy: 0.8860 - val_loss: 0.6436 - val_accuracy: 0.8881\n",
      "Epoch 312/500\n",
      "42000/42000 [==============================] - 1s 24us/step - loss: 0.6539 - accuracy: 0.8856 - val_loss: 0.6410 - val_accuracy: 0.8889\n",
      "Epoch 313/500\n",
      "42000/42000 [==============================] - 1s 27us/step - loss: 0.6555 - accuracy: 0.8846 - val_loss: 0.6367 - val_accuracy: 0.8928\n",
      "Epoch 314/500\n",
      "42000/42000 [==============================] - 1s 24us/step - loss: 0.6541 - accuracy: 0.8851 - val_loss: 0.6471 - val_accuracy: 0.8898\n",
      "Epoch 315/500\n",
      "42000/42000 [==============================] - 1s 25us/step - loss: 0.6528 - accuracy: 0.8861 - val_loss: 0.6356 - val_accuracy: 0.8899\n",
      "Epoch 316/500\n",
      "42000/42000 [==============================] - 1s 31us/step - loss: 0.6551 - accuracy: 0.8856 - val_loss: 0.6404 - val_accuracy: 0.8881\n",
      "Epoch 317/500\n",
      "42000/42000 [==============================] - 1s 26us/step - loss: 0.6548 - accuracy: 0.8858 - val_loss: 0.6449 - val_accuracy: 0.8886\n",
      "Epoch 318/500\n",
      "42000/42000 [==============================] - 1s 26us/step - loss: 0.6536 - accuracy: 0.8857 - val_loss: 0.6495 - val_accuracy: 0.8856\n",
      "Epoch 319/500\n",
      "42000/42000 [==============================] - 1s 28us/step - loss: 0.6530 - accuracy: 0.8871 - val_loss: 0.6370 - val_accuracy: 0.8911\n",
      "Epoch 320/500\n",
      "42000/42000 [==============================] - 1s 24us/step - loss: 0.6525 - accuracy: 0.8855 - val_loss: 0.6315 - val_accuracy: 0.8912\n",
      "Epoch 321/500\n",
      "42000/42000 [==============================] - 1s 25us/step - loss: 0.6556 - accuracy: 0.8856 - val_loss: 0.6332 - val_accuracy: 0.8926\n",
      "Epoch 322/500\n",
      "42000/42000 [==============================] - 1s 25us/step - loss: 0.6574 - accuracy: 0.8846 - val_loss: 0.6711 - val_accuracy: 0.8798\n",
      "Epoch 323/500\n",
      "42000/42000 [==============================] - 1s 24us/step - loss: 0.6563 - accuracy: 0.8851 - val_loss: 0.6526 - val_accuracy: 0.8869\n",
      "Epoch 324/500\n",
      "42000/42000 [==============================] - 1s 24us/step - loss: 0.6546 - accuracy: 0.8851 - val_loss: 0.6376 - val_accuracy: 0.8891\n",
      "Epoch 325/500\n",
      "42000/42000 [==============================] - 1s 25us/step - loss: 0.6567 - accuracy: 0.8845 - val_loss: 0.6502 - val_accuracy: 0.8858\n",
      "Epoch 326/500\n",
      "42000/42000 [==============================] - 2s 44us/step - loss: 0.6539 - accuracy: 0.8853 - val_loss: 0.6441 - val_accuracy: 0.8858\n",
      "Epoch 327/500\n",
      "42000/42000 [==============================] - 2s 43us/step - loss: 0.6523 - accuracy: 0.8863 - val_loss: 0.6531 - val_accuracy: 0.8799\n",
      "Epoch 328/500\n",
      "42000/42000 [==============================] - 1s 32us/step - loss: 0.6518 - accuracy: 0.8855 - val_loss: 0.6382 - val_accuracy: 0.8893\n"
     ]
    },
    {
     "name": "stdout",
     "output_type": "stream",
     "text": [
      "Epoch 329/500\n",
      "42000/42000 [==============================] - 1s 26us/step - loss: 0.6540 - accuracy: 0.8842 - val_loss: 0.6408 - val_accuracy: 0.8868\n",
      "Epoch 330/500\n",
      "42000/42000 [==============================] - 1s 26us/step - loss: 0.6528 - accuracy: 0.8852 - val_loss: 0.6560 - val_accuracy: 0.8834\n",
      "Epoch 331/500\n",
      "42000/42000 [==============================] - 1s 34us/step - loss: 0.6538 - accuracy: 0.8860 - val_loss: 0.6532 - val_accuracy: 0.8839\n",
      "Epoch 332/500\n",
      "42000/42000 [==============================] - 1s 29us/step - loss: 0.6509 - accuracy: 0.8860 - val_loss: 0.6430 - val_accuracy: 0.8888\n",
      "Epoch 333/500\n",
      "42000/42000 [==============================] - 1s 26us/step - loss: 0.6532 - accuracy: 0.8863 - val_loss: 0.6582 - val_accuracy: 0.8874\n",
      "Epoch 334/500\n",
      "42000/42000 [==============================] - 1s 26us/step - loss: 0.6529 - accuracy: 0.8845 - val_loss: 0.6351 - val_accuracy: 0.8918\n",
      "Epoch 335/500\n",
      "42000/42000 [==============================] - 1s 25us/step - loss: 0.6523 - accuracy: 0.8861 - val_loss: 0.6369 - val_accuracy: 0.8883\n",
      "Epoch 336/500\n",
      "42000/42000 [==============================] - 1s 25us/step - loss: 0.6536 - accuracy: 0.8859 - val_loss: 0.6475 - val_accuracy: 0.8853\n",
      "Epoch 337/500\n",
      "42000/42000 [==============================] - 1s 28us/step - loss: 0.6503 - accuracy: 0.8852 - val_loss: 0.6549 - val_accuracy: 0.8829\n",
      "Epoch 338/500\n",
      "42000/42000 [==============================] - 1s 28us/step - loss: 0.6492 - accuracy: 0.8864 - val_loss: 0.6968 - val_accuracy: 0.8669\n",
      "Epoch 339/500\n",
      "42000/42000 [==============================] - 1s 29us/step - loss: 0.6509 - accuracy: 0.8862 - val_loss: 0.7475 - val_accuracy: 0.8424\n",
      "Epoch 340/500\n",
      "42000/42000 [==============================] - 1s 26us/step - loss: 0.6516 - accuracy: 0.8860 - val_loss: 0.6618 - val_accuracy: 0.8779\n",
      "Epoch 341/500\n",
      "42000/42000 [==============================] - 1s 24us/step - loss: 0.6523 - accuracy: 0.8864 - val_loss: 0.6407 - val_accuracy: 0.8877\n",
      "Epoch 342/500\n",
      "42000/42000 [==============================] - 1s 24us/step - loss: 0.6506 - accuracy: 0.8867 - val_loss: 0.6528 - val_accuracy: 0.8840\n",
      "Epoch 343/500\n",
      "42000/42000 [==============================] - 1s 25us/step - loss: 0.6503 - accuracy: 0.8853 - val_loss: 0.6383 - val_accuracy: 0.8883\n",
      "Epoch 344/500\n",
      "42000/42000 [==============================] - 1s 25us/step - loss: 0.6507 - accuracy: 0.8855 - val_loss: 0.6736 - val_accuracy: 0.8812\n",
      "Epoch 345/500\n",
      "42000/42000 [==============================] - 1s 34us/step - loss: 0.6523 - accuracy: 0.8849 - val_loss: 0.6776 - val_accuracy: 0.8758\n",
      "Epoch 346/500\n",
      "42000/42000 [==============================] - 1s 31us/step - loss: 0.6496 - accuracy: 0.8862 - val_loss: 0.6405 - val_accuracy: 0.8908\n",
      "Epoch 347/500\n",
      "42000/42000 [==============================] - 1s 28us/step - loss: 0.6508 - accuracy: 0.8865 - val_loss: 0.6307 - val_accuracy: 0.8891\n",
      "Epoch 348/500\n",
      "42000/42000 [==============================] - 1s 30us/step - loss: 0.6512 - accuracy: 0.8849 - val_loss: 0.6422 - val_accuracy: 0.8896\n",
      "Epoch 349/500\n",
      "42000/42000 [==============================] - 1s 25us/step - loss: 0.6515 - accuracy: 0.8862 - val_loss: 0.6290 - val_accuracy: 0.8916\n",
      "Epoch 350/500\n",
      "42000/42000 [==============================] - 1s 32us/step - loss: 0.6527 - accuracy: 0.8849 - val_loss: 0.6463 - val_accuracy: 0.8854\n",
      "Epoch 351/500\n",
      "42000/42000 [==============================] - 1s 30us/step - loss: 0.6505 - accuracy: 0.8858 - val_loss: 0.6543 - val_accuracy: 0.8836\n",
      "Epoch 352/500\n",
      "42000/42000 [==============================] - 1s 28us/step - loss: 0.6506 - accuracy: 0.8853 - val_loss: 0.6428 - val_accuracy: 0.8876\n",
      "Epoch 353/500\n",
      "42000/42000 [==============================] - 1s 27us/step - loss: 0.6515 - accuracy: 0.8843 - val_loss: 0.6446 - val_accuracy: 0.8867\n",
      "Epoch 354/500\n",
      "42000/42000 [==============================] - 1s 26us/step - loss: 0.6498 - accuracy: 0.8857 - val_loss: 0.6299 - val_accuracy: 0.8907\n",
      "Epoch 355/500\n",
      "42000/42000 [==============================] - 1s 26us/step - loss: 0.6493 - accuracy: 0.8860 - val_loss: 0.6354 - val_accuracy: 0.8896\n",
      "Epoch 356/500\n",
      "42000/42000 [==============================] - 1s 29us/step - loss: 0.6528 - accuracy: 0.8853 - val_loss: 0.6370 - val_accuracy: 0.8895\n",
      "Epoch 357/500\n",
      "42000/42000 [==============================] - 1s 25us/step - loss: 0.6471 - accuracy: 0.8864 - val_loss: 0.6565 - val_accuracy: 0.8811\n",
      "Epoch 358/500\n",
      "42000/42000 [==============================] - 1s 24us/step - loss: 0.6496 - accuracy: 0.8854 - val_loss: 0.6245 - val_accuracy: 0.8935\n",
      "Epoch 359/500\n",
      "42000/42000 [==============================] - 1s 24us/step - loss: 0.6495 - accuracy: 0.8859 - val_loss: 0.6329 - val_accuracy: 0.8888\n",
      "Epoch 360/500\n",
      "42000/42000 [==============================] - 1s 24us/step - loss: 0.6493 - accuracy: 0.8864 - val_loss: 0.6559 - val_accuracy: 0.8809\n",
      "Epoch 361/500\n",
      "42000/42000 [==============================] - 1s 24us/step - loss: 0.6489 - accuracy: 0.8867 - val_loss: 0.6340 - val_accuracy: 0.8889\n",
      "Epoch 362/500\n",
      "42000/42000 [==============================] - 1s 25us/step - loss: 0.6493 - accuracy: 0.8864 - val_loss: 0.7080 - val_accuracy: 0.8668\n",
      "Epoch 363/500\n",
      "42000/42000 [==============================] - 1s 27us/step - loss: 0.6519 - accuracy: 0.8855 - val_loss: 0.6434 - val_accuracy: 0.8861\n",
      "Epoch 364/500\n",
      "42000/42000 [==============================] - 1s 26us/step - loss: 0.6504 - accuracy: 0.8850 - val_loss: 0.6350 - val_accuracy: 0.8904\n",
      "Epoch 365/500\n",
      "42000/42000 [==============================] - 1s 25us/step - loss: 0.6499 - accuracy: 0.8837 - val_loss: 0.6638 - val_accuracy: 0.8768\n",
      "Epoch 366/500\n",
      "42000/42000 [==============================] - 1s 32us/step - loss: 0.6529 - accuracy: 0.8837 - val_loss: 0.6552 - val_accuracy: 0.8847\n",
      "Epoch 367/500\n",
      "42000/42000 [==============================] - 1s 25us/step - loss: 0.6498 - accuracy: 0.8852 - val_loss: 0.6349 - val_accuracy: 0.8898\n",
      "Epoch 368/500\n",
      "42000/42000 [==============================] - 1s 34us/step - loss: 0.6485 - accuracy: 0.8865 - val_loss: 0.6368 - val_accuracy: 0.8892\n",
      "Epoch 369/500\n",
      "42000/42000 [==============================] - 1s 26us/step - loss: 0.6500 - accuracy: 0.8847 - val_loss: 0.6348 - val_accuracy: 0.8891\n",
      "Epoch 370/500\n",
      "42000/42000 [==============================] - 1s 25us/step - loss: 0.6515 - accuracy: 0.8829 - val_loss: 0.6408 - val_accuracy: 0.8895\n",
      "Epoch 371/500\n",
      "42000/42000 [==============================] - 1s 33us/step - loss: 0.6490 - accuracy: 0.8867 - val_loss: 0.6530 - val_accuracy: 0.8798\n",
      "Epoch 372/500\n",
      "42000/42000 [==============================] - 1s 32us/step - loss: 0.6504 - accuracy: 0.8845 - val_loss: 0.6410 - val_accuracy: 0.8864\n",
      "Epoch 373/500\n",
      "42000/42000 [==============================] - 1s 29us/step - loss: 0.6488 - accuracy: 0.8861 - val_loss: 0.6322 - val_accuracy: 0.8887\n",
      "Epoch 374/500\n",
      "42000/42000 [==============================] - 1s 26us/step - loss: 0.6482 - accuracy: 0.8862 - val_loss: 0.6304 - val_accuracy: 0.8902\n",
      "Epoch 375/500\n",
      "42000/42000 [==============================] - 1s 25us/step - loss: 0.6462 - accuracy: 0.8853 - val_loss: 0.6475 - val_accuracy: 0.8868\n",
      "Epoch 376/500\n",
      "42000/42000 [==============================] - 1s 25us/step - loss: 0.6502 - accuracy: 0.8842 - val_loss: 0.6717 - val_accuracy: 0.8743\n",
      "Epoch 377/500\n",
      "42000/42000 [==============================] - 1s 26us/step - loss: 0.6474 - accuracy: 0.8851 - val_loss: 0.6427 - val_accuracy: 0.8897\n",
      "Epoch 378/500\n",
      "42000/42000 [==============================] - 1s 33us/step - loss: 0.6489 - accuracy: 0.8851 - val_loss: 0.6480 - val_accuracy: 0.8841\n",
      "Epoch 379/500\n",
      "42000/42000 [==============================] - 1s 34us/step - loss: 0.6487 - accuracy: 0.8860 - val_loss: 0.6445 - val_accuracy: 0.8866\n",
      "Epoch 380/500\n",
      "42000/42000 [==============================] - 1s 26us/step - loss: 0.6461 - accuracy: 0.8862 - val_loss: 0.6808 - val_accuracy: 0.8726\n",
      "Epoch 381/500\n",
      "42000/42000 [==============================] - 1s 26us/step - loss: 0.6494 - accuracy: 0.8850 - val_loss: 0.6300 - val_accuracy: 0.8891\n",
      "Epoch 382/500\n",
      "42000/42000 [==============================] - 1s 31us/step - loss: 0.6489 - accuracy: 0.8844 - val_loss: 0.6318 - val_accuracy: 0.8885\n",
      "Epoch 383/500\n",
      "42000/42000 [==============================] - 1s 26us/step - loss: 0.6476 - accuracy: 0.8860 - val_loss: 0.6296 - val_accuracy: 0.8886\n",
      "Epoch 384/500\n",
      "42000/42000 [==============================] - 1s 25us/step - loss: 0.6475 - accuracy: 0.8854 - val_loss: 0.6395 - val_accuracy: 0.8862\n",
      "Epoch 385/500\n",
      "42000/42000 [==============================] - 1s 34us/step - loss: 0.6476 - accuracy: 0.8855 - val_loss: 0.6423 - val_accuracy: 0.8857\n",
      "Epoch 386/500\n",
      "42000/42000 [==============================] - 1s 28us/step - loss: 0.6458 - accuracy: 0.8858 - val_loss: 0.6473 - val_accuracy: 0.8807\n",
      "Epoch 387/500\n",
      "42000/42000 [==============================] - 1s 28us/step - loss: 0.6498 - accuracy: 0.8850 - val_loss: 0.6325 - val_accuracy: 0.8875\n",
      "Epoch 388/500\n",
      "42000/42000 [==============================] - 1s 29us/step - loss: 0.6481 - accuracy: 0.8857 - val_loss: 0.6245 - val_accuracy: 0.8899\n",
      "Epoch 389/500\n",
      "42000/42000 [==============================] - 1s 31us/step - loss: 0.6487 - accuracy: 0.8845 - val_loss: 0.6441 - val_accuracy: 0.8871\n",
      "Epoch 390/500\n",
      "42000/42000 [==============================] - 1s 30us/step - loss: 0.6470 - accuracy: 0.8849 - val_loss: 0.6343 - val_accuracy: 0.8869\n",
      "Epoch 391/500\n",
      "42000/42000 [==============================] - 2s 38us/step - loss: 0.6487 - accuracy: 0.8846 - val_loss: 0.6620 - val_accuracy: 0.8805\n",
      "Epoch 392/500\n",
      "42000/42000 [==============================] - 1s 33us/step - loss: 0.6487 - accuracy: 0.8851 - val_loss: 0.6401 - val_accuracy: 0.8857\n",
      "Epoch 393/500\n",
      "42000/42000 [==============================] - 2s 37us/step - loss: 0.6465 - accuracy: 0.8865 - val_loss: 0.6371 - val_accuracy: 0.8843\n",
      "Epoch 394/500\n",
      "42000/42000 [==============================] - 1s 25us/step - loss: 0.6469 - accuracy: 0.8865 - val_loss: 0.6257 - val_accuracy: 0.8932\n",
      "Epoch 395/500\n",
      "42000/42000 [==============================] - 1s 24us/step - loss: 0.6462 - accuracy: 0.8864 - val_loss: 0.6503 - val_accuracy: 0.8838\n",
      "Epoch 396/500\n",
      "42000/42000 [==============================] - 1s 24us/step - loss: 0.6449 - accuracy: 0.8851 - val_loss: 0.6445 - val_accuracy: 0.8859\n",
      "Epoch 397/500\n",
      "42000/42000 [==============================] - 1s 24us/step - loss: 0.6468 - accuracy: 0.8860 - val_loss: 0.6445 - val_accuracy: 0.8864\n",
      "Epoch 398/500\n",
      "42000/42000 [==============================] - 1s 24us/step - loss: 0.6456 - accuracy: 0.8864 - val_loss: 0.6331 - val_accuracy: 0.8888\n",
      "Epoch 399/500\n",
      "42000/42000 [==============================] - 1s 24us/step - loss: 0.6441 - accuracy: 0.8870 - val_loss: 0.6934 - val_accuracy: 0.8664\n",
      "Epoch 400/500\n",
      "42000/42000 [==============================] - 1s 29us/step - loss: 0.6472 - accuracy: 0.8863 - val_loss: 0.6360 - val_accuracy: 0.8859\n",
      "Epoch 401/500\n",
      "42000/42000 [==============================] - 2s 39us/step - loss: 0.6431 - accuracy: 0.8865 - val_loss: 0.6437 - val_accuracy: 0.8878\n",
      "Epoch 402/500\n",
      "42000/42000 [==============================] - 1s 31us/step - loss: 0.6465 - accuracy: 0.8857 - val_loss: 0.6461 - val_accuracy: 0.8847\n",
      "Epoch 403/500\n",
      "42000/42000 [==============================] - 1s 29us/step - loss: 0.6435 - accuracy: 0.8866 - val_loss: 0.6310 - val_accuracy: 0.8888\n",
      "Epoch 404/500\n",
      "42000/42000 [==============================] - 1s 29us/step - loss: 0.6458 - accuracy: 0.8845 - val_loss: 0.6238 - val_accuracy: 0.8915\n",
      "Epoch 405/500\n",
      "42000/42000 [==============================] - 1s 27us/step - loss: 0.6450 - accuracy: 0.8859 - val_loss: 0.6484 - val_accuracy: 0.8864\n",
      "Epoch 406/500\n",
      "42000/42000 [==============================] - 1s 26us/step - loss: 0.6460 - accuracy: 0.8855 - val_loss: 0.6578 - val_accuracy: 0.8802\n",
      "Epoch 407/500\n",
      "42000/42000 [==============================] - 2s 50us/step - loss: 0.6482 - accuracy: 0.8846 - val_loss: 0.6448 - val_accuracy: 0.8871\n",
      "Epoch 408/500\n",
      "42000/42000 [==============================] - 2s 56us/step - loss: 0.6483 - accuracy: 0.8855 - val_loss: 0.6317 - val_accuracy: 0.8912\n",
      "Epoch 409/500\n",
      "42000/42000 [==============================] - 1s 26us/step - loss: 0.6456 - accuracy: 0.8860 - val_loss: 0.6182 - val_accuracy: 0.8921\n",
      "Epoch 410/500\n",
      "42000/42000 [==============================] - 1s 29us/step - loss: 0.6493 - accuracy: 0.8839 - val_loss: 0.6340 - val_accuracy: 0.8889\n",
      "Epoch 411/500\n",
      "42000/42000 [==============================] - 1s 25us/step - loss: 0.6449 - accuracy: 0.8840 - val_loss: 0.6288 - val_accuracy: 0.8878\n",
      "Epoch 412/500\n",
      "42000/42000 [==============================] - 1s 25us/step - loss: 0.6460 - accuracy: 0.8844 - val_loss: 0.6305 - val_accuracy: 0.8909\n",
      "Epoch 413/500\n",
      "42000/42000 [==============================] - 1s 24us/step - loss: 0.6471 - accuracy: 0.8847 - val_loss: 0.6692 - val_accuracy: 0.8736\n",
      "Epoch 414/500\n",
      "42000/42000 [==============================] - 1s 31us/step - loss: 0.6482 - accuracy: 0.8845 - val_loss: 0.6361 - val_accuracy: 0.8868\n",
      "Epoch 415/500\n",
      "42000/42000 [==============================] - 1s 28us/step - loss: 0.6478 - accuracy: 0.8845 - val_loss: 0.6262 - val_accuracy: 0.8882\n",
      "Epoch 416/500\n",
      "42000/42000 [==============================] - 1s 26us/step - loss: 0.6484 - accuracy: 0.8862 - val_loss: 0.6381 - val_accuracy: 0.8873\n",
      "Epoch 417/500\n",
      "42000/42000 [==============================] - 2s 43us/step - loss: 0.6467 - accuracy: 0.8854 - val_loss: 0.6192 - val_accuracy: 0.8907\n",
      "Epoch 418/500\n",
      "42000/42000 [==============================] - 1s 30us/step - loss: 0.6452 - accuracy: 0.8846 - val_loss: 0.6276 - val_accuracy: 0.8910\n",
      "Epoch 419/500\n",
      "42000/42000 [==============================] - 1s 29us/step - loss: 0.6488 - accuracy: 0.8845 - val_loss: 0.6289 - val_accuracy: 0.8897\n",
      "Epoch 420/500\n",
      "42000/42000 [==============================] - 1s 26us/step - loss: 0.6484 - accuracy: 0.8845 - val_loss: 0.6249 - val_accuracy: 0.8926\n",
      "Epoch 421/500\n",
      "42000/42000 [==============================] - 2s 38us/step - loss: 0.6485 - accuracy: 0.8848 - val_loss: 0.6336 - val_accuracy: 0.8899\n",
      "Epoch 422/500\n",
      "42000/42000 [==============================] - 2s 42us/step - loss: 0.6449 - accuracy: 0.8864 - val_loss: 0.6332 - val_accuracy: 0.8909\n",
      "Epoch 423/500\n",
      "42000/42000 [==============================] - 1s 31us/step - loss: 0.6458 - accuracy: 0.8861 - val_loss: 0.6169 - val_accuracy: 0.8913\n",
      "Epoch 424/500\n",
      "42000/42000 [==============================] - 1s 27us/step - loss: 0.6456 - accuracy: 0.8850 - val_loss: 0.6462 - val_accuracy: 0.8838\n",
      "Epoch 425/500\n",
      "42000/42000 [==============================] - 1s 27us/step - loss: 0.6456 - accuracy: 0.8850 - val_loss: 0.6290 - val_accuracy: 0.8899\n",
      "Epoch 426/500\n",
      "42000/42000 [==============================] - 1s 26us/step - loss: 0.6457 - accuracy: 0.8850 - val_loss: 0.6346 - val_accuracy: 0.8902\n",
      "Epoch 427/500\n",
      "42000/42000 [==============================] - 1s 25us/step - loss: 0.6438 - accuracy: 0.8866 - val_loss: 0.6562 - val_accuracy: 0.8783\n",
      "Epoch 428/500\n",
      "42000/42000 [==============================] - 1s 25us/step - loss: 0.6448 - accuracy: 0.8847 - val_loss: 0.6311 - val_accuracy: 0.8889\n",
      "Epoch 429/500\n",
      "42000/42000 [==============================] - 1s 25us/step - loss: 0.6445 - accuracy: 0.8856 - val_loss: 0.6629 - val_accuracy: 0.8754\n",
      "Epoch 430/500\n",
      "42000/42000 [==============================] - 1s 25us/step - loss: 0.6436 - accuracy: 0.8868 - val_loss: 0.6299 - val_accuracy: 0.8873\n",
      "Epoch 431/500\n",
      "42000/42000 [==============================] - 1s 25us/step - loss: 0.6455 - accuracy: 0.8840 - val_loss: 0.6315 - val_accuracy: 0.8863\n",
      "Epoch 432/500\n",
      "42000/42000 [==============================] - 1s 28us/step - loss: 0.6420 - accuracy: 0.8863 - val_loss: 0.6731 - val_accuracy: 0.8738\n",
      "Epoch 433/500\n",
      "42000/42000 [==============================] - 1s 30us/step - loss: 0.6427 - accuracy: 0.8857 - val_loss: 0.6131 - val_accuracy: 0.8946\n",
      "Epoch 434/500\n",
      "42000/42000 [==============================] - 1s 25us/step - loss: 0.6467 - accuracy: 0.8854 - val_loss: 0.6256 - val_accuracy: 0.8906\n",
      "Epoch 435/500\n",
      "42000/42000 [==============================] - 1s 25us/step - loss: 0.6450 - accuracy: 0.8847 - val_loss: 0.6579 - val_accuracy: 0.8801\n",
      "Epoch 436/500\n",
      "42000/42000 [==============================] - 1s 24us/step - loss: 0.6487 - accuracy: 0.8842 - val_loss: 0.6428 - val_accuracy: 0.8839\n",
      "Epoch 437/500\n",
      "42000/42000 [==============================] - 1s 24us/step - loss: 0.6442 - accuracy: 0.8863 - val_loss: 0.6714 - val_accuracy: 0.8752\n"
     ]
    },
    {
     "name": "stdout",
     "output_type": "stream",
     "text": [
      "Epoch 438/500\n",
      "42000/42000 [==============================] - 1s 26us/step - loss: 0.6414 - accuracy: 0.8855 - val_loss: 0.6506 - val_accuracy: 0.8798\n",
      "Epoch 439/500\n",
      "42000/42000 [==============================] - 1s 25us/step - loss: 0.6484 - accuracy: 0.8836 - val_loss: 0.6412 - val_accuracy: 0.8858\n",
      "Epoch 440/500\n",
      "42000/42000 [==============================] - 1s 25us/step - loss: 0.6468 - accuracy: 0.8847 - val_loss: 0.6214 - val_accuracy: 0.8933\n",
      "Epoch 441/500\n",
      "42000/42000 [==============================] - 1s 26us/step - loss: 0.6423 - accuracy: 0.8861 - val_loss: 0.6557 - val_accuracy: 0.8834\n",
      "Epoch 442/500\n",
      "42000/42000 [==============================] - 1s 24us/step - loss: 0.6414 - accuracy: 0.8884 - val_loss: 0.6160 - val_accuracy: 0.8936\n",
      "Epoch 443/500\n",
      "42000/42000 [==============================] - 1s 24us/step - loss: 0.6425 - accuracy: 0.8860 - val_loss: 0.6272 - val_accuracy: 0.8929\n",
      "Epoch 444/500\n",
      "42000/42000 [==============================] - 1s 24us/step - loss: 0.6442 - accuracy: 0.8858 - val_loss: 0.6526 - val_accuracy: 0.8811\n",
      "Epoch 445/500\n",
      "42000/42000 [==============================] - 1s 24us/step - loss: 0.6421 - accuracy: 0.8848 - val_loss: 0.6256 - val_accuracy: 0.8924\n",
      "Epoch 446/500\n",
      "42000/42000 [==============================] - 1s 24us/step - loss: 0.6413 - accuracy: 0.8860 - val_loss: 0.6350 - val_accuracy: 0.8857\n",
      "Epoch 447/500\n",
      "42000/42000 [==============================] - 1s 24us/step - loss: 0.6470 - accuracy: 0.8836 - val_loss: 0.6213 - val_accuracy: 0.8906\n",
      "Epoch 448/500\n",
      "42000/42000 [==============================] - 1s 25us/step - loss: 0.6411 - accuracy: 0.8862 - val_loss: 0.6269 - val_accuracy: 0.8889\n",
      "Epoch 449/500\n",
      "42000/42000 [==============================] - 1s 25us/step - loss: 0.6473 - accuracy: 0.8851 - val_loss: 0.6226 - val_accuracy: 0.8914\n",
      "Epoch 450/500\n",
      "42000/42000 [==============================] - 1s 24us/step - loss: 0.6444 - accuracy: 0.8856 - val_loss: 0.6417 - val_accuracy: 0.8891\n",
      "Epoch 451/500\n",
      "42000/42000 [==============================] - 1s 25us/step - loss: 0.6418 - accuracy: 0.8865 - val_loss: 0.6205 - val_accuracy: 0.8911\n",
      "Epoch 452/500\n",
      "42000/42000 [==============================] - 1s 26us/step - loss: 0.6423 - accuracy: 0.8852 - val_loss: 0.6268 - val_accuracy: 0.8874\n",
      "Epoch 453/500\n",
      "42000/42000 [==============================] - 1s 25us/step - loss: 0.6450 - accuracy: 0.8863 - val_loss: 0.6261 - val_accuracy: 0.8906\n",
      "Epoch 454/500\n",
      "42000/42000 [==============================] - 1s 24us/step - loss: 0.6435 - accuracy: 0.8854 - val_loss: 0.6427 - val_accuracy: 0.8872\n",
      "Epoch 455/500\n",
      "42000/42000 [==============================] - 1s 25us/step - loss: 0.6439 - accuracy: 0.8858 - val_loss: 0.6297 - val_accuracy: 0.8901\n",
      "Epoch 456/500\n",
      "42000/42000 [==============================] - 1s 25us/step - loss: 0.6432 - accuracy: 0.8864 - val_loss: 0.6348 - val_accuracy: 0.8878\n",
      "Epoch 457/500\n",
      "42000/42000 [==============================] - 1s 24us/step - loss: 0.6468 - accuracy: 0.8840 - val_loss: 0.6526 - val_accuracy: 0.8793\n",
      "Epoch 458/500\n",
      "42000/42000 [==============================] - 1s 24us/step - loss: 0.6445 - accuracy: 0.8855 - val_loss: 0.6395 - val_accuracy: 0.8843\n",
      "Epoch 459/500\n",
      "42000/42000 [==============================] - 1s 25us/step - loss: 0.6415 - accuracy: 0.8856 - val_loss: 0.6418 - val_accuracy: 0.8843\n",
      "Epoch 460/500\n",
      "42000/42000 [==============================] - 1s 24us/step - loss: 0.6437 - accuracy: 0.8841 - val_loss: 0.6206 - val_accuracy: 0.8934\n",
      "Epoch 461/500\n",
      "42000/42000 [==============================] - 1s 25us/step - loss: 0.6439 - accuracy: 0.8850 - val_loss: 0.6208 - val_accuracy: 0.8937\n",
      "Epoch 462/500\n",
      "42000/42000 [==============================] - 1s 25us/step - loss: 0.6458 - accuracy: 0.8852 - val_loss: 0.6329 - val_accuracy: 0.8874\n",
      "Epoch 463/500\n",
      "42000/42000 [==============================] - 1s 25us/step - loss: 0.6445 - accuracy: 0.8855 - val_loss: 0.6353 - val_accuracy: 0.8878\n",
      "Epoch 464/500\n",
      "42000/42000 [==============================] - 1s 24us/step - loss: 0.6465 - accuracy: 0.8841 - val_loss: 0.6760 - val_accuracy: 0.8743\n",
      "Epoch 465/500\n",
      "42000/42000 [==============================] - 1s 24us/step - loss: 0.6459 - accuracy: 0.8849 - val_loss: 0.6422 - val_accuracy: 0.8828\n",
      "Epoch 466/500\n",
      "42000/42000 [==============================] - 1s 26us/step - loss: 0.6421 - accuracy: 0.8852 - val_loss: 0.6282 - val_accuracy: 0.8915\n",
      "Epoch 467/500\n",
      "42000/42000 [==============================] - 1s 27us/step - loss: 0.6392 - accuracy: 0.8863 - val_loss: 0.6218 - val_accuracy: 0.8910\n",
      "Epoch 468/500\n",
      "42000/42000 [==============================] - 1s 27us/step - loss: 0.6412 - accuracy: 0.8857 - val_loss: 0.6374 - val_accuracy: 0.8892\n",
      "Epoch 469/500\n",
      "42000/42000 [==============================] - 1s 25us/step - loss: 0.6429 - accuracy: 0.8856 - val_loss: 0.6208 - val_accuracy: 0.8914\n",
      "Epoch 470/500\n",
      "42000/42000 [==============================] - 1s 25us/step - loss: 0.6416 - accuracy: 0.8858 - val_loss: 0.6271 - val_accuracy: 0.8908\n",
      "Epoch 471/500\n",
      "42000/42000 [==============================] - 1s 25us/step - loss: 0.6435 - accuracy: 0.8844 - val_loss: 0.6222 - val_accuracy: 0.8907\n",
      "Epoch 472/500\n",
      "42000/42000 [==============================] - 1s 25us/step - loss: 0.6431 - accuracy: 0.8850 - val_loss: 0.6181 - val_accuracy: 0.8919\n",
      "Epoch 473/500\n",
      "42000/42000 [==============================] - 1s 30us/step - loss: 0.6427 - accuracy: 0.8849 - val_loss: 0.6205 - val_accuracy: 0.8909\n",
      "Epoch 474/500\n",
      "42000/42000 [==============================] - 1s 31us/step - loss: 0.6431 - accuracy: 0.8858 - val_loss: 0.6309 - val_accuracy: 0.8919\n",
      "Epoch 475/500\n",
      "42000/42000 [==============================] - 1s 32us/step - loss: 0.6402 - accuracy: 0.8861 - val_loss: 0.6917 - val_accuracy: 0.8690\n",
      "Epoch 476/500\n",
      "42000/42000 [==============================] - 1s 28us/step - loss: 0.6416 - accuracy: 0.8854 - val_loss: 0.6561 - val_accuracy: 0.8787\n",
      "Epoch 477/500\n",
      "42000/42000 [==============================] - 1s 24us/step - loss: 0.6417 - accuracy: 0.8859 - val_loss: 0.6408 - val_accuracy: 0.8838\n",
      "Epoch 478/500\n",
      "42000/42000 [==============================] - 1s 28us/step - loss: 0.6402 - accuracy: 0.8852 - val_loss: 0.6354 - val_accuracy: 0.8856\n",
      "Epoch 479/500\n",
      "42000/42000 [==============================] - 1s 27us/step - loss: 0.6414 - accuracy: 0.8844 - val_loss: 0.6303 - val_accuracy: 0.8912\n",
      "Epoch 480/500\n",
      "42000/42000 [==============================] - 1s 28us/step - loss: 0.6438 - accuracy: 0.8846 - val_loss: 0.6269 - val_accuracy: 0.8893\n",
      "Epoch 481/500\n",
      "42000/42000 [==============================] - 1s 29us/step - loss: 0.6456 - accuracy: 0.8845 - val_loss: 0.6408 - val_accuracy: 0.8879\n",
      "Epoch 482/500\n",
      "42000/42000 [==============================] - 1s 28us/step - loss: 0.6454 - accuracy: 0.8832 - val_loss: 0.6620 - val_accuracy: 0.8764\n",
      "Epoch 483/500\n",
      "42000/42000 [==============================] - 1s 28us/step - loss: 0.6452 - accuracy: 0.8846 - val_loss: 0.6652 - val_accuracy: 0.8745\n",
      "Epoch 484/500\n",
      "42000/42000 [==============================] - 1s 35us/step - loss: 0.6454 - accuracy: 0.8833 - val_loss: 0.6301 - val_accuracy: 0.8890\n",
      "Epoch 485/500\n",
      "42000/42000 [==============================] - 1s 24us/step - loss: 0.6432 - accuracy: 0.8847 - val_loss: 0.6617 - val_accuracy: 0.8758\n",
      "Epoch 486/500\n",
      "42000/42000 [==============================] - 1s 24us/step - loss: 0.6483 - accuracy: 0.8833 - val_loss: 0.6251 - val_accuracy: 0.8940\n",
      "Epoch 487/500\n",
      "42000/42000 [==============================] - 1s 30us/step - loss: 0.6409 - accuracy: 0.8870 - val_loss: 0.6185 - val_accuracy: 0.8936\n",
      "Epoch 488/500\n",
      "42000/42000 [==============================] - 1s 25us/step - loss: 0.6422 - accuracy: 0.8856 - val_loss: 0.6205 - val_accuracy: 0.8917\n",
      "Epoch 489/500\n",
      "42000/42000 [==============================] - 1s 26us/step - loss: 0.6401 - accuracy: 0.8856 - val_loss: 0.6236 - val_accuracy: 0.8898\n",
      "Epoch 490/500\n",
      "42000/42000 [==============================] - 1s 25us/step - loss: 0.6421 - accuracy: 0.8852 - val_loss: 0.6228 - val_accuracy: 0.8920\n",
      "Epoch 491/500\n",
      "42000/42000 [==============================] - 1s 26us/step - loss: 0.6416 - accuracy: 0.8851 - val_loss: 0.6361 - val_accuracy: 0.8885\n",
      "Epoch 492/500\n",
      "42000/42000 [==============================] - 1s 26us/step - loss: 0.6440 - accuracy: 0.8846 - val_loss: 0.6308 - val_accuracy: 0.8879\n",
      "Epoch 493/500\n",
      "42000/42000 [==============================] - 1s 25us/step - loss: 0.6427 - accuracy: 0.8850 - val_loss: 0.6184 - val_accuracy: 0.8939\n",
      "Epoch 494/500\n",
      "42000/42000 [==============================] - 1s 25us/step - loss: 0.6430 - accuracy: 0.8850 - val_loss: 0.6504 - val_accuracy: 0.8796\n",
      "Epoch 495/500\n",
      "42000/42000 [==============================] - 1s 26us/step - loss: 0.6441 - accuracy: 0.8839 - val_loss: 0.6204 - val_accuracy: 0.8911\n",
      "Epoch 496/500\n",
      "42000/42000 [==============================] - 1s 26us/step - loss: 0.6460 - accuracy: 0.8839 - val_loss: 0.6490 - val_accuracy: 0.8817\n",
      "Epoch 497/500\n",
      "42000/42000 [==============================] - 1s 25us/step - loss: 0.6404 - accuracy: 0.8852 - val_loss: 0.6323 - val_accuracy: 0.8874\n",
      "Epoch 498/500\n",
      "42000/42000 [==============================] - 1s 25us/step - loss: 0.6426 - accuracy: 0.8849 - val_loss: 0.6162 - val_accuracy: 0.8927\n",
      "Epoch 499/500\n",
      "42000/42000 [==============================] - 1s 25us/step - loss: 0.6486 - accuracy: 0.8832 - val_loss: 0.6246 - val_accuracy: 0.8887\n",
      "Epoch 500/500\n",
      "42000/42000 [==============================] - 1s 25us/step - loss: 0.6398 - accuracy: 0.8852 - val_loss: 0.6252 - val_accuracy: 0.8881\n"
     ]
    }
   ],
   "source": [
    "model = keras.models.Sequential()\n",
    "model.add(keras.layers.Flatten(input_shape=X_train.shape[1:]))\n",
    "model.add(keras.layers.Dense(50, kernel_regularizer=keras.regularizers.l1(0.01)))\n",
    "model.add(keras.layers.Activation('relu'))\n",
    "model.add(keras.layers.Dense(10))\n",
    "model.add(keras.layers.Activation('softmax'))\n",
    "\n",
    "model.compile(loss='sparse_categorical_crossentropy',\n",
    "               optimizer=\"sgd\", \n",
    "               metrics=['accuracy'])\n",
    "\n",
    "history = model.fit(X_train, y_train, epochs=500, validation_split=0.3, batch_size=100 )"
   ]
  },
  {
   "cell_type": "code",
   "execution_count": 45,
   "metadata": {},
   "outputs": [
    {
     "data": {
      "image/png": "[encoded data removed]",
      "text/plain": [
       "<Figure size 1080x720 with 1 Axes>"
      ]
     },
     "metadata": {
      "needs_background": "light"
     },
     "output_type": "display_data"
    }
   ],
   "source": [
    "plt.figure(figsize=(15,10))\n",
    "plt.plot(history.history['accuracy'], label='Accuracy')\n",
    "plt.plot(history.history['val_accuracy'], label='Val Accuracy')\n",
    "plt.plot(history.history['loss'], label='Loss')\n",
    "plt.plot(history.history['val_loss'], label='Val Loss')\n",
    "\n",
    "plt.legend()\n",
    "plt.show()"
   ]
  },
  {
   "cell_type": "code",
   "execution_count": 88,
   "metadata": {},
   "outputs": [
    {
     "name": "stdout",
     "output_type": "stream",
     "text": [
      "10000/10000 [==============================] - 1s 59us/step\n"
     ]
    },
    {
     "data": {
      "text/plain": [
       "[0.6080717221260071, 0.89410001039505]"
      ]
     },
     "execution_count": 88,
     "metadata": {},
     "output_type": "execute_result"
    }
   ],
   "source": [
    "model.evaluate(X_test, y_test)"
   ]
  }
 ],
 "metadata": {
  "kernelspec": {
   "display_name": "Python 3",
   "language": "python",
   "name": "python3"
  },
  "language_info": {
   "codemirror_mode": {
    "name": "ipython",
    "version": 3
   },
   "file_extension": ".py",
   "mimetype": "text/x-python",
   "name": "python",
   "nbconvert_exporter": "python",
   "pygments_lexer": "ipython3",
   "version": "3.7.5"
  }
 },
 "nbformat": 4,
 "nbformat_minor": 2
}
